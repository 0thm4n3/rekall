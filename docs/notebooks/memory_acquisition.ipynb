{
 "metadata": {
  "name": ""
 },
 "nbformat": 3,
 "nbformat_minor": 0,
 "worksheets": [
  {
   "cells": [
    {
     "cell_type": "heading",
     "level": 1,
     "metadata": {},
     "source": [
      "How to stop memory acquisition by changing one byte."
     ]
    },
    {
     "cell_type": "markdown",
     "metadata": {},
     "source": [
      "In our [recent paper](http://www.dfrws.org/2013/proceedings/DFRWS2013-13.pdf), we examined memory acquisition in details and tested a bunch of tools. Memory acquisition tools have to achieve two tasks to be useful:\n",
      "\n",
      "1. They need to be able to map a region of physical memory into the virtual address space, so it can be read by the tool.\n",
      "2. They need to know where in the physical address space it is safe to read. Reading a DMA mapped region will typically crash the system (BSOD).\n",
      "\n",
      "Since PCI devices are able to map DMA buffers into the physical address space, it is not safe to read these buffers. When a read operation occurs on the memory bus for these addresses, the device might become activated and cause a system crash or worse. The memory acquisition tool needs to be able to avoid these DMA mapped regions in order to safely acquire the memory.\n",
      "\n",
      "Let us see what occurs when one loads the memory acquisition driver. Since our goal is to play around with memory modification, we will enable write support for the winpmem acquisition tool (This example uses a Windows 7 AMD64 VM):\n"
     ]
    },
    {
     "cell_type": "code",
     "collapsed": false,
     "input": [
      "!c:/Users/mic/winpmem_write_1.5.5.exe -l -w"
     ],
     "language": "python",
     "metadata": {},
     "outputs": [
      {
       "output_type": "stream",
       "stream": "stdout",
       "text": [
        "Enabling write mode.\n",
        "Driver Unloaded.\n",
        "Loaded Driver C:\\Users\\mic\\AppData\\Local\\Temp\\pmeE820.tmp.\n",
        "Write mode enabled! Hope you know what you are doing.\n",
        "CR3: 0x0000187000\n",
        " 2 memory ranges:\n",
        "Start 0x00001000 - Length 0x0009E000\n",
        "Start 0x00100000 - Length 0x7CEF0000\n",
        "Acquisition mode PTE Remapping\n",
        "\n"
       ]
      }
     ],
     "prompt_number": 2
    },
    {
     "cell_type": "markdown",
     "metadata": {},
     "source": [
      "We see that winpmem extracts its driver to a temporary location, and loads it into the kernel. It then reports the value of the Control Register CR3 (This is the kernel's Directory Table Base - or DTB).\n",
      "\n",
      "Next we see that the driver is reporting the ranges of physical memory available on this system. There are two ranges on this system with a gap in between. To understand why this is let's consider the boot process:\n",
      "\n",
      "* When the system boots, the BIOS configures the initial physical memory map. The RAM in the system is literally installed at various ranges in the physical address space by the BIOS.\n",
      "* The operating system is booted in Real mode, at which point a BIOS service interrupt is issued to query this physical memory configuration. It is only possible to issue this interrupt in Real mode.\n",
      "* During the OS boot sequence, the processor is switched to protected mode and the operating system continues booting.\n",
      "* The OS configures PCI devices by talking to the PCI controller and mapping each PCI device's DMA buffer (plug and play) into one of the gaps in the physical address space. Note that these gaps may not actually be backed by any RAM chips at all (which means that a write to that location will simply not stick - reading it back will produce 0).\n",
      "\n",
      "The important thing to take from this is that the physical memory configuration is done by the machine BIOS on its own (independent of the running operating system). The OS kernel needs to live with whatever configuration the hardware boots with. The hardware will typically install some gaps in the physical address range so that PCI devices can be mapped inside them (Some PCI devices can only address 4GB so there must be sufficient space in the lower 4GB of physical address space for these.).\n",
      "\n",
      "Since the operating system can only query the physical memory map when running in real mode, but needs to use it to configure PCI devices while running in protected mode, there must be a data structure somewhere which keeps this information around. When WinPmem queries for this information, it can not be retrieved directly from the BIOS - since the machine is already running in protected mode.\n",
      "\n",
      "The usual way to get the physical memory ranges is to call **MmGetPhysicalMemoryRanges()**. This is the function API:\n",
      "\n",
      "**PPHYSICAL_MEMORY_DESCRIPTOR NTAPI MmGetPhysicalMemoryRanges(VOID);**\n",
      "\n",
      "\n",
      "We can get Rekall to disassemble this function for us. First we initialize the notebook, opening the winpmem driver to analyze the live system. Since Rekall uses exact profiles generated from accurate debugging information for the running system, it can resolve all debugging symbols directly. We therefore can simply disassemble the function by name:"
     ]
    },
    {
     "cell_type": "code",
     "collapsed": false,
     "input": [
      "from rekall import interactive\n",
      "interactive.ImportEnvironment(filename=r\"\\\\.\\pmem\")"
     ],
     "language": "python",
     "metadata": {},
     "outputs": [
      {
       "output_type": "stream",
       "stream": "stdout",
       "text": [
        "Initializing Rekall session.\n"
       ]
      },
      {
       "output_type": "stream",
       "stream": "stdout",
       "text": [
        "Done!\n"
       ]
      }
     ],
     "prompt_number": 2
    },
    {
     "cell_type": "code",
     "collapsed": false,
     "input": [
      "dis \"nt!MmGetPhysicalMemoryRanges\""
     ],
     "language": "python",
     "metadata": {},
     "outputs": [
      {
       "output_type": "stream",
       "stream": "stdout",
       "text": [
        "   Address      Rel Op Codes             Instruction                    Comment\n"
       ]
      },
      {
       "output_type": "stream",
       "stream": "stdout",
       "text": [
        "-------------- ---- -------------------- ------------------------------ -------\n"
       ]
      },
      {
       "output_type": "stream",
       "stream": "stdout",
       "text": [
        "------ nt!MmGetPhysicalMemoryRanges ------\n"
       ]
      },
      {
       "output_type": "stream",
       "stream": "stdout",
       "text": [
        "0xf80002cd9690    0 488bc4               MOV RAX, RSP                   \n"
       ]
      },
      {
       "output_type": "stream",
       "stream": "stdout",
       "text": [
        "0xf80002cd9693    3 48895808             MOV [RAX+0x8], RBX             \n"
       ]
      },
      {
       "output_type": "stream",
       "stream": "stdout",
       "text": [
        "0xf80002cd9697    7 48896810             MOV [RAX+0x10], RBP            \n"
       ]
      },
      {
       "output_type": "stream",
       "stream": "stdout",
       "text": [
        "0xf80002cd969b    B 48897018             MOV [RAX+0x18], RSI            \n"
       ]
      },
      {
       "output_type": "stream",
       "stream": "stdout",
       "text": [
        "0xf80002cd969f    F 48897820             MOV [RAX+0x20], RDI            \n"
       ]
      },
      {
       "output_type": "stream",
       "stream": "stdout",
       "text": [
        "0xf80002cd96a3   13 4154                 PUSH R12                       \n"
       ]
      },
      {
       "output_type": "stream",
       "stream": "stdout",
       "text": [
        "0xf80002cd96a5   15 4155                 PUSH R13                       \n"
       ]
      },
      {
       "output_type": "stream",
       "stream": "stdout",
       "text": [
        "0xf80002cd96a7   17 4157                 PUSH R15                       \n"
       ]
      },
      {
       "output_type": "stream",
       "stream": "stdout",
       "text": [
        "0xf80002cd96a9   19 4883ec20             SUB RSP, 0x20                  \n"
       ]
      },
      {
       "output_type": "stream",
       "stream": "stdout",
       "text": [
        "0xf80002cd96ad   1D 65488b1c2588010000   MOV RBX, [GS:0x188]            \n"
       ]
      },
      {
       "output_type": "stream",
       "stream": "stdout",
       "text": [
        "0xf80002cd96b6   26 41bf11000000         MOV R15D, 0x11                 \n"
       ]
      },
      {
       "output_type": "stream",
       "stream": "stdout",
       "text": [
        "0xf80002cd96bc   2C 4533e4               XOR R12D, R12D                 \n"
       ]
      },
      {
       "output_type": "stream",
       "stream": "stdout",
       "text": [
        "0xf80002cd96bf   2F f6835904000020       TEST BYTE [RBX+0x459], 0x20    \n"
       ]
      },
      {
       "output_type": "stream",
       "stream": "stdout",
       "text": [
        "0xf80002cd96c6   36 458d6ff0             LEA R13D, [R15-0x10]           \n"
       ]
      },
      {
       "output_type": "stream",
       "stream": "stdout",
       "text": [
        "0xf80002cd96ca   3A 7405                 JZ 0xf80002cd96d1              nt!MmGetPhysicalMemoryRanges + 0x41\n"
       ]
      },
      {
       "output_type": "stream",
       "stream": "stdout",
       "text": [
        "0xf80002cd96cc   3C 418bfc               MOV EDI, R12D                  \n"
       ]
      },
      {
       "output_type": "stream",
       "stream": "stdout",
       "text": [
        "0xf80002cd96cf   3F eb2a                 JMP 0xf80002cd96fb             nt!MmGetPhysicalMemoryRanges + 0x6B\n"
       ]
      },
      {
       "output_type": "stream",
       "stream": "stdout",
       "text": [
        "0xf80002cd96d1   41 66ff8bc6010000       DEC WORD [RBX+0x1c6]           \n"
       ]
      },
      {
       "output_type": "stream",
       "stream": "stdout",
       "text": [
        "0xf80002cd96d8   48 33c0                 XOR EAX, EAX                   \n"
       ]
      },
      {
       "output_type": "stream",
       "stream": "stdout",
       "text": [
        "0xf80002cd96da   4A f04c0fb13de5e4dcff   LOCK CMPXCHG [RIP-0x231b1b], R15 0x0 nt!MmDynamicMemoryLock\n"
       ]
      },
      {
       "output_type": "stream",
       "stream": "stdout",
       "text": [
        "0xf80002cd96e3   53 740c                 JZ 0xf80002cd96f1              nt!MmGetPhysicalMemoryRanges + 0x61\n"
       ]
      },
      {
       "output_type": "stream",
       "stream": "stdout",
       "text": [
        "0xf80002cd96e5   55 488d0ddce4dcff       LEA RCX, [RIP-0x231b24]        0x0 nt!MmDynamicMemoryLock\n"
       ]
      },
      {
       "output_type": "stream",
       "stream": "stdout",
       "text": [
        "0xf80002cd96ec   5C e83f00c3ff           CALL 0xf80002909730            nt!ExfAcquirePushLockShared\n"
       ]
      },
      {
       "output_type": "stream",
       "stream": "stdout",
       "text": [
        "0xf80002cd96f1   61 808b5904000020       OR BYTE [RBX+0x459], 0x20      \n"
       ]
      },
      {
       "output_type": "stream",
       "stream": "stdout",
       "text": [
        "0xf80002cd96f8   68 418bfd               MOV EDI, R13D                  \n"
       ]
      },
      {
       "output_type": "stream",
       "stream": "stdout",
       "text": [
        "0xf80002cd96fb   6B 488b053679e3ff       MOV RAX, [RIP-0x1c86ca]        0xFFFFFA8001793FD0 nt!MmPhysicalMemoryBlock\n"
       ]
      },
      {
       "output_type": "stream",
       "stream": "stdout",
       "text": [
        "0xf80002cd9702   72 33c9                 XOR ECX, ECX                   \n"
       ]
      },
      {
       "output_type": "stream",
       "stream": "stdout",
       "text": [
        "0xf80002cd9704   74 41b84d6d5068         MOV R8D, 0x68506d4d            \n"
       ]
      },
      {
       "output_type": "stream",
       "stream": "stdout",
       "text": [
        "0xf80002cd970a   7A 8b10                 MOV EDX, [RAX]                 \n"
       ]
      },
      {
       "output_type": "stream",
       "stream": "stdout",
       "text": [
        "0xf80002cd970c   7C 4103d5               ADD EDX, R13D                  \n"
       ]
      },
      {
       "output_type": "stream",
       "stream": "stdout",
       "text": [
        "0xf80002cd970f   7F c1e204               SHL EDX, 0x4                   \n"
       ]
      },
      {
       "output_type": "stream",
       "stream": "stdout",
       "text": [
        "0xf80002cd9712   82 e8f944d3ff           CALL 0xf80002a0dc10            nt!ExAllocatePoolWithTag\n"
       ]
      },
      {
       "output_type": "stream",
       "stream": "stdout",
       "text": [
        "0xf80002cd9717   87 488be8               MOV RBP, RAX                   \n"
       ]
      },
      {
       "output_type": "stream",
       "stream": "stdout",
       "text": [
        "0xf80002cd971a   8A 493bc4               CMP RAX, R12                   \n"
       ]
      },
      {
       "output_type": "stream",
       "stream": "stdout",
       "text": [
        "0xf80002cd971d   8D 7545                 JNZ 0xf80002cd9764             nt!MmGetPhysicalMemoryRanges + 0xD4\n"
       ]
      },
      {
       "output_type": "stream",
       "stream": "stdout",
       "text": [
        "0xf80002cd971f   8F 413bfd               CMP EDI, R13D                  \n"
       ]
      },
      {
       "output_type": "stream",
       "stream": "stdout",
       "text": [
        "0xf80002cd9722   92 7539                 JNZ 0xf80002cd975d             nt!MmGetPhysicalMemoryRanges + 0xCD\n"
       ]
      },
      {
       "output_type": "stream",
       "stream": "stdout",
       "text": [
        "0xf80002cd9724   94 498bc7               MOV RAX, R15                   \n"
       ]
      },
      {
       "output_type": "stream",
       "stream": "stdout",
       "text": [
        "0xf80002cd9727   97 f04c0fb12598e4dcff   LOCK CMPXCHG [RIP-0x231b68], R12 0x0 nt!MmDynamicMemoryLock\n"
       ]
      },
      {
       "output_type": "stream",
       "stream": "stdout",
       "text": [
        "0xf80002cd9730   A0 740c                 JZ 0xf80002cd973e              nt!MmGetPhysicalMemoryRanges + 0xAE\n"
       ]
      },
      {
       "output_type": "stream",
       "stream": "stdout",
       "text": [
        "0xf80002cd9732   A2 488d0d8fe4dcff       LEA RCX, [RIP-0x231b71]        0x0 nt!MmDynamicMemoryLock\n"
       ]
      },
      {
       "output_type": "stream",
       "stream": "stdout",
       "text": [
        "0xf80002cd9739   A9 e80655bfff           CALL 0xf800028cec44            nt!ExfReleasePushLockShared\n"
       ]
      },
      {
       "output_type": "stream",
       "stream": "stdout",
       "text": [
        "0xf80002cd973e   AE 80a359040000df       AND BYTE [RBX+0x459], 0xdf     \n"
       ]
      },
      {
       "output_type": "stream",
       "stream": "stdout",
       "text": [
        "0xf80002cd9745   B5 664401abc6010000     ADD [RBX+0x1c6], R13W          \n"
       ]
      },
      {
       "output_type": "stream",
       "stream": "stdout",
       "text": [
        "0xf80002cd974d   BD 750e                 JNZ 0xf80002cd975d             nt!MmGetPhysicalMemoryRanges + 0xCD\n"
       ]
      },
      {
       "output_type": "stream",
       "stream": "stdout",
       "text": [
        "0xf80002cd974f   BF 488d4350             LEA RAX, [RBX+0x50]            \n"
       ]
      }
     ],
     "prompt_number": 3
    },
    {
     "cell_type": "markdown",
     "metadata": {},
     "source": [
      "Note that Rekall is able to resolve the addresses back to the symbol names by using debugging information. This makes reading the disassembly much easier. We can see that this function essentially copies the data referred to from the symbol **nt!MmPhysicalMemoryBlock** into user space.\n",
      "\n",
      "Lets dump this memory:"
     ]
    },
    {
     "cell_type": "code",
     "collapsed": false,
     "input": [
      "dump \"nt!MmPhysicalMemoryBlock\", rows=2"
     ],
     "language": "python",
     "metadata": {},
     "outputs": [
      {
       "output_type": "stream",
       "stream": "stdout",
       "text": [
        "    Offset                           Hex                              Data       Comment\n"
       ]
      },
      {
       "output_type": "stream",
       "stream": "stdout",
       "text": [
        "-------------- ------------------------------------------------ ---------------- -------\n"
       ]
      },
      {
       "output_type": "stream",
       "stream": "stdout",
       "text": [
        "0xf80002b11038 d0 3f 79 01 80 fa ff ff 01 00 01 00 fe 3d 09 a1  .?y..........=.. nt!MmPhysicalMemoryBlock + 0\n"
       ]
      },
      {
       "output_type": "stream",
       "stream": "stdout",
       "text": [
        "0xf80002b11048 a0 a8 83 01 80 fa ff ff 70 6a 7b 01 80 fa ff ff  ........pj{..... nt!IoFileObjectType + 0\n"
       ]
      }
     ],
     "prompt_number": 8
    },
    {
     "cell_type": "markdown",
     "metadata": {},
     "source": [
      "This appears to be an address, lets dump it:"
     ]
    },
    {
     "cell_type": "code",
     "collapsed": false,
     "input": [
      "dump 0xfa8001793fd0, rows=4"
     ],
     "language": "python",
     "metadata": {},
     "outputs": [
      {
       "output_type": "stream",
       "stream": "stdout",
       "text": [
        "    Offset                           Hex                              Data       Comment\n"
       ]
      },
      {
       "output_type": "stream",
       "stream": "stdout",
       "text": [
        "-------------- ------------------------------------------------ ---------------- -------\n"
       ]
      },
      {
       "output_type": "stream",
       "stream": "stdout",
       "text": [
        "0xfa8001793fd0 02 00 00 00 00 00 00 00 8e cf 07 00 00 00 00 00  ................ \n"
       ]
      },
      {
       "output_type": "stream",
       "stream": "stdout",
       "text": [
        "0xfa8001793fe0 01 00 00 00 00 00 00 00 9e 00 00 00 00 00 00 00  ................ \n"
       ]
      },
      {
       "output_type": "stream",
       "stream": "stdout",
       "text": [
        "0xfa8001793ff0 00 01 00 00 00 00 00 00 f0 ce 07 00 00 00 00 00  ................ \n"
       ]
      },
      {
       "output_type": "stream",
       "stream": "stdout",
       "text": [
        "0xfa8001794000 fe ff ff ff ff ff ff ff ff ff ff ff ff ff ff ff  ................ \n"
       ]
      }
     ],
     "prompt_number": 10
    },
    {
     "cell_type": "markdown",
     "metadata": {},
     "source": [
      "The data at this location contains a struct of type **_PHYSICAL_MEMORY_DESCRIPTOR** which is also the return value from the **MmGetPhysicalMemoryRanges()** call. We can use Rekall to simply construct this struct at this location and print out all its members."
     ]
    },
    {
     "cell_type": "code",
     "collapsed": false,
     "input": [
      "memory_range = session.profile._PHYSICAL_MEMORY_DESCRIPTOR(0xfa8001793fd0)\n",
      "print memory_range"
     ],
     "language": "python",
     "metadata": {},
     "outputs": [
      {
       "output_type": "stream",
       "stream": "stdout",
       "text": [
        "[_PHYSICAL_MEMORY_DESCRIPTOR _PHYSICAL_MEMORY_DESCRIPTOR] @ 0xFA8001793FD0\n",
        "  0x00 NumberOfRuns   [unsigned long:NumberOfRuns]: 0x00000002\n",
        "  0x08 NumberOfPages  [unsigned long long:NumberOfPages]: 0x0007CF8E\n",
        "  0x10 Run           <Array 2 x _PHYSICAL_MEMORY_RUN @ 0xFA8001793FE0>\n",
        "\n"
       ]
      }
     ],
     "prompt_number": 12
    },
    {
     "cell_type": "code",
     "collapsed": false,
     "input": [
      "for r in memory_range.Run:\n",
      "    print r"
     ],
     "language": "python",
     "metadata": {},
     "outputs": [
      {
       "output_type": "stream",
       "stream": "stdout",
       "text": [
        "[_PHYSICAL_MEMORY_RUN Run[0] ] @ 0xFA8001793FE0\n",
        "  0x00 BasePage   [unsigned long long:BasePage]: 0x00000001\n",
        "  0x08 PageCount  [unsigned long long:PageCount]: 0x0000009E\n",
        "\n",
        "[_PHYSICAL_MEMORY_RUN Run[1] ] @ 0xFA8001793FF0\n",
        "  0x00 BasePage   [unsigned long long:BasePage]: 0x00000100\n",
        "  0x08 PageCount  [unsigned long long:PageCount]: 0x0007CEF0\n",
        "\n"
       ]
      }
     ],
     "prompt_number": 13
    },
    {
     "cell_type": "markdown",
     "metadata": {},
     "source": [
      "So what have we found? \n",
      "\n",
      "* There is a symbol called **nt!MmPhysicalMemoryBlock** which is a pointer to a **_PHYSICAL_MEMORY_DESCRIPTOR** struct.\n",
      "* This struct contains the total number of runs, and a list of each run in pages (0x1000 bytes long).\n",
      "\n",
      "Lets write a Rekall plugin for this:"
     ]
    },
    {
     "cell_type": "code",
     "collapsed": false,
     "input": [
      "from rekall.plugins.windows import common\n",
      "\n",
      "class WinPhysicalMap(common.WindowsCommandPlugin):\n",
      "    \"\"\"Prints the boot physical memory map.\"\"\"\n",
      "\n",
      "    __name = \"phys_map\"\n",
      "\n",
      "    def render(self, renderer):\n",
      "        renderer.table_header([\n",
      "                (\"Physical Start\", \"phys\", \"[addrpad]\"),\n",
      "                (\"Physical End\", \"phys\", \"[addrpad]\"),\n",
      "                (\"Number of Pages\", \"pages\", \"10\"),\n",
      "                ])\n",
      "\n",
      "        descriptor = self.profile.get_constant_object(\n",
      "            \"MmPhysicalMemoryBlock\",\n",
      "            target=\"Pointer\",\n",
      "            target_args=dict(\n",
      "                target=\"_PHYSICAL_MEMORY_DESCRIPTOR\",\n",
      "                ))\n",
      "\n",
      "        for memory_range in descriptor.Run:\n",
      "            renderer.table_row(\n",
      "                memory_range.BasePage * 0x1000,\n",
      "                (memory_range.BasePage + memory_range.PageCount) * 0x1000,\n",
      "                memory_range.PageCount)\n"
     ],
     "language": "python",
     "metadata": {},
     "outputs": [],
     "prompt_number": 15
    },
    {
     "cell_type": "markdown",
     "metadata": {},
     "source": [
      "This plugin will be named **phys_map** and essentially creates a table with three columns. The memory descriptor is created directly from the profile, then we iterate over all the runs and output the start and end range into the table."
     ]
    },
    {
     "cell_type": "code",
     "collapsed": false,
     "input": [
      "phys_map"
     ],
     "language": "python",
     "metadata": {},
     "outputs": [
      {
       "output_type": "stream",
       "stream": "stdout",
       "text": [
        "Physical Start  Physical End  Number of Pages\n"
       ]
      },
      {
       "output_type": "stream",
       "stream": "stdout",
       "text": [
        "-------------- -------------- ---------------\n"
       ]
      },
      {
       "output_type": "stream",
       "stream": "stdout",
       "text": [
        "0x000000001000 0x00000009f000 158       \n"
       ]
      },
      {
       "output_type": "stream",
       "stream": "stdout",
       "text": [
        "0x000000100000 0x00007cff0000 511728    \n"
       ]
      }
     ],
     "prompt_number": 16
    },
    {
     "cell_type": "markdown",
     "metadata": {},
     "source": [
      "So far, this is a pretty simple plugin. However, lets put on our black hat for a sec.\n",
      "\n",
      "In our DFRWS 2013 paper we pointed out that since most memory acquisition tools end up calling **MmGetPhysicalMemoryRanges()** (all the ones we tested at least), then by disabling this function we would be able to sabotage all memory acquisition tools. This turned out to be the case, however, by patching the running code in memory we would trigger Microsoft's **Patch Guard**. In our tests, we disabled Patch Guard to prove the point, but this is less practical in a real rootkit.\n",
      "\n",
      "In reality, a rootkit would like to be able to modify the underlying data structure behind the API call itself. This is much easier to do and wont modify any kernel code, thereby bypassing Patch Guard protections.\n",
      "\n",
      "To test this, we can do this directly from Rekall's interactive console."
     ]
    },
    {
     "cell_type": "code",
     "collapsed": false,
     "input": [
      "descriptor = session.profile.get_constant_object(\n",
      "    \"MmPhysicalMemoryBlock\",\n",
      "    target=\"Pointer\",\n",
      "    target_args=dict(\n",
      "      target=\"_PHYSICAL_MEMORY_DESCRIPTOR\",\n",
      "    )).dereference()\n",
      "\n",
      "print descriptor"
     ],
     "language": "python",
     "metadata": {},
     "outputs": [
      {
       "output_type": "stream",
       "stream": "stdout",
       "text": [
        "[_PHYSICAL_MEMORY_DESCRIPTOR Pointer] @ 0xFA8001793FD0\n",
        "  0x00 NumberOfRuns   [unsigned long:NumberOfRuns]: 0x00000002\n",
        "  0x08 NumberOfPages  [unsigned long long:NumberOfPages]: 0x0007CF8E\n",
        "  0x10 Run           <Array 2 x _PHYSICAL_MEMORY_RUN @ 0xFA8001793FE0>\n",
        "\n"
       ]
      }
     ],
     "prompt_number": 18
    },
    {
     "cell_type": "markdown",
     "metadata": {},
     "source": [
      "Since we loaded the memory driver with write support, we are able to directly modify each field in the struct. For this proof of concept we simply set the NumberOfRuns to 0, but a rootkit can get creative by modifying the runs to contain holes located in strategic regions. By specifically crafting a physical memory descriptor with a hole in it, we can cause memory acquisition tools to just skip over some region of the physical memory. The responders can then walk away thinking they have their evidence, but critical information is missing."
     ]
    },
    {
     "cell_type": "code",
     "collapsed": false,
     "input": [
      "descriptor.NumberOfRuns = 0"
     ],
     "language": "python",
     "metadata": {},
     "outputs": [],
     "prompt_number": 19
    },
    {
     "cell_type": "markdown",
     "metadata": {},
     "source": [
      "Now we can repeat our **phys_map** plugin, but this time, no runs will be found:"
     ]
    },
    {
     "cell_type": "code",
     "collapsed": false,
     "input": [
      "phys_map"
     ],
     "language": "python",
     "metadata": {},
     "outputs": [
      {
       "output_type": "stream",
       "stream": "stdout",
       "text": [
        "Physical Start  Physical End  Number of Pages\n"
       ]
      },
      {
       "output_type": "stream",
       "stream": "stdout",
       "text": [
        "-------------- -------------- ---------------\n"
       ]
      }
     ],
     "prompt_number": 20
    },
    {
     "cell_type": "markdown",
     "metadata": {},
     "source": [
      "To unload the driver, we need to close any handles to it. We then try to acquire a memory image in the regular way."
     ]
    },
    {
     "cell_type": "code",
     "collapsed": false,
     "input": [
      "session.physical_address_space.close()"
     ],
     "language": "python",
     "metadata": {},
     "outputs": [],
     "prompt_number": 32
    },
    {
     "cell_type": "code",
     "collapsed": false,
     "input": [
      "!c:/Users/mic/winpmem_write_1.5.5.exe test.raw"
     ],
     "language": "python",
     "metadata": {},
     "outputs": [
      {
       "output_type": "stream",
       "stream": "stdout",
       "text": [
        "Driver Unloaded.\n",
        "Loaded Driver C:\\Users\\mic\\AppData\\Local\\Temp\\pme3879.tmp.\n",
        "Will generate a RAW image\n",
        "CR3: 0x0000187000\n",
        " 0 memory ranges:\n",
        "Acquitision mode PTE Remapping\n",
        "\n",
        "Driver Unloaded.\n"
       ]
      }
     ],
     "prompt_number": 2
    },
    {
     "cell_type": "markdown",
     "metadata": {},
     "source": [
      "This time, however, Winpmem reports no memory ranges available. The result image is also 0 bytes big:"
     ]
    },
    {
     "cell_type": "code",
     "collapsed": false,
     "input": [
      "!dir test.raw"
     ],
     "language": "python",
     "metadata": {},
     "outputs": [
      {
       "output_type": "stream",
       "stream": "stdout",
       "text": [
        " Volume in drive C has no label.\n",
        " Volume Serial Number is 6438-7315\n",
        "\n",
        " Directory of C:\\Users\\mic\n",
        "\n",
        "03/07/2014  12:02 AM                 0 test.raw\n",
        "               1 File(s)              0 bytes\n",
        "               0 Dir(s)   3,416,547,328 bytes free\n"
       ]
      }
     ],
     "prompt_number": 3
    },
    {
     "cell_type": "markdown",
     "metadata": {},
     "source": [
      "At this point, running the [dumpit program](http://www.moonsols.com/2011/07/18/moonsols-dumpit-goes-mainstream/) from moonsols will cause the system to immediately reboot. (It seems that dumpit is unable to handle 0 memory ranges gracefully and crashes the kernel)."
     ]
    },
    {
     "cell_type": "heading",
     "level": 3,
     "metadata": {},
     "source": [
      "How stable is this?"
     ]
    },
    {
     "cell_type": "markdown",
     "metadata": {},
     "source": [
      "We have just disabled a kernel function, but this might de-stabilize the system. What other functions in the kernel are calling *MmGetPhysicalMemoryRange*?\n",
      "\n",
      "Lets find out by disassembling the entire kernel. First we need to find the range of memory addresses the kernel code is in. We use the *peinfo* plugin to show us the sections which are mapped into memory."
     ]
    },
    {
     "cell_type": "code",
     "collapsed": false,
     "input": [
      "peinfo \"nt\""
     ],
     "language": "python",
     "metadata": {},
     "outputs": [
      {
       "output_type": "stream",
       "stream": "stdout",
       "text": [
        "Attribute            Value\n"
       ]
      },
      {
       "output_type": "stream",
       "stream": "stdout",
       "text": [
        "-------------------- -----\n"
       ]
      },
      {
       "output_type": "stream",
       "stream": "stdout",
       "text": [
        "Machine              IMAGE_FILE_MACHINE_AMD64\n"
       ]
      },
      {
       "output_type": "stream",
       "stream": "stdout",
       "text": [
        "TimeDateStamp        2009-07-13 23:40:48+0000\n"
       ]
      },
      {
       "output_type": "stream",
       "stream": "stdout",
       "text": [
        "Characteristics      IMAGE_FILE_EXECUTABLE_IMAGE, IMAGE_FILE_LARGE_ADDRESS_AWARE\n"
       ]
      },
      {
       "output_type": "stream",
       "stream": "stdout",
       "text": [
        "GUID/Age             F8E2A8B5C9B74BF4A6E4A48F180099942\n"
       ]
      },
      {
       "output_type": "stream",
       "stream": "stdout",
       "text": [
        "PDB                  ntkrnlmp.pdb\n"
       ]
      },
      {
       "output_type": "stream",
       "stream": "stdout",
       "text": [
        "MajorOperatingSystemVersion 6\n"
       ]
      },
      {
       "output_type": "stream",
       "stream": "stdout",
       "text": [
        "MinorOperatingSystemVersion 1\n"
       ]
      },
      {
       "output_type": "stream",
       "stream": "stdout",
       "text": [
        "MajorImageVersion    6\n"
       ]
      },
      {
       "output_type": "stream",
       "stream": "stdout",
       "text": [
        "MinorImageVersion    1\n"
       ]
      },
      {
       "output_type": "stream",
       "stream": "stdout",
       "text": [
        "MajorSubsystemVersion 6\n"
       ]
      },
      {
       "output_type": "stream",
       "stream": "stdout",
       "text": [
        "MinorSubsystemVersion 1\n"
       ]
      },
      {
       "output_type": "stream",
       "stream": "stdout",
       "text": [
        "\n",
        "Sections (Relative to 0xF8000261F000):\n"
       ]
      },
      {
       "output_type": "stream",
       "stream": "stdout",
       "text": [
        "Perm Name          VMA            Size     \n"
       ]
      },
      {
       "output_type": "stream",
       "stream": "stdout",
       "text": [
        "---- -------- -------------- --------------\n"
       ]
      },
      {
       "output_type": "stream",
       "stream": "stdout",
       "text": [
        "xr-  .text    0x000000001000 0x00000019b800\n"
       ]
      },
      {
       "output_type": "stream",
       "stream": "stdout",
       "text": [
        "xr-  INITKDBG 0x00000019d000 0x000000003a00\n"
       ]
      },
      {
       "output_type": "stream",
       "stream": "stdout",
       "text": [
        "xr-  POOLMI   0x0000001a1000 0x000000001c00\n"
       ]
      },
      {
       "output_type": "stream",
       "stream": "stdout",
       "text": [
        "xr-  POOLCODE 0x0000001a3000 0x000000003000\n"
       ]
      },
      {
       "output_type": "stream",
       "stream": "stdout",
       "text": [
        "xrw  RWEXEC   0x0000001a6000 0x000000000000\n"
       ]
      },
      {
       "output_type": "stream",
       "stream": "stdout",
       "text": [
        "-r-  .rdata   0x0000001a7000 0x00000003ca00\n"
       ]
      },
      {
       "output_type": "stream",
       "stream": "stdout",
       "text": [
        "-rw  .data    0x0000001e4000 0x00000000fc00\n"
       ]
      },
      {
       "output_type": "stream",
       "stream": "stdout",
       "text": [
        "-r-  .pdata   0x000000278000 0x00000002fa00\n"
       ]
      },
      {
       "output_type": "stream",
       "stream": "stdout",
       "text": [
        "-rw  ALMOSTRO 0x0000002a8000 0x000000000800\n"
       ]
      },
      {
       "output_type": "stream",
       "stream": "stdout",
       "text": [
        "-rw  SPINLOCK 0x0000002aa000 0x000000000a00\n"
       ]
      },
      {
       "output_type": "stream",
       "stream": "stdout",
       "text": [
        "xr-  PAGELK   0x0000002ac000 0x000000014c00\n"
       ]
      },
      {
       "output_type": "stream",
       "stream": "stdout",
       "text": [
        "xr-  PAGE     0x0000002c1000 0x000000232600\n"
       ]
      },
      {
       "output_type": "stream",
       "stream": "stdout",
       "text": [
        "xr-  PAGEKD   0x0000004f4000 0x000000004e00\n"
       ]
      },
      {
       "output_type": "stream",
       "stream": "stdout",
       "text": [
        "xr-  PAGEVRFY 0x0000004f9000 0x000000021600\n"
       ]
      },
      {
       "output_type": "stream",
       "stream": "stdout",
       "text": [
        "xr-  PAGEHDLS 0x00000051b000 0x000000002800\n"
       ]
      },
      {
       "output_type": "stream",
       "stream": "stdout",
       "text": [
        "xr-  PAGEBGFX 0x00000051e000 0x000000006800\n"
       ]
      },
      {
       "output_type": "stream",
       "stream": "stdout",
       "text": [
        "-rw  PAGEVRFB 0x000000525000 0x000000000000\n"
       ]
      },
      {
       "output_type": "stream",
       "stream": "stdout",
       "text": [
        "-r-  .edata   0x000000529000 0x000000010a00\n"
       ]
      },
      {
       "output_type": "stream",
       "stream": "stdout",
       "text": [
        "-rw  PAGEDATA 0x00000053a000 0x000000004c00\n"
       ]
      },
      {
       "output_type": "stream",
       "stream": "stdout",
       "text": [
        "-r-  PAGEVRFC 0x000000548000 0x000000002a00\n"
       ]
      },
      {
       "output_type": "stream",
       "stream": "stdout",
       "text": [
        "-rw  PAGEVRFD 0x00000054b000 0x000000001400\n"
       ]
      },
      {
       "output_type": "stream",
       "stream": "stdout",
       "text": [
        "xrw  INIT     0x00000054d000 0x000000056c00\n"
       ]
      },
      {
       "output_type": "stream",
       "stream": "stdout",
       "text": [
        "-r-  .rsrc    0x0000005a4000 0x000000035e00\n"
       ]
      },
      {
       "output_type": "stream",
       "stream": "stdout",
       "text": [
        "-r-  .reloc   0x0000005da000 0x000000002200\n"
       ]
      },
      {
       "output_type": "stream",
       "stream": "stdout",
       "text": [
        "\n",
        "Data Directories:\n"
       ]
      },
      {
       "output_type": "stream",
       "stream": "stdout",
       "text": [
        "-                                             VMA            Size     \n"
       ]
      },
      {
       "output_type": "stream",
       "stream": "stdout",
       "text": [
        "---------------------------------------- -------------- --------------\n"
       ]
      },
      {
       "output_type": "stream",
       "stream": "stdout",
       "text": [
        "IMAGE_DIRECTORY_ENTRY_EXPORT             0xf80002b48000 0x000000010962\n"
       ]
      },
      {
       "output_type": "stream",
       "stream": "stdout",
       "text": [
        "IMAGE_DIRECTORY_ENTRY_IMPORT             0xf80002bc1cec 0x000000000078\n"
       ]
      },
      {
       "output_type": "stream",
       "stream": "stdout",
       "text": [
        "IMAGE_DIRECTORY_ENTRY_RESOURCE           0xf80002bc3000 0x000000035d34\n"
       ]
      },
      {
       "output_type": "stream",
       "stream": "stdout",
       "text": [
        "IMAGE_DIRECTORY_ENTRY_EXCEPTION          0xf80002897000 0x00000002f880\n"
       ]
      },
      {
       "output_type": "stream",
       "stream": "stdout",
       "text": [
        "IMAGE_DIRECTORY_ENTRY_SECURITY           0xf80002b5ec00 0x000000001c50\n"
       ]
      },
      {
       "output_type": "stream",
       "stream": "stdout",
       "text": [
        "IMAGE_DIRECTORY_ENTRY_BASERELOC          0xf80002bf9000 0x000000002078\n"
       ]
      },
      {
       "output_type": "stream",
       "stream": "stdout",
       "text": [
        "IMAGE_DIRECTORY_ENTRY_DEBUG              0xf800027bb5c0 0x000000000038\n"
       ]
      },
      {
       "output_type": "stream",
       "stream": "stdout",
       "text": [
        "IMAGE_DIRECTORY_ENTRY_COPYRIGHT          0x000000000000 0x000000000000\n"
       ]
      },
      {
       "output_type": "stream",
       "stream": "stdout",
       "text": [
        "IMAGE_DIRECTORY_ENTRY_GLOBALPTR          0x000000000000 0x000000000000\n"
       ]
      },
      {
       "output_type": "stream",
       "stream": "stdout",
       "text": [
        "IMAGE_DIRECTORY_ENTRY_TLS                0x000000000000 0x000000000000\n"
       ]
      },
      {
       "output_type": "stream",
       "stream": "stdout",
       "text": [
        "IMAGE_DIRECTORY_ENTRY_LOAD_CONFIG        0x000000000000 0x000000000000\n"
       ]
      },
      {
       "output_type": "stream",
       "stream": "stdout",
       "text": [
        "IMAGE_DIRECTORY_ENTRY_BOUND_IMPORT       0x000000000000 0x000000000000\n"
       ]
      },
      {
       "output_type": "stream",
       "stream": "stdout",
       "text": [
        "IMAGE_DIRECTORY_ENTRY_IAT                0xf800027c6000 0x000000000380\n"
       ]
      },
      {
       "output_type": "stream",
       "stream": "stdout",
       "text": [
        "IMAGE_DIRECTORY_ENTRY_DELAY_IMPORT       0x000000000000 0x000000000000\n"
       ]
      },
      {
       "output_type": "stream",
       "stream": "stdout",
       "text": [
        "IMAGE_DIRECTORY_ENTRY_COM_DESCRIPTOR     0x000000000000 0x000000000000\n"
       ]
      },
      {
       "output_type": "stream",
       "stream": "stdout",
       "text": [
        "IMAGE_DIRECTORY_ENTRY_RESERVED           0x000000000000 0x000000000000\n"
       ]
      },
      {
       "output_type": "stream",
       "stream": "stdout",
       "text": [
        "\n",
        "Import Directory (Original):\n"
       ]
      },
      {
       "output_type": "stream",
       "stream": "stdout",
       "text": [
        "Name                                               Ord  \n"
       ]
      },
      {
       "output_type": "stream",
       "stream": "stdout",
       "text": [
        "-------------------------------------------------- -----\n"
       ]
      },
      {
       "output_type": "stream",
       "stream": "stdout",
       "text": [
        "\n",
        "Export Directory:\n"
       ]
      },
      {
       "output_type": "stream",
       "stream": "stdout",
       "text": [
        "    Entry      Stat Ord   Name                                              \n"
       ]
      },
      {
       "output_type": "stream",
       "stream": "stdout",
       "text": [
        "-------------- ---- ----- --------------------------------------------------\n"
       ]
      },
      {
       "output_type": "stream",
       "stream": "stdout",
       "text": [
        "0xf80002677794 M    0     ntoskrnl.exe!AlpcGetHeaderSize (nt!AlpcGetHeaderSize)\n"
       ]
      },
      {
       "output_type": "stream",
       "stream": "stdout",
       "text": [
        "0xf80002677760 M    1     ntoskrnl.exe!AlpcGetMessageAttribute (nt!AlpcGetMessageAttribute)\n"
       ]
      },
      {
       "output_type": "stream",
       "stream": "stdout",
       "text": [
        "0xf80002665eb0 M    2     ntoskrnl.exe!AlpcInitializeMessageAttribute (nt!AlpcInitializeMessageAttribute)\n"
       ]
      },
      {
       "output_type": "stream",
       "stream": "stdout",
       "text": [
        "0xf800026b5ac0 M    3     ntoskrnl.exe!CcCanIWrite (nt!CcCanIWrite)         \n"
       ]
      },
      {
       "output_type": "stream",
       "stream": "stdout",
       "text": [
        "0xf8000262a244 M    4     ntoskrnl.exe!CcCoherencyFlushAndPurgeCache (nt!CcCoherencyFlushAndPurgeCache)\n"
       ]
      },
      {
       "output_type": "stream",
       "stream": "stdout",
       "text": [
        "0xf800029ab490 M    5     ntoskrnl.exe!CcCopyRead (nt!CcCopyRead)           \n"
       ]
      },
      {
       "output_type": "stream",
       "stream": "stdout",
       "text": [
        "0xf800026bca60 M    6     ntoskrnl.exe!CcCopyWrite (nt!CcCopyWrite)         \n"
       ]
      },
      {
       "output_type": "stream",
       "stream": "stdout",
       "text": [
        "0xf80002661520 M    7     ntoskrnl.exe!CcCopyWriteWontFlush (nt!CcCopyWriteWontFlush)\n"
       ]
      },
      {
       "output_type": "stream",
       "stream": "stdout",
       "text": [
        "0xf800027a3b50 M    8     ntoskrnl.exe!CcDeferWrite (nt!CcDeferWrite)       \n"
       ]
      },
      {
       "output_type": "stream",
       "stream": "stdout",
       "text": [
        "0xf80002ae9530 M    9     ntoskrnl.exe!CcFastCopyRead (nt!CcFastCopyRead)   \n"
       ]
      },
      {
       "output_type": "stream",
       "stream": "stdout",
       "text": [
        "0xf80002793130 M    10    ntoskrnl.exe!CcFastCopyWrite (nt!CcFastCopyWrite) \n"
       ]
      },
      {
       "output_type": "stream",
       "stream": "stdout",
       "text": [
        "0xf80002895f18 M    11    ntoskrnl.exe!CcFastMdlReadWait (nt!CcFastMdlReadWait)\n"
       ]
      },
      {
       "output_type": "stream",
       "stream": "stdout",
       "text": [
        "0xf8000267c4b0 M    12    ntoskrnl.exe!CcFlushCache (nt!CcFlushCache)       \n"
       ]
      },
      {
       "output_type": "stream",
       "stream": "stdout",
       "text": [
        "0xf80002685a84 M    13    ntoskrnl.exe!CcGetDirtyPages (nt!CcGetDirtyPages) \n"
       ]
      },
      {
       "output_type": "stream",
       "stream": "stdout",
       "text": [
        "0xf80002723b20 M    14    ntoskrnl.exe!CcGetFileObjectFromBcb (nt!CcGetFileObjectFromBcb)\n"
       ]
      },
      {
       "output_type": "stream",
       "stream": "stdout",
       "text": [
        "0xf8000273b590 M    15    ntoskrnl.exe!CcGetFileObjectFromSectionPtrs (nt!CcGetFileObjectFromSectionPtrs)\n"
       ]
      },
      {
       "output_type": "stream",
       "stream": "stdout",
       "text": [
        "0xf8000262d568 M    16    ntoskrnl.exe!CcGetFileObjectFromSectionPtrsRef (nt!CcGetFileObjectFromSectionPtrsRef)\n"
       ]
      },
      {
       "output_type": "stream",
       "stream": "stdout",
       "text": [
        "0xf800026850cc M    17    ntoskrnl.exe!CcGetFlushedValidData (nt!CcGetFlushedValidData)\n"
       ]
      },
      {
       "output_type": "stream",
       "stream": "stdout",
       "text": [
        "0xf80002799bf0 M    18    ntoskrnl.exe!CcGetLsnForFileObject (nt!CcGetLsnForFileObject)\n"
       ]
      },
      {
       "output_type": "stream",
       "stream": "stdout",
       "text": [
        "0xf800026b8460 M    19    ntoskrnl.exe!CcInitializeCacheMap (nt!CcInitializeCacheMap)\n"
       ]
      },
      {
       "output_type": "stream",
       "stream": "stdout",
       "text": [
        "0xf8000273b480 M    20    ntoskrnl.exe!CcIsThereDirtyData (nt!CcIsThereDirtyData)\n"
       ]
      },
      {
       "output_type": "stream",
       "stream": "stdout",
       "text": [
        "0xf8000273b3e0 M    21    ntoskrnl.exe!CcIsThereDirtyDataEx (nt!CcIsThereDirtyDataEx)\n"
       ]
      },
      {
       "output_type": "stream",
       "stream": "stdout",
       "text": [
        "0xf800029944e0 M    22    ntoskrnl.exe!CcMapData (nt!CcMapData)             \n"
       ]
      },
      {
       "output_type": "stream",
       "stream": "stdout",
       "text": [
        "0xf80002945fc0 M    23    ntoskrnl.exe!CcMdlRead (nt!CcMdlRead)             \n"
       ]
      },
      {
       "output_type": "stream",
       "stream": "stdout",
       "text": [
        "0xf80002946298 M    24    ntoskrnl.exe!CcMdlReadComplete (nt!CcMdlReadComplete)\n"
       ]
      },
      {
       "output_type": "stream",
       "stream": "stdout",
       "text": [
        "0xf8000278c150 M    25    ntoskrnl.exe!CcMdlWriteAbort (nt!CcMdlWriteAbort) \n"
       ]
      },
      {
       "output_type": "stream",
       "stream": "stdout",
       "text": [
        "0xf80002946220 M    26    ntoskrnl.exe!CcMdlWriteComplete (nt!CcMdlWriteComplete)\n"
       ]
      },
      {
       "output_type": "stream",
       "stream": "stdout",
       "text": [
        "0xf8000299f0b8 M    27    ntoskrnl.exe!CcPinMappedData (nt!CcPinMappedData) \n"
       ]
      },
      {
       "output_type": "stream",
       "stream": "stdout",
       "text": [
        "0xf8000299fdc0 M    28    ntoskrnl.exe!CcPinRead (nt!CcPinRead)             \n"
       ]
      },
      {
       "output_type": "stream",
       "stream": "stdout",
       "text": [
        "0xf80002660af0 M    29    ntoskrnl.exe!CcPrepareMdlWrite (nt!CcPrepareMdlWrite)\n"
       ]
      },
      {
       "output_type": "stream",
       "stream": "stdout",
       "text": [
        "0xf80002981d80 M    30    ntoskrnl.exe!CcPreparePinWrite (nt!CcPreparePinWrite)\n"
       ]
      },
      {
       "output_type": "stream",
       "stream": "stdout",
       "text": [
        "0xf8000267625c M    31    ntoskrnl.exe!CcPurgeCacheSection (nt!CcPurgeCacheSection)\n"
       ]
      },
      {
       "output_type": "stream",
       "stream": "stdout",
       "text": [
        "0xf800026aff00 M    32    ntoskrnl.exe!CcRemapBcb (nt!CcRemapBcb)           \n"
       ]
      },
      {
       "output_type": "stream",
       "stream": "stdout",
       "text": [
        "0xf80002799d30 M    33    ntoskrnl.exe!CcRepinBcb (nt!CcRepinBcb)           \n"
       ]
      },
      {
       "output_type": "stream",
       "stream": "stdout",
       "text": [
        "0xf80002652b40 M    34    ntoskrnl.exe!CcScheduleReadAhead (nt!CcScheduleReadAhead)\n"
       ]
      },
      {
       "output_type": "stream",
       "stream": "stdout",
       "text": [
        "0xf80002659014 M    35    ntoskrnl.exe!CcSetAdditionalCacheAttributes (nt!CcSetAdditionalCacheAttributes)\n"
       ]
      },
      {
       "output_type": "stream",
       "stream": "stdout",
       "text": [
        "0xf80002a46c80 M    36    ntoskrnl.exe!CcSetBcbOwnerPointer (nt!CcSetBcbOwnerPointer)\n"
       ]
      },
      {
       "output_type": "stream",
       "stream": "stdout",
       "text": [
        "0xf80002723b40 M    37    ntoskrnl.exe!CcSetDirtyPageThreshold (nt!CcSetDirtyPageThreshold)\n"
       ]
      },
      {
       "output_type": "stream",
       "stream": "stdout",
       "text": [
        "0xf800026b3ce0 M    38    ntoskrnl.exe!CcSetDirtyPinnedData (nt!CcSetDirtyPinnedData)\n"
       ]
      },
      {
       "output_type": "stream",
       "stream": "stdout",
       "text": [
        "0xf80002657060 M    39    ntoskrnl.exe!CcSetFileSizes (nt!CcSetFileSizes)   \n"
       ]
      },
      {
       "output_type": "stream",
       "stream": "stdout",
       "text": [
        "0xf800026b55b0 M    40    ntoskrnl.exe!CcSetFileSizesEx (nt!CcSetFileSizesEx)\n"
       ]
      },
      {
       "output_type": "stream",
       "stream": "stdout",
       "text": [
        "0xf80002662f5c M    41    ntoskrnl.exe!CcSetLogHandleForFile (nt!CcSetLogHandleForFile)\n"
       ]
      },
      {
       "output_type": "stream",
       "stream": "stdout",
       "text": [
        "0xf800026ba420 M    42    ntoskrnl.exe!CcSetParallelFlushFile (nt!CcSetParallelFlushFile)\n"
       ]
      },
      {
       "output_type": "stream",
       "stream": "stdout",
       "text": [
        "0xf800026bac78 M    43    ntoskrnl.exe!CcSetReadAheadGranularity (nt!CcSetReadAheadGranularity)\n"
       ]
      },
      {
       "output_type": "stream",
       "stream": "stdout",
       "text": [
        "0xf8000271e600 M    44    ntoskrnl.exe!CcTestControl (nt!xKdSetupPciDeviceForDebugging)\n"
       ]
      },
      {
       "output_type": "stream",
       "stream": "stdout",
       "text": [
        "0xf800026b93d0 M    45    ntoskrnl.exe!CcUninitializeCacheMap (nt!CcUninitializeCacheMap)\n"
       ]
      },
      {
       "output_type": "stream",
       "stream": "stdout",
       "text": [
        "0xf8000298aa90 M    46    ntoskrnl.exe!CcUnpinData (nt!CcUnpinData)         \n"
       ]
      },
      {
       "output_type": "stream",
       "stream": "stdout",
       "text": [
        "0xf80002aad4e0 M    47    ntoskrnl.exe!CcUnpinDataForThread (nt!CcUnpinDataForThread)\n"
       ]
      },
      {
       "output_type": "stream",
       "stream": "stdout",
       "text": [
        "0xf8000277ce40 M    48    ntoskrnl.exe!CcUnpinRepinnedBcb (nt!CcUnpinRepinnedBcb)\n"
       ]
      },
      {
       "output_type": "stream",
       "stream": "stdout",
       "text": [
        "0xf800026dc280 M    49    ntoskrnl.exe!CcWaitForCurrentLazyWriterActivity (nt!CcWaitForCurrentLazyWriterActivity)\n"
       ]
      },
      {
       "output_type": "stream",
       "stream": "stdout",
       "text": [
        "0xf800028e355c M    50    ntoskrnl.exe!CcZeroData (nt!CcZeroData)           \n"
       ]
      },
      {
       "output_type": "stream",
       "stream": "stdout",
       "text": [
        "0xf80002abd7a0 M    51    ntoskrnl.exe!CmCallbackGetKeyObjectID (nt!CmCallbackGetKeyObjectID)\n"
       ]
      },
      {
       "output_type": "stream",
       "stream": "stdout",
       "text": [
        "0xf80002a059f0 M    52    ntoskrnl.exe!CmGetBoundTransaction (nt!CmGetBoundTransaction)\n"
       ]
      },
      {
       "output_type": "stream",
       "stream": "stdout",
       "text": [
        "0xf80002a05a10 M    53    ntoskrnl.exe!CmGetCallbackVersion (nt!CmGetCallbackVersion)\n"
       ]
      },
      {
       "output_type": "stream",
       "stream": "stdout",
       "text": [
        "0xf80002b59050 M    54    ntoskrnl.exe!CmKeyObjectType (nt!CmKeyObjectType) \n"
       ]
      },
      {
       "output_type": "stream",
       "stream": "stdout",
       "text": [
        "0xf80002aca5e0 M    55    ntoskrnl.exe!CmRegisterCallback (nt!CmRegisterCallback)\n"
       ]
      },
      {
       "output_type": "stream",
       "stream": "stdout",
       "text": [
        "0xf80002aca610 M    56    ntoskrnl.exe!CmRegisterCallbackEx (nt!CmRegisterCallbackEx)\n"
       ]
      },
      {
       "output_type": "stream",
       "stream": "stdout",
       "text": [
        "0xf80002ac8870 M    57    ntoskrnl.exe!CmSetCallbackObjectContext (nt!CmSetCallbackObjectContext)\n"
       ]
      },
      {
       "output_type": "stream",
       "stream": "stdout",
       "text": [
        "0xf80002aca070 M    58    ntoskrnl.exe!CmUnRegisterCallback (nt!CmUnRegisterCallback)\n"
       ]
      },
      {
       "output_type": "stream",
       "stream": "stdout",
       "text": [
        "0xf80002688f40 M    59    ntoskrnl.exe!DbgBreakPoint (nt!DbgBreakPoint)     \n"
       ]
      },
      {
       "output_type": "stream",
       "stream": "stdout",
       "text": [
        "0xf80002688f60 M    60    ntoskrnl.exe!DbgBreakPointWithStatus (nt!RtlpBreakWithStatusInstruction)\n"
       ]
      },
      {
       "output_type": "stream",
       "stream": "stdout",
       "text": [
        "0xf8000271e200 M    61    ntoskrnl.exe!DbgCommandString (nt!DbgCommandString)\n"
       ]
      },
      {
       "output_type": "stream",
       "stream": "stdout",
       "text": [
        "0xf8000272a440 M    62    ntoskrnl.exe!DbgLoadImageSymbols (nt!DbgLoadImageSymbols)\n"
       ]
      },
      {
       "output_type": "stream",
       "stream": "stdout",
       "text": [
        "0xf80002749480 M    63    ntoskrnl.exe!DbgPrint (nt!DbgPrint)               \n"
       ]
      },
      {
       "output_type": "stream",
       "stream": "stdout",
       "text": [
        "0xf800026cf2e4 M    64    ntoskrnl.exe!DbgPrintEx (nt!DbgPrintEx)           \n"
       ]
      },
      {
       "output_type": "stream",
       "stream": "stdout",
       "text": [
        "0xf80002749430 M    65    ntoskrnl.exe!DbgPrintReturnControlC (nt!DbgPrintReturnControlC)\n"
       ]
      },
      {
       "output_type": "stream",
       "stream": "stdout",
       "text": [
        "0xf8000271e2e0 M    66    ntoskrnl.exe!DbgPrompt (nt!DbgPrompt)             \n"
       ]
      },
      {
       "output_type": "stream",
       "stream": "stdout",
       "text": [
        "0xf8000271e1f0 M    67    ntoskrnl.exe!DbgQueryDebugFilterState (nt!DbgQueryDebugFilterState)\n"
       ]
      },
      {
       "output_type": "stream",
       "stream": "stdout",
       "text": [
        "0xf8000278f070 M    68    ntoskrnl.exe!DbgSetDebugFilterState (nt!DbgSetDebugFilterState)\n"
       ]
      },
      {
       "output_type": "stream",
       "stream": "stdout",
       "text": [
        "0xf800027b1a80 M    69    ntoskrnl.exe!DbgSetDebugPrintCallback (nt!DbgSetDebugPrintCallback)\n"
       ]
      },
      {
       "output_type": "stream",
       "stream": "stdout",
       "text": [
        "0xf80002aa1220 M    70    ntoskrnl.exe!DbgkLkmdRegisterCallback (nt!DbgkLkmdRegisterCallback)\n"
       ]
      },
      {
       "output_type": "stream",
       "stream": "stdout",
       "text": [
        "0xf80002aa1150 M    71    ntoskrnl.exe!DbgkLkmdUnregisterCallback (nt!DbgkLkmdUnregisterCallback)\n"
       ]
      },
      {
       "output_type": "stream",
       "stream": "stdout",
       "text": [
        "0xf80002a9e3a0 M    72    ntoskrnl.exe!EmClientQueryRuleState (nt!EmClientQueryRuleState)\n"
       ]
      },
      {
       "output_type": "stream",
       "stream": "stdout",
       "text": [
        "0xf80002a9e490 M    73    ntoskrnl.exe!EmClientRuleDeregisterNotification (nt!EmClientRuleDeregisterNotification)\n"
       ]
      },
      {
       "output_type": "stream",
       "stream": "stdout",
       "text": [
        "0xf80002a9e570 M    74    ntoskrnl.exe!EmClientRuleEvaluate (nt!EmClientRuleEvaluate)\n"
       ]
      },
      {
       "output_type": "stream",
       "stream": "stdout",
       "text": [
        "0xf80002aa0cb0 M    75    ntoskrnl.exe!EmClientRuleRegisterNotification (nt!EmClientRuleRegisterNotification)\n"
       ]
      },
      {
       "output_type": "stream",
       "stream": "stdout",
       "text": [
        "0xf80002a9e1f0 M    76    ntoskrnl.exe!EmProviderDeregister (nt!EmProviderDeregister)\n"
       ]
      },
      {
       "output_type": "stream",
       "stream": "stdout",
       "text": [
        "0xf80002a9dfb0 M    77    ntoskrnl.exe!EmProviderDeregisterEntry (nt!EmProviderDeregisterEntry)\n"
       ]
      },
      {
       "output_type": "stream",
       "stream": "stdout",
       "text": [
        "0xf80002aa0c70 M    78    ntoskrnl.exe!EmProviderRegister (nt!EmProviderRegister)\n"
       ]
      },
      {
       "output_type": "stream",
       "stream": "stdout",
       "text": [
        "0xf80002a9e010 M    79    ntoskrnl.exe!EmProviderRegisterEntry (nt!EmProviderRegisterEntry)\n"
       ]
      },
      {
       "output_type": "stream",
       "stream": "stdout",
       "text": [
        "0xf80002a9fe80 M    80    ntoskrnl.exe!EmpProviderRegister (nt!EmpProviderRegister)\n"
       ]
      },
      {
       "output_type": "stream",
       "stream": "stdout",
       "text": [
        "0xf80002653740 M    81    ntoskrnl.exe!EtwActivityIdControl (nt!EtwActivityIdControl)\n"
       ]
      },
      {
       "output_type": "stream",
       "stream": "stdout",
       "text": [
        "0xf80002a731a0 M    82    ntoskrnl.exe!EtwEnableTrace (nt!EtwEnableTrace)   \n"
       ]
      },
      {
       "output_type": "stream",
       "stream": "stdout",
       "text": [
        "0xf8000265a050 M    83    ntoskrnl.exe!EtwEventEnabled (nt!EtwEventEnabled) \n"
       ]
      },
      {
       "output_type": "stream",
       "stream": "stdout",
       "text": [
        "0xf80002670048 M    84    ntoskrnl.exe!EtwProviderEnabled (nt!EtwProviderEnabled)\n"
       ]
      },
      {
       "output_type": "stream",
       "stream": "stdout",
       "text": [
        "0xf80002a66500 M    85    ntoskrnl.exe!EtwRegister (nt!EtwRegister)         \n"
       ]
      },
      {
       "output_type": "stream",
       "stream": "stdout",
       "text": [
        "0xf80002a664c0 M    86    ntoskrnl.exe!EtwRegisterClassicProvider (nt!EtwRegisterClassicProvider)\n"
       ]
      },
      {
       "output_type": "stream",
       "stream": "stdout",
       "text": [
        "0xf80002780760 M    87    ntoskrnl.exe!EtwSendTraceBuffer (nt!EtwSendTraceBuffer)\n"
       ]
      },
      {
       "output_type": "stream",
       "stream": "stdout",
       "text": [
        "0xf80002a3c8a0 M    88    ntoskrnl.exe!EtwUnregister (nt!EtwUnregister)     \n"
       ]
      },
      {
       "output_type": "stream",
       "stream": "stdout",
       "text": [
        "0xf800026741b0 M    89    ntoskrnl.exe!EtwWrite (nt!EtwWrite)               \n"
       ]
      },
      {
       "output_type": "stream",
       "stream": "stdout",
       "text": [
        "0xf80002a76160 M    90    ntoskrnl.exe!EtwWriteEndScenario (nt!EtwWriteEndScenario)\n"
       ]
      },
      {
       "output_type": "stream",
       "stream": "stdout",
       "text": [
        "0xf80002773ff0 M    91    ntoskrnl.exe!EtwWriteEx (nt!EtwWriteEx)           \n"
       ]
      },
      {
       "output_type": "stream",
       "stream": "stdout",
       "text": [
        "0xf80002a76210 M    92    ntoskrnl.exe!EtwWriteStartScenario (nt!EtwWriteStartScenario)\n"
       ]
      },
      {
       "output_type": "stream",
       "stream": "stdout",
       "text": [
        "0xf80002773ed0 M    93    ntoskrnl.exe!EtwWriteString (nt!EtwWriteString)   \n"
       ]
      },
      {
       "output_type": "stream",
       "stream": "stdout",
       "text": [
        "0xf800027740c0 M    94    ntoskrnl.exe!EtwWriteTransfer (nt!EtwWriteTransfer)\n"
       ]
      },
      {
       "output_type": "stream",
       "stream": "stdout",
       "text": [
        "0xf80002639420 M    95    ntoskrnl.exe!ExAcquireCacheAwarePushLockExclusive (nt!ExAcquireCacheAwarePushLockExclusive)\n"
       ]
      },
      {
       "output_type": "stream",
       "stream": "stdout",
       "text": [
        "0xf800026a69a0 M    96    ntoskrnl.exe!ExAcquireFastMutex (nt!ExAcquireFastMutex)\n"
       ]
      },
      {
       "output_type": "stream",
       "stream": "stdout",
       "text": [
        "0xf800026a6aa0 M    97    ntoskrnl.exe!ExAcquireFastMutexUnsafe (nt!ExAcquireFastMutexUnsafe)\n"
       ]
      },
      {
       "output_type": "stream",
       "stream": "stdout",
       "text": [
        "0xf80002699070 M    98    ntoskrnl.exe!ExAcquireResourceExclusiveLite (nt!ExAcquireResourceExclusiveLite)\n"
       ]
      },
      {
       "output_type": "stream",
       "stream": "stdout",
       "text": [
        "0xf80002687810 M    99    ntoskrnl.exe!ExAcquireResourceSharedLite (nt!ExAcquireResourceSharedLite)\n"
       ]
      },
      {
       "output_type": "stream",
       "stream": "stdout",
       "text": [
        "0xf800026b54a0 M    100   ntoskrnl.exe!ExAcquireRundownProtection (nt!ExfAcquireRundownProtection)\n"
       ]
      },
      {
       "output_type": "stream",
       "stream": "stdout",
       "text": [
        "0xf800026a33f4 M    101   ntoskrnl.exe!ExAcquireRundownProtectionCacheAware (nt!ExAcquireRundownProtectionCacheAware)\n"
       ]
      },
      {
       "output_type": "stream",
       "stream": "stdout",
       "text": [
        "0xf800026a03f0 M    102   ntoskrnl.exe!ExAcquireRundownProtectionCacheAwareEx (nt!ExAcquireRundownProtectionCacheAwareEx)\n"
       ]
      },
      {
       "output_type": "stream",
       "stream": "stdout",
       "text": [
        "0xf80002719630 M    103   ntoskrnl.exe!ExAcquireRundownProtectionEx (nt!ExAcquireRundownProtectionEx)\n"
       ]
      },
      {
       "output_type": "stream",
       "stream": "stdout",
       "text": [
        "0xf800026b4ec0 M    104   ntoskrnl.exe!ExAcquireSharedStarveExclusive (nt!ExAcquireSharedStarveExclusive)\n"
       ]
      },
      {
       "output_type": "stream",
       "stream": "stdout",
       "text": [
        "0xf800026564ac M    105   ntoskrnl.exe!ExAcquireSharedWaitForExclusive (nt!ExAcquireSharedWaitForExclusive)\n"
       ]
      },
      {
       "output_type": "stream",
       "stream": "stdout",
       "text": [
        "0xf800026dd9f4 M    106   ntoskrnl.exe!ExAcquireSpinLockExclusive (nt!ExAcquireSpinLockExclusive)\n"
       ]
      },
      {
       "output_type": "stream",
       "stream": "stdout",
       "text": [
        "0xf800026ddaf8 M    107   ntoskrnl.exe!ExAcquireSpinLockExclusiveAtDpcLevel (nt!ExAcquireSpinLockExclusiveAtDpcLevel)\n"
       ]
      },
      {
       "output_type": "stream",
       "stream": "stdout",
       "text": [
        "0xf8000262666c M    108   ntoskrnl.exe!ExAcquireSpinLockShared (nt!ExAcquireSpinLockShared)\n"
       ]
      },
      {
       "output_type": "stream",
       "stream": "stdout",
       "text": [
        "0xf80002737850 M    109   ntoskrnl.exe!ExAcquireSpinLockSharedAtDpcLevel (nt!ExAcquireSpinLockSharedAtDpcLevel)\n"
       ]
      },
      {
       "output_type": "stream",
       "stream": "stdout",
       "text": [
        "0xf8000276ccb0 M    110   ntoskrnl.exe!ExAllocateCacheAwarePushLock (nt!ExAllocateCacheAwarePushLock)\n"
       ]
      },
      {
       "output_type": "stream",
       "stream": "stdout",
       "text": [
        "0xf800028fc7b8 M    111   ntoskrnl.exe!ExAllocateCacheAwareRundownProtection (nt!ExAllocateCacheAwareRundownProtection)\n"
       ]
      },
      {
       "output_type": "stream",
       "stream": "stdout",
       "text": [
        "0xf800026ddd10 M    112   ntoskrnl.exe!ExAllocatePool (nt!ExAllocatePool)   \n"
       ]
      },
      {
       "output_type": "stream",
       "stream": "stdout",
       "text": [
        "0xf80002771bf0 M    113   ntoskrnl.exe!ExAllocatePoolWithQuota (nt!ExAllocatePoolWithQuota)\n"
       ]
      },
      {
       "output_type": "stream",
       "stream": "stdout",
       "text": [
        "0xf800026b1cb0 M    114   ntoskrnl.exe!ExAllocatePoolWithQuotaTag (nt!ExAllocatePoolWithQuotaTag)\n"
       ]
      },
      {
       "output_type": "stream",
       "stream": "stdout",
       "text": [
        "0xf800027c33d0 M    115   ntoskrnl.exe!ExAllocatePoolWithTag (nt!ExAllocatePoolWithTag)\n"
       ]
      },
      {
       "output_type": "stream",
       "stream": "stdout",
       "text": [
        "0xf80002670a00 M    116   ntoskrnl.exe!ExAllocatePoolWithTagPriority (nt!ExAllocatePoolWithTagPriority)\n"
       ]
      },
      {
       "output_type": "stream",
       "stream": "stdout",
       "text": [
        "0xf800026d5cc0 M    117   ntoskrnl.exe!ExConvertExclusiveToSharedLite (nt!ExConvertExclusiveToSharedLite)\n"
       ]
      },
      {
       "output_type": "stream",
       "stream": "stdout",
       "text": [
        "0xf80002a78fb0 M    118   ntoskrnl.exe!ExCreateCallback (nt!ExCreateCallback)\n"
       ]
      },
      {
       "output_type": "stream",
       "stream": "stdout",
       "text": [
        "0xf80002741040 M    119   ntoskrnl.exe!ExDeleteLookasideListEx (nt!ExDeleteLookasideListEx)\n"
       ]
      },
      {
       "output_type": "stream",
       "stream": "stdout",
       "text": [
        "0xf800027bb490 M    120   ntoskrnl.exe!ExDeleteNPagedLookasideList (nt!ExDeleteNPagedLookasideList)\n"
       ]
      },
      {
       "output_type": "stream",
       "stream": "stdout",
       "text": [
        "0xf80002642aac M    121   ntoskrnl.exe!ExDeletePagedLookasideList (nt!ExDeletePagedLookasideList)\n"
       ]
      },
      {
       "output_type": "stream",
       "stream": "stdout",
       "text": [
        "0xf8000267d7a0 M    122   ntoskrnl.exe!ExDeleteResourceLite (nt!ExDeleteResourceLite)\n"
       ]
      },
      {
       "output_type": "stream",
       "stream": "stdout",
       "text": [
        "0xf800028346f8 M    123   ntoskrnl.exe!ExDesktopObjectType (nt!ExDesktopObjectType)\n"
       ]
      },
      {
       "output_type": "stream",
       "stream": "stdout",
       "text": [
        "0xf800026dc4d0 M    124   ntoskrnl.exe!ExDisableResourceBoostLite (nt!ExDisableResourceBoostLite)\n"
       ]
      },
      {
       "output_type": "stream",
       "stream": "stdout",
       "text": [
        "0xf8000265aff8 M    125   ntoskrnl.exe!ExEnterCriticalRegionAndAcquireFastMutexUnsafe (nt!ExEnterCriticalRegionAndAcquireFastMutexUnsafe)\n"
       ]
      },
      {
       "output_type": "stream",
       "stream": "stdout",
       "text": [
        "0xf8000269cff0 M    126   ntoskrnl.exe!ExEnterCriticalRegionAndAcquireResourceExclusive (nt!ExEnterCriticalRegionAndAcquireResourceExclusive)\n"
       ]
      },
      {
       "output_type": "stream",
       "stream": "stdout",
       "text": [
        "0xf80002666e50 M    127   ntoskrnl.exe!ExEnterCriticalRegionAndAcquireResourceShared (nt!ExEnterCriticalRegionAndAcquireResourceShared)\n"
       ]
      },
      {
       "output_type": "stream",
       "stream": "stdout",
       "text": [
        "0xf8000275ace0 M    128   ntoskrnl.exe!ExEnterCriticalRegionAndAcquireSharedWaitForExclusive (nt!ExEnterCriticalRegionAndAcquireSharedWaitForExclusive)\n"
       ]
      },
      {
       "output_type": "stream",
       "stream": "stdout",
       "text": [
        "0xf8000269d028 M    129   ntoskrnl.exe!ExEnterPriorityRegionAndAcquireResourceExclusive (nt!ExEnterPriorityRegionAndAcquireResourceExclusive)\n"
       ]
      },
      {
       "output_type": "stream",
       "stream": "stdout",
       "text": [
        "0xf8000269cc88 M    130   ntoskrnl.exe!ExEnterPriorityRegionAndAcquireResourceShared (nt!ExEnterPriorityRegionAndAcquireResourceShared)\n"
       ]
      },
      {
       "output_type": "stream",
       "stream": "stdout",
       "text": [
        "0xf8000292b3d0 M    131   ntoskrnl.exe!ExEnumHandleTable (nt!ExEnumHandleTable)\n"
       ]
      },
      {
       "output_type": "stream",
       "stream": "stdout",
       "text": [
        "0xf800028c7090 M    132   ntoskrnl.exe!ExEventObjectType (nt!ExEventObjectType)\n"
       ]
      },
      {
       "output_type": "stream",
       "stream": "stdout",
       "text": [
        "0xf80002719530 M    133   ntoskrnl.exe!ExExtendZone (nt!ExExtendZone)       \n"
       ]
      },
      {
       "output_type": "stream",
       "stream": "stdout",
       "text": [
        "0xf8000291f67c M    134   ntoskrnl.exe!ExFetchLicenseData (nt!ExFetchLicenseData)\n"
       ]
      },
      {
       "output_type": "stream",
       "stream": "stdout",
       "text": [
        "0xf800027195f0 M    135   ntoskrnl.exe!ExFlushLookasideListEx (nt!ExFlushLookasideListEx)\n"
       ]
      },
      {
       "output_type": "stream",
       "stream": "stdout",
       "text": [
        "0xf8000276a0d0 M    136   ntoskrnl.exe!ExFreeCacheAwarePushLock (nt!ExFreeCacheAwarePushLock)\n"
       ]
      },
      {
       "output_type": "stream",
       "stream": "stdout",
       "text": [
        "0xf800028fde78 M    137   ntoskrnl.exe!ExFreeCacheAwareRundownProtection (nt!ExFreeCacheAwareRundownProtection)\n"
       ]
      },
      {
       "output_type": "stream",
       "stream": "stdout",
       "text": [
        "0xf800027c2e80 M    138   ntoskrnl.exe!ExFreePool (nt!ExFreePool)           \n"
       ]
      },
      {
       "output_type": "stream",
       "stream": "stdout",
       "text": [
        "0xf800027c40b0 M    139   ntoskrnl.exe!ExFreePoolWithTag (nt!ExFreePoolWithTag)\n"
       ]
      },
      {
       "output_type": "stream",
       "stream": "stdout",
       "text": [
        "0xf8000269e4a4 M    140   ntoskrnl.exe!ExGetCurrentProcessorCounts (nt!ExGetCurrentProcessorCounts)\n"
       ]
      },
      {
       "output_type": "stream",
       "stream": "stdout",
       "text": [
        "0xf8000267c470 M    141   ntoskrnl.exe!ExGetCurrentProcessorCpuUsage (nt!ExGetCurrentProcessorCpuUsage)\n"
       ]
      },
      {
       "output_type": "stream",
       "stream": "stdout",
       "text": [
        "0xf8000262498c M    142   ntoskrnl.exe!ExGetExclusiveWaiterCount (nt!ExGetExclusiveWaiterCount)\n"
       ]
      },
      {
       "output_type": "stream",
       "stream": "stdout",
       "text": [
        "0xf80002a82b70 M    143   ntoskrnl.exe!ExGetLicenseTamperState (nt!ExGetLicenseTamperState)\n"
       ]
      },
      {
       "output_type": "stream",
       "stream": "stdout",
       "text": [
        "0xf800026a8d50 M    144   ntoskrnl.exe!ExGetPreviousMode (nt!ExGetPreviousMode)\n"
       ]
      },
      {
       "output_type": "stream",
       "stream": "stdout",
       "text": [
        "0xf80002624980 M    145   ntoskrnl.exe!ExGetSharedWaiterCount (nt!ExGetSharedWaiterCount)\n"
       ]
      },
      {
       "output_type": "stream",
       "stream": "stdout",
       "text": [
        "0xf800027856c0 M    146   ntoskrnl.exe!ExInitializeLookasideListEx (nt!ExInitializeLookasideListEx)\n"
       ]
      },
      {
       "output_type": "stream",
       "stream": "stdout",
       "text": [
        "0xf80002785680 M    147   ntoskrnl.exe!ExInitializeNPagedLookasideList (nt!ExInitializeNPagedLookasideList)\n"
       ]
      },
      {
       "output_type": "stream",
       "stream": "stdout",
       "text": [
        "0xf80002912c80 M    148   ntoskrnl.exe!ExInitializePagedLookasideList (nt!ExInitializePagedLookasideList)\n"
       ]
      },
      {
       "output_type": "stream",
       "stream": "stdout",
       "text": [
        "0xf80002724360 M    149   ntoskrnl.exe!ExInitializePushLock (nt!ExInitializePushLock)\n"
       ]
      },
      {
       "output_type": "stream",
       "stream": "stdout",
       "text": [
        "0xf800026a85e0 M    150   ntoskrnl.exe!ExInitializeResourceLite (nt!ExInitializeResourceLite)\n"
       ]
      },
      {
       "output_type": "stream",
       "stream": "stdout",
       "text": [
        "0xf80002638e78 M    151   ntoskrnl.exe!ExInitializeRundownProtection (nt!ExInitializeRundownProtection)\n"
       ]
      },
      {
       "output_type": "stream",
       "stream": "stdout",
       "text": [
        "0xf80002a08310 M    152   ntoskrnl.exe!ExInitializeRundownProtectionCacheAware (nt!ExInitializeRundownProtectionCacheAware)\n"
       ]
      },
      {
       "output_type": "stream",
       "stream": "stdout",
       "text": [
        "0xf80002719590 M    153   ntoskrnl.exe!ExInitializeZone (nt!ExInitializeZone)\n"
       ]
      },
      {
       "output_type": "stream",
       "stream": "stdout",
       "text": [
        "0xf80002688ff0 M    154   ntoskrnl.exe!ExInterlockedAddLargeInteger (nt!ExInterlockedAddLargeInteger)\n"
       ]
      },
      {
       "output_type": "stream",
       "stream": "stdout",
       "text": [
        "0xf80002689040 M    155   ntoskrnl.exe!ExInterlockedAddUlong (nt!ExInterlockedAddUlong)\n"
       ]
      },
      {
       "output_type": "stream",
       "stream": "stdout",
       "text": [
        "0xf8000273b9e0 M    156   ntoskrnl.exe!ExInterlockedExtendZone (nt!ExInterlockedExtendZone)\n"
       ]
      },
      {
       "output_type": "stream",
       "stream": "stdout",
       "text": [
        "0xf80002689090 M    157   ntoskrnl.exe!ExInterlockedInsertHeadList (nt!ExInterlockedInsertHeadList)\n"
       ]
      },
      {
       "output_type": "stream",
       "stream": "stdout",
       "text": [
        "0xf800026890f0 M    158   ntoskrnl.exe!ExInterlockedInsertTailList (nt!ExInterlockedInsertTailList)\n"
       ]
      },
      {
       "output_type": "stream",
       "stream": "stdout",
       "text": [
        "0xf800026891b0 M    159   ntoskrnl.exe!ExInterlockedPopEntryList (nt!ExInterlockedPopEntryList)\n"
       ]
      },
      {
       "output_type": "stream",
       "stream": "stdout",
       "text": [
        "0xf80002689200 M    160   ntoskrnl.exe!ExInterlockedPushEntryList (nt!ExInterlockedPushEntryList)\n"
       ]
      },
      {
       "output_type": "stream",
       "stream": "stdout",
       "text": [
        "0xf80002689150 M    161   ntoskrnl.exe!ExInterlockedRemoveHeadList (nt!ExInterlockedRemoveHeadList)\n"
       ]
      },
      {
       "output_type": "stream",
       "stream": "stdout",
       "text": [
        "0xf800027197f0 M    162   ntoskrnl.exe!ExIsProcessorFeaturePresent (nt!ExIsProcessorFeaturePresent)\n"
       ]
      },
      {
       "output_type": "stream",
       "stream": "stdout",
       "text": [
        "0xf8000269d160 M    163   ntoskrnl.exe!ExIsResourceAcquiredExclusiveLite (nt!ExIsResourceAcquiredExclusiveLite)\n"
       ]
      },
      {
       "output_type": "stream",
       "stream": "stdout",
       "text": [
        "0xf800026a66a0 M    164   ntoskrnl.exe!ExIsResourceAcquiredSharedLite (nt!ExIsResourceAcquiredSharedLite)\n"
       ]
      },
      {
       "output_type": "stream",
       "stream": "stdout",
       "text": [
        "0xf8000263fc3c M    165   ntoskrnl.exe!ExLocalTimeToSystemTime (nt!ExLocalTimeToSystemTime)\n"
       ]
      },
      {
       "output_type": "stream",
       "stream": "stdout",
       "text": [
        "0xf800026598f8 M    166   ntoskrnl.exe!ExNotifyCallback (nt!ExNotifyCallback)\n"
       ]
      },
      {
       "output_type": "stream",
       "stream": "stdout",
       "text": [
        "0xf8000297d080 M    167   ntoskrnl.exe!ExQueryAttributeInformation (nt!ExQueryAttributeInformation)\n"
       ]
      },
      {
       "output_type": "stream",
       "stream": "stdout",
       "text": [
        "0xf8000269cae0 M    168   ntoskrnl.exe!ExQueryDepthSList (nt!ExQueryDepthSList)\n"
       ]
      },
      {
       "output_type": "stream",
       "stream": "stdout",
       "text": [
        "0xf80002661c80 M    169   ntoskrnl.exe!ExQueryPoolBlockSize (nt!ExQueryPoolBlockSize)\n"
       ]
      },
      {
       "output_type": "stream",
       "stream": "stdout",
       "text": [
        "0xf800026987a0 M    170   ntoskrnl.exe!ExQueueWorkItem (nt!ExQueueWorkItem) \n"
       ]
      },
      {
       "output_type": "stream",
       "stream": "stdout",
       "text": [
        "0xf80002a47a80 M    171   ntoskrnl.exe!ExRaiseAccessViolation (nt!ExRaiseAccessViolation)\n"
       ]
      },
      {
       "output_type": "stream",
       "stream": "stdout",
       "text": [
        "0xf80002a19a20 M    172   ntoskrnl.exe!ExRaiseDatatypeMisalignment (nt!ExRaiseDatatypeMisalignment)\n"
       ]
      },
      {
       "output_type": "stream",
       "stream": "stdout",
       "text": [
        "0xf80002784fd0 M    173   ntoskrnl.exe!ExRaiseException (nt!RtlRaiseException)\n"
       ]
      },
      {
       "output_type": "stream",
       "stream": "stdout",
       "text": [
        "0xf80002ac06e0 M    174   ntoskrnl.exe!ExRaiseHardError (nt!ExRaiseHardError)\n"
       ]
      },
      {
       "output_type": "stream",
       "stream": "stdout",
       "text": [
        "0xf800026bf7e0 M    175   ntoskrnl.exe!ExRaiseStatus (nt!RtlRaiseStatus)    \n"
       ]
      },
      {
       "output_type": "stream",
       "stream": "stdout",
       "text": [
        "0xf80002719660 M    176   ntoskrnl.exe!ExReInitializeRundownProtection (nt!ExReInitializeRundownProtection)\n"
       ]
      },
      {
       "output_type": "stream",
       "stream": "stdout",
       "text": [
        "0xf80002725a50 M    177   ntoskrnl.exe!ExReInitializeRundownProtectionCacheAware (nt!ExReInitializeRundownProtectionCacheAware)\n"
       ]
      },
      {
       "output_type": "stream",
       "stream": "stdout",
       "text": [
        "0xf800027259c0 M    178   ntoskrnl.exe!ExRegisterAttributeInformationCallback (nt!ExRegisterAttributeInformationCallback)\n"
       ]
      },
      {
       "output_type": "stream",
       "stream": "stdout",
       "text": [
        "0xf8000279fde0 M    179   ntoskrnl.exe!ExRegisterCallback (nt!ExRegisterCallback)\n"
       ]
      },
      {
       "output_type": "stream",
       "stream": "stdout",
       "text": [
        "0xf80002ac77d0 M    180   ntoskrnl.exe!ExRegisterExtension (nt!ExRegisterExtension)\n"
       ]
      },
      {
       "output_type": "stream",
       "stream": "stdout",
       "text": [
        "0xf80002679c90 M    181   ntoskrnl.exe!ExReinitializeResourceLite (nt!ExReinitializeResourceLite)\n"
       ]
      },
      {
       "output_type": "stream",
       "stream": "stdout",
       "text": [
        "0xf800026393d4 M    182   ntoskrnl.exe!ExReleaseCacheAwarePushLockExclusive (nt!ExReleaseCacheAwarePushLockExclusive)\n"
       ]
      },
      {
       "output_type": "stream",
       "stream": "stdout",
       "text": [
        "0xf80002656920 M    183   ntoskrnl.exe!ExReleaseFastMutex (nt!ExReleaseFastMutex)\n"
       ]
      },
      {
       "output_type": "stream",
       "stream": "stdout",
       "text": [
        "0xf800026a6adc M    184   ntoskrnl.exe!ExReleaseFastMutexUnsafe (nt!ExReleaseFastMutexUnsafe)\n"
       ]
      },
      {
       "output_type": "stream",
       "stream": "stdout",
       "text": [
        "0xf8000265afa0 M    185   ntoskrnl.exe!ExReleaseFastMutexUnsafeAndLeaveCriticalRegion (nt!ExReleaseFastMutexUnsafeAndLeaveCriticalRegion)\n"
       ]
      },
      {
       "output_type": "stream",
       "stream": "stdout",
       "text": [
        "0xf8000269caf0 M    186   ntoskrnl.exe!ExReleaseResourceAndLeaveCriticalRegion (nt!ExReleaseResourceAndLeaveCriticalRegion)\n"
       ]
      },
      {
       "output_type": "stream",
       "stream": "stdout",
       "text": [
        "0xf8000269cee8 M    187   ntoskrnl.exe!ExReleaseResourceAndLeavePriorityRegion (nt!ExReleaseResourceAndLeavePriorityRegion)\n"
       ]
      },
      {
       "output_type": "stream",
       "stream": "stdout",
       "text": [
        "0xf8000265599c M    188   ntoskrnl.exe!ExReleaseResourceForThreadLite (nt!ExReleaseResourceForThreadLite)\n"
       ]
      },
      {
       "output_type": "stream",
       "stream": "stdout",
       "text": [
        "0xf8000269cb30 M    189   ntoskrnl.exe!ExReleaseResourceLite (nt!ExReleaseResourceLite)\n"
       ]
      },
      {
       "output_type": "stream",
       "stream": "stdout",
       "text": [
        "0xf800026b69e0 M    190   ntoskrnl.exe!ExReleaseRundownProtection (nt!ExfReleaseRundownProtection)\n"
       ]
      },
      {
       "output_type": "stream",
       "stream": "stdout",
       "text": [
        "0xf800026a33ac M    191   ntoskrnl.exe!ExReleaseRundownProtectionCacheAware (nt!ExReleaseRundownProtectionCacheAware)\n"
       ]
      },
      {
       "output_type": "stream",
       "stream": "stdout",
       "text": [
        "0xf800026a0440 M    192   ntoskrnl.exe!ExReleaseRundownProtectionCacheAwareEx (nt!ExReleaseRundownProtectionCacheAwareEx)\n"
       ]
      },
      {
       "output_type": "stream",
       "stream": "stdout",
       "text": [
        "0xf8000274c310 M    193   ntoskrnl.exe!ExReleaseRundownProtectionEx (nt!ExReleaseRundownProtectionEx)\n"
       ]
      },
      {
       "output_type": "stream",
       "stream": "stdout",
       "text": [
        "0xf800026dd960 M    194   ntoskrnl.exe!ExReleaseSpinLockExclusive (nt!ExReleaseSpinLockExclusive)\n"
       ]
      },
      {
       "output_type": "stream",
       "stream": "stdout",
       "text": [
        "0xf800026dd9b0 M    195   ntoskrnl.exe!ExReleaseSpinLockExclusiveFromDpcLevel (nt!ExReleaseSpinLockExclusiveFromDpcLevel)\n"
       ]
      },
      {
       "output_type": "stream",
       "stream": "stdout",
       "text": [
        "0xf80002626710 M    196   ntoskrnl.exe!ExReleaseSpinLockShared (nt!ExReleaseSpinLockShared)\n"
       ]
      },
      {
       "output_type": "stream",
       "stream": "stdout",
       "text": [
        "0xf800026ddc4c M    197   ntoskrnl.exe!ExReleaseSpinLockSharedFromDpcLevel (nt!ExReleaseSpinLockSharedFromDpcLevel)\n"
       ]
      },
      {
       "output_type": "stream",
       "stream": "stdout",
       "text": [
        "0xf80002638e84 M    198   ntoskrnl.exe!ExRundownCompleted (nt!ExRundownCompleted)\n"
       ]
      },
      {
       "output_type": "stream",
       "stream": "stdout",
       "text": [
        "0xf80002725a10 M    199   ntoskrnl.exe!ExRundownCompletedCacheAware (nt!ExRundownCompletedCacheAware)\n"
       ]
      },
      {
       "output_type": "stream",
       "stream": "stdout",
       "text": [
        "0xf800028c7398 M    200   ntoskrnl.exe!ExSemaphoreObjectType (nt!ExSemaphoreObjectType)\n"
       ]
      },
      {
       "output_type": "stream",
       "stream": "stdout",
       "text": [
        "0xf80002a859c0 M    201   ntoskrnl.exe!ExSetLicenseTamperState (nt!ExSetLicenseTamperState)\n"
       ]
      },
      {
       "output_type": "stream",
       "stream": "stdout",
       "text": [
        "0xf80002656910 M    202   ntoskrnl.exe!ExSetResourceOwnerPointer (nt!ExSetResourceOwnerPointer)\n"
       ]
      },
      {
       "output_type": "stream",
       "stream": "stdout",
       "text": [
        "0xf800026559a8 M    203   ntoskrnl.exe!ExSetResourceOwnerPointerEx (nt!ExSetResourceOwnerPointerEx)\n"
       ]
      },
      {
       "output_type": "stream",
       "stream": "stdout",
       "text": [
        "0xf80002a37be0 M    204   ntoskrnl.exe!ExSetTimerResolution (nt!ExSetTimerResolution)\n"
       ]
      },
      {
       "output_type": "stream",
       "stream": "stdout",
       "text": [
        "0xf80002a083a0 M    205   ntoskrnl.exe!ExSizeOfRundownProtectionCacheAware (nt!ExSizeOfRundownProtectionCacheAware)\n"
       ]
      },
      {
       "output_type": "stream",
       "stream": "stdout",
       "text": [
        "0xf80002a10b20 M    206   ntoskrnl.exe!ExSystemExceptionFilter (nt!ExSystemExceptionFilter)\n"
       ]
      },
      {
       "output_type": "stream",
       "stream": "stdout",
       "text": [
        "0xf80002645a64 M    207   ntoskrnl.exe!ExSystemTimeToLocalTime (nt!ExSystemTimeToLocalTime)\n"
       ]
      },
      {
       "output_type": "stream",
       "stream": "stdout",
       "text": [
        "0xf80002736310 M    208   ntoskrnl.exe!ExTryConvertSharedSpinLockExclusive (nt!ExTryConvertSharedSpinLockExclusive)\n"
       ]
      },
      {
       "output_type": "stream",
       "stream": "stdout",
       "text": [
        "0xf8000272fed0 M    209   ntoskrnl.exe!ExTryToAcquireFastMutex (nt!ExTryToAcquireFastMutex)\n"
       ]
      },
      {
       "output_type": "stream",
       "stream": "stdout",
       "text": [
        "0xf80002753d90 M    210   ntoskrnl.exe!ExUnregisterAttributeInformationCallback (nt!ExUnregisterAttributeInformationCallback)\n"
       ]
      },
      {
       "output_type": "stream",
       "stream": "stdout",
       "text": [
        "0xf8000276e8d0 M    211   ntoskrnl.exe!ExUnregisterCallback (nt!ExUnregisterCallback)\n"
       ]
      },
      {
       "output_type": "stream",
       "stream": "stdout",
       "text": [
        "0xf80002ac76d0 M    212   ntoskrnl.exe!ExUnregisterExtension (nt!ExUnregisterExtension)\n"
       ]
      },
      {
       "output_type": "stream",
       "stream": "stdout",
       "text": [
        "0xf80002aca9d0 M    213   ntoskrnl.exe!ExUpdateLicenseData (nt!ExUpdateLicenseData)\n"
       ]
      },
      {
       "output_type": "stream",
       "stream": "stdout",
       "text": [
        "0xf80002912590 M    214   ntoskrnl.exe!ExUuidCreate (nt!ExUuidCreate)       \n"
       ]
      },
      {
       "output_type": "stream",
       "stream": "stdout",
       "text": [
        "0xf80002719730 M    215   ntoskrnl.exe!ExVerifySuite (nt!ExVerifySuite)     \n"
       ]
      },
      {
       "output_type": "stream",
       "stream": "stdout",
       "text": [
        "0xf800026476e0 M    216   ntoskrnl.exe!ExWaitForRundownProtectionRelease (nt!ExfWaitForRundownProtectionRelease)\n"
       ]
      },
      {
       "output_type": "stream",
       "stream": "stdout",
       "text": [
        "0xf80002638fa0 M    217   ntoskrnl.exe!ExWaitForRundownProtectionReleaseCacheAware (nt!ExWaitForRundownProtectionReleaseCacheAware)\n"
       ]
      },
      {
       "output_type": "stream",
       "stream": "stdout",
       "text": [
        "0xf80002834700 M    218   ntoskrnl.exe!ExWindowStationObjectType (nt!ExWindowStationObjectType)\n"
       ]
      },
      {
       "output_type": "stream",
       "stream": "stdout",
       "text": [
        "0xf800026c1500 M    219   ntoskrnl.exe!ExfAcquirePushLockExclusive (nt!ExfAcquirePushLockExclusive)\n"
       ]
      },
      {
       "output_type": "stream",
       "stream": "stdout",
       "text": [
        "0xf800026774d0 M    220   ntoskrnl.exe!ExfAcquirePushLockShared (nt!ExfAcquirePushLockShared)\n"
       ]
      },
      {
       "output_type": "stream",
       "stream": "stdout",
       "text": [
        "0xf800026665a0 M    221   ntoskrnl.exe!ExfReleasePushLock (nt!ExfReleasePushLock)\n"
       ]
      },
      {
       "output_type": "stream",
       "stream": "stdout",
       "text": [
        "0xf80002626750 M    222   ntoskrnl.exe!ExfReleasePushLockExclusive (nt!ExfReleasePushLockExclusive)\n"
       ]
      },
      {
       "output_type": "stream",
       "stream": "stdout",
       "text": [
        "0xf80002685680 M    223   ntoskrnl.exe!ExfReleasePushLockShared (nt!ExfReleasePushLockShared)\n"
       ]
      },
      {
       "output_type": "stream",
       "stream": "stdout",
       "text": [
        "0xf80002719670 M    224   ntoskrnl.exe!ExfTryAcquirePushLockShared (nt!ExfTryAcquirePushLockShared)\n"
       ]
      },
      {
       "output_type": "stream",
       "stream": "stdout",
       "text": [
        "0xf8000266dee8 M    225   ntoskrnl.exe!ExfTryToWakePushLock (nt!ExfTryToWakePushLock)\n"
       ]
      },
      {
       "output_type": "stream",
       "stream": "stdout",
       "text": [
        "0xf80002662384 M    226   ntoskrnl.exe!ExfUnblockPushLock (nt!ExfUnblockPushLock)\n"
       ]
      },
      {
       "output_type": "stream",
       "stream": "stdout",
       "text": [
        "0xf800026941f0 M    227   ntoskrnl.exe!ExpInterlockedFlushSList (nt!RtlpInterlockedFlushSList)\n"
       ]
      },
      {
       "output_type": "stream",
       "stream": "stdout",
       "text": [
        "0xf800026940e0 M    228   ntoskrnl.exe!ExpInterlockedPopEntrySList (nt!RtlpInterlockedPopEntrySList)\n"
       ]
      },
      {
       "output_type": "stream",
       "stream": "stdout",
       "text": [
        "0xf80002694160 M    229   ntoskrnl.exe!ExpInterlockedPushEntrySList (nt!RtlpInterlockedPushEntrySList)\n"
       ]
      },
      {
       "output_type": "stream",
       "stream": "stdout",
       "text": [
        "0xf800026940b0 M    230   ntoskrnl.exe!FirstEntrySList (nt!FirstEntrySList) \n"
       ]
      },
      {
       "output_type": "stream",
       "stream": "stdout",
       "text": [
        "0xf800029314e8 M    231   ntoskrnl.exe!FsRtlAcknowledgeEcp (nt!FsRtlAcknowledgeEcp)\n"
       ]
      },
      {
       "output_type": "stream",
       "stream": "stdout",
       "text": [
        "0xf80002ac2290 M    232   ntoskrnl.exe!FsRtlAcquireFileExclusive (nt!FsRtlAcquireFileExclusive)\n"
       ]
      },
      {
       "output_type": "stream",
       "stream": "stdout",
       "text": [
        "0xf800026619c4 M    233   ntoskrnl.exe!FsRtlAddBaseMcbEntry (nt!FsRtlAddBaseMcbEntry)\n"
       ]
      },
      {
       "output_type": "stream",
       "stream": "stdout",
       "text": [
        "0xf800026aa000 M    234   ntoskrnl.exe!FsRtlAddBaseMcbEntryEx (nt!FsRtlAddBaseMcbEntryEx)\n"
       ]
      },
      {
       "output_type": "stream",
       "stream": "stdout",
       "text": [
        "0xf800027b55e0 M    235   ntoskrnl.exe!FsRtlAddLargeMcbEntry (nt!FsRtlAddLargeMcbEntry)\n"
       ]
      },
      {
       "output_type": "stream",
       "stream": "stdout",
       "text": [
        "0xf800027b5720 M    236   ntoskrnl.exe!FsRtlAddMcbEntry (nt!FsRtlAddMcbEntry)\n"
       ]
      },
      {
       "output_type": "stream",
       "stream": "stdout",
       "text": [
        "0xf80002944e9c M    237   ntoskrnl.exe!FsRtlAddToTunnelCache (nt!FsRtlAddToTunnelCache)\n"
       ]
      },
      {
       "output_type": "stream",
       "stream": "stdout",
       "text": [
        "0xf80002931090 M    238   ntoskrnl.exe!FsRtlAllocateExtraCreateParameter (nt!FsRtlAllocateExtraCreateParameter)\n"
       ]
      },
      {
       "output_type": "stream",
       "stream": "stdout",
       "text": [
        "0xf80002940b84 M    239   ntoskrnl.exe!FsRtlAllocateExtraCreateParameterFromLookasideList (nt!FsRtlAllocateExtraCreateParameterFromLookasideList)\n"
       ]
      },
      {
       "output_type": "stream",
       "stream": "stdout",
       "text": [
        "0xf80002937980 M    240   ntoskrnl.exe!FsRtlAllocateExtraCreateParameterList (nt!FsRtlAllocateExtraCreateParameterList)\n"
       ]
      },
      {
       "output_type": "stream",
       "stream": "stdout",
       "text": [
        "0xf8000263d2f8 M    241   ntoskrnl.exe!FsRtlAllocateFileLock (nt!FsRtlAllocateFileLock)\n"
       ]
      },
      {
       "output_type": "stream",
       "stream": "stdout",
       "text": [
        "0xf800027b4c10 M    242   ntoskrnl.exe!FsRtlAllocatePool (nt!FsRtlAllocatePool)\n"
       ]
      },
      {
       "output_type": "stream",
       "stream": "stdout",
       "text": [
        "0xf800027850d0 M    243   ntoskrnl.exe!FsRtlAllocatePoolWithQuota (nt!FsRtlAllocatePoolWithQuota)\n"
       ]
      },
      {
       "output_type": "stream",
       "stream": "stdout",
       "text": [
        "0xf800027850a0 M    244   ntoskrnl.exe!FsRtlAllocatePoolWithQuotaTag (nt!FsRtlAllocatePoolWithQuotaTag)\n"
       ]
      },
      {
       "output_type": "stream",
       "stream": "stdout",
       "text": [
        "0xf800027b4be0 M    245   ntoskrnl.exe!FsRtlAllocatePoolWithTag (nt!FsRtlAllocatePoolWithTag)\n"
       ]
      },
      {
       "output_type": "stream",
       "stream": "stdout",
       "text": [
        "0xf80002a04540 M    246   ntoskrnl.exe!FsRtlAllocateResource (nt!FsRtlAllocateResource)\n"
       ]
      },
      {
       "output_type": "stream",
       "stream": "stdout",
       "text": [
        "0xf800026b2f20 M    247   ntoskrnl.exe!FsRtlAreNamesEqual (nt!RtlAreNamesEqual)\n"
       ]
      },
      {
       "output_type": "stream",
       "stream": "stdout",
       "text": [
        "0xf80002723190 M    248   ntoskrnl.exe!FsRtlAreThereCurrentOrInProgressFileLocks (nt!FsRtlAreThereCurrentOrInProgressFileLocks)\n"
       ]
      },
      {
       "output_type": "stream",
       "stream": "stdout",
       "text": [
        "0xf80002a04530 M    249   ntoskrnl.exe!FsRtlAreVolumeStartupApplicationsComplete (nt!FsRtlAreVolumeStartupApplicationsComplete)\n"
       ]
      },
      {
       "output_type": "stream",
       "stream": "stdout",
       "text": [
        "0xf800029b3b70 M    250   ntoskrnl.exe!FsRtlBalanceReads (nt!FsRtlBalanceReads)\n"
       ]
      },
      {
       "output_type": "stream",
       "stream": "stdout",
       "text": [
        "0xf80002930cd0 M    251   ntoskrnl.exe!FsRtlCancellableWaitForMultipleObjects (nt!FsRtlCancellableWaitForMultipleObjects)\n"
       ]
      },
      {
       "output_type": "stream",
       "stream": "stdout",
       "text": [
        "0xf80002930c90 M    252   ntoskrnl.exe!FsRtlCancellableWaitForSingleObject (nt!FsRtlCancellableWaitForSingleObject)\n"
       ]
      },
      {
       "output_type": "stream",
       "stream": "stdout",
       "text": [
        "0xf8000265915c M    253   ntoskrnl.exe!FsRtlChangeBackingFileObject (nt!FsRtlChangeBackingFileObject)\n"
       ]
      },
      {
       "output_type": "stream",
       "stream": "stdout",
       "text": [
        "0xf8000265734c M    254   ntoskrnl.exe!FsRtlCheckLockForReadAccess (nt!FsRtlCheckLockForReadAccess)\n"
       ]
      },
      {
       "output_type": "stream",
       "stream": "stdout",
       "text": [
        "0xf8000263fc1c M    255   ntoskrnl.exe!FsRtlCheckLockForWriteAccess (nt!FsRtlCheckLockForWriteAccess)\n"
       ]
      },
      {
       "output_type": "stream",
       "stream": "stdout",
       "text": [
        "0xf800026b9350 M    256   ntoskrnl.exe!FsRtlCheckOplock (nt!FsRtlCheckOplock)\n"
       ]
      },
      {
       "output_type": "stream",
       "stream": "stdout",
       "text": [
        "0xf800026b2fc0 M    257   ntoskrnl.exe!FsRtlCheckOplockEx (nt!FsRtlCheckOplockEx)\n"
       ]
      },
      {
       "output_type": "stream",
       "stream": "stdout",
       "text": [
        "0xf80002ae91f0 M    258   ntoskrnl.exe!FsRtlCopyRead (nt!FsRtlCopyRead)     \n"
       ]
      },
      {
       "output_type": "stream",
       "stream": "stdout",
       "text": [
        "0xf80002a890a0 M    259   ntoskrnl.exe!FsRtlCopyWrite (nt!FsRtlCopyWrite)   \n"
       ]
      },
      {
       "output_type": "stream",
       "stream": "stdout",
       "text": [
        "0xf800027b8260 M    260   ntoskrnl.exe!FsRtlCreateSectionForDataScan (nt!FsRtlCreateSectionForDataScan)\n"
       ]
      },
      {
       "output_type": "stream",
       "stream": "stdout",
       "text": [
        "0xf800029ab774 M    261   ntoskrnl.exe!FsRtlCurrentBatchOplock (nt!FsRtlCurrentBatchOplock)\n"
       ]
      },
      {
       "output_type": "stream",
       "stream": "stdout",
       "text": [
        "0xf800026de410 M    262   ntoskrnl.exe!FsRtlCurrentOplock (nt!FsRtlCurrentOplock)\n"
       ]
      },
      {
       "output_type": "stream",
       "stream": "stdout",
       "text": [
        "0xf80002a04300 M    263   ntoskrnl.exe!FsRtlCurrentOplockH (nt!FsRtlCurrentOplockH)\n"
       ]
      },
      {
       "output_type": "stream",
       "stream": "stdout",
       "text": [
        "0xf80002b0c8a0 M    264   ntoskrnl.exe!FsRtlDeleteExtraCreateParameterLookasideList (nt!FsRtlDeleteExtraCreateParameterLookasideList)\n"
       ]
      },
      {
       "output_type": "stream",
       "stream": "stdout",
       "text": [
        "0xf80002902010 M    265   ntoskrnl.exe!FsRtlDeleteKeyFromTunnelCache (nt!FsRtlDeleteKeyFromTunnelCache)\n"
       ]
      },
      {
       "output_type": "stream",
       "stream": "stdout",
       "text": [
        "0xf800029b3e30 M    266   ntoskrnl.exe!FsRtlDeleteTunnelCache (nt!FsRtlDeleteTunnelCache)\n"
       ]
      },
      {
       "output_type": "stream",
       "stream": "stdout",
       "text": [
        "0xf80002a1e7a0 M    267   ntoskrnl.exe!FsRtlDeregisterUncProvider (nt!FsRtlDeregisterUncProvider)\n"
       ]
      },
      {
       "output_type": "stream",
       "stream": "stdout",
       "text": [
        "0xf80002a04030 M    268   ntoskrnl.exe!FsRtlDissectDbcs (nt!FsRtlDissectDbcs)\n"
       ]
      },
      {
       "output_type": "stream",
       "stream": "stdout",
       "text": [
        "0xf800026b6190 M    269   ntoskrnl.exe!FsRtlDissectName (nt!RtlDissectName) \n"
       ]
      },
      {
       "output_type": "stream",
       "stream": "stdout",
       "text": [
        "0xf80002a03fc0 M    270   ntoskrnl.exe!FsRtlDoesDbcsContainWildCards (nt!FsRtlDoesDbcsContainWildCards)\n"
       ]
      },
      {
       "output_type": "stream",
       "stream": "stdout",
       "text": [
        "0xf800026d5a50 M    271   ntoskrnl.exe!FsRtlDoesNameContainWildCards (nt!RtlDoesNameContainWildCards)\n"
       ]
      },
      {
       "output_type": "stream",
       "stream": "stdout",
       "text": [
        "0xf8000273b040 M    272   ntoskrnl.exe!FsRtlFastCheckLockForRead (nt!FsRtlFastCheckLockForRead)\n"
       ]
      },
      {
       "output_type": "stream",
       "stream": "stdout",
       "text": [
        "0xf8000273ae10 M    273   ntoskrnl.exe!FsRtlFastCheckLockForWrite (nt!FsRtlFastCheckLockForWrite)\n"
       ]
      },
      {
       "output_type": "stream",
       "stream": "stdout",
       "text": [
        "0xf80002655de4 M    274   ntoskrnl.exe!FsRtlFastUnlockAll (nt!FsRtlFastUnlockAll)\n"
       ]
      },
      {
       "output_type": "stream",
       "stream": "stdout",
       "text": [
        "0xf800027953e0 M    275   ntoskrnl.exe!FsRtlFastUnlockAllByKey (nt!FsRtlFastUnlockAllByKey)\n"
       ]
      },
      {
       "output_type": "stream",
       "stream": "stdout",
       "text": [
        "0xf80002640828 M    276   ntoskrnl.exe!FsRtlFastUnlockSingle (nt!FsRtlFastUnlockSingle)\n"
       ]
      },
      {
       "output_type": "stream",
       "stream": "stdout",
       "text": [
        "0xf80002937750 M    277   ntoskrnl.exe!FsRtlFindExtraCreateParameter (nt!FsRtlFindExtraCreateParameter)\n"
       ]
      },
      {
       "output_type": "stream",
       "stream": "stdout",
       "text": [
        "0xf800029a2a78 M    278   ntoskrnl.exe!FsRtlFindInTunnelCache (nt!FsRtlFindInTunnelCache)\n"
       ]
      },
      {
       "output_type": "stream",
       "stream": "stdout",
       "text": [
        "0xf80002937ad0 M    279   ntoskrnl.exe!FsRtlFreeExtraCreateParameter (nt!FsRtlFreeExtraCreateParameter)\n"
       ]
      },
      {
       "output_type": "stream",
       "stream": "stdout",
       "text": [
        "0xf80002937b3c M    280   ntoskrnl.exe!FsRtlFreeExtraCreateParameterList (nt!FsRtlFreeExtraCreateParameterList)\n"
       ]
      },
      {
       "output_type": "stream",
       "stream": "stdout",
       "text": [
        "0xf800026dad00 M    281   ntoskrnl.exe!FsRtlFreeFileLock (nt!FsRtlFreeFileLock)\n"
       ]
      },
      {
       "output_type": "stream",
       "stream": "stdout",
       "text": [
        "0xf800029a2c20 M    282   ntoskrnl.exe!FsRtlGetEcpListFromIrp (nt!FsRtlGetEcpListFromIrp)\n"
       ]
      },
      {
       "output_type": "stream",
       "stream": "stdout",
       "text": [
        "0xf800029752c4 M    283   ntoskrnl.exe!FsRtlGetFileSize (nt!FsRtlGetFileSize)\n"
       ]
      },
      {
       "output_type": "stream",
       "stream": "stdout",
       "text": [
        "0xf800026aa5b0 M    284   ntoskrnl.exe!FsRtlGetNextBaseMcbEntry (nt!FsRtlGetNextBaseMcbEntry)\n"
       ]
      },
      {
       "output_type": "stream",
       "stream": "stdout",
       "text": [
        "0xf80002a04480 M    285   ntoskrnl.exe!FsRtlGetNextExtraCreateParameter (nt!FsRtlGetNextExtraCreateParameter)\n"
       ]
      },
      {
       "output_type": "stream",
       "stream": "stdout",
       "text": [
        "0xf800026571fc M    286   ntoskrnl.exe!FsRtlGetNextFileLock (nt!FsRtlGetNextFileLock)\n"
       ]
      },
      {
       "output_type": "stream",
       "stream": "stdout",
       "text": [
        "0xf80002799390 M    287   ntoskrnl.exe!FsRtlGetNextLargeMcbEntry (nt!FsRtlGetNextLargeMcbEntry)\n"
       ]
      },
      {
       "output_type": "stream",
       "stream": "stdout",
       "text": [
        "0xf800027999b0 M    288   ntoskrnl.exe!FsRtlGetNextMcbEntry (nt!FsRtlGetNextMcbEntry)\n"
       ]
      },
      {
       "output_type": "stream",
       "stream": "stdout",
       "text": [
        "0xf800026db664 M    289   ntoskrnl.exe!FsRtlGetVirtualDiskNestingLevel (nt!FsRtlGetVirtualDiskNestingLevel)\n"
       ]
      },
      {
       "output_type": "stream",
       "stream": "stdout",
       "text": [
        "0xf800027233b0 M    290   ntoskrnl.exe!FsRtlIncrementCcFastMdlReadWait (nt!FsRtlIncrementCcFastMdlReadWait)\n"
       ]
      },
      {
       "output_type": "stream",
       "stream": "stdout",
       "text": [
        "0xf800027233d0 M    291   ntoskrnl.exe!FsRtlIncrementCcFastReadNoWait (nt!FsRtlIncrementCcFastReadNoWait)\n"
       ]
      },
      {
       "output_type": "stream",
       "stream": "stdout",
       "text": [
        "0xf80002921890 M    292   ntoskrnl.exe!FsRtlIncrementCcFastReadNotPossible (nt!FsRtlIncrementCcFastReadNotPossible)\n"
       ]
      },
      {
       "output_type": "stream",
       "stream": "stdout",
       "text": [
        "0xf800027233c0 M    293   ntoskrnl.exe!FsRtlIncrementCcFastReadResourceMiss (nt!FsRtlIncrementCcFastReadResourceMiss)\n"
       ]
      },
      {
       "output_type": "stream",
       "stream": "stdout",
       "text": [
        "0xf800029acd70 M    294   ntoskrnl.exe!FsRtlIncrementCcFastReadWait (nt!FsRtlIncrementCcFastReadWait)\n"
       ]
      },
      {
       "output_type": "stream",
       "stream": "stdout",
       "text": [
        "0xf80002a47e30 M    295   ntoskrnl.exe!FsRtlInitExtraCreateParameterLookasideList (nt!FsRtlInitExtraCreateParameterLookasideList)\n"
       ]
      },
      {
       "output_type": "stream",
       "stream": "stdout",
       "text": [
        "0xf8000264f0a0 M    296   ntoskrnl.exe!FsRtlInitializeBaseMcb (nt!FsRtlInitializeBaseMcb)\n"
       ]
      },
      {
       "output_type": "stream",
       "stream": "stdout",
       "text": [
        "0xf800026c6ee4 M    297   ntoskrnl.exe!FsRtlInitializeBaseMcbEx (nt!FsRtlInitializeBaseMcbEx)\n"
       ]
      },
      {
       "output_type": "stream",
       "stream": "stdout",
       "text": [
        "0xf80002a0f950 M    298   ntoskrnl.exe!FsRtlInitializeExtraCreateParameter (nt!FsRtlInitializeExtraCreateParameter)\n"
       ]
      },
      {
       "output_type": "stream",
       "stream": "stdout",
       "text": [
        "0xf80002a0f9a0 M    299   ntoskrnl.exe!FsRtlInitializeExtraCreateParameterList (nt!FsRtlInitializeExtraCreateParameterList)\n"
       ]
      },
      {
       "output_type": "stream",
       "stream": "stdout",
       "text": [
        "0xf80002655cb4 M    300   ntoskrnl.exe!FsRtlInitializeFileLock (nt!FsRtlInitializeFileLock)\n"
       ]
      },
      {
       "output_type": "stream",
       "stream": "stdout",
       "text": [
        "0xf80002668658 M    301   ntoskrnl.exe!FsRtlInitializeLargeMcb (nt!FsRtlInitializeLargeMcb)\n"
       ]
      },
      {
       "output_type": "stream",
       "stream": "stdout",
       "text": [
        "0xf80002ae8d10 M    302   ntoskrnl.exe!FsRtlInitializeMcb (nt!FsRtlInitializeMcb)\n"
       ]
      },
      {
       "output_type": "stream",
       "stream": "stdout",
       "text": [
        "0xf800029a3a30 M    303   ntoskrnl.exe!FsRtlInitializeOplock (nt!FsRtlInitializeOplock)\n"
       ]
      },
      {
       "output_type": "stream",
       "stream": "stdout",
       "text": [
        "0xf800029b3db8 M    304   ntoskrnl.exe!FsRtlInitializeTunnelCache (nt!FsRtlInitializeTunnelCache)\n"
       ]
      },
      {
       "output_type": "stream",
       "stream": "stdout",
       "text": [
        "0xf80002937908 M    305   ntoskrnl.exe!FsRtlInsertExtraCreateParameter (nt!FsRtlInsertExtraCreateParameter)\n"
       ]
      },
      {
       "output_type": "stream",
       "stream": "stdout",
       "text": [
        "0xf800027ac420 M    306   ntoskrnl.exe!FsRtlInsertPerFileContext (nt!FsRtlInsertPerFileContext)\n"
       ]
      },
      {
       "output_type": "stream",
       "stream": "stdout",
       "text": [
        "0xf8000265b420 M    307   ntoskrnl.exe!FsRtlInsertPerFileObjectContext (nt!FsRtlInsertPerFileObjectContext)\n"
       ]
      },
      {
       "output_type": "stream",
       "stream": "stdout",
       "text": [
        "0xf8000264cf30 M    308   ntoskrnl.exe!FsRtlInsertPerStreamContext (nt!FsRtlInsertPerStreamContext)\n"
       ]
      },
      {
       "output_type": "stream",
       "stream": "stdout",
       "text": [
        "0xf80002a923a0 M    309   ntoskrnl.exe!FsRtlIsDbcsInExpression (nt!FsRtlIsDbcsInExpression)\n"
       ]
      },
      {
       "output_type": "stream",
       "stream": "stdout",
       "text": [
        "0xf80002a04470 M    310   ntoskrnl.exe!FsRtlIsEcpAcknowledged (nt!FsRtlIsEcpAcknowledged)\n"
       ]
      },
      {
       "output_type": "stream",
       "stream": "stdout",
       "text": [
        "0xf80002944e8c M    311   ntoskrnl.exe!FsRtlIsEcpFromUserMode (nt!FsRtlIsEcpFromUserMode)\n"
       ]
      },
      {
       "output_type": "stream",
       "stream": "stdout",
       "text": [
        "0xf8000294abbc M    312   ntoskrnl.exe!FsRtlIsFatDbcsLegal (nt!FsRtlIsFatDbcsLegal)\n"
       ]
      },
      {
       "output_type": "stream",
       "stream": "stdout",
       "text": [
        "0xf80002a04100 M    313   ntoskrnl.exe!FsRtlIsHpfsDbcsLegal (nt!FsRtlIsHpfsDbcsLegal)\n"
       ]
      },
      {
       "output_type": "stream",
       "stream": "stdout",
       "text": [
        "0xf800026d7a30 M    314   ntoskrnl.exe!FsRtlIsNameInExpression (nt!RtlIsNameInExpression)\n"
       ]
      },
      {
       "output_type": "stream",
       "stream": "stdout",
       "text": [
        "0xf800026db934 M    315   ntoskrnl.exe!FsRtlIsNtstatusExpected (nt!FsRtlIsNtstatusExpected)\n"
       ]
      },
      {
       "output_type": "stream",
       "stream": "stdout",
       "text": [
        "0xf80002722ff0 M    316   ntoskrnl.exe!FsRtlIsPagingFile (nt!FsRtlIsPagingFile)\n"
       ]
      },
      {
       "output_type": "stream",
       "stream": "stdout",
       "text": [
        "0xf80002723150 M    317   ntoskrnl.exe!FsRtlIsTotalDeviceFailure (nt!FsRtlIsTotalDeviceFailure)\n"
       ]
      },
      {
       "output_type": "stream",
       "stream": "stdout",
       "text": [
        "0xf800027ccc08 M    318   ntoskrnl.exe!FsRtlLegalAnsiCharacterArray (nt!FsRtlLegalAnsiCharacterArray)\n"
       ]
      },
      {
       "output_type": "stream",
       "stream": "stdout",
       "text": [
        "0xf80002a3f2e0 M    319   ntoskrnl.exe!FsRtlLogCcFlushError (nt!FsRtlLogCcFlushError)\n"
       ]
      },
      {
       "output_type": "stream",
       "stream": "stdout",
       "text": [
        "0xf800026a6b30 M    320   ntoskrnl.exe!FsRtlLookupBaseMcbEntry (nt!FsRtlLookupBaseMcbEntry)\n"
       ]
      },
      {
       "output_type": "stream",
       "stream": "stdout",
       "text": [
        "0xf80002799790 M    321   ntoskrnl.exe!FsRtlLookupLargeMcbEntry (nt!FsRtlLookupLargeMcbEntry)\n"
       ]
      },
      {
       "output_type": "stream",
       "stream": "stdout",
       "text": [
        "0xf800026bdd8c M    322   ntoskrnl.exe!FsRtlLookupLastBaseMcbEntry (nt!FsRtlLookupLastBaseMcbEntry)\n"
       ]
      },
      {
       "output_type": "stream",
       "stream": "stdout",
       "text": [
        "0xf800027232f0 M    323   ntoskrnl.exe!FsRtlLookupLastBaseMcbEntryAndIndex (nt!FsRtlLookupLastBaseMcbEntryAndIndex)\n"
       ]
      },
      {
       "output_type": "stream",
       "stream": "stdout",
       "text": [
        "0xf80002799660 M    324   ntoskrnl.exe!FsRtlLookupLastLargeMcbEntry (nt!FsRtlLookupLastLargeMcbEntry)\n"
       ]
      },
      {
       "output_type": "stream",
       "stream": "stdout",
       "text": [
        "0xf80002799520 M    325   ntoskrnl.exe!FsRtlLookupLastLargeMcbEntryAndIndex (nt!FsRtlLookupLastLargeMcbEntryAndIndex)\n"
       ]
      },
      {
       "output_type": "stream",
       "stream": "stdout",
       "text": [
        "0xf80002799a30 M    326   ntoskrnl.exe!FsRtlLookupLastMcbEntry (nt!FsRtlLookupLastMcbEntry)\n"
       ]
      },
      {
       "output_type": "stream",
       "stream": "stdout",
       "text": [
        "0xf80002799a80 M    327   ntoskrnl.exe!FsRtlLookupMcbEntry (nt!FsRtlLookupMcbEntry)\n"
       ]
      },
      {
       "output_type": "stream",
       "stream": "stdout",
       "text": [
        "0xf80002780630 M    328   ntoskrnl.exe!FsRtlLookupPerFileContext (nt!FsRtlLookupPerFileContext)\n"
       ]
      },
      {
       "output_type": "stream",
       "stream": "stdout",
       "text": [
        "0xf800026a8c00 M    329   ntoskrnl.exe!FsRtlLookupPerFileObjectContext (nt!FsRtlLookupPerFileObjectContext)\n"
       ]
      },
      {
       "output_type": "stream",
       "stream": "stdout",
       "text": [
        "0xf80002670d08 M    330   ntoskrnl.exe!FsRtlLookupPerStreamContextInternal (nt!FsRtlLookupPerStreamContextInternal)\n"
       ]
      },
      {
       "output_type": "stream",
       "stream": "stdout",
       "text": [
        "0xf80002a18f70 M    331   ntoskrnl.exe!FsRtlMdlRead (nt!FsRtlMdlRead)       \n"
       ]
      },
      {
       "output_type": "stream",
       "stream": "stdout",
       "text": [
        "0xf80002740a30 M    332   ntoskrnl.exe!FsRtlMdlReadComplete (nt!FsRtlMdlReadComplete)\n"
       ]
      },
      {
       "output_type": "stream",
       "stream": "stdout",
       "text": [
        "0xf800026613fc M    333   ntoskrnl.exe!FsRtlMdlReadCompleteDev (nt!FsRtlMdlReadCompleteDev)\n"
       ]
      },
      {
       "output_type": "stream",
       "stream": "stdout",
       "text": [
        "0xf80002af8b80 M    334   ntoskrnl.exe!FsRtlMdlReadDev (nt!FsRtlMdlReadDev) \n"
       ]
      },
      {
       "output_type": "stream",
       "stream": "stdout",
       "text": [
        "0xf80002a18e80 M    335   ntoskrnl.exe!FsRtlMdlWriteComplete (nt!FsRtlMdlWriteComplete)\n"
       ]
      },
      {
       "output_type": "stream",
       "stream": "stdout",
       "text": [
        "0xf80002945fa0 M    336   ntoskrnl.exe!FsRtlMdlWriteCompleteDev (nt!FsRtlMdlWriteCompleteDev)\n"
       ]
      },
      {
       "output_type": "stream",
       "stream": "stdout",
       "text": [
        "0xf80002a04330 M    337   ntoskrnl.exe!FsRtlMupGetProviderIdFromName (nt!FsRtlMupGetProviderIdFromName)\n"
       ]
      },
      {
       "output_type": "stream",
       "stream": "stdout",
       "text": [
        "0xf80002a04360 M    338   ntoskrnl.exe!FsRtlMupGetProviderInfoFromFileObject (nt!FsRtlMupGetProviderInfoFromFileObject)\n"
       ]
      },
      {
       "output_type": "stream",
       "stream": "stdout",
       "text": [
        "0xf80002723170 M    339   ntoskrnl.exe!FsRtlNormalizeNtstatus (nt!FsRtlNormalizeNtstatus)\n"
       ]
      },
      {
       "output_type": "stream",
       "stream": "stdout",
       "text": [
        "0xf80002ae9190 M    340   ntoskrnl.exe!FsRtlNotifyChangeDirectory (nt!FsRtlNotifyChangeDirectory)\n"
       ]
      },
      {
       "output_type": "stream",
       "stream": "stdout",
       "text": [
        "0xf800028e46dc M    341   ntoskrnl.exe!FsRtlNotifyCleanup (nt!FsRtlNotifyCleanup)\n"
       ]
      },
      {
       "output_type": "stream",
       "stream": "stdout",
       "text": [
        "0xf80002ae9570 M    342   ntoskrnl.exe!FsRtlNotifyCleanupAll (nt!FsRtlNotifyCleanupAll)\n"
       ]
      },
      {
       "output_type": "stream",
       "stream": "stdout",
       "text": [
        "0xf80002901c48 M    343   ntoskrnl.exe!FsRtlNotifyFilterChangeDirectory (nt!FsRtlNotifyFilterChangeDirectory)\n"
       ]
      },
      {
       "output_type": "stream",
       "stream": "stdout",
       "text": [
        "0xf800029a1fbc M    344   ntoskrnl.exe!FsRtlNotifyFilterReportChange (nt!FsRtlNotifyFilterReportChange)\n"
       ]
      },
      {
       "output_type": "stream",
       "stream": "stdout",
       "text": [
        "0xf80002ae9120 M    345   ntoskrnl.exe!FsRtlNotifyFullChangeDirectory (nt!FsRtlNotifyFullChangeDirectory)\n"
       ]
      },
      {
       "output_type": "stream",
       "stream": "stdout",
       "text": [
        "0xf80002ae8c60 M    346   ntoskrnl.exe!FsRtlNotifyFullReportChange (nt!FsRtlNotifyFullReportChange)\n"
       ]
      },
      {
       "output_type": "stream",
       "stream": "stdout",
       "text": [
        "0xf800029b3bec M    347   ntoskrnl.exe!FsRtlNotifyInitializeSync (nt!FsRtlNotifyInitializeSync)\n"
       ]
      },
      {
       "output_type": "stream",
       "stream": "stdout",
       "text": [
        "0xf80002ae8cc0 M    348   ntoskrnl.exe!FsRtlNotifyReportChange (nt!FsRtlNotifyReportChange)\n"
       ]
      },
      {
       "output_type": "stream",
       "stream": "stdout",
       "text": [
        "0xf800029b3dfc M    349   ntoskrnl.exe!FsRtlNotifyUninitializeSync (nt!FsRtlNotifyUninitializeSync)\n"
       ]
      },
      {
       "output_type": "stream",
       "stream": "stdout",
       "text": [
        "0xf800029b2e80 M    350   ntoskrnl.exe!FsRtlNotifyVolumeEvent (nt!FsRtlNotifyVolumeEvent)\n"
       ]
      },
      {
       "output_type": "stream",
       "stream": "stdout",
       "text": [
        "0xf800028fdea4 M    351   ntoskrnl.exe!FsRtlNotifyVolumeEventEx (nt!FsRtlNotifyVolumeEventEx)\n"
       ]
      },
      {
       "output_type": "stream",
       "stream": "stdout",
       "text": [
        "0xf800026a9130 M    352   ntoskrnl.exe!FsRtlNumberOfRunsInBaseMcb (nt!KeReadStateQueue)\n"
       ]
      },
      {
       "output_type": "stream",
       "stream": "stdout",
       "text": [
        "0xf80002799470 M    353   ntoskrnl.exe!FsRtlNumberOfRunsInLargeMcb (nt!FsRtlNumberOfRunsInLargeMcb)\n"
       ]
      },
      {
       "output_type": "stream",
       "stream": "stdout",
       "text": [
        "0xf80002799a20 M    354   ntoskrnl.exe!FsRtlNumberOfRunsInMcb (nt!FsRtlNumberOfRunsInMcb)\n"
       ]
      },
      {
       "output_type": "stream",
       "stream": "stdout",
       "text": [
        "0xf80002922e48 M    355   ntoskrnl.exe!FsRtlOplockBreakH (nt!FsRtlOplockBreakH)\n"
       ]
      },
      {
       "output_type": "stream",
       "stream": "stdout",
       "text": [
        "0xf800027a0f80 M    356   ntoskrnl.exe!FsRtlOplockBreakToNone (nt!FsRtlOplockBreakToNone)\n"
       ]
      },
      {
       "output_type": "stream",
       "stream": "stdout",
       "text": [
        "0xf800027a0dc0 M    357   ntoskrnl.exe!FsRtlOplockBreakToNoneEx (nt!FsRtlOplockBreakToNoneEx)\n"
       ]
      },
      {
       "output_type": "stream",
       "stream": "stdout",
       "text": [
        "0xf80002ab8c80 M    358   ntoskrnl.exe!FsRtlOplockFsctrl (nt!FsRtlOplockFsctrl)\n"
       ]
      },
      {
       "output_type": "stream",
       "stream": "stdout",
       "text": [
        "0xf80002922740 M    359   ntoskrnl.exe!FsRtlOplockFsctrlEx (nt!FsRtlOplockFsctrlEx)\n"
       ]
      },
      {
       "output_type": "stream",
       "stream": "stdout",
       "text": [
        "0xf80002993cd0 M    360   ntoskrnl.exe!FsRtlOplockIsFastIoPossible (nt!FsRtlOplockIsFastIoPossible)\n"
       ]
      },
      {
       "output_type": "stream",
       "stream": "stdout",
       "text": [
        "0xf800029228ec M    361   ntoskrnl.exe!FsRtlOplockIsSharedRequest (nt!FsRtlOplockIsSharedRequest)\n"
       ]
      },
      {
       "output_type": "stream",
       "stream": "stdout",
       "text": [
        "0xf80002648fc4 M    362   ntoskrnl.exe!FsRtlOplockKeysEqual (nt!FsRtlOplockKeysEqual)\n"
       ]
      },
      {
       "output_type": "stream",
       "stream": "stdout",
       "text": [
        "0xf800027b5f80 M    363   ntoskrnl.exe!FsRtlPostPagingFileStackOverflow (nt!FsRtlPostPagingFileStackOverflow)\n"
       ]
      },
      {
       "output_type": "stream",
       "stream": "stdout",
       "text": [
        "0xf800027b5f90 M    364   ntoskrnl.exe!FsRtlPostStackOverflow (nt!FsRtlPostStackOverflow)\n"
       ]
      },
      {
       "output_type": "stream",
       "stream": "stdout",
       "text": [
        "0xf80002a18ef0 M    365   ntoskrnl.exe!FsRtlPrepareMdlWrite (nt!FsRtlPrepareMdlWrite)\n"
       ]
      },
      {
       "output_type": "stream",
       "stream": "stdout",
       "text": [
        "0xf80002af9870 M    366   ntoskrnl.exe!FsRtlPrepareMdlWriteDev (nt!FsRtlPrepareMdlWriteDev)\n"
       ]
      },
      {
       "output_type": "stream",
       "stream": "stdout",
       "text": [
        "0xf8000263fce0 M    367   ntoskrnl.exe!FsRtlPrivateLock (nt!FsRtlPrivateLock)\n"
       ]
      },
      {
       "output_type": "stream",
       "stream": "stdout",
       "text": [
        "0xf80002641140 M    368   ntoskrnl.exe!FsRtlProcessFileLock (nt!FsRtlProcessFileLock)\n"
       ]
      },
      {
       "output_type": "stream",
       "stream": "stdout",
       "text": [
        "0xf8000272dc00 M    369   ntoskrnl.exe!FsRtlQueryMaximumVirtualDiskNestingLevel (nt!FsRtlQueryMaximumVirtualDiskNestingLevel)\n"
       ]
      },
      {
       "output_type": "stream",
       "stream": "stdout",
       "text": [
        "0xf80002798500 M    370   ntoskrnl.exe!FsRtlRegisterFileSystemFilterCallbacks (nt!FsRtlRegisterFileSystemFilterCallbacks)\n"
       ]
      },
      {
       "output_type": "stream",
       "stream": "stdout",
       "text": [
        "0xf80002a04520 M    371   ntoskrnl.exe!FsRtlRegisterFltMgrCalls (nt!FsRtlRegisterFltMgrCalls)\n"
       ]
      },
      {
       "output_type": "stream",
       "stream": "stdout",
       "text": [
        "0xf80002a04390 M    372   ntoskrnl.exe!FsRtlRegisterMupCalls (nt!FsRtlRegisterMupCalls)\n"
       ]
      },
      {
       "output_type": "stream",
       "stream": "stdout",
       "text": [
        "0xf80002af36e0 M    373   ntoskrnl.exe!FsRtlRegisterUncProvider (nt!FsRtlRegisterUncProvider)\n"
       ]
      },
      {
       "output_type": "stream",
       "stream": "stdout",
       "text": [
        "0xf80002af3700 M    374   ntoskrnl.exe!FsRtlRegisterUncProviderEx (nt!FsRtlRegisterUncProviderEx)\n"
       ]
      },
      {
       "output_type": "stream",
       "stream": "stdout",
       "text": [
        "0xf800029804b0 M    375   ntoskrnl.exe!FsRtlReleaseFile (nt!FsRtlReleaseFile)\n"
       ]
      },
      {
       "output_type": "stream",
       "stream": "stdout",
       "text": [
        "0xf80002661600 M    376   ntoskrnl.exe!FsRtlRemoveBaseMcbEntry (nt!FsRtlRemoveBaseMcbEntry)\n"
       ]
      },
      {
       "output_type": "stream",
       "stream": "stdout",
       "text": [
        "0xf800028e9100 M    377   ntoskrnl.exe!FsRtlRemoveDotsFromPath (nt!FsRtlRemoveDotsFromPath)\n"
       ]
      },
      {
       "output_type": "stream",
       "stream": "stdout",
       "text": [
        "0xf800029377f4 M    378   ntoskrnl.exe!FsRtlRemoveExtraCreateParameter (nt!FsRtlRemoveExtraCreateParameter)\n"
       ]
      },
      {
       "output_type": "stream",
       "stream": "stdout",
       "text": [
        "0xf800027b5050 M    379   ntoskrnl.exe!FsRtlRemoveLargeMcbEntry (nt!FsRtlRemoveLargeMcbEntry)\n"
       ]
      },
      {
       "output_type": "stream",
       "stream": "stdout",
       "text": [
        "0xf800027b5180 M    380   ntoskrnl.exe!FsRtlRemoveMcbEntry (nt!FsRtlRemoveMcbEntry)\n"
       ]
      },
      {
       "output_type": "stream",
       "stream": "stdout",
       "text": [
        "0xf80002781300 M    381   ntoskrnl.exe!FsRtlRemovePerFileContext (nt!FsRtlRemovePerFileContext)\n"
       ]
      },
      {
       "output_type": "stream",
       "stream": "stdout",
       "text": [
        "0xf8000265ba00 M    382   ntoskrnl.exe!FsRtlRemovePerFileObjectContext (nt!FsRtlRemovePerFileObjectContext)\n"
       ]
      },
      {
       "output_type": "stream",
       "stream": "stdout",
       "text": [
        "0xf80002781120 M    383   ntoskrnl.exe!FsRtlRemovePerStreamContext (nt!FsRtlRemovePerStreamContext)\n"
       ]
      },
      {
       "output_type": "stream",
       "stream": "stdout",
       "text": [
        "0xf8000269d184 M    384   ntoskrnl.exe!FsRtlResetBaseMcb (nt!KeClearEvent)  \n"
       ]
      },
      {
       "output_type": "stream",
       "stream": "stdout",
       "text": [
        "0xf80002799900 M    385   ntoskrnl.exe!FsRtlResetLargeMcb (nt!FsRtlResetLargeMcb)\n"
       ]
      },
      {
       "output_type": "stream",
       "stream": "stdout",
       "text": [
        "0xf80002903ac4 M    386   ntoskrnl.exe!FsRtlSetEcpListIntoIrp (nt!FsRtlSetEcpListIntoIrp)\n"
       ]
      },
      {
       "output_type": "stream",
       "stream": "stdout",
       "text": [
        "0xf800027b4c40 M    387   ntoskrnl.exe!FsRtlSplitBaseMcb (nt!FsRtlSplitBaseMcb)\n"
       ]
      },
      {
       "output_type": "stream",
       "stream": "stdout",
       "text": [
        "0xf800027b4f20 M    388   ntoskrnl.exe!FsRtlSplitLargeMcb (nt!FsRtlSplitLargeMcb)\n"
       ]
      },
      {
       "output_type": "stream",
       "stream": "stdout",
       "text": [
        "0xf80002915560 M    389   ntoskrnl.exe!FsRtlSyncVolumes (nt!xHalGetInterruptTranslator)\n"
       ]
      },
      {
       "output_type": "stream",
       "stream": "stdout",
       "text": [
        "0xf8000297d5d8 M    390   ntoskrnl.exe!FsRtlTeardownPerFileContexts (nt!FsRtlTeardownPerFileContexts)\n"
       ]
      },
      {
       "output_type": "stream",
       "stream": "stdout",
       "text": [
        "0xf8000297d38c M    391   ntoskrnl.exe!FsRtlTeardownPerStreamContexts (nt!FsRtlTeardownPerStreamContexts)\n"
       ]
      },
      {
       "output_type": "stream",
       "stream": "stdout",
       "text": [
        "0xf80002661a2c M    392   ntoskrnl.exe!FsRtlTruncateBaseMcb (nt!FsRtlTruncateBaseMcb)\n"
       ]
      },
      {
       "output_type": "stream",
       "stream": "stdout",
       "text": [
        "0xf800026db790 M    393   ntoskrnl.exe!FsRtlTruncateLargeMcb (nt!FsRtlTruncateLargeMcb)\n"
       ]
      },
      {
       "output_type": "stream",
       "stream": "stdout",
       "text": [
        "0xf8000279ef40 M    394   ntoskrnl.exe!FsRtlTruncateMcb (nt!FsRtlTruncateMcb)\n"
       ]
      },
      {
       "output_type": "stream",
       "stream": "stdout",
       "text": [
        "0xf80002667448 M    395   ntoskrnl.exe!FsRtlUninitializeBaseMcb (nt!FsRtlUninitializeBaseMcb)\n"
       ]
      },
      {
       "output_type": "stream",
       "stream": "stdout",
       "text": [
        "0xf8000265706c M    396   ntoskrnl.exe!FsRtlUninitializeFileLock (nt!FsRtlUninitializeFileLock)\n"
       ]
      },
      {
       "output_type": "stream",
       "stream": "stdout",
       "text": [
        "0xf8000266869c M    397   ntoskrnl.exe!FsRtlUninitializeLargeMcb (nt!FsRtlUninitializeLargeMcb)\n"
       ]
      },
      {
       "output_type": "stream",
       "stream": "stdout",
       "text": [
        "0xf80002a98310 M    398   ntoskrnl.exe!FsRtlUninitializeMcb (nt!FsRtlUninitializeMcb)\n"
       ]
      },
      {
       "output_type": "stream",
       "stream": "stdout",
       "text": [
        "0xf80002679e1c M    399   ntoskrnl.exe!FsRtlUninitializeOplock (nt!FsRtlUninitializeOplock)\n"
       ]
      },
      {
       "output_type": "stream",
       "stream": "stdout",
       "text": [
        "0xf80002722e00 M    400   ntoskrnl.exe!FsRtlValidateReparsePointBuffer (nt!FsRtlValidateReparsePointBuffer)\n"
       ]
      },
      {
       "output_type": "stream",
       "stream": "stdout",
       "text": [
        "0xf80002808c30 M    401   ntoskrnl.exe!HalDispatchTable (nt!HalDispatchTable)\n"
       ]
      },
      {
       "output_type": "stream",
       "stream": "stdout",
       "text": [
        "0xf800026dab90 M    402   ntoskrnl.exe!HalExamineMBR (nt!HalExamineMBR)     \n"
       ]
      },
      {
       "output_type": "stream",
       "stream": "stdout",
       "text": [
        "0xf80002808cf0 M    403   ntoskrnl.exe!HalPrivateDispatchTable (nt!HalPrivateDispatchTable)\n"
       ]
      },
      {
       "output_type": "stream",
       "stream": "stdout",
       "text": [
        "0xf80002786540 M    404   ntoskrnl.exe!HeadlessDispatch (nt!HeadlessDispatch)\n"
       ]
      },
      {
       "output_type": "stream",
       "stream": "stdout",
       "text": [
        "0xf80002722d80 M    405   ntoskrnl.exe!HvlQueryConnection (nt!HvlQueryConnection)\n"
       ]
      },
      {
       "output_type": "stream",
       "stream": "stdout",
       "text": [
        "0xf80002722c40 M    406   ntoskrnl.exe!InbvAcquireDisplayOwnership (nt!InbvAcquireDisplayOwnership)\n"
       ]
      },
      {
       "output_type": "stream",
       "stream": "stdout",
       "text": [
        "0xf80002722c20 M    407   ntoskrnl.exe!InbvCheckDisplayOwnership (nt!InbvCheckDisplayOwnership)\n"
       ]
      },
      {
       "output_type": "stream",
       "stream": "stdout",
       "text": [
        "0xf80002786770 M    408   ntoskrnl.exe!InbvDisplayString (nt!InbvDisplayString)\n"
       ]
      },
      {
       "output_type": "stream",
       "stream": "stdout",
       "text": [
        "0xf800027409a0 M    409   ntoskrnl.exe!InbvEnableBootDriver (nt!InbvEnableBootDriver)\n"
       ]
      },
      {
       "output_type": "stream",
       "stream": "stdout",
       "text": [
        "0xf80002722cc0 M    410   ntoskrnl.exe!InbvEnableDisplayString (nt!InbvEnableDisplayString)\n"
       ]
      },
      {
       "output_type": "stream",
       "stream": "stdout",
       "text": [
        "0xf80002722ca0 M    411   ntoskrnl.exe!InbvInstallDisplayStringFilter (nt!InbvInstallDisplayStringFilter)\n"
       ]
      },
      {
       "output_type": "stream",
       "stream": "stdout",
       "text": [
        "0xf80002722cb0 M    412   ntoskrnl.exe!InbvIsBootDriverInstalled (nt!InbvIsBootDriverInstalled)\n"
       ]
      },
      {
       "output_type": "stream",
       "stream": "stdout",
       "text": [
        "0xf800027b5fd0 M    413   ntoskrnl.exe!InbvNotifyDisplayOwnershipLost (nt!InbvNotifyDisplayOwnershipLost)\n"
       ]
      },
      {
       "output_type": "stream",
       "stream": "stdout",
       "text": [
        "0xf80002737080 M    414   ntoskrnl.exe!InbvResetDisplay (nt!InbvResetDisplay)\n"
       ]
      },
      {
       "output_type": "stream",
       "stream": "stdout",
       "text": [
        "0xf80002722bf0 M    415   ntoskrnl.exe!InbvSetScrollRegion (nt!InbvSetScrollRegion)\n"
       ]
      },
      {
       "output_type": "stream",
       "stream": "stdout",
       "text": [
        "0xf80002786800 M    416   ntoskrnl.exe!InbvSetTextColor (nt!InbvSetTextColor)\n"
       ]
      },
      {
       "output_type": "stream",
       "stream": "stdout",
       "text": [
        "0xf80002740880 M    417   ntoskrnl.exe!InbvSolidColorFill (nt!InbvSolidColorFill)\n"
       ]
      },
      {
       "output_type": "stream",
       "stream": "stdout",
       "text": [
        "0xf800028964b0 M    418   ntoskrnl.exe!InitSafeBootMode (nt!InitSafeBootMode)\n"
       ]
      },
      {
       "output_type": "stream",
       "stream": "stdout",
       "text": [
        "0xf80002653f38 M    419   ntoskrnl.exe!InitializeSListHead (nt!InitializeSListHead)\n"
       ]
      },
      {
       "output_type": "stream",
       "stream": "stdout",
       "text": [
        "0xf800026b6d20 M    420   ntoskrnl.exe!IoAcquireCancelSpinLock (nt!IoAcquireCancelSpinLock)\n"
       ]
      },
      {
       "output_type": "stream",
       "stream": "stdout",
       "text": [
        "0xf800026a2ae8 M    421   ntoskrnl.exe!IoAcquireRemoveLockEx (nt!IoAcquireRemoveLockEx)\n"
       ]
      },
      {
       "output_type": "stream",
       "stream": "stdout",
       "text": [
        "0xf80002637db0 M    422   ntoskrnl.exe!IoAcquireVpbSpinLock (nt!IoAcquireVpbSpinLock)\n"
       ]
      },
      {
       "output_type": "stream",
       "stream": "stdout",
       "text": [
        "0xf800028c7838 M    423   ntoskrnl.exe!IoAdapterObjectType (nt!IoAdapterObjectType)\n"
       ]
      },
      {
       "output_type": "stream",
       "stream": "stdout",
       "text": [
        "0xf8000273a370 M    424   ntoskrnl.exe!IoAdjustStackSizeForRedirection (nt!IoAdjustStackSizeForRedirection)\n"
       ]
      },
      {
       "output_type": "stream",
       "stream": "stdout",
       "text": [
        "0xf800027229a0 M    425   ntoskrnl.exe!IoAllocateAdapterChannel (nt!IoAllocateAdapterChannel)\n"
       ]
      },
      {
       "output_type": "stream",
       "stream": "stdout",
       "text": [
        "0xf80002743ca0 M    426   ntoskrnl.exe!IoAllocateController (nt!IoAllocateController)\n"
       ]
      },
      {
       "output_type": "stream",
       "stream": "stdout",
       "text": [
        "0xf8000279d350 M    427   ntoskrnl.exe!IoAllocateDriverObjectExtension (nt!IoAllocateDriverObjectExtension)\n"
       ]
      },
      {
       "output_type": "stream",
       "stream": "stdout",
       "text": [
        "0xf800026db980 M    428   ntoskrnl.exe!IoAllocateErrorLogEntry (nt!IoAllocateErrorLogEntry)\n"
       ]
      },
      {
       "output_type": "stream",
       "stream": "stdout",
       "text": [
        "0xf800026a80e0 M    429   ntoskrnl.exe!IoAllocateIrp (nt!IoAllocateIrp)     \n"
       ]
      },
      {
       "output_type": "stream",
       "stream": "stdout",
       "text": [
        "0xf800026a0b70 M    430   ntoskrnl.exe!IoAllocateMdl (nt!IoAllocateMdl)     \n"
       ]
      },
      {
       "output_type": "stream",
       "stream": "stdout",
       "text": [
        "0xf800029782e0 M    431   ntoskrnl.exe!IoAllocateMiniCompletionPacket (nt!IoAllocateMiniCompletionPacket)\n"
       ]
      },
      {
       "output_type": "stream",
       "stream": "stdout",
       "text": [
        "0xf800027a3d50 M    432   ntoskrnl.exe!IoAllocateSfioStreamIdentifier (nt!IoAllocateSfioStreamIdentifier)\n"
       ]
      },
      {
       "output_type": "stream",
       "stream": "stdout",
       "text": [
        "0xf800026d2144 M    433   ntoskrnl.exe!IoAllocateWorkItem (nt!IoAllocateWorkItem)\n"
       ]
      },
      {
       "output_type": "stream",
       "stream": "stdout",
       "text": [
        "0xf8000277ca90 M    434   ntoskrnl.exe!IoApplyPriorityInfoThread (nt!IoApplyPriorityInfoThread)\n"
       ]
      },
      {
       "output_type": "stream",
       "stream": "stdout",
       "text": [
        "0xf80002a74e60 M    435   ntoskrnl.exe!IoAssignResources (nt!IoAssignResources)\n"
       ]
      },
      {
       "output_type": "stream",
       "stream": "stdout",
       "text": [
        "0xf80002ab2c00 M    436   ntoskrnl.exe!IoAttachDevice (nt!IoAttachDevice)   \n"
       ]
      },
      {
       "output_type": "stream",
       "stream": "stdout",
       "text": [
        "0xf80002747b90 M    437   ntoskrnl.exe!IoAttachDeviceByPointer (nt!IoAttachDeviceByPointer)\n"
       ]
      },
      {
       "output_type": "stream",
       "stream": "stdout",
       "text": [
        "0xf80002747b80 M    438   ntoskrnl.exe!IoAttachDeviceToDeviceStack (nt!IoAttachDeviceToDeviceStack)\n"
       ]
      },
      {
       "output_type": "stream",
       "stream": "stdout",
       "text": [
        "0xf80002639220 M    439   ntoskrnl.exe!IoAttachDeviceToDeviceStackSafe (nt!IoAttachDeviceToDeviceStackSafe)\n"
       ]
      },
      {
       "output_type": "stream",
       "stream": "stdout",
       "text": [
        "0xf800026861d0 M    440   ntoskrnl.exe!IoBuildAsynchronousFsdRequest (nt!IoBuildAsynchronousFsdRequest)\n"
       ]
      },
      {
       "output_type": "stream",
       "stream": "stdout",
       "text": [
        "0xf80002979b00 M    441   ntoskrnl.exe!IoBuildDeviceIoControlRequest (nt!IoBuildDeviceIoControlRequest)\n"
       ]
      },
      {
       "output_type": "stream",
       "stream": "stdout",
       "text": [
        "0xf80002680530 M    442   ntoskrnl.exe!IoBuildPartialMdl (nt!IoBuildPartialMdl)\n"
       ]
      },
      {
       "output_type": "stream",
       "stream": "stdout",
       "text": [
        "0xf800028fcec0 M    443   ntoskrnl.exe!IoBuildSynchronousFsdRequest (nt!IoBuildSynchronousFsdRequest)\n"
       ]
      },
      {
       "output_type": "stream",
       "stream": "stdout",
       "text": [
        "0xf80002792a80 M    444   ntoskrnl.exe!IoCallDriver (nt!ViFilterIoCallDriver)\n"
       ]
      },
      {
       "output_type": "stream",
       "stream": "stdout",
       "text": [
        "0xf80002a5bfd0 M    445   ntoskrnl.exe!IoCancelFileOpen (nt!IoCancelFileOpen)\n"
       ]
      },
      {
       "output_type": "stream",
       "stream": "stdout",
       "text": [
        "0xf80002642c70 M    446   ntoskrnl.exe!IoCancelIrp (nt!IoCancelIrp)         \n"
       ]
      },
      {
       "output_type": "stream",
       "stream": "stdout",
       "text": [
        "0xf800029218a0 M    447   ntoskrnl.exe!IoCheckDesiredAccess (nt!IoCheckDesiredAccess)\n"
       ]
      },
      {
       "output_type": "stream",
       "stream": "stdout",
       "text": [
        "0xf8000294af70 M    448   ntoskrnl.exe!IoCheckEaBufferValidity (nt!IoCheckEaBufferValidity)\n"
       ]
      },
      {
       "output_type": "stream",
       "stream": "stdout",
       "text": [
        "0xf80002922920 M    449   ntoskrnl.exe!IoCheckFunctionAccess (nt!IoCheckFunctionAccess)\n"
       ]
      },
      {
       "output_type": "stream",
       "stream": "stdout",
       "text": [
        "0xf80002922ad0 M    450   ntoskrnl.exe!IoCheckQuerySetFileInformation (nt!IoCheckQuerySetFileInformation)\n"
       ]
      },
      {
       "output_type": "stream",
       "stream": "stdout",
       "text": [
        "0xf800028e9340 M    451   ntoskrnl.exe!IoCheckQuerySetVolumeInformation (nt!IoCheckQuerySetVolumeInformation)\n"
       ]
      },
      {
       "output_type": "stream",
       "stream": "stdout",
       "text": [
        "0xf80002a039e0 M    452   ntoskrnl.exe!IoCheckQuotaBufferValidity (nt!IoCheckQuotaBufferValidity)\n"
       ]
      },
      {
       "output_type": "stream",
       "stream": "stdout",
       "text": [
        "0xf80002972410 M    453   ntoskrnl.exe!IoCheckShareAccess (nt!IoCheckShareAccess)\n"
       ]
      },
      {
       "output_type": "stream",
       "stream": "stdout",
       "text": [
        "0xf80002972250 M    454   ntoskrnl.exe!IoCheckShareAccessEx (nt!IoCheckShareAccessEx)\n"
       ]
      },
      {
       "output_type": "stream",
       "stream": "stdout",
       "text": [
        "0xf80002a435b0 M    455   ntoskrnl.exe!IoClearDependency (nt!IoClearDependency)\n"
       ]
      },
      {
       "output_type": "stream",
       "stream": "stdout",
       "text": [
        "0xf80002722840 M    456   ntoskrnl.exe!IoClearIrpExtraCreateParameter (nt!IoClearIrpExtraCreateParameter)\n"
       ]
      },
      {
       "output_type": "stream",
       "stream": "stdout",
       "text": [
        "0xf80002792030 M    457   ntoskrnl.exe!IoCompleteRequest (nt!IoCompleteRequest)\n"
       ]
      },
      {
       "output_type": "stream",
       "stream": "stdout",
       "text": [
        "0xf80002a91c10 M    458   ntoskrnl.exe!IoConnectInterrupt (nt!IoConnectInterrupt)\n"
       ]
      },
      {
       "output_type": "stream",
       "stream": "stdout",
       "text": [
        "0xf80002ac6b20 M    459   ntoskrnl.exe!IoConnectInterruptEx (nt!IoConnectInterruptEx)\n"
       ]
      },
      {
       "output_type": "stream",
       "stream": "stdout",
       "text": [
        "0xf80002af3730 M    460   ntoskrnl.exe!IoCreateArcName (nt!IoCreateArcName) \n"
       ]
      },
      {
       "output_type": "stream",
       "stream": "stdout",
       "text": [
        "0xf80002a81d70 M    461   ntoskrnl.exe!IoCreateController (nt!IoCreateController)\n"
       ]
      },
      {
       "output_type": "stream",
       "stream": "stdout",
       "text": [
        "0xf800028fd050 M    462   ntoskrnl.exe!IoCreateDevice (nt!IoCreateDevice)   \n"
       ]
      },
      {
       "output_type": "stream",
       "stream": "stdout",
       "text": [
        "0xf80002af3570 M    463   ntoskrnl.exe!IoCreateDisk (nt!IoCreateDisk)       \n"
       ]
      },
      {
       "output_type": "stream",
       "stream": "stdout",
       "text": [
        "0xf80002a72db0 M    464   ntoskrnl.exe!IoCreateDriver (nt!IoCreateDriver)   \n"
       ]
      },
      {
       "output_type": "stream",
       "stream": "stdout",
       "text": [
        "0xf800029532e0 M    465   ntoskrnl.exe!IoCreateFile (nt!IoCreateFile)       \n"
       ]
      },
      {
       "output_type": "stream",
       "stream": "stdout",
       "text": [
        "0xf80002938490 M    466   ntoskrnl.exe!IoCreateFileEx (nt!IoCreateFileEx)   \n"
       ]
      },
      {
       "output_type": "stream",
       "stream": "stdout",
       "text": [
        "0xf80002916c00 M    467   ntoskrnl.exe!IoCreateFileSpecifyDeviceObjectHint (nt!IoCreateFileSpecifyDeviceObjectHint)\n"
       ]
      },
      {
       "output_type": "stream",
       "stream": "stdout",
       "text": [
        "0xf80002aa6800 M    468   ntoskrnl.exe!IoCreateNotificationEvent (nt!IoCreateNotificationEvent)\n"
       ]
      },
      {
       "output_type": "stream",
       "stream": "stdout",
       "text": [
        "0xf80002b0c890 M    469   ntoskrnl.exe!IoCreateStreamFileObject (nt!IoCreateStreamFileObject)\n"
       ]
      },
      {
       "output_type": "stream",
       "stream": "stdout",
       "text": [
        "0xf800029b35d0 M    470   ntoskrnl.exe!IoCreateStreamFileObjectEx (nt!IoCreateStreamFileObjectEx)\n"
       ]
      },
      {
       "output_type": "stream",
       "stream": "stdout",
       "text": [
        "0xf800029a5840 M    471   ntoskrnl.exe!IoCreateStreamFileObjectLite (nt!IoCreateStreamFileObjectLite)\n"
       ]
      },
      {
       "output_type": "stream",
       "stream": "stdout",
       "text": [
        "0xf80002a03970 M    472   ntoskrnl.exe!IoCreateSymbolicLink (nt!IoCreateSymbolicLink)\n"
       ]
      },
      {
       "output_type": "stream",
       "stream": "stdout",
       "text": [
        "0xf80002aa6750 M    473   ntoskrnl.exe!IoCreateSynchronizationEvent (nt!IoCreateSynchronizationEvent)\n"
       ]
      },
      {
       "output_type": "stream",
       "stream": "stdout",
       "text": [
        "0xf80002a03910 M    474   ntoskrnl.exe!IoCreateUnprotectedSymbolicLink (nt!IoCreateUnprotectedSymbolicLink)\n"
       ]
      },
      {
       "output_type": "stream",
       "stream": "stdout",
       "text": [
        "0xf80002722790 M    475   ntoskrnl.exe!IoCsqInitialize (nt!IoCsqInitialize) \n"
       ]
      },
      {
       "output_type": "stream",
       "stream": "stdout",
       "text": [
        "0xf80002722750 M    476   ntoskrnl.exe!IoCsqInitializeEx (nt!IoCsqInitializeEx)\n"
       ]
      },
      {
       "output_type": "stream",
       "stream": "stdout",
       "text": [
        "0xf80002745e50 M    477   ntoskrnl.exe!IoCsqInsertIrp (nt!IoCsqInsertIrp)   \n"
       ]
      },
      {
       "output_type": "stream",
       "stream": "stdout",
       "text": [
        "0xf80002743920 M    478   ntoskrnl.exe!IoCsqInsertIrpEx (nt!IoCsqInsertIrpEx)\n"
       ]
      },
      {
       "output_type": "stream",
       "stream": "stdout",
       "text": [
        "0xf80002722640 M    479   ntoskrnl.exe!IoCsqRemoveIrp (nt!IoCsqRemoveIrp)   \n"
       ]
      },
      {
       "output_type": "stream",
       "stream": "stdout",
       "text": [
        "0xf800027226c0 M    480   ntoskrnl.exe!IoCsqRemoveNextIrp (nt!IoCsqRemoveNextIrp)\n"
       ]
      },
      {
       "output_type": "stream",
       "stream": "stdout",
       "text": [
        "0xf800028fde08 M    481   ntoskrnl.exe!IoDeleteAllDependencyRelations (nt!IoDeleteAllDependencyRelations)\n"
       ]
      },
      {
       "output_type": "stream",
       "stream": "stdout",
       "text": [
        "0xf80002a89720 M    482   ntoskrnl.exe!IoDeleteController (nt!PsQuitNextProcess)\n"
       ]
      },
      {
       "output_type": "stream",
       "stream": "stdout",
       "text": [
        "0xf800026379b0 M    483   ntoskrnl.exe!IoDeleteDevice (nt!IoDeleteDevice)   \n"
       ]
      },
      {
       "output_type": "stream",
       "stream": "stdout",
       "text": [
        "0xf80002a89720 M    484   ntoskrnl.exe!IoDeleteDriver (nt!PsQuitNextProcess)\n"
       ]
      },
      {
       "output_type": "stream",
       "stream": "stdout",
       "text": [
        "0xf80002a038a0 M    485   ntoskrnl.exe!IoDeleteSymbolicLink (nt!IoDeleteSymbolicLink)\n"
       ]
      },
      {
       "output_type": "stream",
       "stream": "stdout",
       "text": [
        "0xf80002638da0 M    486   ntoskrnl.exe!IoDetachDevice (nt!IoDetachDevice)   \n"
       ]
      },
      {
       "output_type": "stream",
       "stream": "stdout",
       "text": [
        "0xf800028c78f8 M    487   ntoskrnl.exe!IoDeviceHandlerObjectSize (nt!IoDeviceHandlerObjectSize)\n"
       ]
      },
      {
       "output_type": "stream",
       "stream": "stdout",
       "text": [
        "0xf800028c85e0 M    488   ntoskrnl.exe!IoDeviceHandlerObjectType (nt!IoDeviceHandlerObjectType)\n"
       ]
      },
      {
       "output_type": "stream",
       "stream": "stdout",
       "text": [
        "0xf800028c7540 M    489   ntoskrnl.exe!IoDeviceObjectType (nt!IoDeviceObjectType)\n"
       ]
      },
      {
       "output_type": "stream",
       "stream": "stdout",
       "text": [
        "0xf80002a91550 M    490   ntoskrnl.exe!IoDisconnectInterrupt (nt!IoDisconnectInterrupt)\n"
       ]
      },
      {
       "output_type": "stream",
       "stream": "stdout",
       "text": [
        "0xf80002a91610 M    491   ntoskrnl.exe!IoDisconnectInterruptEx (nt!IoDisconnectInterruptEx)\n"
       ]
      },
      {
       "output_type": "stream",
       "stream": "stdout",
       "text": [
        "0xf800028c7178 M    492   ntoskrnl.exe!IoDriverObjectType (nt!IoDriverObjectType)\n"
       ]
      },
      {
       "output_type": "stream",
       "stream": "stdout",
       "text": [
        "0xf80002ac4e20 M    493   ntoskrnl.exe!IoDuplicateDependency (nt!IoDuplicateDependency)\n"
       ]
      },
      {
       "output_type": "stream",
       "stream": "stdout",
       "text": [
        "0xf80002a1d300 M    494   ntoskrnl.exe!IoEnqueueIrp (nt!IoEnqueueIrp)       \n"
       ]
      },
      {
       "output_type": "stream",
       "stream": "stdout",
       "text": [
        "0xf80002759d50 M    495   ntoskrnl.exe!IoEnumerateDeviceObjectList (nt!IoEnumerateDeviceObjectList)\n"
       ]
      },
      {
       "output_type": "stream",
       "stream": "stdout",
       "text": [
        "0xf80002a85e40 M    496   ntoskrnl.exe!IoEnumerateRegisteredFiltersList (nt!IoEnumerateRegisteredFiltersList)\n"
       ]
      },
      {
       "output_type": "stream",
       "stream": "stdout",
       "text": [
        "0xf80002a5b970 M    497   ntoskrnl.exe!IoFastQueryNetworkAttributes (nt!IoFastQueryNetworkAttributes)\n"
       ]
      },
      {
       "output_type": "stream",
       "stream": "stdout",
       "text": [
        "0xf800028c7048 M    498   ntoskrnl.exe!IoFileObjectType (nt!IoFileObjectType)\n"
       ]
      },
      {
       "output_type": "stream",
       "stream": "stdout",
       "text": [
        "0xf800029b2f1c M    499   ntoskrnl.exe!IoForwardAndCatchIrp (nt!IoForwardIrpSynchronously)\n"
       ]
      },
      {
       "output_type": "stream",
       "stream": "stdout",
       "text": [
        "0xf800029b2f1c M    500   ntoskrnl.exe!IoForwardIrpSynchronously (nt!IoForwardIrpSynchronously)\n"
       ]
      },
      {
       "output_type": "stream",
       "stream": "stdout",
       "text": [
        "0xf80002743c60 M    501   ntoskrnl.exe!IoFreeController (nt!IoFreeController)\n"
       ]
      },
      {
       "output_type": "stream",
       "stream": "stdout",
       "text": [
        "0xf800026dc220 M    502   ntoskrnl.exe!IoFreeErrorLogEntry (nt!IoFreeErrorLogEntry)\n"
       ]
      },
      {
       "output_type": "stream",
       "stream": "stdout",
       "text": [
        "0xf800026a7f70 M    503   ntoskrnl.exe!IoFreeIrp (nt!IoFreeIrp)             \n"
       ]
      },
      {
       "output_type": "stream",
       "stream": "stdout",
       "text": [
        "0xf800026a67e0 M    504   ntoskrnl.exe!IoFreeMdl (nt!IoFreeMdl)             \n"
       ]
      },
      {
       "output_type": "stream",
       "stream": "stdout",
       "text": [
        "0xf8000291f600 M    505   ntoskrnl.exe!IoFreeMiniCompletionPacket (nt!IoFreeMiniCompletionPacket)\n"
       ]
      },
      {
       "output_type": "stream",
       "stream": "stdout",
       "text": [
        "0xf8000279d1c0 M    506   ntoskrnl.exe!IoFreeSfioStreamIdentifier (nt!IoFreeSfioStreamIdentifier)\n"
       ]
      },
      {
       "output_type": "stream",
       "stream": "stdout",
       "text": [
        "0xf800026d219c M    507   ntoskrnl.exe!IoFreeWorkItem (nt!IoFreeWorkItem)   \n"
       ]
      },
      {
       "output_type": "stream",
       "stream": "stdout",
       "text": [
        "0xf80002722380 M    508   ntoskrnl.exe!IoGetAffinityInterrupt (nt!IoGetAffinityInterrupt)\n"
       ]
      },
      {
       "output_type": "stream",
       "stream": "stdout",
       "text": [
        "0xf800026d56e0 M    509   ntoskrnl.exe!IoGetAttachedDevice (nt!IoGetAttachedDevice)\n"
       ]
      },
      {
       "output_type": "stream",
       "stream": "stdout",
       "text": [
        "0xf80002674040 M    510   ntoskrnl.exe!IoGetAttachedDeviceReference (nt!IoGetAttachedDeviceReference)\n"
       ]
      },
      {
       "output_type": "stream",
       "stream": "stdout",
       "text": [
        "0xf800026a8480 M    511   ntoskrnl.exe!IoGetBaseFileSystemDeviceObject (nt!IoGetBaseFileSystemDeviceObject)\n"
       ]
      },
      {
       "output_type": "stream",
       "stream": "stdout",
       "text": [
        "0xf80002af0db0 M    512   ntoskrnl.exe!IoGetBootDiskInformation (nt!IoGetBootDiskInformation)\n"
       ]
      },
      {
       "output_type": "stream",
       "stream": "stdout",
       "text": [
        "0xf80002a92370 M    513   ntoskrnl.exe!IoGetBootDiskInformationLite (nt!IoGetBootDiskInformationLite)\n"
       ]
      },
      {
       "output_type": "stream",
       "stream": "stdout",
       "text": [
        "0xf80002a03890 M    514   ntoskrnl.exe!IoGetConfigurationInformation (nt!IoGetConfigurationInformation)\n"
       ]
      },
      {
       "output_type": "stream",
       "stream": "stdout",
       "text": [
        "0xf80002a89a00 M    515   ntoskrnl.exe!IoGetContainerInformation (nt!IoGetContainerInformation)\n"
       ]
      },
      {
       "output_type": "stream",
       "stream": "stdout",
       "text": [
        "0xf800026b7bd0 M    516   ntoskrnl.exe!IoGetCurrentProcess (nt!PsGetCurrentProcess)\n"
       ]
      },
      {
       "output_type": "stream",
       "stream": "stdout",
       "text": [
        "0xf80002655b70 M    517   ntoskrnl.exe!IoGetDeviceAttachmentBaseRef (nt!IoGetDeviceAttachmentBaseRef)\n"
       ]
      },
      {
       "output_type": "stream",
       "stream": "stdout",
       "text": [
        "0xf80002acef20 M    518   ntoskrnl.exe!IoGetDeviceInterfaceAlias (nt!IoGetDeviceInterfaceAlias)\n"
       ]
      },
      {
       "output_type": "stream",
       "stream": "stdout",
       "text": [
        "0xf80002a58ab0 M    519   ntoskrnl.exe!IoGetDeviceInterfaces (nt!IoGetDeviceInterfaces)\n"
       ]
      },
      {
       "output_type": "stream",
       "stream": "stdout",
       "text": [
        "0xf80002a033d0 M    520   ntoskrnl.exe!IoGetDeviceNumaNode (nt!IoGetDeviceNumaNode)\n"
       ]
      },
      {
       "output_type": "stream",
       "stream": "stdout",
       "text": [
        "0xf80002979840 M    521   ntoskrnl.exe!IoGetDeviceObjectPointer (nt!IoGetDeviceObjectPointer)\n"
       ]
      },
      {
       "output_type": "stream",
       "stream": "stdout",
       "text": [
        "0xf80002901698 M    522   ntoskrnl.exe!IoGetDeviceProperty (nt!IoGetDeviceProperty)\n"
       ]
      },
      {
       "output_type": "stream",
       "stream": "stdout",
       "text": [
        "0xf800028ff500 M    523   ntoskrnl.exe!IoGetDevicePropertyData (nt!IoGetDevicePropertyData)\n"
       ]
      },
      {
       "output_type": "stream",
       "stream": "stdout",
       "text": [
        "0xf80002722990 M    524   ntoskrnl.exe!IoGetDeviceToVerify (nt!IoGetDeviceToVerify)\n"
       ]
      },
      {
       "output_type": "stream",
       "stream": "stdout",
       "text": [
        "0xf80002759cc0 M    525   ntoskrnl.exe!IoGetDiskDeviceObject (nt!IoGetDiskDeviceObject)\n"
       ]
      },
      {
       "output_type": "stream",
       "stream": "stdout",
       "text": [
        "0xf80002af5610 M    526   ntoskrnl.exe!IoGetDmaAdapter (nt!IoGetDmaAdapter) \n"
       ]
      },
      {
       "output_type": "stream",
       "stream": "stdout",
       "text": [
        "0xf80002638ee0 M    527   ntoskrnl.exe!IoGetDriverObjectExtension (nt!IoGetDriverObjectExtension)\n"
       ]
      },
      {
       "output_type": "stream",
       "stream": "stdout",
       "text": [
        "0xf80002993cc0 M    528   ntoskrnl.exe!IoGetFileObjectGenericMapping (nt!IoGetFileObjectGenericMapping)\n"
       ]
      },
      {
       "output_type": "stream",
       "stream": "stdout",
       "text": [
        "0xf80002a14660 M    529   ntoskrnl.exe!IoGetInitialStack (nt!IoGetInitialStack)\n"
       ]
      },
      {
       "output_type": "stream",
       "stream": "stdout",
       "text": [
        "0xf800026a04a0 M    530   ntoskrnl.exe!IoGetIoPriorityHint (nt!IoGetIoPriorityHint)\n"
       ]
      },
      {
       "output_type": "stream",
       "stream": "stdout",
       "text": [
        "0xf80002931160 M    531   ntoskrnl.exe!IoGetIrpExtraCreateParameter (nt!IoGetIrpExtraCreateParameter)\n"
       ]
      },
      {
       "output_type": "stream",
       "stream": "stdout",
       "text": [
        "0xf80002638e20 M    532   ntoskrnl.exe!IoGetLowerDeviceObject (nt!IoGetLowerDeviceObject)\n"
       ]
      },
      {
       "output_type": "stream",
       "stream": "stdout",
       "text": [
        "0xf80002722820 M    533   ntoskrnl.exe!IoGetOplockKeyContext (nt!IoGetOplockKeyContext)\n"
       ]
      },
      {
       "output_type": "stream",
       "stream": "stdout",
       "text": [
        "0xf8000267d9a0 M    534   ntoskrnl.exe!IoGetPagingIoPriority (nt!IoGetPagingIoPriority)\n"
       ]
      },
      {
       "output_type": "stream",
       "stream": "stdout",
       "text": [
        "0xf800026a04e0 M    535   ntoskrnl.exe!IoGetRelatedDeviceObject (nt!IoGetRelatedDeviceObject)\n"
       ]
      },
      {
       "output_type": "stream",
       "stream": "stdout",
       "text": [
        "0xf80002666260 M    536   ntoskrnl.exe!IoGetRequestorProcess (nt!IoGetRequestorProcess)\n"
       ]
      },
      {
       "output_type": "stream",
       "stream": "stdout",
       "text": [
        "0xf8000263fc60 M    537   ntoskrnl.exe!IoGetRequestorProcessId (nt!IoGetRequestorProcessId)\n"
       ]
      },
      {
       "output_type": "stream",
       "stream": "stdout",
       "text": [
        "0xf8000272d8f0 M    538   ntoskrnl.exe!IoGetRequestorSessionId (nt!IoGetRequestorSessionId)\n"
       ]
      },
      {
       "output_type": "stream",
       "stream": "stdout",
       "text": [
        "0xf80002680470 M    539   ntoskrnl.exe!IoGetSfioStreamIdentifier (nt!IoGetSfioStreamIdentifier)\n"
       ]
      },
      {
       "output_type": "stream",
       "stream": "stdout",
       "text": [
        "0xf800026861a0 M    540   ntoskrnl.exe!IoGetStackLimits (nt!IoGetStackLimits)\n"
       ]
      },
      {
       "output_type": "stream",
       "stream": "stdout",
       "text": [
        "0xf80002a035c0 M    541   ntoskrnl.exe!IoGetSymlinkSupportInformation (nt!IoGetSymlinkSupportInformation)\n"
       ]
      },
      {
       "output_type": "stream",
       "stream": "stdout",
       "text": [
        "0xf800026a69f0 M    542   ntoskrnl.exe!IoGetTopLevelIrp (nt!IoGetTopLevelIrp)\n"
       ]
      },
      {
       "output_type": "stream",
       "stream": "stdout",
       "text": [
        "0xf800026a7f50 M    543   ntoskrnl.exe!IoGetTransactionParameterBlock (nt!IoGetTransactionParameterBlock)\n"
       ]
      },
      {
       "output_type": "stream",
       "stream": "stdout",
       "text": [
        "0xf80002651a10 M    544   ntoskrnl.exe!IoInitializeIrp (nt!IoInitializeIrp) \n"
       ]
      },
      {
       "output_type": "stream",
       "stream": "stdout",
       "text": [
        "0xf8000272d660 M    545   ntoskrnl.exe!IoInitializeRemoveLockEx (nt!IoInitializeRemoveLockEx)\n"
       ]
      },
      {
       "output_type": "stream",
       "stream": "stdout",
       "text": [
        "0xf80002a8ba70 M    546   ntoskrnl.exe!IoInitializeTimer (nt!IoInitializeTimer)\n"
       ]
      },
      {
       "output_type": "stream",
       "stream": "stdout",
       "text": [
        "0xf800026412b0 M    547   ntoskrnl.exe!IoInitializeWorkItem (nt!IoInitializeWorkItem)\n"
       ]
      },
      {
       "output_type": "stream",
       "stream": "stdout",
       "text": [
        "0xf80002791970 M    548   ntoskrnl.exe!IoInvalidateDeviceRelations (nt!IoInvalidateDeviceRelations)\n"
       ]
      },
      {
       "output_type": "stream",
       "stream": "stdout",
       "text": [
        "0xf800027917e0 M    549   ntoskrnl.exe!IoInvalidateDeviceState (nt!IoInvalidateDeviceState)\n"
       ]
      },
      {
       "output_type": "stream",
       "stream": "stdout",
       "text": [
        "0xf8000265ab90 M    550   ntoskrnl.exe!IoIs32bitProcess (nt!IoIs32bitProcess)\n"
       ]
      },
      {
       "output_type": "stream",
       "stream": "stdout",
       "text": [
        "0xf80002a03810 M    551   ntoskrnl.exe!IoIsFileObjectIgnoringSharing (nt!IoIsFileObjectIgnoringSharing)\n"
       ]
      },
      {
       "output_type": "stream",
       "stream": "stdout",
       "text": [
        "0xf800027228a0 M    552   ntoskrnl.exe!IoIsFileOriginRemote (nt!IoIsFileOriginRemote)\n"
       ]
      },
      {
       "output_type": "stream",
       "stream": "stdout",
       "text": [
        "0xf800026a6060 M    553   ntoskrnl.exe!IoIsOperationSynchronous (nt!IoIsOperationSynchronous)\n"
       ]
      },
      {
       "output_type": "stream",
       "stream": "stdout",
       "text": [
        "0xf80002722970 M    554   ntoskrnl.exe!IoIsSystemThread (nt!IoIsSystemThread)\n"
       ]
      },
      {
       "output_type": "stream",
       "stream": "stdout",
       "text": [
        "0xf80002a91ee0 M    555   ntoskrnl.exe!IoIsValidNameGraftingBuffer (nt!IoIsValidNameGraftingBuffer)\n"
       ]
      },
      {
       "output_type": "stream",
       "stream": "stdout",
       "text": [
        "0xf80002a03440 M    556   ntoskrnl.exe!IoIsWdmVersionAvailable (nt!IoIsWdmVersionAvailable)\n"
       ]
      },
      {
       "output_type": "stream",
       "stream": "stdout",
       "text": [
        "0xf80002675570 M    557   ntoskrnl.exe!IoMakeAssociatedIrp (nt!IoMakeAssociatedIrp)\n"
       ]
      },
      {
       "output_type": "stream",
       "stream": "stdout",
       "text": [
        "0xf80002a84f00 M    558   ntoskrnl.exe!IoOpenDeviceInterfaceRegistryKey (nt!IoOpenDeviceInterfaceRegistryKey)\n"
       ]
      },
      {
       "output_type": "stream",
       "stream": "stdout",
       "text": [
        "0xf80002901460 M    559   ntoskrnl.exe!IoOpenDeviceRegistryKey (nt!IoOpenDeviceRegistryKey)\n"
       ]
      },
      {
       "output_type": "stream",
       "stream": "stdout",
       "text": [
        "0xf80002682800 M    560   ntoskrnl.exe!IoPageRead (nt!IoPageRead)           \n"
       ]
      },
      {
       "output_type": "stream",
       "stream": "stdout",
       "text": [
        "0xf80002aafbb0 M    561   ntoskrnl.exe!IoQueryDeviceDescription (nt!IoQueryDeviceDescription)\n"
       ]
      },
      {
       "output_type": "stream",
       "stream": "stdout",
       "text": [
        "0xf80002950380 M    562   ntoskrnl.exe!IoQueryFileDosDeviceName (nt!IoQueryFileDosDeviceName)\n"
       ]
      },
      {
       "output_type": "stream",
       "stream": "stdout",
       "text": [
        "0xf800028e3c10 M    563   ntoskrnl.exe!IoQueryFileInformation (nt!IoQueryFileInformation)\n"
       ]
      },
      {
       "output_type": "stream",
       "stream": "stdout",
       "text": [
        "0xf80002a5b670 M    564   ntoskrnl.exe!IoQueryVolumeInformation (nt!IoQueryVolumeInformation)\n"
       ]
      },
      {
       "output_type": "stream",
       "stream": "stdout",
       "text": [
        "0xf80002648670 M    565   ntoskrnl.exe!IoQueueThreadIrp (nt!IoQueueThreadIrp)\n"
       ]
      },
      {
       "output_type": "stream",
       "stream": "stdout",
       "text": [
        "0xf800026a2800 M    566   ntoskrnl.exe!IoQueueWorkItem (nt!IoQueueWorkItem) \n"
       ]
      },
      {
       "output_type": "stream",
       "stream": "stdout",
       "text": [
        "0xf80002662814 M    567   ntoskrnl.exe!IoQueueWorkItemEx (nt!IoQueueWorkItemEx)\n"
       ]
      },
      {
       "output_type": "stream",
       "stream": "stdout",
       "text": [
        "0xf800027a2c20 M    568   ntoskrnl.exe!IoRaiseHardError (nt!IoRaiseHardError)\n"
       ]
      },
      {
       "output_type": "stream",
       "stream": "stdout",
       "text": [
        "0xf800027509c0 M    569   ntoskrnl.exe!IoRaiseInformationalHardError (nt!IoRaiseInformationalHardError)\n"
       ]
      },
      {
       "output_type": "stream",
       "stream": "stdout",
       "text": [
        "0xf80002af0fa0 M    570   ntoskrnl.exe!IoReadDiskSignature (nt!IoReadDiskSignature)\n"
       ]
      },
      {
       "output_type": "stream",
       "stream": "stdout",
       "text": [
        "0xf80002894008 M    571   ntoskrnl.exe!IoReadOperationCount (nt!IoReadOperationCount)\n"
       ]
      },
      {
       "output_type": "stream",
       "stream": "stdout",
       "text": [
        "0xf800029b22d0 M    572   ntoskrnl.exe!IoReadPartitionTable (nt!IoReadPartitionTable)\n"
       ]
      },
      {
       "output_type": "stream",
       "stream": "stdout",
       "text": [
        "0xf800029b215c M    573   ntoskrnl.exe!IoReadPartitionTableEx (nt!IoReadPartitionTableEx)\n"
       ]
      },
      {
       "output_type": "stream",
       "stream": "stdout",
       "text": [
        "0xf80002893ff8 M    574   ntoskrnl.exe!IoReadTransferCount (nt!IoReadTransferCount)\n"
       ]
      },
      {
       "output_type": "stream",
       "stream": "stdout",
       "text": [
        "0xf80002a8d740 M    575   ntoskrnl.exe!IoRegisterBootDriverReinitialization (nt!IoRegisterBootDriverReinitialization)\n"
       ]
      },
      {
       "output_type": "stream",
       "stream": "stdout",
       "text": [
        "0xf80002acc4f0 M    576   ntoskrnl.exe!IoRegisterContainerNotification (nt!IoRegisterContainerNotification)\n"
       ]
      },
      {
       "output_type": "stream",
       "stream": "stdout",
       "text": [
        "0xf80002a84e00 M    577   ntoskrnl.exe!IoRegisterDeviceInterface (nt!IoRegisterDeviceInterface)\n"
       ]
      },
      {
       "output_type": "stream",
       "stream": "stdout",
       "text": [
        "0xf80002a8d6c0 M    578   ntoskrnl.exe!IoRegisterDriverReinitialization (nt!IoRegisterDriverReinitialization)\n"
       ]
      },
      {
       "output_type": "stream",
       "stream": "stdout",
       "text": [
        "0xf80002a83ce0 M    579   ntoskrnl.exe!IoRegisterFileSystem (nt!IoRegisterFileSystem)\n"
       ]
      },
      {
       "output_type": "stream",
       "stream": "stdout",
       "text": [
        "0xf80002ac9ca0 M    580   ntoskrnl.exe!IoRegisterFsRegistrationChange (nt!IoRegisterFsRegistrationChange)\n"
       ]
      },
      {
       "output_type": "stream",
       "stream": "stdout",
       "text": [
        "0xf80002ac9a60 M    581   ntoskrnl.exe!IoRegisterFsRegistrationChangeMountAware (nt!IoRegisterFsRegistrationChangeMountAware)\n"
       ]
      },
      {
       "output_type": "stream",
       "stream": "stdout",
       "text": [
        "0xf80002a8d650 M    582   ntoskrnl.exe!IoRegisterLastChanceShutdownNotification (nt!IoRegisterLastChanceShutdownNotification)\n"
       ]
      },
      {
       "output_type": "stream",
       "stream": "stdout",
       "text": [
        "0xf80002ad1320 M    583   ntoskrnl.exe!IoRegisterPlugPlayNotification (nt!IoRegisterPlugPlayNotification)\n"
       ]
      },
      {
       "output_type": "stream",
       "stream": "stdout",
       "text": [
        "0xf800027a0ca0 M    584   ntoskrnl.exe!IoRegisterPriorityCallback (nt!IoRegisterPriorityCallback)\n"
       ]
      },
      {
       "output_type": "stream",
       "stream": "stdout",
       "text": [
        "0xf80002a8d5e0 M    585   ntoskrnl.exe!IoRegisterShutdownNotification (nt!IoRegisterShutdownNotification)\n"
       ]
      },
      {
       "output_type": "stream",
       "stream": "stdout",
       "text": [
        "0xf800026b6c80 M    586   ntoskrnl.exe!IoReleaseCancelSpinLock (nt!IoReleaseCancelSpinLock)\n"
       ]
      },
      {
       "output_type": "stream",
       "stream": "stdout",
       "text": [
        "0xf8000279f7f0 M    587   ntoskrnl.exe!IoReleaseRemoveLockAndWaitEx (nt!IoReleaseRemoveLockAndWaitEx)\n"
       ]
      },
      {
       "output_type": "stream",
       "stream": "stdout",
       "text": [
        "0xf800026a2aa0 M    588   ntoskrnl.exe!IoReleaseRemoveLockEx (nt!IoReleaseRemoveLockEx)\n"
       ]
      },
      {
       "output_type": "stream",
       "stream": "stdout",
       "text": [
        "0xf80002637de0 M    589   ntoskrnl.exe!IoReleaseVpbSpinLock (nt!IoReleaseVpbSpinLock)\n"
       ]
      },
      {
       "output_type": "stream",
       "stream": "stdout",
       "text": [
        "0xf800029a47c0 M    590   ntoskrnl.exe!IoRemoveShareAccess (nt!IoRemoveShareAccess)\n"
       ]
      },
      {
       "output_type": "stream",
       "stream": "stdout",
       "text": [
        "0xf80002a922a0 M    591   ntoskrnl.exe!IoReplaceFileObjectName (nt!IoReplaceFileObjectName)\n"
       ]
      },
      {
       "output_type": "stream",
       "stream": "stdout",
       "text": [
        "0xf80002b08570 M    592   ntoskrnl.exe!IoReplacePartitionUnit (nt!IoReplacePartitionUnit)\n"
       ]
      },
      {
       "output_type": "stream",
       "stream": "stdout",
       "text": [
        "0xf80002b0bd80 M    593   ntoskrnl.exe!IoReportDetectedDevice (nt!IoReportDetectedDevice)\n"
       ]
      },
      {
       "output_type": "stream",
       "stream": "stdout",
       "text": [
        "0xf80002ba3ca0 -    594   ntoskrnl.exe!IoReportHalResourceUsage (nt!IoReportHalResourceUsage)\n"
       ]
      },
      {
       "output_type": "stream",
       "stream": "stdout",
       "text": [
        "0xf80002ae7790 M    595   ntoskrnl.exe!IoReportResourceForDetection (nt!IoReportResourceForDetection)\n"
       ]
      },
      {
       "output_type": "stream",
       "stream": "stdout",
       "text": [
        "0xf80002ae7580 M    596   ntoskrnl.exe!IoReportResourceUsage (nt!IoReportResourceUsage)\n"
       ]
      },
      {
       "output_type": "stream",
       "stream": "stdout",
       "text": [
        "0xf80002b0af80 M    597   ntoskrnl.exe!IoReportRootDevice (nt!IoReportRootDevice)\n"
       ]
      },
      {
       "output_type": "stream",
       "stream": "stdout",
       "text": [
        "0xf800029b2d40 M    598   ntoskrnl.exe!IoReportTargetDeviceChange (nt!IoReportTargetDeviceChange)\n"
       ]
      },
      {
       "output_type": "stream",
       "stream": "stdout",
       "text": [
        "0xf80002637a90 M    599   ntoskrnl.exe!IoReportTargetDeviceChangeAsynchronous (nt!IoReportTargetDeviceChangeAsynchronous)\n"
       ]
      },
      {
       "output_type": "stream",
       "stream": "stdout",
       "text": [
        "0xf80002762b90 M    600   ntoskrnl.exe!IoRequestDeviceEject (nt!IoRequestDeviceEject)\n"
       ]
      },
      {
       "output_type": "stream",
       "stream": "stdout",
       "text": [
        "0xf80002762960 M    601   ntoskrnl.exe!IoRequestDeviceEjectEx (nt!IoRequestDeviceEjectEx)\n"
       ]
      },
      {
       "output_type": "stream",
       "stream": "stdout",
       "text": [
        "0xf800026a9140 M    602   ntoskrnl.exe!IoRetrievePriorityInfo (nt!IoRetrievePriorityInfo)\n"
       ]
      },
      {
       "output_type": "stream",
       "stream": "stdout",
       "text": [
        "0xf8000267c010 M    603   ntoskrnl.exe!IoReuseIrp (nt!IoReuseIrp)           \n"
       ]
      },
      {
       "output_type": "stream",
       "stream": "stdout",
       "text": [
        "0xf8000267b820 M    604   ntoskrnl.exe!IoSetCompletionRoutineEx (nt!IoSetCompletionRoutineEx)\n"
       ]
      },
      {
       "output_type": "stream",
       "stream": "stdout",
       "text": [
        "0xf80002ac4dd0 M    605   ntoskrnl.exe!IoSetDependency (nt!IoSetDependency) \n"
       ]
      },
      {
       "output_type": "stream",
       "stream": "stdout",
       "text": [
        "0xf80002a6c520 M    606   ntoskrnl.exe!IoSetDeviceInterfaceState (nt!IoSetDeviceInterfaceState)\n"
       ]
      },
      {
       "output_type": "stream",
       "stream": "stdout",
       "text": [
        "0xf80002a5a770 M    607   ntoskrnl.exe!IoSetDevicePropertyData (nt!IoSetDevicePropertyData)\n"
       ]
      },
      {
       "output_type": "stream",
       "stream": "stdout",
       "text": [
        "0xf80002722960 M    608   ntoskrnl.exe!IoSetDeviceToVerify (nt!IoSetDeviceToVerify)\n"
       ]
      },
      {
       "output_type": "stream",
       "stream": "stdout",
       "text": [
        "0xf80002a335f0 M    609   ntoskrnl.exe!IoSetFileObjectIgnoreSharing (nt!IoSetFileObjectIgnoreSharing)\n"
       ]
      },
      {
       "output_type": "stream",
       "stream": "stdout",
       "text": [
        "0xf8000264a4d0 M    610   ntoskrnl.exe!IoSetFileOrigin (nt!IoSetFileOrigin) \n"
       ]
      },
      {
       "output_type": "stream",
       "stream": "stdout",
       "text": [
        "0xf80002638ea0 M    611   ntoskrnl.exe!IoSetHardErrorOrVerifyDevice (nt!IoSetHardErrorOrVerifyDevice)\n"
       ]
      },
      {
       "output_type": "stream",
       "stream": "stdout",
       "text": [
        "0xf80002aea4d0 M    612   ntoskrnl.exe!IoSetInformation (nt!IoSetInformation)\n"
       ]
      },
      {
       "output_type": "stream",
       "stream": "stdout",
       "text": [
        "0xf80002a3a2f0 M    613   ntoskrnl.exe!IoSetIoCompletion (nt!IoSetIoCompletion)\n"
       ]
      },
      {
       "output_type": "stream",
       "stream": "stdout",
       "text": [
        "0xf8000298a888 M    614   ntoskrnl.exe!IoSetIoCompletionEx (nt!IoSetIoCompletionEx)\n"
       ]
      },
      {
       "output_type": "stream",
       "stream": "stdout",
       "text": [
        "0xf800026a91e0 M    615   ntoskrnl.exe!IoSetIoPriorityHint (nt!IoSetIoPriorityHint)\n"
       ]
      },
      {
       "output_type": "stream",
       "stream": "stdout",
       "text": [
        "0xf8000276e6c0 M    616   ntoskrnl.exe!IoSetIoPriorityHintIntoFileObject (nt!IoSetIoPriorityHintIntoFileObject)\n"
       ]
      },
      {
       "output_type": "stream",
       "stream": "stdout",
       "text": [
        "0xf80002778450 M    617   ntoskrnl.exe!IoSetIoPriorityHintIntoThread (nt!IoSetIoPriorityHintIntoThread)\n"
       ]
      },
      {
       "output_type": "stream",
       "stream": "stdout",
       "text": [
        "0xf80002931340 M    618   ntoskrnl.exe!IoSetIrpExtraCreateParameter (nt!IoSetIrpExtraCreateParameter)\n"
       ]
      },
      {
       "output_type": "stream",
       "stream": "stdout",
       "text": [
        "0xf800027706d0 M    619   ntoskrnl.exe!IoSetOplockKeyContext (nt!IoSetOplockKeyContext)\n"
       ]
      },
      {
       "output_type": "stream",
       "stream": "stdout",
       "text": [
        "0xf800029b1dbc M    620   ntoskrnl.exe!IoSetPartitionInformation (nt!IoSetPartitionInformation)\n"
       ]
      },
      {
       "output_type": "stream",
       "stream": "stdout",
       "text": [
        "0xf800029b2a34 M    621   ntoskrnl.exe!IoSetPartitionInformationEx (nt!IoSetPartitionInformationEx)\n"
       ]
      },
      {
       "output_type": "stream",
       "stream": "stdout",
       "text": [
        "0xf80002931140 M    622   ntoskrnl.exe!IoSetShareAccess (nt!IoSetShareAccess)\n"
       ]
      },
      {
       "output_type": "stream",
       "stream": "stdout",
       "text": [
        "0xf800026b2df0 M    623   ntoskrnl.exe!IoSetShareAccessEx (nt!IoSetShareAccessEx)\n"
       ]
      },
      {
       "output_type": "stream",
       "stream": "stdout",
       "text": [
        "0xf80002722930 M    624   ntoskrnl.exe!IoSetStartIoAttributes (nt!IoSetStartIoAttributes)\n"
       ]
      },
      {
       "output_type": "stream",
       "stream": "stdout",
       "text": [
        "0xf80002a629d0 M    625   ntoskrnl.exe!IoSetSystemPartition (nt!IoSetSystemPartition)\n"
       ]
      },
      {
       "output_type": "stream",
       "stream": "stdout",
       "text": [
        "0xf8000265d3c0 M    626   ntoskrnl.exe!IoSetThreadHardErrorMode (nt!IoSetThreadHardErrorMode)\n"
       ]
      },
      {
       "output_type": "stream",
       "stream": "stdout",
       "text": [
        "0xf800026a6a10 M    627   ntoskrnl.exe!IoSetTopLevelIrp (nt!IoSetTopLevelIrp)\n"
       ]
      },
      {
       "output_type": "stream",
       "stream": "stdout",
       "text": [
        "0xf800027227d0 M    628   ntoskrnl.exe!IoSizeofWorkItem (nt!IoSizeofWorkItem)\n"
       ]
      },
      {
       "output_type": "stream",
       "stream": "stdout",
       "text": [
        "0xf80002746610 M    629   ntoskrnl.exe!IoStartNextPacket (nt!IoStartNextPacket)\n"
       ]
      },
      {
       "output_type": "stream",
       "stream": "stdout",
       "text": [
        "0xf800027465c0 M    630   ntoskrnl.exe!IoStartNextPacketByKey (nt!IoStartNextPacketByKey)\n"
       ]
      },
      {
       "output_type": "stream",
       "stream": "stdout",
       "text": [
        "0xf80002743a10 M    631   ntoskrnl.exe!IoStartPacket (nt!IoStartPacket)     \n"
       ]
      },
      {
       "output_type": "stream",
       "stream": "stdout",
       "text": [
        "0xf8000273a570 M    632   ntoskrnl.exe!IoStartTimer (nt!IoStartTimer)       \n"
       ]
      },
      {
       "output_type": "stream",
       "stream": "stdout",
       "text": [
        "0xf800028c9900 M    633   ntoskrnl.exe!IoStatisticsLock (nt!IoStatisticsLock)\n"
       ]
      },
      {
       "output_type": "stream",
       "stream": "stdout",
       "text": [
        "0xf8000273a420 M    634   ntoskrnl.exe!IoStopTimer (nt!IoStopTimer)         \n"
       ]
      },
      {
       "output_type": "stream",
       "stream": "stdout",
       "text": [
        "0xf80002a7d6a0 M    635   ntoskrnl.exe!IoSynchronousInvalidateDeviceRelations (nt!IoSynchronousInvalidateDeviceRelations)\n"
       ]
      },
      {
       "output_type": "stream",
       "stream": "stdout",
       "text": [
        "0xf8000267f900 M    636   ntoskrnl.exe!IoSynchronousPageWrite (nt!IoSynchronousPageWrite)\n"
       ]
      },
      {
       "output_type": "stream",
       "stream": "stdout",
       "text": [
        "0xf80002660a80 M    637   ntoskrnl.exe!IoThreadToProcess (nt!IoThreadToProcess)\n"
       ]
      },
      {
       "output_type": "stream",
       "stream": "stdout",
       "text": [
        "0xf800027aca80 M    638   ntoskrnl.exe!IoTranslateBusAddress (nt!IoTranslateBusAddress)\n"
       ]
      },
      {
       "output_type": "stream",
       "stream": "stdout",
       "text": [
        "0xf80002641278 M    639   ntoskrnl.exe!IoUninitializeWorkItem (nt!IoUninitializeWorkItem)\n"
       ]
      },
      {
       "output_type": "stream",
       "stream": "stdout",
       "text": [
        "0xf80002ac8770 M    640   ntoskrnl.exe!IoUnregisterContainerNotification (nt!IoUnregisterContainerNotification)\n"
       ]
      },
      {
       "output_type": "stream",
       "stream": "stdout",
       "text": [
        "0xf80002a83bf0 M    641   ntoskrnl.exe!IoUnregisterFileSystem (nt!IoUnregisterFileSystem)\n"
       ]
      },
      {
       "output_type": "stream",
       "stream": "stdout",
       "text": [
        "0xf80002ac4ed0 M    642   ntoskrnl.exe!IoUnregisterFsRegistrationChange (nt!IoUnregisterFsRegistrationChange)\n"
       ]
      },
      {
       "output_type": "stream",
       "stream": "stdout",
       "text": [
        "0xf80002ac4dc0 M    643   ntoskrnl.exe!IoUnregisterPlugPlayNotification (nt!IoUnregisterPlugPlayNotification)\n"
       ]
      },
      {
       "output_type": "stream",
       "stream": "stdout",
       "text": [
        "0xf80002ac4db0 M    644   ntoskrnl.exe!IoUnregisterPlugPlayNotificationEx (nt!IoUnregisterPlugPlayNotificationEx)\n"
       ]
      },
      {
       "output_type": "stream",
       "stream": "stdout",
       "text": [
        "0xf800027ad040 M    645   ntoskrnl.exe!IoUnregisterPriorityCallback (nt!IoUnregisterPriorityCallback)\n"
       ]
      },
      {
       "output_type": "stream",
       "stream": "stdout",
       "text": [
        "0xf800028d27c0 M    646   ntoskrnl.exe!IoUnregisterShutdownNotification (nt!IoUnregisterShutdownNotification)\n"
       ]
      },
      {
       "output_type": "stream",
       "stream": "stdout",
       "text": [
        "0xf800029750d0 M    647   ntoskrnl.exe!IoUpdateShareAccess (nt!IoUpdateShareAccess)\n"
       ]
      },
      {
       "output_type": "stream",
       "stream": "stdout",
       "text": [
        "0xf8000272d8a0 M    648   ntoskrnl.exe!IoValidateDeviceIoControlAccess (nt!IoValidateDeviceIoControlAccess)\n"
       ]
      },
      {
       "output_type": "stream",
       "stream": "stdout",
       "text": [
        "0xf80002af17e0 M    649   ntoskrnl.exe!IoVerifyPartitionTable (nt!IoVerifyPartitionTable)\n"
       ]
      },
      {
       "output_type": "stream",
       "stream": "stdout",
       "text": [
        "0xf80002a80b40 M    650   ntoskrnl.exe!IoVerifyVolume (nt!IoVerifyVolume)   \n"
       ]
      },
      {
       "output_type": "stream",
       "stream": "stdout",
       "text": [
        "0xf800029500e8 M    651   ntoskrnl.exe!IoVolumeDeviceToDosName (nt!IoVolumeDeviceToDosName)\n"
       ]
      },
      {
       "output_type": "stream",
       "stream": "stdout",
       "text": [
        "0xf80002a8d230 M    652   ntoskrnl.exe!IoWMIAllocateInstanceIds (nt!IoWMIAllocateInstanceIds)\n"
       ]
      },
      {
       "output_type": "stream",
       "stream": "stdout",
       "text": [
        "0xf80002a702c0 M    653   ntoskrnl.exe!IoWMIDeviceObjectToInstanceName (nt!IoWMIDeviceObjectToInstanceName)\n"
       ]
      },
      {
       "output_type": "stream",
       "stream": "stdout",
       "text": [
        "0xf8000273bed0 M    654   ntoskrnl.exe!IoWMIDeviceObjectToProviderId (nt!IoWMIDeviceObjectToProviderId)\n"
       ]
      },
      {
       "output_type": "stream",
       "stream": "stdout",
       "text": [
        "0xf80002ab4c20 M    655   ntoskrnl.exe!IoWMIExecuteMethod (nt!IoWMIExecuteMethod)\n"
       ]
      },
      {
       "output_type": "stream",
       "stream": "stdout",
       "text": [
        "0xf80002a702f0 M    656   ntoskrnl.exe!IoWMIHandleToInstanceName (nt!IoWMIHandleToInstanceName)\n"
       ]
      },
      {
       "output_type": "stream",
       "stream": "stdout",
       "text": [
        "0xf80002a71ca0 M    657   ntoskrnl.exe!IoWMIOpenBlock (nt!IoWMIOpenBlock)   \n"
       ]
      },
      {
       "output_type": "stream",
       "stream": "stdout",
       "text": [
        "0xf80002a66f30 M    658   ntoskrnl.exe!IoWMIQueryAllData (nt!IoWMIQueryAllData)\n"
       ]
      },
      {
       "output_type": "stream",
       "stream": "stdout",
       "text": [
        "0xf80002a67490 M    659   ntoskrnl.exe!IoWMIQueryAllDataMultiple (nt!IoWMIQueryAllDataMultiple)\n"
       ]
      },
      {
       "output_type": "stream",
       "stream": "stdout",
       "text": [
        "0xf80002ab4fe0 M    660   ntoskrnl.exe!IoWMIQuerySingleInstance (nt!IoWMIQuerySingleInstance)\n"
       ]
      },
      {
       "output_type": "stream",
       "stream": "stdout",
       "text": [
        "0xf80002a67a90 M    661   ntoskrnl.exe!IoWMIQuerySingleInstanceMultiple (nt!IoWMIQuerySingleInstanceMultiple)\n"
       ]
      },
      {
       "output_type": "stream",
       "stream": "stdout",
       "text": [
        "0xf80002abb7b0 M    662   ntoskrnl.exe!IoWMIRegistrationControl (nt!IoWMIRegistrationControl)\n"
       ]
      },
      {
       "output_type": "stream",
       "stream": "stdout",
       "text": [
        "0xf80002a1f360 M    663   ntoskrnl.exe!IoWMISetNotificationCallback (nt!IoWMISetNotificationCallback)\n"
       ]
      },
      {
       "output_type": "stream",
       "stream": "stdout",
       "text": [
        "0xf80002ab4ed0 M    664   ntoskrnl.exe!IoWMISetSingleInstance (nt!IoWMISetSingleInstance)\n"
       ]
      },
      {
       "output_type": "stream",
       "stream": "stdout",
       "text": [
        "0xf80002ab4da0 M    665   ntoskrnl.exe!IoWMISetSingleItem (nt!IoWMISetSingleItem)\n"
       ]
      },
      {
       "output_type": "stream",
       "stream": "stdout",
       "text": [
        "0xf80002acf580 M    666   ntoskrnl.exe!IoWMISuggestInstanceName (nt!IoWMISuggestInstanceName)\n"
       ]
      },
      {
       "output_type": "stream",
       "stream": "stdout",
       "text": [
        "0xf800027ad700 M    667   ntoskrnl.exe!IoWMIWriteEvent (nt!IoWMIWriteEvent) \n"
       ]
      },
      {
       "output_type": "stream",
       "stream": "stdout",
       "text": [
        "0xf800026a6a30 M    668   ntoskrnl.exe!IoWithinStackLimits (nt!IoWithinStackLimits)\n"
       ]
      },
      {
       "output_type": "stream",
       "stream": "stdout",
       "text": [
        "0xf80002777d50 M    669   ntoskrnl.exe!IoWriteErrorLogEntry (nt!IoWriteErrorLogEntry)\n"
       ]
      },
      {
       "output_type": "stream",
       "stream": "stdout",
       "text": [
        "0xf80002894004 M    670   ntoskrnl.exe!IoWriteOperationCount (nt!IoWriteOperationCount)\n"
       ]
      },
      {
       "output_type": "stream",
       "stream": "stdout",
       "text": [
        "0xf80002af1860 M    671   ntoskrnl.exe!IoWritePartitionTable (nt!IoWritePartitionTable)\n"
       ]
      },
      {
       "output_type": "stream",
       "stream": "stdout",
       "text": [
        "0xf80002af33e0 M    672   ntoskrnl.exe!IoWritePartitionTableEx (nt!IoWritePartitionTableEx)\n"
       ]
      },
      {
       "output_type": "stream",
       "stream": "stdout",
       "text": [
        "0xf80002893ff0 M    673   ntoskrnl.exe!IoWriteTransferCount (nt!IoWriteTransferCount)\n"
       ]
      },
      {
       "output_type": "stream",
       "stream": "stdout",
       "text": [
        "0xf8000269cc10 M    674   ntoskrnl.exe!IofCallDriver (nt!IofCallDriver)     \n"
       ]
      },
      {
       "output_type": "stream",
       "stream": "stdout",
       "text": [
        "0xf8000269cbd0 M    675   ntoskrnl.exe!IofCompleteRequest (nt!IofCompleteRequest)\n"
       ]
      },
      {
       "output_type": "stream",
       "stream": "stdout",
       "text": [
        "0xf80002721f50 M    676   ntoskrnl.exe!KdChangeOption (nt!KdChangeOption)   \n"
       ]
      },
      {
       "output_type": "stream",
       "stream": "stdout",
       "text": [
        "0xf80002890bb0 M    677   ntoskrnl.exe!KdDebuggerEnabled (nt!KdDebuggerEnabled)\n"
       ]
      },
      {
       "output_type": "stream",
       "stream": "stdout",
       "text": [
        "0xf80002890bb1 M    678   ntoskrnl.exe!KdDebuggerNotPresent (nt!KdDebuggerNotPresent)\n"
       ]
      },
      {
       "output_type": "stream",
       "stream": "stdout",
       "text": [
        "0xf80002758ce0 M    679   ntoskrnl.exe!KdDisableDebugger (nt!KdDisableDebugger)\n"
       ]
      },
      {
       "output_type": "stream",
       "stream": "stdout",
       "text": [
        "0xf80002759e00 M    680   ntoskrnl.exe!KdEnableDebugger (nt!KdEnableDebugger)\n"
       ]
      },
      {
       "output_type": "stream",
       "stream": "stdout",
       "text": [
        "0xf80002890ba8 M    681   ntoskrnl.exe!KdEnteredDebugger (nt!KdEnteredDebugger)\n"
       ]
      },
      {
       "output_type": "stream",
       "stream": "stdout",
       "text": [
        "0xf8000269deb0 M    682   ntoskrnl.exe!KdPollBreakIn (nt!KdPollBreakIn)     \n"
       ]
      },
      {
       "output_type": "stream",
       "stream": "stdout",
       "text": [
        "0xf80002721f10 M    683   ntoskrnl.exe!KdPowerTransition (nt!KdPowerTransition)\n"
       ]
      },
      {
       "output_type": "stream",
       "stream": "stdout",
       "text": [
        "0xf80002756930 M    684   ntoskrnl.exe!KdRefreshDebuggerNotPresent (nt!KdRefreshDebuggerNotPresent)\n"
       ]
      },
      {
       "output_type": "stream",
       "stream": "stdout",
       "text": [
        "0xf80002aee5a0 M    685   ntoskrnl.exe!KdSystemDebugControl (nt!KdSystemDebugControl)\n"
       ]
      },
      {
       "output_type": "stream",
       "stream": "stdout",
       "text": [
        "0xf800026a8100 M    686   ntoskrnl.exe!KeAcquireGuardedMutex (nt!KeAcquireGuardedMutex)\n"
       ]
      },
      {
       "output_type": "stream",
       "stream": "stdout",
       "text": [
        "0xf800027632e0 M    687   ntoskrnl.exe!KeAcquireGuardedMutexUnsafe (nt!KeAcquireGuardedMutexUnsafe)\n"
       ]
      },
      {
       "output_type": "stream",
       "stream": "stdout",
       "text": [
        "0xf800026a2690 M    688   ntoskrnl.exe!KeAcquireInStackQueuedSpinLock (nt!KeAcquireInStackQueuedSpinLock)\n"
       ]
      },
      {
       "output_type": "stream",
       "stream": "stdout",
       "text": [
        "0xf8000269ad00 M    689   ntoskrnl.exe!KeAcquireInStackQueuedSpinLockAtDpcLevel (nt!KeAcquireInStackQueuedSpinLockAtDpcLevel)\n"
       ]
      },
      {
       "output_type": "stream",
       "stream": "stdout",
       "text": [
        "0xf800027402d0 M    690   ntoskrnl.exe!KeAcquireInStackQueuedSpinLockForDpc (nt!KeAcquireInStackQueuedSpinLockForDpc)\n"
       ]
      },
      {
       "output_type": "stream",
       "stream": "stdout",
       "text": [
        "0xf800027393d0 M    691   ntoskrnl.exe!KeAcquireInStackQueuedSpinLockRaiseToSynch (nt!KeAcquireInStackQueuedSpinLockRaiseToSynch)\n"
       ]
      },
      {
       "output_type": "stream",
       "stream": "stdout",
       "text": [
        "0xf800027401c0 M    692   ntoskrnl.exe!KeAcquireInterruptSpinLock (nt!KeAcquireInterruptSpinLock)\n"
       ]
      },
      {
       "output_type": "stream",
       "stream": "stdout",
       "text": [
        "0xf800026a36f4 M    693   ntoskrnl.exe!KeAcquireQueuedSpinLock (nt!KeAcquireQueuedSpinLock)\n"
       ]
      },
      {
       "output_type": "stream",
       "stream": "stdout",
       "text": [
        "0xf800027394b0 M    694   ntoskrnl.exe!KeAcquireQueuedSpinLockRaiseToSynch (nt!KeAcquireQueuedSpinLockRaiseToSynch)\n"
       ]
      },
      {
       "output_type": "stream",
       "stream": "stdout",
       "text": [
        "0xf800026979d0 M    695   ntoskrnl.exe!KeAcquireSpinLockAtDpcLevel (nt!KeAcquireSpinLockAtDpcLevel)\n"
       ]
      },
      {
       "output_type": "stream",
       "stream": "stdout",
       "text": [
        "0xf80002740310 M    696   ntoskrnl.exe!KeAcquireSpinLockForDpc (nt!KeAcquireSpinLockForDpc)\n"
       ]
      },
      {
       "output_type": "stream",
       "stream": "stdout",
       "text": [
        "0xf80002699b20 M    697   ntoskrnl.exe!KeAcquireSpinLockRaiseToDpc (nt!KeAcquireSpinLockRaiseToDpc)\n"
       ]
      },
      {
       "output_type": "stream",
       "stream": "stdout",
       "text": [
        "0xf80002739770 M    698   ntoskrnl.exe!KeAcquireSpinLockRaiseToSynch (nt!KeAcquireSpinLockRaiseToSynch)\n"
       ]
      },
      {
       "output_type": "stream",
       "stream": "stdout",
       "text": [
        "0xf80002720c60 M    699   ntoskrnl.exe!KeAddGroupAffinityEx (nt!KeAddGroupAffinityEx)\n"
       ]
      },
      {
       "output_type": "stream",
       "stream": "stdout",
       "text": [
        "0xf8000272ce30 M    700   ntoskrnl.exe!KeAddProcessorAffinityEx (nt!KeAddProcessorAffinityEx)\n"
       ]
      },
      {
       "output_type": "stream",
       "stream": "stdout",
       "text": [
        "0xf8000272cbf0 M    701   ntoskrnl.exe!KeAddProcessorGroupAffinity (nt!KeAddProcessorGroupAffinity)\n"
       ]
      },
      {
       "output_type": "stream",
       "stream": "stdout",
       "text": [
        "0xf80002a01cd0 M    702   ntoskrnl.exe!KeAddSystemServiceTable (nt!KeAddSystemServiceTable)\n"
       ]
      },
      {
       "output_type": "stream",
       "stream": "stdout",
       "text": [
        "0xf80002676770 M    703   ntoskrnl.exe!KeAlertThread (nt!KeAlertThread)     \n"
       ]
      },
      {
       "output_type": "stream",
       "stream": "stdout",
       "text": [
        "0xf80002a90040 M    704   ntoskrnl.exe!KeAllocateCalloutStack (nt!KeAllocateCalloutStack)\n"
       ]
      },
      {
       "output_type": "stream",
       "stream": "stdout",
       "text": [
        "0xf80002a8fef0 M    705   ntoskrnl.exe!KeAllocateCalloutStackEx (nt!KeAllocateCalloutStackEx)\n"
       ]
      },
      {
       "output_type": "stream",
       "stream": "stdout",
       "text": [
        "0xf80002720b00 M    706   ntoskrnl.exe!KeAndAffinityEx (nt!KeAndAffinityEx) \n"
       ]
      },
      {
       "output_type": "stream",
       "stream": "stdout",
       "text": [
        "0xf80002720a80 M    707   ntoskrnl.exe!KeAndGroupAffinityEx (nt!KeAndGroupAffinityEx)\n"
       ]
      },
      {
       "output_type": "stream",
       "stream": "stdout",
       "text": [
        "0xf800026ddc90 M    708   ntoskrnl.exe!KeAreAllApcsDisabled (nt!KeAreAllApcsDisabled)\n"
       ]
      },
      {
       "output_type": "stream",
       "stream": "stdout",
       "text": [
        "0xf80002653864 M    709   ntoskrnl.exe!KeAreApcsDisabled (nt!KeAreApcsDisabled)\n"
       ]
      },
      {
       "output_type": "stream",
       "stream": "stdout",
       "text": [
        "0xf80002763530 M    710   ntoskrnl.exe!KeAttachProcess (nt!KeAttachProcess) \n"
       ]
      },
      {
       "output_type": "stream",
       "stream": "stdout",
       "text": [
        "0xf80002690ed0 M    711   ntoskrnl.exe!KeBugCheck (nt!KeBugCheck)           \n"
       ]
      },
      {
       "output_type": "stream",
       "stream": "stdout",
       "text": [
        "0xf80002690f00 M    712   ntoskrnl.exe!KeBugCheckEx (nt!KeBugCheckEx)       \n"
       ]
      },
      {
       "output_type": "stream",
       "stream": "stdout",
       "text": [
        "0xf8000265699c M    713   ntoskrnl.exe!KeCancelTimer (nt!KeCancelTimer)     \n"
       ]
      },
      {
       "output_type": "stream",
       "stream": "stdout",
       "text": [
        "0xf80002793730 M    714   ntoskrnl.exe!KeCapturePersistentThreadState (nt!KeCapturePersistentThreadState)\n"
       ]
      },
      {
       "output_type": "stream",
       "stream": "stdout",
       "text": [
        "0xf8000269f510 M    715   ntoskrnl.exe!KeCheckProcessorAffinityEx (nt!KeCheckProcessorAffinityEx)\n"
       ]
      },
      {
       "output_type": "stream",
       "stream": "stdout",
       "text": [
        "0xf8000272cb60 M    716   ntoskrnl.exe!KeCheckProcessorGroupAffinity (nt!KeCheckProcessorGroupAffinity)\n"
       ]
      },
      {
       "output_type": "stream",
       "stream": "stdout",
       "text": [
        "0xf8000269d184 M    717   ntoskrnl.exe!KeClearEvent (nt!KeClearEvent)       \n"
       ]
      },
      {
       "output_type": "stream",
       "stream": "stdout",
       "text": [
        "0xf80002720940 M    718   ntoskrnl.exe!KeComplementAffinityEx (nt!KeComplementAffinityEx)\n"
       ]
      },
      {
       "output_type": "stream",
       "stream": "stdout",
       "text": [
        "0xf800027207c0 M    719   ntoskrnl.exe!KeCopyAffinityEx (nt!KeCopyAffinityEx)\n"
       ]
      },
      {
       "output_type": "stream",
       "stream": "stdout",
       "text": [
        "0xf80002720800 M    720   ntoskrnl.exe!KeCountSetBitsAffinityEx (nt!KeCountSetBitsAffinityEx)\n"
       ]
      },
      {
       "output_type": "stream",
       "stream": "stdout",
       "text": [
        "0xf80002720660 M    721   ntoskrnl.exe!KeCountSetBitsGroupAffinity (nt!KeCountSetBitsGroupAffinity)\n"
       ]
      },
      {
       "output_type": "stream",
       "stream": "stdout",
       "text": [
        "0xf8000269a5d0 M    722   ntoskrnl.exe!KeDelayExecutionThread (nt!KeDelayExecutionThread)\n"
       ]
      },
      {
       "output_type": "stream",
       "stream": "stdout",
       "text": [
        "0xf80002740070 M    723   ntoskrnl.exe!KeDeregisterBugCheckCallback (nt!KeDeregisterBugCheckCallback)\n"
       ]
      },
      {
       "output_type": "stream",
       "stream": "stdout",
       "text": [
        "0xf8000273fd80 M    724   ntoskrnl.exe!KeDeregisterBugCheckReasonCallback (nt!KeDeregisterBugCheckReasonCallback)\n"
       ]
      },
      {
       "output_type": "stream",
       "stream": "stdout",
       "text": [
        "0xf8000279ca70 M    725   ntoskrnl.exe!KeDeregisterNmiCallback (nt!KeDeregisterNmiCallback)\n"
       ]
      },
      {
       "output_type": "stream",
       "stream": "stdout",
       "text": [
        "0xf80002a33720 M    726   ntoskrnl.exe!KeDeregisterProcessorChangeCallback (nt!KeDeregisterProcessorChangeCallback)\n"
       ]
      },
      {
       "output_type": "stream",
       "stream": "stdout",
       "text": [
        "0xf800026a5540 M    727   ntoskrnl.exe!KeDetachProcess (nt!KeDetachProcess) \n"
       ]
      },
      {
       "output_type": "stream",
       "stream": "stdout",
       "text": [
        "0xf8000269cc70 M    728   ntoskrnl.exe!KeEnterCriticalRegion (nt!KeEnterCriticalRegion)\n"
       ]
      },
      {
       "output_type": "stream",
       "stream": "stdout",
       "text": [
        "0xf800026a8d04 M    729   ntoskrnl.exe!KeEnterGuardedRegion (nt!KeEnterGuardedRegion)\n"
       ]
      },
      {
       "output_type": "stream",
       "stream": "stdout",
       "text": [
        "0xf80002786d50 M    730   ntoskrnl.exe!KeEnterKernelDebugger (nt!KeEnterKernelDebugger)\n"
       ]
      },
      {
       "output_type": "stream",
       "stream": "stdout",
       "text": [
        "0xf8000272cc20 M    731   ntoskrnl.exe!KeEnumerateNextProcessor (nt!KeEnumerateNextProcessor)\n"
       ]
      },
      {
       "output_type": "stream",
       "stream": "stdout",
       "text": [
        "0xf800026563b8 M    732   ntoskrnl.exe!KeExpandKernelStackAndCallout (nt!KeExpandKernelStackAndCallout)\n"
       ]
      },
      {
       "output_type": "stream",
       "stream": "stdout",
       "text": [
        "0xf800026a0570 M    733   ntoskrnl.exe!KeExpandKernelStackAndCalloutEx (nt!KeExpandKernelStackAndCalloutEx)\n"
       ]
      },
      {
       "output_type": "stream",
       "stream": "stdout",
       "text": [
        "0xf80002b8ef30 -    734   ntoskrnl.exe!KeFindConfigurationEntry (nt!KeFindConfigurationEntry)\n"
       ]
      },
      {
       "output_type": "stream",
       "stream": "stdout",
       "text": [
        "0xf80002b8ee40 -    735   ntoskrnl.exe!KeFindConfigurationNextEntry (nt!KeFindConfigurationNextEntry)\n"
       ]
      },
      {
       "output_type": "stream",
       "stream": "stdout",
       "text": [
        "0xf8000272cce0 M    736   ntoskrnl.exe!KeFindFirstSetLeftAffinityEx (nt!KeFindFirstSetLeftAffinityEx)\n"
       ]
      },
      {
       "output_type": "stream",
       "stream": "stdout",
       "text": [
        "0xf8000272cb30 M    737   ntoskrnl.exe!KeFindFirstSetLeftGroupAffinity (nt!KeFindFirstSetLeftGroupAffinity)\n"
       ]
      },
      {
       "output_type": "stream",
       "stream": "stdout",
       "text": [
        "0xf8000272cad0 M    738   ntoskrnl.exe!KeFindFirstSetRightGroupAffinity (nt!KeFindFirstSetRightGroupAffinity)\n"
       ]
      },
      {
       "output_type": "stream",
       "stream": "stdout",
       "text": [
        "0xf80002720770 M    739   ntoskrnl.exe!KeFirstGroupAffinityEx (nt!KeFirstGroupAffinityEx)\n"
       ]
      },
      {
       "output_type": "stream",
       "stream": "stdout",
       "text": [
        "0xf8000273fa80 M    740   ntoskrnl.exe!KeFlushEntireTb (nt!KeFlushEntireTb) \n"
       ]
      },
      {
       "output_type": "stream",
       "stream": "stdout",
       "text": [
        "0xf80002645b4c M    741   ntoskrnl.exe!KeFlushQueuedDpcs (nt!KeFlushQueuedDpcs)\n"
       ]
      },
      {
       "output_type": "stream",
       "stream": "stdout",
       "text": [
        "0xf80002a8fe70 M    742   ntoskrnl.exe!KeFreeCalloutStack (nt!KeFreeCalloutStack)\n"
       ]
      },
      {
       "output_type": "stream",
       "stream": "stdout",
       "text": [
        "0xf8000274dd10 M    743   ntoskrnl.exe!KeGenericCallDpc (nt!KeGenericCallDpc)\n"
       ]
      },
      {
       "output_type": "stream",
       "stream": "stdout",
       "text": [
        "0xf800026ddcb8 M    744   ntoskrnl.exe!KeGetCurrentIrql (nt!KeGetCurrentIrql)\n"
       ]
      },
      {
       "output_type": "stream",
       "stream": "stdout",
       "text": [
        "0xf8000272d2f0 M    745   ntoskrnl.exe!KeGetCurrentNodeNumber (nt!KeGetCurrentNodeNumber)\n"
       ]
      },
      {
       "output_type": "stream",
       "stream": "stdout",
       "text": [
        "0xf8000269d120 M    746   ntoskrnl.exe!KeGetCurrentProcessorNumberEx (nt!KeGetCurrentProcessorNumberEx)\n"
       ]
      },
      {
       "output_type": "stream",
       "stream": "stdout",
       "text": [
        "0xf800026ddc10 M    747   ntoskrnl.exe!KeGetCurrentThread (nt!PsGetCurrentThread)\n"
       ]
      },
      {
       "output_type": "stream",
       "stream": "stdout",
       "text": [
        "0xf80002721630 M    748   ntoskrnl.exe!KeGetProcessorIndexFromNumber (nt!KeGetProcessorIndexFromNumber)\n"
       ]
      },
      {
       "output_type": "stream",
       "stream": "stdout",
       "text": [
        "0xf8000264daa4 M    749   ntoskrnl.exe!KeGetProcessorNumberFromIndex (nt!KeGetProcessorNumberFromIndex)\n"
       ]
      },
      {
       "output_type": "stream",
       "stream": "stdout",
       "text": [
        "0xf80002638f40 M    750   ntoskrnl.exe!KeGetRecommendedSharedDataAlignment (nt!KeGetRecommendedSharedDataAlignment)\n"
       ]
      },
      {
       "output_type": "stream",
       "stream": "stdout",
       "text": [
        "0xf80002720cb0 M    751   ntoskrnl.exe!KeGetXSaveFeatureFlags (nt!KeGetXSaveFeatureFlags)\n"
       ]
      },
      {
       "output_type": "stream",
       "stream": "stdout",
       "text": [
        "0xf80002720c80 M    752   ntoskrnl.exe!KeInitializeAffinityEx (nt!KeInitializeAffinityEx)\n"
       ]
      },
      {
       "output_type": "stream",
       "stream": "stdout",
       "text": [
        "0xf8000266ea90 M    753   ntoskrnl.exe!KeInitializeApc (nt!KeInitializeApc) \n"
       ]
      },
      {
       "output_type": "stream",
       "stream": "stdout",
       "text": [
        "0xf8000279ec30 M    754   ntoskrnl.exe!KeInitializeCrashDumpHeader (nt!KeInitializeCrashDumpHeader)\n"
       ]
      },
      {
       "output_type": "stream",
       "stream": "stdout",
       "text": [
        "0xf8000272c920 M    755   ntoskrnl.exe!KeInitializeDeviceQueue (nt!KeInitializeDeviceQueue)\n"
       ]
      },
      {
       "output_type": "stream",
       "stream": "stdout",
       "text": [
        "0xf80002685a64 M    756   ntoskrnl.exe!KeInitializeDpc (nt!KeInitializeDpc) \n"
       ]
      },
      {
       "output_type": "stream",
       "stream": "stdout",
       "text": [
        "0xf800027206f0 M    757   ntoskrnl.exe!KeInitializeEnumerationContext (nt!KeInitializeEnumerationContext)\n"
       ]
      },
      {
       "output_type": "stream",
       "stream": "stdout",
       "text": [
        "0xf800027206d0 M    758   ntoskrnl.exe!KeInitializeEnumerationContextFromGroup (nt!KeInitializeEnumerationContextFromGroup)\n"
       ]
      },
      {
       "output_type": "stream",
       "stream": "stdout",
       "text": [
        "0xf8000269cbe0 M    759   ntoskrnl.exe!KeInitializeEvent (nt!KeInitializeEvent)\n"
       ]
      },
      {
       "output_type": "stream",
       "stream": "stdout",
       "text": [
        "0xf8000265ab60 M    760   ntoskrnl.exe!KeInitializeGuardedMutex (nt!KeInitializeGuardedMutex)\n"
       ]
      },
      {
       "output_type": "stream",
       "stream": "stdout",
       "text": [
        "0xf8000272c870 M    761   ntoskrnl.exe!KeInitializeInterrupt (nt!KeInitializeInterrupt)\n"
       ]
      },
      {
       "output_type": "stream",
       "stream": "stdout",
       "text": [
        "0xf8000265b174 M    762   ntoskrnl.exe!KeInitializeMutant (nt!KeInitializeMutant)\n"
       ]
      },
      {
       "output_type": "stream",
       "stream": "stdout",
       "text": [
        "0xf80002642060 M    763   ntoskrnl.exe!KeInitializeMutex (nt!KeInitializeMutex)\n"
       ]
      },
      {
       "output_type": "stream",
       "stream": "stdout",
       "text": [
        "0xf80002676830 M    764   ntoskrnl.exe!KeInitializeQueue (nt!KeInitializeQueue)\n"
       ]
      },
      {
       "output_type": "stream",
       "stream": "stdout",
       "text": [
        "0xf8000266f730 M    765   ntoskrnl.exe!KeInitializeSemaphore (nt!KeInitializeSemaphore)\n"
       ]
      },
      {
       "output_type": "stream",
       "stream": "stdout",
       "text": [
        "0xf8000272cab0 M    766   ntoskrnl.exe!KeInitializeThreadedDpc (nt!KeInitializeThreadedDpc)\n"
       ]
      },
      {
       "output_type": "stream",
       "stream": "stdout",
       "text": [
        "0xf8000265698c M    767   ntoskrnl.exe!KeInitializeTimer (nt!KeInitializeTimer)\n"
       ]
      },
      {
       "output_type": "stream",
       "stream": "stdout",
       "text": [
        "0xf8000266eafc M    768   ntoskrnl.exe!KeInitializeTimerEx (nt!KeInitializeTimerEx)\n"
       ]
      },
      {
       "output_type": "stream",
       "stream": "stdout",
       "text": [
        "0xf800027430a0 M    769   ntoskrnl.exe!KeInsertByKeyDeviceQueue (nt!KeInsertByKeyDeviceQueue)\n"
       ]
      },
      {
       "output_type": "stream",
       "stream": "stdout",
       "text": [
        "0xf80002743180 M    770   ntoskrnl.exe!KeInsertDeviceQueue (nt!KeInsertDeviceQueue)\n"
       ]
      },
      {
       "output_type": "stream",
       "stream": "stdout",
       "text": [
        "0xf80002649b90 M    771   ntoskrnl.exe!KeInsertHeadQueue (nt!KeInsertHeadQueue)\n"
       ]
      },
      {
       "output_type": "stream",
       "stream": "stdout",
       "text": [
        "0xf80002686fb0 M    772   ntoskrnl.exe!KeInsertQueue (nt!KeInsertQueue)     \n"
       ]
      },
      {
       "output_type": "stream",
       "stream": "stdout",
       "text": [
        "0xf800026707d0 M    773   ntoskrnl.exe!KeInsertQueueApc (nt!KeInsertQueueApc)\n"
       ]
      },
      {
       "output_type": "stream",
       "stream": "stdout",
       "text": [
        "0xf8000267b4f0 M    774   ntoskrnl.exe!KeInsertQueueDpc (nt!KeInsertQueueDpc)\n"
       ]
      },
      {
       "output_type": "stream",
       "stream": "stdout",
       "text": [
        "0xf8000269d0c0 M    775   ntoskrnl.exe!KeInterlockedClearProcessorAffinityEx (nt!KeInterlockedClearProcessorAffinityEx)\n"
       ]
      },
      {
       "output_type": "stream",
       "stream": "stdout",
       "text": [
        "0xf8000269d060 M    776   ntoskrnl.exe!KeInterlockedSetProcessorAffinityEx (nt!KeInterlockedSetProcessorAffinityEx)\n"
       ]
      },
      {
       "output_type": "stream",
       "stream": "stdout",
       "text": [
        "0xf800027385c0 M    777   ntoskrnl.exe!KeInvalidateAllCaches (nt!KeInvalidateAllCaches)\n"
       ]
      },
      {
       "output_type": "stream",
       "stream": "stdout",
       "text": [
        "0xf80002736cb0 M    778   ntoskrnl.exe!KeInvalidateRangeAllCaches (nt!KeInvalidateRangeAllCaches)\n"
       ]
      },
      {
       "output_type": "stream",
       "stream": "stdout",
       "text": [
        "0xf8000273f3b0 M    779   ntoskrnl.exe!KeIpiGenericCall (nt!KeIpiGenericCall)\n"
       ]
      },
      {
       "output_type": "stream",
       "stream": "stdout",
       "text": [
        "0xf800026ddc30 M    780   ntoskrnl.exe!KeIsAttachedProcess (nt!KeIsAttachedProcess)\n"
       ]
      },
      {
       "output_type": "stream",
       "stream": "stdout",
       "text": [
        "0xf80002720c00 M    781   ntoskrnl.exe!KeIsEmptyAffinityEx (nt!KeIsEmptyAffinityEx)\n"
       ]
      },
      {
       "output_type": "stream",
       "stream": "stdout",
       "text": [
        "0xf80002720b80 M    782   ntoskrnl.exe!KeIsEqualAffinityEx (nt!KeIsEqualAffinityEx)\n"
       ]
      },
      {
       "output_type": "stream",
       "stream": "stdout",
       "text": [
        "0xf80002657010 M    783   ntoskrnl.exe!KeIsExecutingDpc (nt!KeIsExecutingDpc)\n"
       ]
      },
      {
       "output_type": "stream",
       "stream": "stdout",
       "text": [
        "0xf80002720710 M    784   ntoskrnl.exe!KeIsSingleGroupAffinityEx (nt!KeIsSingleGroupAffinityEx)\n"
       ]
      },
      {
       "output_type": "stream",
       "stream": "stdout",
       "text": [
        "0xf8000272cd30 M    785   ntoskrnl.exe!KeIsSubsetAffinityEx (nt!KeIsSubsetAffinityEx)\n"
       ]
      },
      {
       "output_type": "stream",
       "stream": "stdout",
       "text": [
        "0xf80002a0e0b0 M    786   ntoskrnl.exe!KeIsWaitListEmpty (nt!KeIsWaitListEmpty)\n"
       ]
      },
      {
       "output_type": "stream",
       "stream": "stdout",
       "text": [
        "0xf800028c78fc M    787   ntoskrnl.exe!KeLastBranchMSR (nt!KeLastBranchMSR) \n"
       ]
      },
      {
       "output_type": "stream",
       "stream": "stdout",
       "text": [
        "0xf8000269cb50 M    788   ntoskrnl.exe!KeLeaveCriticalRegion (nt!KeLeaveCriticalRegion)\n"
       ]
      },
      {
       "output_type": "stream",
       "stream": "stdout",
       "text": [
        "0xf800026a8d20 M    789   ntoskrnl.exe!KeLeaveGuardedRegion (nt!KeLeaveGuardedRegion)\n"
       ]
      },
      {
       "output_type": "stream",
       "stream": "stdout",
       "text": [
        "0xf800028c85e8 M    790   ntoskrnl.exe!KeLoaderBlock (nt!KeLoaderBlockExported)\n"
       ]
      },
      {
       "output_type": "stream",
       "stream": "stdout",
       "text": [
        "0xf800026ddbe8 M    791   ntoskrnl.exe!KeLowerIrql (nt!KeLowerIrql)         \n"
       ]
      },
      {
       "output_type": "stream",
       "stream": "stdout",
       "text": [
        "0xf800028c70fd M    792   ntoskrnl.exe!KeNumberProcessors (nt!KeNumberProcessorsGroup0)\n"
       ]
      },
      {
       "output_type": "stream",
       "stream": "stdout",
       "text": [
        "0xf800027209b0 M    793   ntoskrnl.exe!KeOrAffinityEx (nt!KeOrAffinityEx)   \n"
       ]
      },
      {
       "output_type": "stream",
       "stream": "stdout",
       "text": [
        "0xf80002647a04 M    794   ntoskrnl.exe!KeProcessorGroupAffinity (nt!KeProcessorGroupAffinity)\n"
       ]
      },
      {
       "output_type": "stream",
       "stream": "stdout",
       "text": [
        "0xf80002688710 M    795   ntoskrnl.exe!KeProfileInterruptWithSource (nt!KeProfileInterruptWithSource)\n"
       ]
      },
      {
       "output_type": "stream",
       "stream": "stdout",
       "text": [
        "0xf80002631550 M    796   ntoskrnl.exe!KePulseEvent (nt!KePulseEvent)       \n"
       ]
      },
      {
       "output_type": "stream",
       "stream": "stdout",
       "text": [
        "0xf80002680860 M    797   ntoskrnl.exe!KeQueryActiveGroupCount (nt!KeQueryActiveGroupCount)\n"
       ]
      },
      {
       "output_type": "stream",
       "stream": "stdout",
       "text": [
        "0xf800027216c0 M    798   ntoskrnl.exe!KeQueryActiveProcessorAffinity (nt!KeQueryActiveProcessorAffinity)\n"
       ]
      },
      {
       "output_type": "stream",
       "stream": "stdout",
       "text": [
        "0xf80002721710 M    799   ntoskrnl.exe!KeQueryActiveProcessorCount (nt!KeQueryActiveProcessorCount)\n"
       ]
      },
      {
       "output_type": "stream",
       "stream": "stdout",
       "text": [
        "0xf8000269e4dc M    800   ntoskrnl.exe!KeQueryActiveProcessorCountEx (nt!KeQueryActiveProcessorCountEx)\n"
       ]
      },
      {
       "output_type": "stream",
       "stream": "stdout",
       "text": [
        "0xf800027217e0 M    801   ntoskrnl.exe!KeQueryActiveProcessors (nt!KeQueryActiveProcessors)\n"
       ]
      },
      {
       "output_type": "stream",
       "stream": "stdout",
       "text": [
        "0xf80002659440 M    802   ntoskrnl.exe!KeQueryDpcWatchdogInformation (nt!KeQueryDpcWatchdogInformation)\n"
       ]
      },
      {
       "output_type": "stream",
       "stream": "stdout",
       "text": [
        "0xf8000264da90 M    803   ntoskrnl.exe!KeQueryGroupAffinity (nt!KeQueryGroupAffinity)\n"
       ]
      },
      {
       "output_type": "stream",
       "stream": "stdout",
       "text": [
        "0xf8000264da78 M    804   ntoskrnl.exe!KeQueryGroupAffinityEx (nt!KeQueryGroupAffinityEx)\n"
       ]
      },
      {
       "output_type": "stream",
       "stream": "stdout",
       "text": [
        "0xf80002a01ba0 M    805   ntoskrnl.exe!KeQueryHardwareCounterConfiguration (nt!KeQueryHardwareCounterConfiguration)\n"
       ]
      },
      {
       "output_type": "stream",
       "stream": "stdout",
       "text": [
        "0xf800026603c0 M    806   ntoskrnl.exe!KeQueryHighestNodeNumber (nt!KeQueryHighestNodeNumber)\n"
       ]
      },
      {
       "output_type": "stream",
       "stream": "stdout",
       "text": [
        "0xf80002676880 M    807   ntoskrnl.exe!KeQueryLogicalProcessorRelationship (nt!KeQueryLogicalProcessorRelationship)\n"
       ]
      },
      {
       "output_type": "stream",
       "stream": "stdout",
       "text": [
        "0xf80002638ebc M    808   ntoskrnl.exe!KeQueryMaximumGroupCount (nt!KeQueryMaximumGroupCount)\n"
       ]
      },
      {
       "output_type": "stream",
       "stream": "stdout",
       "text": [
        "0xf8000272d310 M    809   ntoskrnl.exe!KeQueryMaximumProcessorCount (nt!KeQueryMaximumProcessorCount)\n"
       ]
      },
      {
       "output_type": "stream",
       "stream": "stdout",
       "text": [
        "0xf8000269b710 M    810   ntoskrnl.exe!KeQueryMaximumProcessorCountEx (nt!KeQueryMaximumProcessorCountEx)\n"
       ]
      },
      {
       "output_type": "stream",
       "stream": "stdout",
       "text": [
        "0xf80002660364 M    811   ntoskrnl.exe!KeQueryNodeActiveAffinity (nt!KeQueryNodeActiveAffinity)\n"
       ]
      },
      {
       "output_type": "stream",
       "stream": "stdout",
       "text": [
        "0xf80002721690 M    812   ntoskrnl.exe!KeQueryNodeMaximumProcessorCount (nt!KeQueryNodeMaximumProcessorCount)\n"
       ]
      },
      {
       "output_type": "stream",
       "stream": "stdout",
       "text": [
        "0xf800026480fc M    813   ntoskrnl.exe!KeQueryPrcbAddress (nt!KeQueryPrcbAddress)\n"
       ]
      },
      {
       "output_type": "stream",
       "stream": "stdout",
       "text": [
        "0xf80002679434 M    814   ntoskrnl.exe!KeQueryPriorityThread (nt!KeQueryPriorityThread)\n"
       ]
      },
      {
       "output_type": "stream",
       "stream": "stdout",
       "text": [
        "0xf80002721bf0 M    815   ntoskrnl.exe!KeQueryRuntimeThread (nt!KeQueryRuntimeThread)\n"
       ]
      },
      {
       "output_type": "stream",
       "stream": "stdout",
       "text": [
        "0xf8000267c0bc M    816   ntoskrnl.exe!KeQueryTimeIncrement (nt!KeQueryTimeIncrement)\n"
       ]
      },
      {
       "output_type": "stream",
       "stream": "stdout",
       "text": [
        "0xf80002721b50 M    817   ntoskrnl.exe!KeQueryUnbiasedInterruptTime (nt!KeQueryUnbiasedInterruptTime)\n"
       ]
      },
      {
       "output_type": "stream",
       "stream": "stdout",
       "text": [
        "0xf800026ddce0 M    818   ntoskrnl.exe!KeRaiseIrqlToDpcLevel (nt!KeRaiseIrqlToDpcLevel)\n"
       ]
      },
      {
       "output_type": "stream",
       "stream": "stdout",
       "text": [
        "0xf8000272c6f0 M    819   ntoskrnl.exe!KeRaiseUserException (nt!KeRaiseUserException)\n"
       ]
      },
      {
       "output_type": "stream",
       "stream": "stdout",
       "text": [
        "0xf800026a9130 M    820   ntoskrnl.exe!KeReadStateEvent (nt!KeReadStateQueue)\n"
       ]
      },
      {
       "output_type": "stream",
       "stream": "stdout",
       "text": [
        "0xf8000272c860 M    821   ntoskrnl.exe!KeReadStateMutant (nt!KeReadStateSemaphore)\n"
       ]
      },
      {
       "output_type": "stream",
       "stream": "stdout",
       "text": [
        "0xf8000272c860 M    822   ntoskrnl.exe!KeReadStateMutex (nt!KeReadStateSemaphore)\n"
       ]
      },
      {
       "output_type": "stream",
       "stream": "stdout",
       "text": [
        "0xf800026a9130 M    823   ntoskrnl.exe!KeReadStateQueue (nt!KeReadStateQueue)\n"
       ]
      },
      {
       "output_type": "stream",
       "stream": "stdout",
       "text": [
        "0xf8000272c860 M    824   ntoskrnl.exe!KeReadStateSemaphore (nt!KeReadStateSemaphore)\n"
       ]
      },
      {
       "output_type": "stream",
       "stream": "stdout",
       "text": [
        "0xf800027217f0 M    825   ntoskrnl.exe!KeReadStateTimer (nt!KeReadStateTimer)\n"
       ]
      },
      {
       "output_type": "stream",
       "stream": "stdout",
       "text": [
        "0xf8000273fed0 M    826   ntoskrnl.exe!KeRegisterBugCheckCallback (nt!KeRegisterBugCheckCallback)\n"
       ]
      },
      {
       "output_type": "stream",
       "stream": "stdout",
       "text": [
        "0xf8000273fbc0 M    827   ntoskrnl.exe!KeRegisterBugCheckReasonCallback (nt!KeRegisterBugCheckReasonCallback)\n"
       ]
      },
      {
       "output_type": "stream",
       "stream": "stdout",
       "text": [
        "0xf80002798390 M    828   ntoskrnl.exe!KeRegisterNmiCallback (nt!KeRegisterNmiCallback)\n"
       ]
      },
      {
       "output_type": "stream",
       "stream": "stdout",
       "text": [
        "0xf80002ab3850 M    829   ntoskrnl.exe!KeRegisterProcessorChangeCallback (nt!KeRegisterProcessorChangeCallback)\n"
       ]
      },
      {
       "output_type": "stream",
       "stream": "stdout",
       "text": [
        "0xf800026a7f80 M    830   ntoskrnl.exe!KeReleaseGuardedMutex (nt!KeReleaseGuardedMutex)\n"
       ]
      },
      {
       "output_type": "stream",
       "stream": "stdout",
       "text": [
        "0xf8000274f460 M    831   ntoskrnl.exe!KeReleaseGuardedMutexUnsafe (nt!KeReleaseGuardedMutexUnsafe)\n"
       ]
      },
      {
       "output_type": "stream",
       "stream": "stdout",
       "text": [
        "0xf800026a25f0 M    832   ntoskrnl.exe!KeReleaseInStackQueuedSpinLock (nt!KeReleaseInStackQueuedSpinLock)\n"
       ]
      },
      {
       "output_type": "stream",
       "stream": "stdout",
       "text": [
        "0xf800027402a0 M    833   ntoskrnl.exe!KeReleaseInStackQueuedSpinLockForDpc (nt!KeReleaseInStackQueuedSpinLockForDpc)\n"
       ]
      },
      {
       "output_type": "stream",
       "stream": "stdout",
       "text": [
        "0xf8000269e3b0 M    834   ntoskrnl.exe!KeReleaseInStackQueuedSpinLockFromDpcLevel (nt!KeReleaseInStackQueuedSpinLockFromDpcLevel)\n"
       ]
      },
      {
       "output_type": "stream",
       "stream": "stdout",
       "text": [
        "0xf80002735dd0 M    835   ntoskrnl.exe!KeReleaseInterruptSpinLock (nt!KeReleaseInterruptSpinLock)\n"
       ]
      },
      {
       "output_type": "stream",
       "stream": "stdout",
       "text": [
        "0xf80002699bc0 M    836   ntoskrnl.exe!KeReleaseMutant (nt!KeReleaseMutant) \n"
       ]
      },
      {
       "output_type": "stream",
       "stream": "stdout",
       "text": [
        "0xf8000269ced0 M    837   ntoskrnl.exe!KeReleaseMutex (nt!KeReleaseMutex)   \n"
       ]
      },
      {
       "output_type": "stream",
       "stream": "stdout",
       "text": [
        "0xf800026b6b10 M    838   ntoskrnl.exe!KeReleaseQueuedSpinLock (nt!KeReleaseQueuedSpinLock)\n"
       ]
      },
      {
       "output_type": "stream",
       "stream": "stdout",
       "text": [
        "0xf800026a7a50 M    839   ntoskrnl.exe!KeReleaseSemaphore (nt!KeReleaseSemaphore)\n"
       ]
      },
      {
       "output_type": "stream",
       "stream": "stdout",
       "text": [
        "0xf8000269e440 M    840   ntoskrnl.exe!KeReleaseSpinLock (nt!KeReleaseSpinLock)\n"
       ]
      },
      {
       "output_type": "stream",
       "stream": "stdout",
       "text": [
        "0xf80002735e30 M    841   ntoskrnl.exe!KeReleaseSpinLockForDpc (nt!KeReleaseSpinLockForDpc)\n"
       ]
      },
      {
       "output_type": "stream",
       "stream": "stdout",
       "text": [
        "0xf8000269e480 M    842   ntoskrnl.exe!KeReleaseSpinLockFromDpcLevel (nt!KeReleaseSpinLockFromDpcLevel)\n"
       ]
      },
      {
       "output_type": "stream",
       "stream": "stdout",
       "text": [
        "0xf80002742ef0 M    843   ntoskrnl.exe!KeRemoveByKeyDeviceQueue (nt!KeRemoveByKeyDeviceQueue)\n"
       ]
      },
      {
       "output_type": "stream",
       "stream": "stdout",
       "text": [
        "0xf80002742e00 M    844   ntoskrnl.exe!KeRemoveByKeyDeviceQueueIfBusy (nt!KeRemoveByKeyDeviceQueueIfBusy)\n"
       ]
      },
      {
       "output_type": "stream",
       "stream": "stdout",
       "text": [
        "0xf80002742ff0 M    845   ntoskrnl.exe!KeRemoveDeviceQueue (nt!KeRemoveDeviceQueue)\n"
       ]
      },
      {
       "output_type": "stream",
       "stream": "stdout",
       "text": [
        "0xf8000273f5a0 M    846   ntoskrnl.exe!KeRemoveEntryDeviceQueue (nt!KeRemoveEntryDeviceQueue)\n"
       ]
      },
      {
       "output_type": "stream",
       "stream": "stdout",
       "text": [
        "0xf80002720c40 M    847   ntoskrnl.exe!KeRemoveGroupAffinityEx (nt!KeRemoveGroupAffinityEx)\n"
       ]
      },
      {
       "output_type": "stream",
       "stream": "stdout",
       "text": [
        "0xf8000272cdf0 M    848   ntoskrnl.exe!KeRemoveProcessorAffinityEx (nt!KeRemoveProcessorAffinityEx)\n"
       ]
      },
      {
       "output_type": "stream",
       "stream": "stdout",
       "text": [
        "0xf8000272cbc0 M    849   ntoskrnl.exe!KeRemoveProcessorGroupAffinity (nt!KeRemoveProcessorGroupAffinity)\n"
       ]
      },
      {
       "output_type": "stream",
       "stream": "stdout",
       "text": [
        "0xf80002686f70 M    850   ntoskrnl.exe!KeRemoveQueue (nt!KeRemoveQueue)     \n"
       ]
      },
      {
       "output_type": "stream",
       "stream": "stdout",
       "text": [
        "0xf8000273f620 M    851   ntoskrnl.exe!KeRemoveQueueDpc (nt!KeRemoveQueueDpc)\n"
       ]
      },
      {
       "output_type": "stream",
       "stream": "stdout",
       "text": [
        "0xf8000269b7c0 M    852   ntoskrnl.exe!KeRemoveQueueEx (nt!KeRemoveQueueEx) \n"
       ]
      },
      {
       "output_type": "stream",
       "stream": "stdout",
       "text": [
        "0xf80002a01c50 M    853   ntoskrnl.exe!KeRemoveSystemServiceTable (nt!KeRemoveSystemServiceTable)\n"
       ]
      },
      {
       "output_type": "stream",
       "stream": "stdout",
       "text": [
        "0xf800026a2b50 M    854   ntoskrnl.exe!KeResetEvent (nt!KeResetEvent)       \n"
       ]
      },
      {
       "output_type": "stream",
       "stream": "stdout",
       "text": [
        "0xf800027a0b80 M    855   ntoskrnl.exe!KeRestoreExtendedProcessorState (nt!KeRestoreExtendedProcessorState)\n"
       ]
      },
      {
       "output_type": "stream",
       "stream": "stdout",
       "text": [
        "0xf800026b5f00 M    856   ntoskrnl.exe!KeRestoreFloatingPointState (nt!xKdMapPhysicalMemory64)\n"
       ]
      },
      {
       "output_type": "stream",
       "stream": "stdout",
       "text": [
        "0xf8000262677c M    857   ntoskrnl.exe!KeRevertToUserAffinityThread (nt!KeRevertToUserAffinityThread)\n"
       ]
      },
      {
       "output_type": "stream",
       "stream": "stdout",
       "text": [
        "0xf8000274cb40 M    858   ntoskrnl.exe!KeRevertToUserAffinityThreadEx (nt!KeRevertToUserAffinityThreadEx)\n"
       ]
      },
      {
       "output_type": "stream",
       "stream": "stdout",
       "text": [
        "0xf80002648790 M    859   ntoskrnl.exe!KeRevertToUserGroupAffinityThread (nt!KeRevertToUserGroupAffinityThread)\n"
       ]
      },
      {
       "output_type": "stream",
       "stream": "stdout",
       "text": [
        "0xf8000274e780 M    860   ntoskrnl.exe!KeRundownQueue (nt!KeRundownQueue)   \n"
       ]
      },
      {
       "output_type": "stream",
       "stream": "stdout",
       "text": [
        "0xf80002799f90 M    861   ntoskrnl.exe!KeSaveExtendedProcessorState (nt!KeSaveExtendedProcessorState)\n"
       ]
      },
      {
       "output_type": "stream",
       "stream": "stdout",
       "text": [
        "0xf800026b5f00 M    862   ntoskrnl.exe!KeSaveFloatingPointState (nt!xKdMapPhysicalMemory64)\n"
       ]
      },
      {
       "output_type": "stream",
       "stream": "stdout",
       "text": [
        "0xf80002720340 M    863   ntoskrnl.exe!KeSaveStateForHibernate (nt!KeSaveStateForHibernate)\n"
       ]
      },
      {
       "output_type": "stream",
       "stream": "stdout",
       "text": [
        "0xf80002636bf4 M    864   ntoskrnl.exe!KeSetActualBasePriorityThread (nt!KeSetActualBasePriorityThread)\n"
       ]
      },
      {
       "output_type": "stream",
       "stream": "stdout",
       "text": [
        "0xf80002620e84 M    865   ntoskrnl.exe!KeSetAffinityThread (nt!KeSetLegacyAffinityThread)\n"
       ]
      },
      {
       "output_type": "stream",
       "stream": "stdout",
       "text": [
        "0xf80002666e90 M    866   ntoskrnl.exe!KeSetBasePriorityThread (nt!KeSetBasePriorityThread)\n"
       ]
      },
      {
       "output_type": "stream",
       "stream": "stdout",
       "text": [
        "0xf800026a2ba8 M    867   ntoskrnl.exe!KeSetCoalescableTimer (nt!KeSetCoalescableTimer)\n"
       ]
      },
      {
       "output_type": "stream",
       "stream": "stdout",
       "text": [
        "0xf80002721b40 M    868   ntoskrnl.exe!KeSetDmaIoCoherency (nt!KeSetDmaIoCoherency)\n"
       ]
      },
      {
       "output_type": "stream",
       "stream": "stdout",
       "text": [
        "0xf80002694e90 M    869   ntoskrnl.exe!KeSetEvent (nt!KeSetEvent)           \n"
       ]
      },
      {
       "output_type": "stream",
       "stream": "stdout",
       "text": [
        "0xf80002659c20 M    870   ntoskrnl.exe!KeSetEventBoostPriority (nt!KeSetEventBoostPriority)\n"
       ]
      },
      {
       "output_type": "stream",
       "stream": "stdout",
       "text": [
        "0xf80002a01b40 M    871   ntoskrnl.exe!KeSetHardwareCounterConfiguration (nt!KeSetHardwareCounterConfiguration)\n"
       ]
      },
      {
       "output_type": "stream",
       "stream": "stdout",
       "text": [
        "0xf8000264e024 M    872   ntoskrnl.exe!KeSetIdealProcessorThread (nt!KeSetIdealProcessorThread)\n"
       ]
      },
      {
       "output_type": "stream",
       "stream": "stdout",
       "text": [
        "0xf80002720610 M    873   ntoskrnl.exe!KeSetImportanceDpc (nt!KeSetImportanceDpc)\n"
       ]
      },
      {
       "output_type": "stream",
       "stream": "stdout",
       "text": [
        "0xf800026615c0 M    874   ntoskrnl.exe!KeSetKernelStackSwapEnable (nt!KeSetKernelStackSwapEnable)\n"
       ]
      },
      {
       "output_type": "stream",
       "stream": "stdout",
       "text": [
        "0xf800026853a8 M    875   ntoskrnl.exe!KeSetPriorityThread (nt!KeSetPriorityThread)\n"
       ]
      },
      {
       "output_type": "stream",
       "stream": "stdout",
       "text": [
        "0xf80002b8f860 -    876   ntoskrnl.exe!KeSetProfileIrql (nt!KeSetProfileIrql)\n"
       ]
      },
      {
       "output_type": "stream",
       "stream": "stdout",
       "text": [
        "0xf8000274d970 M    877   ntoskrnl.exe!KeSetSystemAffinityThread (nt!KeSetSystemAffinityThread)\n"
       ]
      },
      {
       "output_type": "stream",
       "stream": "stdout",
       "text": [
        "0xf8000274cad0 M    878   ntoskrnl.exe!KeSetSystemAffinityThreadEx (nt!KeSetSystemAffinityThreadEx)\n"
       ]
      },
      {
       "output_type": "stream",
       "stream": "stdout",
       "text": [
        "0xf8000264cd00 M    879   ntoskrnl.exe!KeSetSystemGroupAffinityThread (nt!KeSetSystemGroupAffinityThread)\n"
       ]
      },
      {
       "output_type": "stream",
       "stream": "stdout",
       "text": [
        "0xf8000272c9d0 M    880   ntoskrnl.exe!KeSetTargetProcessorDpc (nt!KeSetTargetProcessorDpc)\n"
       ]
      },
      {
       "output_type": "stream",
       "stream": "stdout",
       "text": [
        "0xf8000272c960 M    881   ntoskrnl.exe!KeSetTargetProcessorDpcEx (nt!KeSetTargetProcessorDpcEx)\n"
       ]
      },
      {
       "output_type": "stream",
       "stream": "stdout",
       "text": [
        "0xf8000272d320 M    882   ntoskrnl.exe!KeSetTimeIncrement (nt!KeSetTimeIncrement)\n"
       ]
      },
      {
       "output_type": "stream",
       "stream": "stdout",
       "text": [
        "0xf8000269d4cc M    883   ntoskrnl.exe!KeSetTimer (nt!KeSetTimer)           \n"
       ]
      },
      {
       "output_type": "stream",
       "stream": "stdout",
       "text": [
        "0xf8000269eb80 M    884   ntoskrnl.exe!KeSetTimerEx (nt!KeSetTimerEx)       \n"
       ]
      },
      {
       "output_type": "stream",
       "stream": "stdout",
       "text": [
        "0xf80002720600 M    885   ntoskrnl.exe!KeSignalCallDpcDone (nt!KeSignalCallDpcDone)\n"
       ]
      },
      {
       "output_type": "stream",
       "stream": "stdout",
       "text": [
        "0xf80002736d50 M    886   ntoskrnl.exe!KeSignalCallDpcSynchronize (nt!KeSignalCallDpcSynchronize)\n"
       ]
      },
      {
       "output_type": "stream",
       "stream": "stdout",
       "text": [
        "0xf8000266c7b0 M    887   ntoskrnl.exe!KeStackAttachProcess (nt!KeStackAttachProcess)\n"
       ]
      },
      {
       "output_type": "stream",
       "stream": "stdout",
       "text": [
        "0xf80002b090f0 M    888   ntoskrnl.exe!KeStartDynamicProcessor (nt!KeStartDynamicProcessor)\n"
       ]
      },
      {
       "output_type": "stream",
       "stream": "stdout",
       "text": [
        "0xf80002720880 M    889   ntoskrnl.exe!KeSubtractAffinityEx (nt!KeSubtractAffinityEx)\n"
       ]
      },
      {
       "output_type": "stream",
       "stream": "stdout",
       "text": [
        "0xf8000268c710 M    890   ntoskrnl.exe!KeSynchronizeExecution (nt!KeSynchronizeExecution)\n"
       ]
      },
      {
       "output_type": "stream",
       "stream": "stdout",
       "text": [
        "0xf8000266eb30 M    891   ntoskrnl.exe!KeTestAlertThread (nt!KeTestAlertThread)\n"
       ]
      },
      {
       "output_type": "stream",
       "stream": "stdout",
       "text": [
        "0xf8000269e280 M    892   ntoskrnl.exe!KeTestSpinLock (nt!KeTestSpinLock)   \n"
       ]
      },
      {
       "output_type": "stream",
       "stream": "stdout",
       "text": [
        "0xf800026a8d68 M    893   ntoskrnl.exe!KeTryToAcquireGuardedMutex (nt!KeTryToAcquireGuardedMutex)\n"
       ]
      },
      {
       "output_type": "stream",
       "stream": "stdout",
       "text": [
        "0xf8000264ddc0 M    894   ntoskrnl.exe!KeTryToAcquireQueuedSpinLock (nt!KeTryToAcquireQueuedSpinLock)\n"
       ]
      },
      {
       "output_type": "stream",
       "stream": "stdout",
       "text": [
        "0xf80002733580 M    895   ntoskrnl.exe!KeTryToAcquireQueuedSpinLockRaiseToSynch (nt!KeTryToAcquireQueuedSpinLockRaiseToSynch)\n"
       ]
      },
      {
       "output_type": "stream",
       "stream": "stdout",
       "text": [
        "0xf8000262c500 M    896   ntoskrnl.exe!KeTryToAcquireSpinLockAtDpcLevel (nt!KeTryToAcquireSpinLockAtDpcLevel)\n"
       ]
      },
      {
       "output_type": "stream",
       "stream": "stdout",
       "text": [
        "0xf8000266c490 M    897   ntoskrnl.exe!KeUnstackDetachProcess (nt!KeUnstackDetachProcess)\n"
       ]
      },
      {
       "output_type": "stream",
       "stream": "stdout",
       "text": [
        "0xf8000269dd60 M    898   ntoskrnl.exe!KeUpdateRunTime (nt!KeUpdateRunTime) \n"
       ]
      },
      {
       "output_type": "stream",
       "stream": "stdout",
       "text": [
        "0xf80002699280 M    899   ntoskrnl.exe!KeUpdateSystemTime (nt!KeUpdateSystemTime)\n"
       ]
      },
      {
       "output_type": "stream",
       "stream": "stdout",
       "text": [
        "0xf8000298067c M    900   ntoskrnl.exe!KeUserModeCallback (nt!KeUserModeCallback)\n"
       ]
      },
      {
       "output_type": "stream",
       "stream": "stdout",
       "text": [
        "0xf800026942e0 M    901   ntoskrnl.exe!KeWaitForMultipleObjects (nt!KeWaitForMultipleObjects)\n"
       ]
      },
      {
       "output_type": "stream",
       "stream": "stdout",
       "text": [
        "0xf8000269a010 M    902   ntoskrnl.exe!KeWaitForMutexObject (nt!KeWaitForSingleObject)\n"
       ]
      },
      {
       "output_type": "stream",
       "stream": "stdout",
       "text": [
        "0xf8000269a010 M    903   ntoskrnl.exe!KeWaitForSingleObject (nt!KeWaitForSingleObject)\n"
       ]
      },
      {
       "output_type": "stream",
       "stream": "stdout",
       "text": [
        "0xf800026ddcc4 M    904   ntoskrnl.exe!KfRaiseIrql (nt!KfRaiseIrql)         \n"
       ]
      },
      {
       "output_type": "stream",
       "stream": "stdout",
       "text": [
        "0xf800028899c0 M    905   ntoskrnl.exe!KiBugCheckData (nt!KiBugCheckData)   \n"
       ]
      },
      {
       "output_type": "stream",
       "stream": "stdout",
       "text": [
        "0xf80002642b84 M    906   ntoskrnl.exe!KiCheckForKernelApcDelivery (nt!KiCheckForKernelApcDelivery)\n"
       ]
      },
      {
       "output_type": "stream",
       "stream": "stdout",
       "text": [
        "0xf80002688810 M    907   ntoskrnl.exe!KiCpuId (nt!KiCpuId)                 \n"
       ]
      },
      {
       "output_type": "stream",
       "stream": "stdout",
       "text": [
        "0xf80002a426b0 M    908   ntoskrnl.exe!LdrAccessResource (nt!LdrAccessResource)\n"
       ]
      },
      {
       "output_type": "stream",
       "stream": "stdout",
       "text": [
        "0xf80002a16af0 M    909   ntoskrnl.exe!LdrEnumResources (nt!LdrEnumResources)\n"
       ]
      },
      {
       "output_type": "stream",
       "stream": "stdout",
       "text": [
        "0xf80002a6b910 M    910   ntoskrnl.exe!LdrFindResourceDirectory_U (nt!LdrFindResourceDirectory_U)\n"
       ]
      },
      {
       "output_type": "stream",
       "stream": "stdout",
       "text": [
        "0xf80002a6b930 M    911   ntoskrnl.exe!LdrFindResourceEx_U (nt!LdrFindResourceEx_U)\n"
       ]
      },
      {
       "output_type": "stream",
       "stream": "stdout",
       "text": [
        "0xf80002a6b970 M    912   ntoskrnl.exe!LdrFindResource_U (nt!LdrFindResource_U)\n"
       ]
      },
      {
       "output_type": "stream",
       "stream": "stdout",
       "text": [
        "0xf80002a43f70 M    913   ntoskrnl.exe!LdrResFindResource (nt!LdrResFindResource)\n"
       ]
      },
      {
       "output_type": "stream",
       "stream": "stdout",
       "text": [
        "0xf80002a43ee0 M    914   ntoskrnl.exe!LdrResFindResourceDirectory (nt!LdrResFindResourceDirectory)\n"
       ]
      },
      {
       "output_type": "stream",
       "stream": "stdout",
       "text": [
        "0xf800029410d4 M    915   ntoskrnl.exe!LdrResSearchResource (nt!LdrResSearchResource)\n"
       ]
      },
      {
       "output_type": "stream",
       "stream": "stdout",
       "text": [
        "0xf80002889868 M    916   ntoskrnl.exe!LpcPortObjectType (nt!LpcPortObjectType)\n"
       ]
      },
      {
       "output_type": "stream",
       "stream": "stdout",
       "text": [
        "0xf80002a823f0 M    917   ntoskrnl.exe!LpcReplyWaitReplyPort (nt!LpcReplyWaitReplyPort)\n"
       ]
      },
      {
       "output_type": "stream",
       "stream": "stdout",
       "text": [
        "0xf80002973e90 M    918   ntoskrnl.exe!LpcRequestPort (nt!LpcRequestPort)   \n"
       ]
      },
      {
       "output_type": "stream",
       "stream": "stdout",
       "text": [
        "0xf80002a82380 M    919   ntoskrnl.exe!LpcRequestWaitReplyPort (nt!LpcRequestWaitReplyPort)\n"
       ]
      },
      {
       "output_type": "stream",
       "stream": "stdout",
       "text": [
        "0xf80002a823b0 M    920   ntoskrnl.exe!LpcRequestWaitReplyPortEx (nt!LpcRequestWaitReplyPortEx)\n"
       ]
      },
      {
       "output_type": "stream",
       "stream": "stdout",
       "text": [
        "0xf80002a821d0 M    921   ntoskrnl.exe!LpcSendWaitReceivePort (nt!LpcSendWaitReceivePort)\n"
       ]
      },
      {
       "output_type": "stream",
       "stream": "stdout",
       "text": [
        "0xf80002a1a240 M    922   ntoskrnl.exe!LsaCallAuthenticationPackage (nt!LsaCallAuthenticationPackage)\n"
       ]
      },
      {
       "output_type": "stream",
       "stream": "stdout",
       "text": [
        "0xf80002a1a1f0 M    923   ntoskrnl.exe!LsaDeregisterLogonProcess (nt!LsaDeregisterLogonProcess)\n"
       ]
      },
      {
       "output_type": "stream",
       "stream": "stdout",
       "text": [
        "0xf80002a1a1a0 M    924   ntoskrnl.exe!LsaFreeReturnBuffer (nt!LsaFreeReturnBuffer)\n"
       ]
      },
      {
       "output_type": "stream",
       "stream": "stdout",
       "text": [
        "0xf80002a1a0b0 M    925   ntoskrnl.exe!LsaLogonUser (nt!LsaLogonUser)       \n"
       ]
      },
      {
       "output_type": "stream",
       "stream": "stdout",
       "text": [
        "0xf80002a1a060 M    926   ntoskrnl.exe!LsaLookupAuthenticationPackage (nt!LsaLookupAuthenticationPackage)\n"
       ]
      },
      {
       "output_type": "stream",
       "stream": "stdout",
       "text": [
        "0xf80002a1a010 M    927   ntoskrnl.exe!LsaRegisterLogonProcess (nt!LsaRegisterLogonProcess)\n"
       ]
      },
      {
       "output_type": "stream",
       "stream": "stdout",
       "text": [
        "0xf800028c7183 M    928   ntoskrnl.exe!Mm64BitPhysicalAddress (nt!Mm64BitPhysicalAddress)\n"
       ]
      },
      {
       "output_type": "stream",
       "stream": "stdout",
       "text": [
        "0xf800028da1b0 M    929   ntoskrnl.exe!MmAddPhysicalMemory (nt!MmAddPhysicalMemory)\n"
       ]
      },
      {
       "output_type": "stream",
       "stream": "stdout",
       "text": [
        "0xf80002ac7180 M    930   ntoskrnl.exe!MmAddVerifierThunks (nt!MmAddVerifierThunks)\n"
       ]
      },
      {
       "output_type": "stream",
       "stream": "stdout",
       "text": [
        "0xf800028d78d0 M    931   ntoskrnl.exe!MmAdjustWorkingSetSize (nt!MmAdjustWorkingSetSize)\n"
       ]
      },
      {
       "output_type": "stream",
       "stream": "stdout",
       "text": [
        "0xf80002771d00 M    932   ntoskrnl.exe!MmAdvanceMdl (nt!MmAdvanceMdl)       \n"
       ]
      },
      {
       "output_type": "stream",
       "stream": "stdout",
       "text": [
        "0xf800027a2b20 M    933   ntoskrnl.exe!MmAllocateContiguousMemory (nt!MmAllocateContiguousMemory)\n"
       ]
      },
      {
       "output_type": "stream",
       "stream": "stdout",
       "text": [
        "0xf800027a2b60 M    934   ntoskrnl.exe!MmAllocateContiguousMemorySpecifyCache (nt!MmAllocateContiguousMemorySpecifyCache)\n"
       ]
      },
      {
       "output_type": "stream",
       "stream": "stdout",
       "text": [
        "0xf800027a2bc0 M    935   ntoskrnl.exe!MmAllocateContiguousMemorySpecifyCacheNode (nt!MmAllocateContiguousMemorySpecifyCacheNode)\n"
       ]
      },
      {
       "output_type": "stream",
       "stream": "stdout",
       "text": [
        "0xf800029b3c50 M    936   ntoskrnl.exe!MmAllocateMappingAddress (nt!MmAllocateMappingAddress)\n"
       ]
      },
      {
       "output_type": "stream",
       "stream": "stdout",
       "text": [
        "0xf80002ae7ac0 M    937   ntoskrnl.exe!MmAllocateNonCachedMemory (nt!MmAllocateNonCachedMemory)\n"
       ]
      },
      {
       "output_type": "stream",
       "stream": "stdout",
       "text": [
        "0xf800027b2780 M    938   ntoskrnl.exe!MmAllocatePagesForMdl (nt!MmAllocatePagesForMdl)\n"
       ]
      },
      {
       "output_type": "stream",
       "stream": "stdout",
       "text": [
        "0xf800027b26e0 M    939   ntoskrnl.exe!MmAllocatePagesForMdlEx (nt!MmAllocatePagesForMdlEx)\n"
       ]
      },
      {
       "output_type": "stream",
       "stream": "stdout",
       "text": [
        "0xf800028c7138 M    940   ntoskrnl.exe!MmBadPointer (nt!MmBadPointer)       \n"
       ]
      },
      {
       "output_type": "stream",
       "stream": "stdout",
       "text": [
        "0xf800026801f0 M    941   ntoskrnl.exe!MmBuildMdlForNonPagedPool (nt!MmBuildMdlForNonPagedPool)\n"
       ]
      },
      {
       "output_type": "stream",
       "stream": "stdout",
       "text": [
        "0xf800026bf758 M    942   ntoskrnl.exe!MmCanFileBeTruncated (nt!MmCanFileBeTruncated)\n"
       ]
      },
      {
       "output_type": "stream",
       "stream": "stdout",
       "text": [
        "0xf80002900144 M    943   ntoskrnl.exe!MmCommitSessionMappedView (nt!MmCommitSessionMappedView)\n"
       ]
      },
      {
       "output_type": "stream",
       "stream": "stdout",
       "text": [
        "0xf800029387d4 M    944   ntoskrnl.exe!MmCopyVirtualMemory (nt!MmCopyVirtualMemory)\n"
       ]
      },
      {
       "output_type": "stream",
       "stream": "stdout",
       "text": [
        "0xf8000263699c M    945   ntoskrnl.exe!MmCreateMdl (nt!MmCreateMdl)         \n"
       ]
      },
      {
       "output_type": "stream",
       "stream": "stdout",
       "text": [
        "0xf80002abffa0 M    946   ntoskrnl.exe!MmCreateMirror (nt!MmCreateMirror)   \n"
       ]
      },
      {
       "output_type": "stream",
       "stream": "stdout",
       "text": [
        "0xf80002988dac M    947   ntoskrnl.exe!MmCreateSection (nt!MmCreateSection) \n"
       ]
      },
      {
       "output_type": "stream",
       "stream": "stdout",
       "text": [
        "0xf80002663130 M    948   ntoskrnl.exe!MmDisableModifiedWriteOfSection (nt!MmDisableModifiedWriteOfSection)\n"
       ]
      },
      {
       "output_type": "stream",
       "stream": "stdout",
       "text": [
        "0xf800026afd40 M    949   ntoskrnl.exe!MmDoesFileHaveUserWritableReferences (nt!MmDoesFileHaveUserWritableReferences)\n"
       ]
      },
      {
       "output_type": "stream",
       "stream": "stdout",
       "text": [
        "0xf80002661cd0 M    950   ntoskrnl.exe!MmFlushImageSection (nt!MmFlushImageSection)\n"
       ]
      },
      {
       "output_type": "stream",
       "stream": "stdout",
       "text": [
        "0xf80002656744 M    951   ntoskrnl.exe!MmForceSectionClosed (nt!MmForceSectionClosed)\n"
       ]
      },
      {
       "output_type": "stream",
       "stream": "stdout",
       "text": [
        "0xf80002787b30 M    952   ntoskrnl.exe!MmFreeContiguousMemory (nt!MmFreeContiguousMemory)\n"
       ]
      },
      {
       "output_type": "stream",
       "stream": "stdout",
       "text": [
        "0xf80002787cc0 M    953   ntoskrnl.exe!MmFreeContiguousMemorySpecifyCache (nt!MmFreeContiguousMemorySpecifyCache)\n"
       ]
      },
      {
       "output_type": "stream",
       "stream": "stdout",
       "text": [
        "0xf800029b3d10 M    954   ntoskrnl.exe!MmFreeMappingAddress (nt!MmFreeMappingAddress)\n"
       ]
      },
      {
       "output_type": "stream",
       "stream": "stdout",
       "text": [
        "0xf80002abc9d0 M    955   ntoskrnl.exe!MmFreeNonCachedMemory (nt!MmFreeNonCachedMemory)\n"
       ]
      },
      {
       "output_type": "stream",
       "stream": "stdout",
       "text": [
        "0xf80002789510 M    956   ntoskrnl.exe!MmFreePagesFromMdl (nt!MmFreePagesFromMdl)\n"
       ]
      },
      {
       "output_type": "stream",
       "stream": "stdout",
       "text": [
        "0xf80002687600 M    957   ntoskrnl.exe!MmGetPhysicalAddress (nt!MmGetPhysicalAddress)\n"
       ]
      },
      {
       "output_type": "stream",
       "stream": "stdout",
       "text": [
        "0xf80002a8dd20 M    958   ntoskrnl.exe!MmGetPhysicalMemoryRanges (nt!MmGetPhysicalMemoryRanges)\n"
       ]
      },
      {
       "output_type": "stream",
       "stream": "stdout",
       "text": [
        "0xf800029b5304 M    959   ntoskrnl.exe!MmGetSystemRoutineAddress (nt!MmGetSystemRoutineAddress)\n"
       ]
      },
      {
       "output_type": "stream",
       "stream": "stdout",
       "text": [
        "0xf8000271fb50 M    960   ntoskrnl.exe!MmGetVirtualForPhysical (nt!MmGetVirtualForPhysical)\n"
       ]
      },
      {
       "output_type": "stream",
       "stream": "stdout",
       "text": [
        "0xf8000265f4c0 M    961   ntoskrnl.exe!MmGrowKernelStack (nt!MmGrowKernelStack)\n"
       ]
      },
      {
       "output_type": "stream",
       "stream": "stdout",
       "text": [
        "0xf800028c7010 M    962   ntoskrnl.exe!MmHighestUserAddress (nt!MmHighestUserAddress)\n"
       ]
      },
      {
       "output_type": "stream",
       "stream": "stdout",
       "text": [
        "0xf80002742c50 M    963   ntoskrnl.exe!MmIsAddressValid (nt!MmIsAddressValid)\n"
       ]
      },
      {
       "output_type": "stream",
       "stream": "stdout",
       "text": [
        "0xf8000271fe30 M    964   ntoskrnl.exe!MmIsDriverVerifying (nt!MmIsDriverVerifying)\n"
       ]
      },
      {
       "output_type": "stream",
       "stream": "stdout",
       "text": [
        "0xf80002a838c0 M    965   ntoskrnl.exe!MmIsDriverVerifyingByAddress (nt!MmIsDriverVerifyingByAddress)\n"
       ]
      },
      {
       "output_type": "stream",
       "stream": "stdout",
       "text": [
        "0xf8000273f090 M    966   ntoskrnl.exe!MmIsIoSpaceActive (nt!MmIsIoSpaceActive)\n"
       ]
      },
      {
       "output_type": "stream",
       "stream": "stdout",
       "text": [
        "0xf8000272beb0 M    967   ntoskrnl.exe!MmIsNonPagedSystemAddressValid (nt!MmIsNonPagedSystemAddressValid)\n"
       ]
      },
      {
       "output_type": "stream",
       "stream": "stdout",
       "text": [
        "0xf80002732dd0 M    968   ntoskrnl.exe!MmIsRecursiveIoFault (nt!MmIsRecursiveIoFault)\n"
       ]
      },
      {
       "output_type": "stream",
       "stream": "stdout",
       "text": [
        "0xf8000271fe80 M    969   ntoskrnl.exe!MmIsThisAnNtAsSystem (nt!MmIsThisAnNtAsSystem)\n"
       ]
      },
      {
       "output_type": "stream",
       "stream": "stdout",
       "text": [
        "0xf800029fb4c0 M    970   ntoskrnl.exe!MmIsVerifierEnabled (nt!MmIsVerifierEnabled)\n"
       ]
      },
      {
       "output_type": "stream",
       "stream": "stdout",
       "text": [
        "0xf80002903044 M    971   ntoskrnl.exe!MmLockPagableDataSection (nt!MmLockPagableDataSection)\n"
       ]
      },
      {
       "output_type": "stream",
       "stream": "stdout",
       "text": [
        "0xf80002903044 M    972   ntoskrnl.exe!MmLockPagableImageSection (nt!MmLockPagableDataSection)\n"
       ]
      },
      {
       "output_type": "stream",
       "stream": "stdout",
       "text": [
        "0xf80002931544 M    973   ntoskrnl.exe!MmLockPagableSectionByHandle (nt!MmLockPagableSectionByHandle)\n"
       ]
      },
      {
       "output_type": "stream",
       "stream": "stdout",
       "text": [
        "0xf80002638870 M    974   ntoskrnl.exe!MmMapIoSpace (nt!MmMapIoSpace)       \n"
       ]
      },
      {
       "output_type": "stream",
       "stream": "stdout",
       "text": [
        "0xf800026cfc5c M    975   ntoskrnl.exe!MmMapLockedPages (nt!MmMapLockedPages)\n"
       ]
      },
      {
       "output_type": "stream",
       "stream": "stdout",
       "text": [
        "0xf8000269f570 M    976   ntoskrnl.exe!MmMapLockedPagesSpecifyCache (nt!MmMapLockedPagesSpecifyCache)\n"
       ]
      },
      {
       "output_type": "stream",
       "stream": "stdout",
       "text": [
        "0xf80002737f60 M    977   ntoskrnl.exe!MmMapLockedPagesWithReservedMapping (nt!MmMapLockedPagesWithReservedMapping)\n"
       ]
      },
      {
       "output_type": "stream",
       "stream": "stdout",
       "text": [
        "0xf80002742b20 M    978   ntoskrnl.exe!MmMapMemoryDumpMdl (nt!MmMapMemoryDumpMdl)\n"
       ]
      },
      {
       "output_type": "stream",
       "stream": "stdout",
       "text": [
        "0xf800028d28c0 M    979   ntoskrnl.exe!MmMapUserAddressesToPage (nt!MmMapUserAddressesToPage)\n"
       ]
      },
      {
       "output_type": "stream",
       "stream": "stdout",
       "text": [
        "0xf80002a24300 M    980   ntoskrnl.exe!MmMapVideoDisplay (nt!MmMapVideoDisplay)\n"
       ]
      },
      {
       "output_type": "stream",
       "stream": "stdout",
       "text": [
        "0xf800028f4624 M    981   ntoskrnl.exe!MmMapViewInSessionSpace (nt!MmMapViewInSessionSpace)\n"
       ]
      },
      {
       "output_type": "stream",
       "stream": "stdout",
       "text": [
        "0xf80002a3fe90 M    982   ntoskrnl.exe!MmMapViewInSystemSpace (nt!MmMapViewInSystemSpace)\n"
       ]
      },
      {
       "output_type": "stream",
       "stream": "stdout",
       "text": [
        "0xf8000294353c M    983   ntoskrnl.exe!MmMapViewOfSection (nt!MmMapViewOfSection)\n"
       ]
      },
      {
       "output_type": "stream",
       "stream": "stdout",
       "text": [
        "0xf80002768300 M    984   ntoskrnl.exe!MmMarkPhysicalMemoryAsBad (nt!MmMarkPhysicalMemoryAsBad)\n"
       ]
      },
      {
       "output_type": "stream",
       "stream": "stdout",
       "text": [
        "0xf80002751300 M    985   ntoskrnl.exe!MmMarkPhysicalMemoryAsGood (nt!MmMarkPhysicalMemoryAsGood)\n"
       ]
      },
      {
       "output_type": "stream",
       "stream": "stdout",
       "text": [
        "0xf80002904520 M    986   ntoskrnl.exe!MmPageEntireDriver (nt!MmPageEntireDriver)\n"
       ]
      },
      {
       "output_type": "stream",
       "stream": "stdout",
       "text": [
        "0xf800028f09e0 M    987   ntoskrnl.exe!MmPrefetchPages (nt!MmPrefetchPages) \n"
       ]
      },
      {
       "output_type": "stream",
       "stream": "stdout",
       "text": [
        "0xf800026b0d30 M    988   ntoskrnl.exe!MmProbeAndLockPages (nt!MmProbeAndLockPages)\n"
       ]
      },
      {
       "output_type": "stream",
       "stream": "stdout",
       "text": [
        "0xf80002a5aed0 M    989   ntoskrnl.exe!MmProbeAndLockProcessPages (nt!MmProbeAndLockProcessPages)\n"
       ]
      },
      {
       "output_type": "stream",
       "stream": "stdout",
       "text": [
        "0xf800027b2fd0 M    990   ntoskrnl.exe!MmProbeAndLockSelectedPages (nt!MmProbeAndLockSelectedPages)\n"
       ]
      },
      {
       "output_type": "stream",
       "stream": "stdout",
       "text": [
        "0xf80002624fa0 M    991   ntoskrnl.exe!MmProtectMdlSystemAddress (nt!MmProtectMdlSystemAddress)\n"
       ]
      },
      {
       "output_type": "stream",
       "stream": "stdout",
       "text": [
        "0xf8000271fe90 M    992   ntoskrnl.exe!MmQuerySystemSize (nt!MmQuerySystemSize)\n"
       ]
      },
      {
       "output_type": "stream",
       "stream": "stdout",
       "text": [
        "0xf80002ad19c0 M    993   ntoskrnl.exe!MmRemovePhysicalMemory (nt!MmRemovePhysicalMemory)\n"
       ]
      },
      {
       "output_type": "stream",
       "stream": "stdout",
       "text": [
        "0xf800029037f0 M    994   ntoskrnl.exe!MmResetDriverPaging (nt!MmResetDriverPaging)\n"
       ]
      },
      {
       "output_type": "stream",
       "stream": "stdout",
       "text": [
        "0xf80002afb650 M    995   ntoskrnl.exe!MmRotatePhysicalView (nt!MmRotatePhysicalView)\n"
       ]
      },
      {
       "output_type": "stream",
       "stream": "stdout",
       "text": [
        "0xf800028c7108 M    996   ntoskrnl.exe!MmSectionObjectType (nt!MmSectionObjectType)\n"
       ]
      },
      {
       "output_type": "stream",
       "stream": "stdout",
       "text": [
        "0xf80002943674 M    997   ntoskrnl.exe!MmSecureVirtualMemory (nt!MmSecureVirtualMemory)\n"
       ]
      },
      {
       "output_type": "stream",
       "stream": "stdout",
       "text": [
        "0xf8000267fec0 M    998   ntoskrnl.exe!MmSetAddressRangeModified (nt!MmSetAddressRangeModified)\n"
       ]
      },
      {
       "output_type": "stream",
       "stream": "stdout",
       "text": [
        "0xf800027a6700 M    999   ntoskrnl.exe!MmSetBankedSection (nt!MmSetBankedSection)\n"
       ]
      },
      {
       "output_type": "stream",
       "stream": "stdout",
       "text": [
        "0xf80002650130 M    1000  ntoskrnl.exe!MmSizeOfMdl (nt!MmSizeOfMdl)         \n"
       ]
      },
      {
       "output_type": "stream",
       "stream": "stdout",
       "text": [
        "0xf800028c70e0 M    1001  ntoskrnl.exe!MmSystemRangeStart (nt!MmSystemRangeStart)\n"
       ]
      },
      {
       "output_type": "stream",
       "stream": "stdout",
       "text": [
        "0xf800027979f0 M    1002  ntoskrnl.exe!MmTrimAllSystemPagableMemory (nt!MmTrimAllSystemPagableMemory)\n"
       ]
      },
      {
       "output_type": "stream",
       "stream": "stdout",
       "text": [
        "0xf80002656cb4 M    1003  ntoskrnl.exe!MmUnlockPagableImageSection (nt!MmUnlockPagableImageSection)\n"
       ]
      },
      {
       "output_type": "stream",
       "stream": "stdout",
       "text": [
        "0xf800026b26b0 M    1004  ntoskrnl.exe!MmUnlockPages (nt!MmUnlockPages)     \n"
       ]
      },
      {
       "output_type": "stream",
       "stream": "stdout",
       "text": [
        "0xf80002638430 M    1005  ntoskrnl.exe!MmUnmapIoSpace (nt!MmUnmapIoSpace)   \n"
       ]
      },
      {
       "output_type": "stream",
       "stream": "stdout",
       "text": [
        "0xf8000267fc80 M    1006  ntoskrnl.exe!MmUnmapLockedPages (nt!MmUnmapLockedPages)\n"
       ]
      },
      {
       "output_type": "stream",
       "stream": "stdout",
       "text": [
        "0xf80002744e60 M    1007  ntoskrnl.exe!MmUnmapReservedMapping (nt!MmUnmapReservedMapping)\n"
       ]
      },
      {
       "output_type": "stream",
       "stream": "stdout",
       "text": [
        "0xf80002a29350 M    1008  ntoskrnl.exe!MmUnmapVideoDisplay (nt!MmUnmapVideoDisplay)\n"
       ]
      },
      {
       "output_type": "stream",
       "stream": "stdout",
       "text": [
        "0xf80002a40120 M    1009  ntoskrnl.exe!MmUnmapViewInSessionSpace (nt!MmUnmapViewInSessionSpace)\n"
       ]
      },
      {
       "output_type": "stream",
       "stream": "stdout",
       "text": [
        "0xf80002a3fe10 M    1010  ntoskrnl.exe!MmUnmapViewInSystemSpace (nt!MmUnmapViewInSystemSpace)\n"
       ]
      },
      {
       "output_type": "stream",
       "stream": "stdout",
       "text": [
        "0xf8000294cb70 M    1011  ntoskrnl.exe!MmUnmapViewOfSection (nt!MmUnmapViewOfSection)\n"
       ]
      },
      {
       "output_type": "stream",
       "stream": "stdout",
       "text": [
        "0xf80002936864 M    1012  ntoskrnl.exe!MmUnsecureVirtualMemory (nt!MmUnsecureVirtualMemory)\n"
       ]
      },
      {
       "output_type": "stream",
       "stream": "stdout",
       "text": [
        "0xf800028c7000 M    1013  ntoskrnl.exe!MmUserProbeAddress (nt!MmUserProbeAddress)\n"
       ]
      },
      {
       "output_type": "stream",
       "stream": "stdout",
       "text": [
        "0xf80002b59230 M    1014  ntoskrnl.exe!NlsAnsiCodePage (nt!NlsAnsiCodePage) \n"
       ]
      },
      {
       "output_type": "stream",
       "stream": "stdout",
       "text": [
        "0xf800029837e8 M    1015  ntoskrnl.exe!NlsLeadByteInfo (nt!NlsLeadByteInfo) \n"
       ]
      },
      {
       "output_type": "stream",
       "stream": "stdout",
       "text": [
        "0xf80002b59043 M    1016  ntoskrnl.exe!NlsMbCodePageTag (nt!NlsMbCodePageTag)\n"
       ]
      },
      {
       "output_type": "stream",
       "stream": "stdout",
       "text": [
        "0xf80002b59042 M    1017  ntoskrnl.exe!NlsMbOemCodePageTag (nt!NlsMbOemCodePageTag)\n"
       ]
      },
      {
       "output_type": "stream",
       "stream": "stdout",
       "text": [
        "0xf80002b5922c M    1018  ntoskrnl.exe!NlsOemCodePage (nt!NlsOemCodePage)   \n"
       ]
      },
      {
       "output_type": "stream",
       "stream": "stdout",
       "text": [
        "0xf800029837d0 M    1019  ntoskrnl.exe!NlsOemLeadByteInfo (nt!NlsOemLeadByteInfo)\n"
       ]
      },
      {
       "output_type": "stream",
       "stream": "stdout",
       "text": [
        "0xf800028e920c M    1020  ntoskrnl.exe!NtAddAtom (nt!NtAddAtom)             \n"
       ]
      },
      {
       "output_type": "stream",
       "stream": "stdout",
       "text": [
        "0xf8000294803c M    1021  ntoskrnl.exe!NtAdjustPrivilegesToken (nt!NtAdjustPrivilegesToken)\n"
       ]
      },
      {
       "output_type": "stream",
       "stream": "stdout",
       "text": [
        "0xf800029234c4 M    1022  ntoskrnl.exe!NtAllocateLocallyUniqueId (nt!NtAllocateLocallyUniqueId)\n"
       ]
      },
      {
       "output_type": "stream",
       "stream": "stdout",
       "text": [
        "0xf800028e1a9c M    1023  ntoskrnl.exe!NtAllocateUuids (nt!NtAllocateUuids) \n"
       ]
      },
      {
       "output_type": "stream",
       "stream": "stdout",
       "text": [
        "0xf8000298fd50 M    1024  ntoskrnl.exe!NtAllocateVirtualMemory (nt!NtAllocateVirtualMemory)\n"
       ]
      },
      {
       "output_type": "stream",
       "stream": "stdout",
       "text": [
        "0xf800027ce960 M    1025  ntoskrnl.exe!NtBuildGUID (nt!NtBuildGUID)         \n"
       ]
      },
      {
       "output_type": "stream",
       "stream": "stdout",
       "text": [
        "0xf800027ce780 M    1026  ntoskrnl.exe!NtBuildLab (nt!NtBuildLab)           \n"
       ]
      },
      {
       "output_type": "stream",
       "stream": "stdout",
       "text": [
        "0xf800027ce770 M    1027  ntoskrnl.exe!NtBuildNumber (nt!NtBuildNumber)     \n"
       ]
      },
      {
       "output_type": "stream",
       "stream": "stdout",
       "text": [
        "0xf800029a42a0 M    1028  ntoskrnl.exe!NtClose (nt!NtClose)                 \n"
       ]
      },
      {
       "output_type": "stream",
       "stream": "stdout",
       "text": [
        "0xf80002abc570 M    1029  ntoskrnl.exe!NtCommitComplete (nt!NtCommitComplete)\n"
       ]
      },
      {
       "output_type": "stream",
       "stream": "stdout",
       "text": [
        "0xf80002ae2850 M    1030  ntoskrnl.exe!NtCommitEnlistment (nt!NtCommitEnlistment)\n"
       ]
      },
      {
       "output_type": "stream",
       "stream": "stdout",
       "text": [
        "0xf80002913d70 M    1031  ntoskrnl.exe!NtCommitTransaction (nt!NtCommitTransaction)\n"
       ]
      },
      {
       "output_type": "stream",
       "stream": "stdout",
       "text": [
        "0xf800029429e0 M    1032  ntoskrnl.exe!NtConnectPort (nt!NtConnectPort)     \n"
       ]
      },
      {
       "output_type": "stream",
       "stream": "stdout",
       "text": [
        "0xf80002913f60 M    1033  ntoskrnl.exe!NtCreateEnlistment (nt!NtCreateEnlistment)\n"
       ]
      },
      {
       "output_type": "stream",
       "stream": "stdout",
       "text": [
        "0xf8000295e090 M    1034  ntoskrnl.exe!NtCreateEvent (nt!NtCreateEvent)     \n"
       ]
      },
      {
       "output_type": "stream",
       "stream": "stdout",
       "text": [
        "0xf8000299d120 M    1035  ntoskrnl.exe!NtCreateFile (nt!NtCreateFile)       \n"
       ]
      },
      {
       "output_type": "stream",
       "stream": "stdout",
       "text": [
        "0xf8000290af18 M    1036  ntoskrnl.exe!NtCreateResourceManager (nt!NtCreateResourceManager)\n"
       ]
      },
      {
       "output_type": "stream",
       "stream": "stdout",
       "text": [
        "0xf8000297e730 M    1037  ntoskrnl.exe!NtCreateSection (nt!NtCreateSection) \n"
       ]
      },
      {
       "output_type": "stream",
       "stream": "stdout",
       "text": [
        "0xf80002913394 M    1038  ntoskrnl.exe!NtCreateTransaction (nt!NtCreateTransaction)\n"
       ]
      },
      {
       "output_type": "stream",
       "stream": "stdout",
       "text": [
        "0xf8000290ac48 M    1039  ntoskrnl.exe!NtCreateTransactionManager (nt!NtCreateTransactionManager)\n"
       ]
      },
      {
       "output_type": "stream",
       "stream": "stdout",
       "text": [
        "0xf80002aca7e0 M    1040  ntoskrnl.exe!NtDeleteAtom (nt!NtDeleteAtom)       \n"
       ]
      },
      {
       "output_type": "stream",
       "stream": "stdout",
       "text": [
        "0xf800028f1eb0 M    1041  ntoskrnl.exe!NtDeleteFile (nt!NtDeleteFile)       \n"
       ]
      },
      {
       "output_type": "stream",
       "stream": "stdout",
       "text": [
        "0xf800029a9bb0 M    1042  ntoskrnl.exe!NtDeviceIoControlFile (nt!NtDeviceIoControlFile)\n"
       ]
      },
      {
       "output_type": "stream",
       "stream": "stdout",
       "text": [
        "0xf8000295dc10 M    1043  ntoskrnl.exe!NtDuplicateObject (nt!NtDuplicateObject)\n"
       ]
      },
      {
       "output_type": "stream",
       "stream": "stdout",
       "text": [
        "0xf80002937178 M    1044  ntoskrnl.exe!NtDuplicateToken (nt!NtDuplicateToken)\n"
       ]
      },
      {
       "output_type": "stream",
       "stream": "stdout",
       "text": [
        "0xf80002ab6370 M    1045  ntoskrnl.exe!NtEnumerateTransactionObject (nt!NtEnumerateTransactionObject)\n"
       ]
      },
      {
       "output_type": "stream",
       "stream": "stdout",
       "text": [
        "0xf80002981074 M    1046  ntoskrnl.exe!NtFindAtom (nt!NtFindAtom)           \n"
       ]
      },
      {
       "output_type": "stream",
       "stream": "stdout",
       "text": [
        "0xf800026d2680 M    1047  ntoskrnl.exe!NtFreeVirtualMemory (nt!NtFreeVirtualMemory)\n"
       ]
      },
      {
       "output_type": "stream",
       "stream": "stdout",
       "text": [
        "0xf80002aba090 M    1048  ntoskrnl.exe!NtFreezeTransactions (nt!NtFreezeTransactions)\n"
       ]
      },
      {
       "output_type": "stream",
       "stream": "stdout",
       "text": [
        "0xf80002972934 M    1049  ntoskrnl.exe!NtFsControlFile (nt!NtFsControlFile) \n"
       ]
      },
      {
       "output_type": "stream",
       "stream": "stdout",
       "text": [
        "0xf80002a82560 M    1050  ntoskrnl.exe!NtGetEnvironmentVariableEx (nt!NtGetEnvironmentVariableEx)\n"
       ]
      },
      {
       "output_type": "stream",
       "stream": "stdout",
       "text": [
        "0xf80002ab9f10 M    1051  ntoskrnl.exe!NtGetNotificationResourceManager (nt!NtGetNotificationResourceManager)\n"
       ]
      },
      {
       "output_type": "stream",
       "stream": "stdout",
       "text": [
        "0xf8000289640c M    1052  ntoskrnl.exe!NtGlobalFlag (nt!NtGlobalFlag)       \n"
       ]
      },
      {
       "output_type": "stream",
       "stream": "stdout",
       "text": [
        "0xf80002903c54 M    1053  ntoskrnl.exe!NtLockFile (nt!NtLockFile)           \n"
       ]
      },
      {
       "output_type": "stream",
       "stream": "stdout",
       "text": [
        "0xf80002ac81b0 M    1054  ntoskrnl.exe!NtMakePermanentObject (nt!NtMakePermanentObject)\n"
       ]
      },
      {
       "output_type": "stream",
       "stream": "stdout",
       "text": [
        "0xf800029a7c00 M    1055  ntoskrnl.exe!NtMapViewOfSection (nt!NtMapViewOfSection)\n"
       ]
      },
      {
       "output_type": "stream",
       "stream": "stdout",
       "text": [
        "0xf800028fa3b4 M    1056  ntoskrnl.exe!NtNotifyChangeDirectoryFile (nt!NtNotifyChangeDirectoryFile)\n"
       ]
      },
      {
       "output_type": "stream",
       "stream": "stdout",
       "text": [
        "0xf80002ab3390 M    1057  ntoskrnl.exe!NtOpenEnlistment (nt!NtOpenEnlistment)\n"
       ]
      },
      {
       "output_type": "stream",
       "stream": "stdout",
       "text": [
        "0xf800029ac24c M    1058  ntoskrnl.exe!NtOpenFile (nt!NtOpenFile)           \n"
       ]
      },
      {
       "output_type": "stream",
       "stream": "stdout",
       "text": [
        "0xf80002963038 M    1059  ntoskrnl.exe!NtOpenProcess (nt!NtOpenProcess)     \n"
       ]
      },
      {
       "output_type": "stream",
       "stream": "stdout",
       "text": [
        "0xf80002936714 M    1060  ntoskrnl.exe!NtOpenProcessToken (nt!NtOpenProcessToken)\n"
       ]
      },
      {
       "output_type": "stream",
       "stream": "stdout",
       "text": [
        "0xf8000296dbd0 M    1061  ntoskrnl.exe!NtOpenProcessTokenEx (nt!NtOpenProcessTokenEx)\n"
       ]
      },
      {
       "output_type": "stream",
       "stream": "stdout",
       "text": [
        "0xf800029b4ad0 M    1062  ntoskrnl.exe!NtOpenResourceManager (nt!NtOpenResourceManager)\n"
       ]
      },
      {
       "output_type": "stream",
       "stream": "stdout",
       "text": [
        "0xf8000295c184 M    1063  ntoskrnl.exe!NtOpenThread (nt!NtOpenThread)       \n"
       ]
      },
      {
       "output_type": "stream",
       "stream": "stdout",
       "text": [
        "0xf80002963b50 M    1064  ntoskrnl.exe!NtOpenThreadToken (nt!NtOpenThreadToken)\n"
       ]
      },
      {
       "output_type": "stream",
       "stream": "stdout",
       "text": [
        "0xf800029636d0 M    1065  ntoskrnl.exe!NtOpenThreadTokenEx (nt!NtOpenThreadTokenEx)\n"
       ]
      },
      {
       "output_type": "stream",
       "stream": "stdout",
       "text": [
        "0xf80002ab30f0 M    1066  ntoskrnl.exe!NtOpenTransaction (nt!NtOpenTransaction)\n"
       ]
      },
      {
       "output_type": "stream",
       "stream": "stdout",
       "text": [
        "0xf80002ab6050 M    1067  ntoskrnl.exe!NtOpenTransactionManager (nt!NtOpenTransactionManager)\n"
       ]
      },
      {
       "output_type": "stream",
       "stream": "stdout",
       "text": [
        "0xf80002abc6d0 M    1068  ntoskrnl.exe!NtPrePrepareComplete (nt!NtPrePrepareComplete)\n"
       ]
      },
      {
       "output_type": "stream",
       "stream": "stdout",
       "text": [
        "0xf80002ae2900 M    1069  ntoskrnl.exe!NtPrePrepareEnlistment (nt!NtPrePrepareEnlistment)\n"
       ]
      },
      {
       "output_type": "stream",
       "stream": "stdout",
       "text": [
        "0xf80002abc780 M    1070  ntoskrnl.exe!NtPrepareComplete (nt!NtPrepareComplete)\n"
       ]
      },
      {
       "output_type": "stream",
       "stream": "stdout",
       "text": [
        "0xf80002ae29b0 M    1071  ntoskrnl.exe!NtPrepareEnlistment (nt!NtPrepareEnlistment)\n"
       ]
      },
      {
       "output_type": "stream",
       "stream": "stdout",
       "text": [
        "0xf80002ae8d70 M    1072  ntoskrnl.exe!NtPropagationComplete (nt!NtPropagationComplete)\n"
       ]
      },
      {
       "output_type": "stream",
       "stream": "stdout",
       "text": [
        "0xf80002aba700 M    1073  ntoskrnl.exe!NtPropagationFailed (nt!NtPropagationFailed)\n"
       ]
      },
      {
       "output_type": "stream",
       "stream": "stdout",
       "text": [
        "0xf800029ab7a0 M    1074  ntoskrnl.exe!NtQueryDirectoryFile (nt!NtQueryDirectoryFile)\n"
       ]
      },
      {
       "output_type": "stream",
       "stream": "stdout",
       "text": [
        "0xf80002af7f10 M    1075  ntoskrnl.exe!NtQueryEaFile (nt!NtQueryEaFile)     \n"
       ]
      },
      {
       "output_type": "stream",
       "stream": "stdout",
       "text": [
        "0xf80002a826a0 M    1076  ntoskrnl.exe!NtQueryEnvironmentVariableInfoEx (nt!NtQueryEnvironmentVariableInfoEx)\n"
       ]
      },
      {
       "output_type": "stream",
       "stream": "stdout",
       "text": [
        "0xf80002a86120 M    1077  ntoskrnl.exe!NtQueryInformationAtom (nt!NtQueryInformationAtom)\n"
       ]
      },
      {
       "output_type": "stream",
       "stream": "stdout",
       "text": [
        "0xf80002ab1650 M    1078  ntoskrnl.exe!NtQueryInformationEnlistment (nt!NtQueryInformationEnlistment)\n"
       ]
      },
      {
       "output_type": "stream",
       "stream": "stdout",
       "text": [
        "0xf80002971740 M    1079  ntoskrnl.exe!NtQueryInformationFile (nt!NtQueryInformationFile)\n"
       ]
      },
      {
       "output_type": "stream",
       "stream": "stdout",
       "text": [
        "0xf8000299ffd0 M    1080  ntoskrnl.exe!NtQueryInformationProcess (nt!NtQueryInformationProcess)\n"
       ]
      },
      {
       "output_type": "stream",
       "stream": "stdout",
       "text": [
        "0xf80002ab0d20 M    1081  ntoskrnl.exe!NtQueryInformationResourceManager (nt!NtQueryInformationResourceManager)\n"
       ]
      },
      {
       "output_type": "stream",
       "stream": "stdout",
       "text": [
        "0xf80002956d60 M    1082  ntoskrnl.exe!NtQueryInformationThread (nt!NtQueryInformationThread)\n"
       ]
      },
      {
       "output_type": "stream",
       "stream": "stdout",
       "text": [
        "0xf8000295f990 M    1083  ntoskrnl.exe!NtQueryInformationToken (nt!NtQueryInformationToken)\n"
       ]
      },
      {
       "output_type": "stream",
       "stream": "stdout",
       "text": [
        "0xf80002ab0f90 M    1084  ntoskrnl.exe!NtQueryInformationTransaction (nt!NtQueryInformationTransaction)\n"
       ]
      },
      {
       "output_type": "stream",
       "stream": "stdout",
       "text": [
        "0xf800029b37b8 M    1085  ntoskrnl.exe!NtQueryInformationTransactionManager (nt!NtQueryInformationTransactionManager)\n"
       ]
      },
      {
       "output_type": "stream",
       "stream": "stdout",
       "text": [
        "0xf80002af7220 M    1086  ntoskrnl.exe!NtQueryQuotaInformationFile (nt!NtQueryQuotaInformationFile)\n"
       ]
      },
      {
       "output_type": "stream",
       "stream": "stdout",
       "text": [
        "0xf8000292f854 M    1087  ntoskrnl.exe!NtQuerySecurityAttributesToken (nt!NtQuerySecurityAttributesToken)\n"
       ]
      },
      {
       "output_type": "stream",
       "stream": "stdout",
       "text": [
        "0xf80002923590 M    1088  ntoskrnl.exe!NtQuerySecurityObject (nt!NtQuerySecurityObject)\n"
       ]
      },
      {
       "output_type": "stream",
       "stream": "stdout",
       "text": [
        "0xf8000298cdfc M    1089  ntoskrnl.exe!NtQuerySystemInformation (nt!NtQuerySystemInformation)\n"
       ]
      },
      {
       "output_type": "stream",
       "stream": "stdout",
       "text": [
        "0xf8000297861c M    1090  ntoskrnl.exe!NtQuerySystemInformationEx (nt!NtQuerySystemInformationEx)\n"
       ]
      },
      {
       "output_type": "stream",
       "stream": "stdout",
       "text": [
        "0xf800029a1740 M    1091  ntoskrnl.exe!NtQueryVolumeInformationFile (nt!NtQueryVolumeInformationFile)\n"
       ]
      },
      {
       "output_type": "stream",
       "stream": "stdout",
       "text": [
        "0xf800029abb10 M    1092  ntoskrnl.exe!NtReadFile (nt!NtReadFile)           \n"
       ]
      },
      {
       "output_type": "stream",
       "stream": "stdout",
       "text": [
        "0xf80002abc620 M    1093  ntoskrnl.exe!NtReadOnlyEnlistment (nt!NtReadOnlyEnlistment)\n"
       ]
      },
      {
       "output_type": "stream",
       "stream": "stdout",
       "text": [
        "0xf80002ae18a0 M    1094  ntoskrnl.exe!NtRecoverEnlistment (nt!NtRecoverEnlistment)\n"
       ]
      },
      {
       "output_type": "stream",
       "stream": "stdout",
       "text": [
        "0xf8000290bf98 M    1095  ntoskrnl.exe!NtRecoverResourceManager (nt!NtRecoverResourceManager)\n"
       ]
      },
      {
       "output_type": "stream",
       "stream": "stdout",
       "text": [
        "0xf80002909804 M    1096  ntoskrnl.exe!NtRecoverTransactionManager (nt!NtRecoverTransactionManager)\n"
       ]
      },
      {
       "output_type": "stream",
       "stream": "stdout",
       "text": [
        "0xf8000297ad48 M    1097  ntoskrnl.exe!NtRequestPort (nt!NtRequestPort)     \n"
       ]
      },
      {
       "output_type": "stream",
       "stream": "stdout",
       "text": [
        "0xf800029a10d0 M    1098  ntoskrnl.exe!NtRequestWaitReplyPort (nt!NtRequestWaitReplyPort)\n"
       ]
      },
      {
       "output_type": "stream",
       "stream": "stdout",
       "text": [
        "0xf80002aba7a0 M    1099  ntoskrnl.exe!NtRollbackComplete (nt!NtRollbackComplete)\n"
       ]
      },
      {
       "output_type": "stream",
       "stream": "stdout",
       "text": [
        "0xf80002adabf0 M    1100  ntoskrnl.exe!NtRollbackEnlistment (nt!NtRollbackEnlistment)\n"
       ]
      },
      {
       "output_type": "stream",
       "stream": "stdout",
       "text": [
        "0xf80002ae0f40 M    1101  ntoskrnl.exe!NtRollbackTransaction (nt!NtRollbackTransaction)\n"
       ]
      },
      {
       "output_type": "stream",
       "stream": "stdout",
       "text": [
        "0xf80002af7a90 M    1102  ntoskrnl.exe!NtSetEaFile (nt!NtSetEaFile)         \n"
       ]
      },
      {
       "output_type": "stream",
       "stream": "stdout",
       "text": [
        "0xf800029aad60 M    1103  ntoskrnl.exe!NtSetEvent (nt!NtSetEvent)           \n"
       ]
      },
      {
       "output_type": "stream",
       "stream": "stdout",
       "text": [
        "0xf80002ab6610 M    1104  ntoskrnl.exe!NtSetInformationEnlistment (nt!NtSetInformationEnlistment)\n"
       ]
      },
      {
       "output_type": "stream",
       "stream": "stdout",
       "text": [
        "0xf80002970b90 M    1105  ntoskrnl.exe!NtSetInformationFile (nt!NtSetInformationFile)\n"
       ]
      },
      {
       "output_type": "stream",
       "stream": "stdout",
       "text": [
        "0xf8000295747c M    1106  ntoskrnl.exe!NtSetInformationProcess (nt!NtSetInformationProcess)\n"
       ]
      },
      {
       "output_type": "stream",
       "stream": "stdout",
       "text": [
        "0xf80002ae8a50 M    1107  ntoskrnl.exe!NtSetInformationResourceManager (nt!NtSetInformationResourceManager)\n"
       ]
      },
      {
       "output_type": "stream",
       "stream": "stdout",
       "text": [
        "0xf8000295e330 M    1108  ntoskrnl.exe!NtSetInformationThread (nt!NtSetInformationThread)\n"
       ]
      },
      {
       "output_type": "stream",
       "stream": "stdout",
       "text": [
        "0xf80002924cfc M    1109  ntoskrnl.exe!NtSetInformationToken (nt!NtSetInformationToken)\n"
       ]
      },
      {
       "output_type": "stream",
       "stream": "stdout",
       "text": [
        "0xf80002aea1f0 M    1110  ntoskrnl.exe!NtSetInformationTransaction (nt!NtSetInformationTransaction)\n"
       ]
      },
      {
       "output_type": "stream",
       "stream": "stdout",
       "text": [
        "0xf80002af9850 M    1111  ntoskrnl.exe!NtSetQuotaInformationFile (nt!NtSetQuotaInformationFile)\n"
       ]
      },
      {
       "output_type": "stream",
       "stream": "stdout",
       "text": [
        "0xf8000292f10c M    1112  ntoskrnl.exe!NtSetSecurityObject (nt!NtSetSecurityObject)\n"
       ]
      },
      {
       "output_type": "stream",
       "stream": "stdout",
       "text": [
        "0xf800029b31b0 M    1113  ntoskrnl.exe!NtSetVolumeInformationFile (nt!NtSetVolumeInformationFile)\n"
       ]
      },
      {
       "output_type": "stream",
       "stream": "stdout",
       "text": [
        "0xf80002b12430 M    1114  ntoskrnl.exe!NtShutdownSystem (nt!NtShutdownSystem)\n"
       ]
      },
      {
       "output_type": "stream",
       "stream": "stdout",
       "text": [
        "0xf80002a67b70 M    1115  ntoskrnl.exe!NtThawTransactions (nt!NtThawTransactions)\n"
       ]
      },
      {
       "output_type": "stream",
       "stream": "stdout",
       "text": [
        "0xf80002939640 M    1116  ntoskrnl.exe!NtTraceControl (nt!NtTraceControl)   \n"
       ]
      },
      {
       "output_type": "stream",
       "stream": "stdout",
       "text": [
        "0xf80002676ec8 M    1117  ntoskrnl.exe!NtTraceEvent (nt!NtTraceEvent)       \n"
       ]
      },
      {
       "output_type": "stream",
       "stream": "stdout",
       "text": [
        "0xf80002904180 M    1118  ntoskrnl.exe!NtUnlockFile (nt!NtUnlockFile)       \n"
       ]
      },
      {
       "output_type": "stream",
       "stream": "stdout",
       "text": [
        "0xf80002af6460 M    1119  ntoskrnl.exe!NtVdmControl (nt!NtVdmControl)       \n"
       ]
      },
      {
       "output_type": "stream",
       "stream": "stdout",
       "text": [
        "0xf80002988a00 M    1120  ntoskrnl.exe!NtWaitForSingleObject (nt!NtWaitForSingleObject)\n"
       ]
      },
      {
       "output_type": "stream",
       "stream": "stdout",
       "text": [
        "0xf800029a4ee0 M    1121  ntoskrnl.exe!NtWriteFile (nt!NtWriteFile)         \n"
       ]
      },
      {
       "output_type": "stream",
       "stream": "stdout",
       "text": [
        "0xf800028f3eb4 M    1122  ntoskrnl.exe!ObAssignSecurity (nt!ObAssignSecurity)\n"
       ]
      },
      {
       "output_type": "stream",
       "stream": "stdout",
       "text": [
        "0xf80002978890 M    1123  ntoskrnl.exe!ObCheckCreateObjectAccess (nt!ObCheckCreateObjectAccess)\n"
       ]
      },
      {
       "output_type": "stream",
       "stream": "stdout",
       "text": [
        "0xf80002988b30 M    1124  ntoskrnl.exe!ObCheckObjectAccess (nt!ObCheckObjectAccess)\n"
       ]
      },
      {
       "output_type": "stream",
       "stream": "stdout",
       "text": [
        "0xf80002957440 M    1125  ntoskrnl.exe!ObCloseHandle (nt!ObCloseHandle)     \n"
       ]
      },
      {
       "output_type": "stream",
       "stream": "stdout",
       "text": [
        "0xf80002989dc0 M    1126  ntoskrnl.exe!ObCreateObject (nt!ObCreateObject)   \n"
       ]
      },
      {
       "output_type": "stream",
       "stream": "stdout",
       "text": [
        "0xf80002a9dac0 M    1127  ntoskrnl.exe!ObCreateObjectType (nt!ObCreateObjectType)\n"
       ]
      },
      {
       "output_type": "stream",
       "stream": "stdout",
       "text": [
        "0xf800028f3f10 M    1128  ntoskrnl.exe!ObDeleteCapturedInsertInfo (nt!ObDeleteCapturedInsertInfo)\n"
       ]
      },
      {
       "output_type": "stream",
       "stream": "stdout",
       "text": [
        "0xf800026ddd00 M    1129  ntoskrnl.exe!ObDereferenceObject (nt!ObDereferenceObject)\n"
       ]
      },
      {
       "output_type": "stream",
       "stream": "stdout",
       "text": [
        "0xf800026b5490 M    1130  ntoskrnl.exe!ObDereferenceObjectDeferDelete (nt!ObDereferenceObjectDeferDelete)\n"
       ]
      },
      {
       "output_type": "stream",
       "stream": "stdout",
       "text": [
        "0xf800026b40f4 M    1131  ntoskrnl.exe!ObDereferenceObjectDeferDeleteWithTag (nt!ObDereferenceObjectDeferDeleteWithTag)\n"
       ]
      },
      {
       "output_type": "stream",
       "stream": "stdout",
       "text": [
        "0xf8000298a65c M    1132  ntoskrnl.exe!ObDereferenceSecurityDescriptor (nt!ObDereferenceSecurityDescriptor)\n"
       ]
      },
      {
       "output_type": "stream",
       "stream": "stdout",
       "text": [
        "0xf8000292b754 M    1133  ntoskrnl.exe!ObFindHandleForObject (nt!ObFindHandleForObject)\n"
       ]
      },
      {
       "output_type": "stream",
       "stream": "stdout",
       "text": [
        "0xf80002a010d0 M    1134  ntoskrnl.exe!ObGetFilterVersion (nt!ObGetFilterVersion)\n"
       ]
      },
      {
       "output_type": "stream",
       "stream": "stdout",
       "text": [
        "0xf80002962d48 M    1135  ntoskrnl.exe!ObGetObjectSecurity (nt!ObGetObjectSecurity)\n"
       ]
      },
      {
       "output_type": "stream",
       "stream": "stdout",
       "text": [
        "0xf800029437e0 M    1136  ntoskrnl.exe!ObGetObjectType (nt!ObGetObjectType) \n"
       ]
      },
      {
       "output_type": "stream",
       "stream": "stdout",
       "text": [
        "0xf800028f5290 M    1137  ntoskrnl.exe!ObInsertObject (nt!ObInsertObject)   \n"
       ]
      },
      {
       "output_type": "stream",
       "stream": "stdout",
       "text": [
        "0xf80002a8cd50 M    1138  ntoskrnl.exe!ObIsDosDeviceLocallyMapped (nt!ObIsDosDeviceLocallyMapped)\n"
       ]
      },
      {
       "output_type": "stream",
       "stream": "stdout",
       "text": [
        "0xf8000271f070 M    1139  ntoskrnl.exe!ObIsKernelHandle (nt!ObIsKernelHandle)\n"
       ]
      },
      {
       "output_type": "stream",
       "stream": "stdout",
       "text": [
        "0xf80002955d30 M    1140  ntoskrnl.exe!ObLogSecurityDescriptor (nt!ObLogSecurityDescriptor)\n"
       ]
      },
      {
       "output_type": "stream",
       "stream": "stdout",
       "text": [
        "0xf8000292a6b4 M    1141  ntoskrnl.exe!ObMakeTemporaryObject (nt!ObMakeTemporaryObject)\n"
       ]
      },
      {
       "output_type": "stream",
       "stream": "stdout",
       "text": [
        "0xf8000298c570 M    1142  ntoskrnl.exe!ObOpenObjectByName (nt!ObOpenObjectByName)\n"
       ]
      },
      {
       "output_type": "stream",
       "stream": "stdout",
       "text": [
        "0xf800029723d0 M    1143  ntoskrnl.exe!ObOpenObjectByPointer (nt!ObOpenObjectByPointer)\n"
       ]
      },
      {
       "output_type": "stream",
       "stream": "stdout",
       "text": [
        "0xf80002955ff0 M    1144  ntoskrnl.exe!ObOpenObjectByPointerWithTag (nt!ObOpenObjectByPointerWithTag)\n"
       ]
      },
      {
       "output_type": "stream",
       "stream": "stdout",
       "text": [
        "0xf800029437b0 M    1145  ntoskrnl.exe!ObQueryNameInfo (nt!ObQueryNameInfo) \n"
       ]
      },
      {
       "output_type": "stream",
       "stream": "stdout",
       "text": [
        "0xf800029750ac M    1146  ntoskrnl.exe!ObQueryNameString (nt!ObQueryNameString)\n"
       ]
      },
      {
       "output_type": "stream",
       "stream": "stdout",
       "text": [
        "0xf80002947c28 M    1147  ntoskrnl.exe!ObQueryObjectAuditingByHandle (nt!ObQueryObjectAuditingByHandle)\n"
       ]
      },
      {
       "output_type": "stream",
       "stream": "stdout",
       "text": [
        "0xf80002965400 M    1148  ntoskrnl.exe!ObReferenceObjectByHandle (nt!ObReferenceObjectByHandle)\n"
       ]
      },
      {
       "output_type": "stream",
       "stream": "stdout",
       "text": [
        "0xf80002982540 M    1149  ntoskrnl.exe!ObReferenceObjectByHandleWithTag (nt!ObReferenceObjectByHandleWithTag)\n"
       ]
      },
      {
       "output_type": "stream",
       "stream": "stdout",
       "text": [
        "0xf8000296f09c M    1150  ntoskrnl.exe!ObReferenceObjectByName (nt!ObReferenceObjectByName)\n"
       ]
      },
      {
       "output_type": "stream",
       "stream": "stdout",
       "text": [
        "0xf80002697970 M    1151  ntoskrnl.exe!ObReferenceObjectByPointer (nt!ObReferenceObjectByPointer)\n"
       ]
      },
      {
       "output_type": "stream",
       "stream": "stdout",
       "text": [
        "0xf8000266dabc M    1152  ntoskrnl.exe!ObReferenceObjectByPointerWithTag (nt!ObReferenceObjectByPointerWithTag)\n"
       ]
      },
      {
       "output_type": "stream",
       "stream": "stdout",
       "text": [
        "0xf8000294b1e8 M    1153  ntoskrnl.exe!ObReferenceSecurityDescriptor (nt!ObReferenceSecurityDescriptor)\n"
       ]
      },
      {
       "output_type": "stream",
       "stream": "stdout",
       "text": [
        "0xf80002ac9640 M    1154  ntoskrnl.exe!ObRegisterCallbacks (nt!ObRegisterCallbacks)\n"
       ]
      },
      {
       "output_type": "stream",
       "stream": "stdout",
       "text": [
        "0xf80002978868 M    1155  ntoskrnl.exe!ObReleaseObjectSecurity (nt!ObReleaseObjectSecurity)\n"
       ]
      },
      {
       "output_type": "stream",
       "stream": "stdout",
       "text": [
        "0xf80002936234 M    1156  ntoskrnl.exe!ObSetHandleAttributes (nt!ObSetHandleAttributes)\n"
       ]
      },
      {
       "output_type": "stream",
       "stream": "stdout",
       "text": [
        "0xf8000292ef38 M    1157  ntoskrnl.exe!ObSetSecurityDescriptorInfo (nt!ObSetSecurityDescriptorInfo)\n"
       ]
      },
      {
       "output_type": "stream",
       "stream": "stdout",
       "text": [
        "0xf8000292ee3c M    1158  ntoskrnl.exe!ObSetSecurityObjectByPointer (nt!ObSetSecurityObjectByPointer)\n"
       ]
      },
      {
       "output_type": "stream",
       "stream": "stdout",
       "text": [
        "0xf80002a9cf90 M    1159  ntoskrnl.exe!ObUnRegisterCallbacks (nt!ObUnRegisterCallbacks)\n"
       ]
      },
      {
       "output_type": "stream",
       "stream": "stdout",
       "text": [
        "0xf80002695fe0 M    1160  ntoskrnl.exe!ObfDereferenceObject (nt!ObfDereferenceObject)\n"
       ]
      },
      {
       "output_type": "stream",
       "stream": "stdout",
       "text": [
        "0xf800026a2ca0 M    1161  ntoskrnl.exe!ObfDereferenceObjectWithTag (nt!ObfDereferenceObjectWithTag)\n"
       ]
      },
      {
       "output_type": "stream",
       "stream": "stdout",
       "text": [
        "0xf8000269cb90 M    1162  ntoskrnl.exe!ObfReferenceObject (nt!ObfReferenceObject)\n"
       ]
      },
      {
       "output_type": "stream",
       "stream": "stdout",
       "text": [
        "0xf800026b8430 M    1163  ntoskrnl.exe!ObfReferenceObjectWithTag (nt!ObfReferenceObjectWithTag)\n"
       ]
      },
      {
       "output_type": "stream",
       "stream": "stdout",
       "text": [
        "0xf8000281fb00 M    1164  ntoskrnl.exe!POGOBuffer (nt!POGOBuffer)           \n"
       ]
      },
      {
       "output_type": "stream",
       "stream": "stdout",
       "text": [
        "0xf80002920794 M    1165  ntoskrnl.exe!PcwAddInstance (nt!PcwAddInstance)   \n"
       ]
      },
      {
       "output_type": "stream",
       "stream": "stdout",
       "text": [
        "0xf80002a1a320 M    1166  ntoskrnl.exe!PcwCloseInstance (nt!PcwCloseInstance)\n"
       ]
      },
      {
       "output_type": "stream",
       "stream": "stdout",
       "text": [
        "0xf80002a1a360 M    1167  ntoskrnl.exe!PcwCreateInstance (nt!PcwCreateInstance)\n"
       ]
      },
      {
       "output_type": "stream",
       "stream": "stdout",
       "text": [
        "0xf80002a1a420 M    1168  ntoskrnl.exe!PcwRegister (nt!PcwRegister)         \n"
       ]
      },
      {
       "output_type": "stream",
       "stream": "stdout",
       "text": [
        "0xf80002a1a3e0 M    1169  ntoskrnl.exe!PcwUnregister (nt!PcwUnregister)     \n"
       ]
      },
      {
       "output_type": "stream",
       "stream": "stdout",
       "text": [
        "0xf800027afef0 M    1170  ntoskrnl.exe!PfFileInfoNotify (nt!PfFileInfoNotify)\n"
       ]
      },
      {
       "output_type": "stream",
       "stream": "stdout",
       "text": [
        "0xf800029fdc20 M    1171  ntoskrnl.exe!PfxFindPrefix (nt!PfxFindPrefix)     \n"
       ]
      },
      {
       "output_type": "stream",
       "stream": "stdout",
       "text": [
        "0xf800029fde20 M    1172  ntoskrnl.exe!PfxInitialize (nt!PfxInitialize)     \n"
       ]
      },
      {
       "output_type": "stream",
       "stream": "stdout",
       "text": [
        "0xf800029fdd00 M    1173  ntoskrnl.exe!PfxInsertPrefix (nt!PfxInsertPrefix) \n"
       ]
      },
      {
       "output_type": "stream",
       "stream": "stdout",
       "text": [
        "0xf80002a0b470 M    1174  ntoskrnl.exe!PfxRemovePrefix (nt!PfxRemovePrefix) \n"
       ]
      },
      {
       "output_type": "stream",
       "stream": "stdout",
       "text": [
        "0xf80002792a80 M    1175  ntoskrnl.exe!PoCallDriver (nt!ViFilterIoCallDriver)\n"
       ]
      },
      {
       "output_type": "stream",
       "stream": "stdout",
       "text": [
        "0xf80002722da0 M    1176  ntoskrnl.exe!PoCancelDeviceNotify (nt!xHalWriteWheaPhysicalMemory)\n"
       ]
      },
      {
       "output_type": "stream",
       "stream": "stdout",
       "text": [
        "0xf80002636e10 M    1177  ntoskrnl.exe!PoClearPowerRequest (nt!PoClearPowerRequest)\n"
       ]
      },
      {
       "output_type": "stream",
       "stream": "stdout",
       "text": [
        "0xf80002931018 M    1178  ntoskrnl.exe!PoCreatePowerRequest (nt!PoCreatePowerRequest)\n"
       ]
      },
      {
       "output_type": "stream",
       "stream": "stdout",
       "text": [
        "0xf80002930e68 M    1179  ntoskrnl.exe!PoDeletePowerRequest (nt!PoDeletePowerRequest)\n"
       ]
      },
      {
       "output_type": "stream",
       "stream": "stdout",
       "text": [
        "0xf80002a8ad10 M    1180  ntoskrnl.exe!PoDisableSleepStates (nt!PoDisableSleepStates)\n"
       ]
      },
      {
       "output_type": "stream",
       "stream": "stdout",
       "text": [
        "0xf8000271ec20 M    1181  ntoskrnl.exe!PoEndDeviceBusy (nt!PoEndDeviceBusy) \n"
       ]
      },
      {
       "output_type": "stream",
       "stream": "stdout",
       "text": [
        "0xf8000271ed20 M    1182  ntoskrnl.exe!PoGetSystemWake (nt!PoGetSystemWake) \n"
       ]
      },
      {
       "output_type": "stream",
       "stream": "stdout",
       "text": [
        "0xf8000273d360 M    1183  ntoskrnl.exe!PoQueryWatchdogTime (nt!PoQueryWatchdogTime)\n"
       ]
      },
      {
       "output_type": "stream",
       "stream": "stdout",
       "text": [
        "0xf80002a8cb70 M    1184  ntoskrnl.exe!PoQueueShutdownWorkItem (nt!PoQueueShutdownWorkItem)\n"
       ]
      },
      {
       "output_type": "stream",
       "stream": "stdout",
       "text": [
        "0xf80002a8f0c0 M    1185  ntoskrnl.exe!PoReenableSleepStates (nt!PoReenableSleepStates)\n"
       ]
      },
      {
       "output_type": "stream",
       "stream": "stdout",
       "text": [
        "0xf80002637f00 M    1186  ntoskrnl.exe!PoRegisterDeviceForIdleDetection (nt!PoRegisterDeviceForIdleDetection)\n"
       ]
      },
      {
       "output_type": "stream",
       "stream": "stdout",
       "text": [
        "0xf80002722da0 M    1187  ntoskrnl.exe!PoRegisterDeviceNotify (nt!xHalWriteWheaPhysicalMemory)\n"
       ]
      },
      {
       "output_type": "stream",
       "stream": "stdout",
       "text": [
        "0xf80002a8c970 M    1188  ntoskrnl.exe!PoRegisterPowerSettingCallback (nt!PoRegisterPowerSettingCallback)\n"
       ]
      },
      {
       "output_type": "stream",
       "stream": "stdout",
       "text": [
        "0xf800027afe10 M    1189  ntoskrnl.exe!PoRegisterSystemState (nt!PoRegisterSystemState)\n"
       ]
      },
      {
       "output_type": "stream",
       "stream": "stdout",
       "text": [
        "0xf800027ae8b0 M    1190  ntoskrnl.exe!PoRequestPowerIrp (nt!PoRequestPowerIrp)\n"
       ]
      },
      {
       "output_type": "stream",
       "stream": "stdout",
       "text": [
        "0xf80002aa1000 M    1191  ntoskrnl.exe!PoRequestShutdownEvent (nt!PoRequestShutdownEvent)\n"
       ]
      },
      {
       "output_type": "stream",
       "stream": "stdout",
       "text": [
        "0xf8000267bff8 M    1192  ntoskrnl.exe!PoSetDeviceBusyEx (nt!PoSetDeviceBusyEx)\n"
       ]
      },
      {
       "output_type": "stream",
       "stream": "stdout",
       "text": [
        "0xf800028cd640 M    1193  ntoskrnl.exe!PoSetFixedWakeSource (nt!PoSetFixedWakeSource)\n"
       ]
      },
      {
       "output_type": "stream",
       "stream": "stdout",
       "text": [
        "0xf800028d98e0 M    1194  ntoskrnl.exe!PoSetHiberRange (nt!PoSetHiberRange) \n"
       ]
      },
      {
       "output_type": "stream",
       "stream": "stdout",
       "text": [
        "0xf80002656670 M    1195  ntoskrnl.exe!PoSetPowerRequest (nt!PoSetPowerRequest)\n"
       ]
      },
      {
       "output_type": "stream",
       "stream": "stdout",
       "text": [
        "0xf8000273ced0 M    1196  ntoskrnl.exe!PoSetPowerState (nt!PoSetPowerState) \n"
       ]
      },
      {
       "output_type": "stream",
       "stream": "stdout",
       "text": [
        "0xf800027785a0 M    1197  ntoskrnl.exe!PoSetSystemState (nt!PoSetSystemState)\n"
       ]
      },
      {
       "output_type": "stream",
       "stream": "stdout",
       "text": [
        "0xf8000271ed50 M    1198  ntoskrnl.exe!PoSetSystemWake (nt!PoSetSystemWake) \n"
       ]
      },
      {
       "output_type": "stream",
       "stream": "stdout",
       "text": [
        "0xf80002aed140 M    1199  ntoskrnl.exe!PoShutdownBugCheck (nt!PoShutdownBugCheck)\n"
       ]
      },
      {
       "output_type": "stream",
       "stream": "stdout",
       "text": [
        "0xf8000271ec30 M    1200  ntoskrnl.exe!PoStartDeviceBusy (nt!PoStartDeviceBusy)\n"
       ]
      },
      {
       "output_type": "stream",
       "stream": "stdout",
       "text": [
        "0xf8000266eaf0 M    1201  ntoskrnl.exe!PoStartNextPowerIrp (nt!xKdUnmapVirtualAddress)\n"
       ]
      },
      {
       "output_type": "stream",
       "stream": "stdout",
       "text": [
        "0xf80002aa4030 M    1202  ntoskrnl.exe!PoUnregisterPowerSettingCallback (nt!PoUnregisterPowerSettingCallback)\n"
       ]
      },
      {
       "output_type": "stream",
       "stream": "stdout",
       "text": [
        "0xf80002776600 M    1203  ntoskrnl.exe!PoUnregisterSystemState (nt!PoUnregisterSystemState)\n"
       ]
      },
      {
       "output_type": "stream",
       "stream": "stdout",
       "text": [
        "0xf80002a874d0 M    1204  ntoskrnl.exe!PoUserShutdownInitiated (nt!PoUserShutdownInitiated)\n"
       ]
      },
      {
       "output_type": "stream",
       "stream": "stdout",
       "text": [
        "0xf800029031c0 M    1205  ntoskrnl.exe!ProbeForRead (nt!ProbeForRead)       \n"
       ]
      },
      {
       "output_type": "stream",
       "stream": "stdout",
       "text": [
        "0xf800029a4c40 M    1206  ntoskrnl.exe!ProbeForWrite (nt!ProbeForWrite)     \n"
       ]
      },
      {
       "output_type": "stream",
       "stream": "stdout",
       "text": [
        "0xf80002a0bd20 M    1207  ntoskrnl.exe!PsAcquireProcessExitSynchronization (nt!PsAcquireProcessExitSynchronization)\n"
       ]
      },
      {
       "output_type": "stream",
       "stream": "stdout",
       "text": [
        "0xf8000292c080 M    1208  ntoskrnl.exe!PsAssignImpersonationToken (nt!PsAssignImpersonationToken)\n"
       ]
      },
      {
       "output_type": "stream",
       "stream": "stdout",
       "text": [
        "0xf80002636b20 M    1209  ntoskrnl.exe!PsChargePoolQuota (nt!PsChargePoolQuota)\n"
       ]
      },
      {
       "output_type": "stream",
       "stream": "stdout",
       "text": [
        "0xf800026b5454 M    1210  ntoskrnl.exe!PsChargeProcessNonPagedPoolQuota (nt!PsChargeProcessNonPagedPoolQuota)\n"
       ]
      },
      {
       "output_type": "stream",
       "stream": "stdout",
       "text": [
        "0xf8000292438c M    1211  ntoskrnl.exe!PsChargeProcessPagedPoolQuota (nt!PsChargeProcessPagedPoolQuota)\n"
       ]
      },
      {
       "output_type": "stream",
       "stream": "stdout",
       "text": [
        "0xf800026636d4 M    1212  ntoskrnl.exe!PsChargeProcessPoolQuota (nt!PsChargeProcessPoolQuota)\n"
       ]
      },
      {
       "output_type": "stream",
       "stream": "stdout",
       "text": [
        "0xf80002933a84 M    1213  ntoskrnl.exe!PsCreateSystemThread (nt!PsCreateSystemThread)\n"
       ]
      },
      {
       "output_type": "stream",
       "stream": "stdout",
       "text": [
        "0xf8000292f534 M    1214  ntoskrnl.exe!PsDereferenceImpersonationToken (nt!PsDereferenceImpersonationToken)\n"
       ]
      },
      {
       "output_type": "stream",
       "stream": "stdout",
       "text": [
        "0xf800029375cc M    1215  ntoskrnl.exe!PsDereferencePrimaryToken (nt!PsDereferencePrimaryToken)\n"
       ]
      },
      {
       "output_type": "stream",
       "stream": "stdout",
       "text": [
        "0xf80002964b64 M    1216  ntoskrnl.exe!PsDisableImpersonation (nt!PsDisableImpersonation)\n"
       ]
      },
      {
       "output_type": "stream",
       "stream": "stdout",
       "text": [
        "0xf8000269d1b0 M    1217  ntoskrnl.exe!PsEnterPriorityRegion (nt!PsEnterPriorityRegion)\n"
       ]
      },
      {
       "output_type": "stream",
       "stream": "stdout",
       "text": [
        "0xf800029ff850 M    1218  ntoskrnl.exe!PsEstablishWin32Callouts (nt!PsEstablishWin32Callouts)\n"
       ]
      },
      {
       "output_type": "stream",
       "stream": "stdout",
       "text": [
        "0xf80002a28440 M    1219  ntoskrnl.exe!PsGetContextThread (nt!PsGetContextThread)\n"
       ]
      },
      {
       "output_type": "stream",
       "stream": "stdout",
       "text": [
        "0xf800026b7bd0 M    1220  ntoskrnl.exe!PsGetCurrentProcess (nt!PsGetCurrentProcess)\n"
       ]
      },
      {
       "output_type": "stream",
       "stream": "stdout",
       "text": [
        "0xf800026b54c0 M    1221  ntoskrnl.exe!PsGetCurrentProcessId (nt!PsGetCurrentProcessId)\n"
       ]
      },
      {
       "output_type": "stream",
       "stream": "stdout",
       "text": [
        "0xf8000265aec0 M    1222  ntoskrnl.exe!PsGetCurrentProcessSessionId (nt!PsGetCurrentProcessSessionId)\n"
       ]
      },
      {
       "output_type": "stream",
       "stream": "stdout",
       "text": [
        "0xf800026aab74 M    1223  ntoskrnl.exe!PsGetCurrentProcessWin32Process (nt!PsGetCurrentProcessWin32Process)\n"
       ]
      },
      {
       "output_type": "stream",
       "stream": "stdout",
       "text": [
        "0xf800026aab90 M    1224  ntoskrnl.exe!PsGetCurrentProcessWow64Process (nt!PsGetCurrentProcessWow64Process)\n"
       ]
      },
      {
       "output_type": "stream",
       "stream": "stdout",
       "text": [
        "0xf800026ddc10 M    1225  ntoskrnl.exe!PsGetCurrentThread (nt!PsGetCurrentThread)\n"
       ]
      },
      {
       "output_type": "stream",
       "stream": "stdout",
       "text": [
        "0xf8000265d060 M    1226  ntoskrnl.exe!PsGetCurrentThreadId (nt!PsGetCurrentThreadId)\n"
       ]
      },
      {
       "output_type": "stream",
       "stream": "stdout",
       "text": [
        "0xf80002732090 M    1227  ntoskrnl.exe!PsGetCurrentThreadPreviousMode (nt!PsGetCurrentThreadPreviousMode)\n"
       ]
      },
      {
       "output_type": "stream",
       "stream": "stdout",
       "text": [
        "0xf80002732070 M    1228  ntoskrnl.exe!PsGetCurrentThreadProcess (nt!PsGetCurrentThreadProcess)\n"
       ]
      },
      {
       "output_type": "stream",
       "stream": "stdout",
       "text": [
        "0xf80002732050 M    1229  ntoskrnl.exe!PsGetCurrentThreadProcessId (nt!PsGetCurrentThreadProcessId)\n"
       ]
      },
      {
       "output_type": "stream",
       "stream": "stdout",
       "text": [
        "0xf8000272aa80 M    1230  ntoskrnl.exe!PsGetCurrentThreadStackBase (nt!PsGetCurrentThreadStackBase)\n"
       ]
      },
      {
       "output_type": "stream",
       "stream": "stdout",
       "text": [
        "0xf8000272aa60 M    1231  ntoskrnl.exe!PsGetCurrentThreadStackLimit (nt!PsGetCurrentThreadStackLimit)\n"
       ]
      },
      {
       "output_type": "stream",
       "stream": "stdout",
       "text": [
        "0xf80002663294 M    1232  ntoskrnl.exe!PsGetCurrentThreadTeb (nt!PsGetCurrentThreadTeb)\n"
       ]
      },
      {
       "output_type": "stream",
       "stream": "stdout",
       "text": [
        "0xf8000269d190 M    1233  ntoskrnl.exe!PsGetCurrentThreadWin32Thread (nt!PsGetCurrentThreadWin32Thread)\n"
       ]
      },
      {
       "output_type": "stream",
       "stream": "stdout",
       "text": [
        "0xf800026aabb0 M    1234  ntoskrnl.exe!PsGetCurrentThreadWin32ThreadAndEnterCriticalRegion (nt!PsGetCurrentThreadWin32ThreadAndEnterCriticalRegion)\n"
       ]
      },
      {
       "output_type": "stream",
       "stream": "stdout",
       "text": [
        "0xf8000271e6f0 M    1235  ntoskrnl.exe!PsGetJobLock (nt!PsGetJobLock)       \n"
       ]
      },
      {
       "output_type": "stream",
       "stream": "stdout",
       "text": [
        "0xf8000271e6e0 M    1236  ntoskrnl.exe!PsGetJobSessionId (nt!PsGetJobSessionId)\n"
       ]
      },
      {
       "output_type": "stream",
       "stream": "stdout",
       "text": [
        "0xf80002666244 M    1237  ntoskrnl.exe!PsGetJobUIRestrictionsClass (nt!PsGetJobUIRestrictionsClass)\n"
       ]
      },
      {
       "output_type": "stream",
       "stream": "stdout",
       "text": [
        "0xf8000263d270 M    1238  ntoskrnl.exe!PsGetProcessCreateTimeQuadPart (nt!PsGetProcessCreateTimeQuadPart)\n"
       ]
      },
      {
       "output_type": "stream",
       "stream": "stdout",
       "text": [
        "0xf8000271e6d0 M    1239  ntoskrnl.exe!PsGetProcessDebugPort (nt!PsGetProcessDebugPort)\n"
       ]
      },
      {
       "output_type": "stream",
       "stream": "stdout",
       "text": [
        "0xf800029ff960 M    1240  ntoskrnl.exe!PsGetProcessExitProcessCalled (nt!PsGetProcessExitProcessCalled)\n"
       ]
      },
      {
       "output_type": "stream",
       "stream": "stdout",
       "text": [
        "0xf8000271e6c0 M    1241  ntoskrnl.exe!PsGetProcessExitStatus (nt!PsGetProcessExitStatus)\n"
       ]
      },
      {
       "output_type": "stream",
       "stream": "stdout",
       "text": [
        "0xf8000294b200 M    1242  ntoskrnl.exe!PsGetProcessExitTime (nt!PsGetProcessExitTime)\n"
       ]
      },
      {
       "output_type": "stream",
       "stream": "stdout",
       "text": [
        "0xf8000265af70 M    1243  ntoskrnl.exe!PsGetProcessId (nt!PsGetProcessId)   \n"
       ]
      },
      {
       "output_type": "stream",
       "stream": "stdout",
       "text": [
        "0xf80002641294 M    1244  ntoskrnl.exe!PsGetProcessImageFileName (nt!PsGetProcessImageFileName)\n"
       ]
      },
      {
       "output_type": "stream",
       "stream": "stdout",
       "text": [
        "0xf800026603d0 M    1245  ntoskrnl.exe!PsGetProcessInheritedFromUniqueProcessId (nt!PsGetProcessInheritedFromUniqueProcessId)\n"
       ]
      },
      {
       "output_type": "stream",
       "stream": "stdout",
       "text": [
        "0xf800026836e0 M    1246  ntoskrnl.exe!PsGetProcessJob (nt!PsGetProcessJob) \n"
       ]
      },
      {
       "output_type": "stream",
       "stream": "stdout",
       "text": [
        "0xf8000265af00 M    1247  ntoskrnl.exe!PsGetProcessPeb (nt!PsGetProcessPeb) \n"
       ]
      },
      {
       "output_type": "stream",
       "stream": "stdout",
       "text": [
        "0xf8000271e6b0 M    1248  ntoskrnl.exe!PsGetProcessPriorityClass (nt!PsGetProcessPriorityClass)\n"
       ]
      },
      {
       "output_type": "stream",
       "stream": "stdout",
       "text": [
        "0xf800026836c0 M    1249  ntoskrnl.exe!PsGetProcessSectionBaseAddress (nt!PsGetThreadWin32Thread)\n"
       ]
      },
      {
       "output_type": "stream",
       "stream": "stdout",
       "text": [
        "0xf80002931700 M    1250  ntoskrnl.exe!PsGetProcessSecurityPort (nt!PsGetProcessSecurityPort)\n"
       ]
      },
      {
       "output_type": "stream",
       "stream": "stdout",
       "text": [
        "0xf8000265a020 M    1251  ntoskrnl.exe!PsGetProcessSessionId (nt!PsGetProcessSessionId)\n"
       ]
      },
      {
       "output_type": "stream",
       "stream": "stdout",
       "text": [
        "0xf80002663e4c M    1252  ntoskrnl.exe!PsGetProcessSessionIdEx (nt!PsGetProcessSessionIdEx)\n"
       ]
      },
      {
       "output_type": "stream",
       "stream": "stdout",
       "text": [
        "0xf800026836d0 M    1253  ntoskrnl.exe!PsGetProcessWin32Process (nt!PsGetProcessWin32Process)\n"
       ]
      },
      {
       "output_type": "stream",
       "stream": "stdout",
       "text": [
        "0xf80002683700 M    1254  ntoskrnl.exe!PsGetProcessWin32WindowStation (nt!PsGetProcessWin32WindowStation)\n"
       ]
      },
      {
       "output_type": "stream",
       "stream": "stdout",
       "text": [
        "0xf8000265f4d0 M    1255  ntoskrnl.exe!PsGetProcessWow64Process (nt!PsGetProcessWow64Process)\n"
       ]
      },
      {
       "output_type": "stream",
       "stream": "stdout",
       "text": [
        "0xf8000271e6a0 M    1256  ntoskrnl.exe!PsGetThreadFreezeCount (nt!PsGetThreadFreezeCount)\n"
       ]
      },
      {
       "output_type": "stream",
       "stream": "stdout",
       "text": [
        "0xf8000271e680 M    1257  ntoskrnl.exe!PsGetThreadHardErrorsAreDisabled (nt!PsGetThreadHardErrorsAreDisabled)\n"
       ]
      },
      {
       "output_type": "stream",
       "stream": "stdout",
       "text": [
        "0xf8000265d7c0 M    1258  ntoskrnl.exe!PsGetThreadId (nt!PsGetThreadId)     \n"
       ]
      },
      {
       "output_type": "stream",
       "stream": "stdout",
       "text": [
        "0xf800026836f0 M    1259  ntoskrnl.exe!PsGetThreadProcess (nt!PsGetThreadProcess)\n"
       ]
      },
      {
       "output_type": "stream",
       "stream": "stdout",
       "text": [
        "0xf8000265e830 M    1260  ntoskrnl.exe!PsGetThreadProcessId (nt!PsGetThreadProcessId)\n"
       ]
      },
      {
       "output_type": "stream",
       "stream": "stdout",
       "text": [
        "0xf80002936140 M    1261  ntoskrnl.exe!PsGetThreadSessionId (nt!PsGetThreadSessionId)\n"
       ]
      },
      {
       "output_type": "stream",
       "stream": "stdout",
       "text": [
        "0xf80002669fa4 M    1262  ntoskrnl.exe!PsGetThreadTeb (nt!PsGetThreadTeb)   \n"
       ]
      },
      {
       "output_type": "stream",
       "stream": "stdout",
       "text": [
        "0xf800026836c0 M    1263  ntoskrnl.exe!PsGetThreadWin32Thread (nt!PsGetThreadWin32Thread)\n"
       ]
      },
      {
       "output_type": "stream",
       "stream": "stdout",
       "text": [
        "0xf8000271e610 M    1264  ntoskrnl.exe!PsGetVersion (nt!PsGetVersion)       \n"
       ]
      },
      {
       "output_type": "stream",
       "stream": "stdout",
       "text": [
        "0xf80002962540 M    1265  ntoskrnl.exe!PsImpersonateClient (nt!PsImpersonateClient)\n"
       ]
      },
      {
       "output_type": "stream",
       "stream": "stdout",
       "text": [
        "0xf800028c7030 M    1266  ntoskrnl.exe!PsInitialSystemProcess (nt!PsInitialSystemProcess)\n"
       ]
      },
      {
       "output_type": "stream",
       "stream": "stdout",
       "text": [
        "0xf80002641660 M    1267  ntoskrnl.exe!PsIsCurrentThreadPrefetching (nt!PsIsCurrentThreadPrefetching)\n"
       ]
      },
      {
       "output_type": "stream",
       "stream": "stdout",
       "text": [
        "0xf800029ff980 M    1268  ntoskrnl.exe!PsIsProcessBeingDebugged (nt!PsIsProcessBeingDebugged)\n"
       ]
      },
      {
       "output_type": "stream",
       "stream": "stdout",
       "text": [
        "0xf8000265b040 M    1269  ntoskrnl.exe!PsIsProtectedProcess (nt!PsIsProtectedProcess)\n"
       ]
      },
      {
       "output_type": "stream",
       "stream": "stdout",
       "text": [
        "0xf8000266f8b8 M    1270  ntoskrnl.exe!PsIsSystemProcess (nt!PsIsSystemProcess)\n"
       ]
      },
      {
       "output_type": "stream",
       "stream": "stdout",
       "text": [
        "0xf800026619b0 M    1271  ntoskrnl.exe!PsIsSystemThread (nt!PsIsSystemThread)\n"
       ]
      },
      {
       "output_type": "stream",
       "stream": "stdout",
       "text": [
        "0xf8000292c054 M    1272  ntoskrnl.exe!PsIsThreadImpersonating (nt!PsIsThreadImpersonating)\n"
       ]
      },
      {
       "output_type": "stream",
       "stream": "stdout",
       "text": [
        "0xf800026603e0 M    1273  ntoskrnl.exe!PsIsThreadTerminating (nt!PsIsThreadTerminating)\n"
       ]
      },
      {
       "output_type": "stream",
       "stream": "stdout",
       "text": [
        "0xf800028c7288 M    1274  ntoskrnl.exe!PsJobType (nt!PsJobType)             \n"
       ]
      },
      {
       "output_type": "stream",
       "stream": "stdout",
       "text": [
        "0xf8000269d1d0 M    1275  ntoskrnl.exe!PsLeavePriorityRegion (nt!PsLeavePriorityRegion)\n"
       ]
      },
      {
       "output_type": "stream",
       "stream": "stdout",
       "text": [
        "0xf80002961750 M    1276  ntoskrnl.exe!PsLookupProcessByProcessId (nt!PsLookupProcessByProcessId)\n"
       ]
      },
      {
       "output_type": "stream",
       "stream": "stdout",
       "text": [
        "0xf8000295bb44 M    1277  ntoskrnl.exe!PsLookupProcessThreadByCid (nt!PsLookupProcessThreadByCid)\n"
       ]
      },
      {
       "output_type": "stream",
       "stream": "stdout",
       "text": [
        "0xf8000295c6ac M    1278  ntoskrnl.exe!PsLookupThreadByThreadId (nt!PsLookupThreadByThreadId)\n"
       ]
      },
      {
       "output_type": "stream",
       "stream": "stdout",
       "text": [
        "0xf800028c7020 M    1279  ntoskrnl.exe!PsProcessType (nt!PsProcessType)     \n"
       ]
      },
      {
       "output_type": "stream",
       "stream": "stdout",
       "text": [
        "0xf80002a86cf0 M    1280  ntoskrnl.exe!PsQueryProcessExceptionFlags (nt!PsQueryProcessExceptionFlags)\n"
       ]
      },
      {
       "output_type": "stream",
       "stream": "stdout",
       "text": [
        "0xf80002955a50 M    1281  ntoskrnl.exe!PsReferenceImpersonationToken (nt!PsReferenceImpersonationToken)\n"
       ]
      },
      {
       "output_type": "stream",
       "stream": "stdout",
       "text": [
        "0xf8000296ebc4 M    1282  ntoskrnl.exe!PsReferencePrimaryToken (nt!PsReferencePrimaryToken)\n"
       ]
      },
      {
       "output_type": "stream",
       "stream": "stdout",
       "text": [
        "0xf8000293ee80 M    1283  ntoskrnl.exe!PsReferenceProcessFilePointer (nt!PsReferenceProcessFilePointer)\n"
       ]
      },
      {
       "output_type": "stream",
       "stream": "stdout",
       "text": [
        "0xf80002a19d30 M    1284  ntoskrnl.exe!PsReleaseProcessExitSynchronization (nt!PsReleaseProcessExitSynchronization)\n"
       ]
      },
      {
       "output_type": "stream",
       "stream": "stdout",
       "text": [
        "0xf80002ad09d0 M    1285  ntoskrnl.exe!PsRemoveCreateThreadNotifyRoutine (nt!PsRemoveCreateThreadNotifyRoutine)\n"
       ]
      },
      {
       "output_type": "stream",
       "stream": "stdout",
       "text": [
        "0xf80002ad0890 M    1286  ntoskrnl.exe!PsRemoveLoadImageNotifyRoutine (nt!PsRemoveLoadImageNotifyRoutine)\n"
       ]
      },
      {
       "output_type": "stream",
       "stream": "stdout",
       "text": [
        "0xf80002964a24 M    1287  ntoskrnl.exe!PsRestoreImpersonation (nt!PsRestoreImpersonation)\n"
       ]
      },
      {
       "output_type": "stream",
       "stream": "stdout",
       "text": [
        "0xf80002a86c00 M    1288  ntoskrnl.exe!PsResumeProcess (nt!PsResumeProcess) \n"
       ]
      },
      {
       "output_type": "stream",
       "stream": "stdout",
       "text": [
        "0xf80002663990 M    1289  ntoskrnl.exe!PsReturnPoolQuota (nt!PsReturnPoolQuota)\n"
       ]
      },
      {
       "output_type": "stream",
       "stream": "stdout",
       "text": [
        "0xf800026c2bbc M    1290  ntoskrnl.exe!PsReturnProcessNonPagedPoolQuota (nt!PsReturnProcessNonPagedPoolQuota)\n"
       ]
      },
      {
       "output_type": "stream",
       "stream": "stdout",
       "text": [
        "0xf800026c49c4 M    1291  ntoskrnl.exe!PsReturnProcessPagedPoolQuota (nt!PsReturnProcessPagedPoolQuota)\n"
       ]
      },
      {
       "output_type": "stream",
       "stream": "stdout",
       "text": [
        "0xf80002a8e080 M    1292  ntoskrnl.exe!PsRevertThreadToSelf (nt!PsRevertThreadToSelf)\n"
       ]
      },
      {
       "output_type": "stream",
       "stream": "stdout",
       "text": [
        "0xf800028fb648 M    1293  ntoskrnl.exe!PsRevertToSelf (nt!PsRevertToSelf)   \n"
       ]
      },
      {
       "output_type": "stream",
       "stream": "stdout",
       "text": [
        "0xf800028e23b0 M    1294  ntoskrnl.exe!PsSetContextThread (nt!PsSetContextThread)\n"
       ]
      },
      {
       "output_type": "stream",
       "stream": "stdout",
       "text": [
        "0xf80002ad0d20 M    1295  ntoskrnl.exe!PsSetCreateProcessNotifyRoutine (nt!PsSetCreateProcessNotifyRoutine)\n"
       ]
      },
      {
       "output_type": "stream",
       "stream": "stdout",
       "text": [
        "0xf80002ad0d30 M    1296  ntoskrnl.exe!PsSetCreateProcessNotifyRoutineEx (nt!PsSetCreateProcessNotifyRoutineEx)\n"
       ]
      },
      {
       "output_type": "stream",
       "stream": "stdout",
       "text": [
        "0xf80002aa10d0 M    1297  ntoskrnl.exe!PsSetCreateThreadNotifyRoutine (nt!PsSetCreateThreadNotifyRoutine)\n"
       ]
      },
      {
       "output_type": "stream",
       "stream": "stdout",
       "text": [
        "0xf80002a1ba60 M    1298  ntoskrnl.exe!PsSetCurrentThreadPrefetching (nt!PsSetCurrentThreadPrefetching)\n"
       ]
      },
      {
       "output_type": "stream",
       "stream": "stdout",
       "text": [
        "0xf800029ff950 M    1299  ntoskrnl.exe!PsSetJobUIRestrictionsClass (nt!PsSetJobUIRestrictionsClass)\n"
       ]
      },
      {
       "output_type": "stream",
       "stream": "stdout",
       "text": [
        "0xf800029ff830 M    1300  ntoskrnl.exe!PsSetLegoNotifyRoutine (nt!PsSetLegoNotifyRoutine)\n"
       ]
      },
      {
       "output_type": "stream",
       "stream": "stdout",
       "text": [
        "0xf80002aa1050 M    1301  ntoskrnl.exe!PsSetLoadImageNotifyRoutine (nt!PsSetLoadImageNotifyRoutine)\n"
       ]
      },
      {
       "output_type": "stream",
       "stream": "stdout",
       "text": [
        "0xf800029487f4 M    1302  ntoskrnl.exe!PsSetProcessPriorityByClass (nt!PsSetProcessPriorityByClass)\n"
       ]
      },
      {
       "output_type": "stream",
       "stream": "stdout",
       "text": [
        "0xf8000271e670 M    1303  ntoskrnl.exe!PsSetProcessPriorityClass (nt!PsSetProcessPriorityClass)\n"
       ]
      },
      {
       "output_type": "stream",
       "stream": "stdout",
       "text": [
        "0xf800029ff940 M    1304  ntoskrnl.exe!PsSetProcessSecurityPort (nt!PsSetProcessSecurityPort)\n"
       ]
      },
      {
       "output_type": "stream",
       "stream": "stdout",
       "text": [
        "0xf80002936728 M    1305  ntoskrnl.exe!PsSetProcessWin32Process (nt!PsSetProcessWin32Process)\n"
       ]
      },
      {
       "output_type": "stream",
       "stream": "stdout",
       "text": [
        "0xf800029437f8 M    1306  ntoskrnl.exe!PsSetProcessWindowStation (nt!PsSetProcessWindowStation)\n"
       ]
      },
      {
       "output_type": "stream",
       "stream": "stdout",
       "text": [
        "0xf8000271e650 M    1307  ntoskrnl.exe!PsSetThreadHardErrorsAreDisabled (nt!PsSetThreadHardErrorsAreDisabled)\n"
       ]
      },
      {
       "output_type": "stream",
       "stream": "stdout",
       "text": [
        "0xf80002936340 M    1308  ntoskrnl.exe!PsSetThreadWin32Thread (nt!PsSetThreadWin32Thread)\n"
       ]
      },
      {
       "output_type": "stream",
       "stream": "stdout",
       "text": [
        "0xf80002a87220 M    1309  ntoskrnl.exe!PsSuspendProcess (nt!PsSuspendProcess)\n"
       ]
      },
      {
       "output_type": "stream",
       "stream": "stdout",
       "text": [
        "0xf80002921860 M    1310  ntoskrnl.exe!PsTerminateSystemThread (nt!PsTerminateSystemThread)\n"
       ]
      },
      {
       "output_type": "stream",
       "stream": "stdout",
       "text": [
        "0xf800028c7050 M    1311  ntoskrnl.exe!PsThreadType (nt!PsThreadType)       \n"
       ]
      },
      {
       "output_type": "stream",
       "stream": "stdout",
       "text": [
        "0xf80002b59244 M    1312  ntoskrnl.exe!PsUILanguageComitted (nt!PsUILanguageComitted)\n"
       ]
      },
      {
       "output_type": "stream",
       "stream": "stdout",
       "text": [
        "0xf80002732020 M    1313  ntoskrnl.exe!PsWrapApcWow64Thread (nt!PsWrapApcWow64Thread)\n"
       ]
      },
      {
       "output_type": "stream",
       "stream": "stdout",
       "text": [
        "0xf800028e3a7c M    1314  ntoskrnl.exe!RtlAbsoluteToSelfRelativeSD (nt!RtlAbsoluteToSelfRelativeSD)\n"
       ]
      },
      {
       "output_type": "stream",
       "stream": "stdout",
       "text": [
        "0xf80002902364 M    1315  ntoskrnl.exe!RtlAddAccessAllowedAce (nt!RtlAddAccessAllowedAce)\n"
       ]
      },
      {
       "output_type": "stream",
       "stream": "stdout",
       "text": [
        "0xf80002a12b60 M    1316  ntoskrnl.exe!RtlAddAccessAllowedAceEx (nt!RtlAddAccessAllowedAceEx)\n"
       ]
      },
      {
       "output_type": "stream",
       "stream": "stdout",
       "text": [
        "0xf80002924130 M    1317  ntoskrnl.exe!RtlAddAce (nt!RtlAddAce)             \n"
       ]
      },
      {
       "output_type": "stream",
       "stream": "stdout",
       "text": [
        "0xf80002947250 M    1318  ntoskrnl.exe!RtlAddAtomToAtomTable (nt!RtlAddAtomToAtomTable)\n"
       ]
      },
      {
       "output_type": "stream",
       "stream": "stdout",
       "text": [
        "0xf80002a9a080 M    1319  ntoskrnl.exe!RtlAddRange (nt!RtlAddRange)         \n"
       ]
      },
      {
       "output_type": "stream",
       "stream": "stdout",
       "text": [
        "0xf8000265e840 M    1320  ntoskrnl.exe!RtlAllocateHeap (nt!RtlAllocateHeap) \n"
       ]
      },
      {
       "output_type": "stream",
       "stream": "stdout",
       "text": [
        "0xf80002973ef4 M    1321  ntoskrnl.exe!RtlAnsiCharToUnicodeChar (nt!RtlAnsiCharToUnicodeChar)\n"
       ]
      },
      {
       "output_type": "stream",
       "stream": "stdout",
       "text": [
        "0xf800029ff120 M    1322  ntoskrnl.exe!RtlAnsiStringToUnicodeSize (nt!RtlxOemStringToUnicodeSize)\n"
       ]
      },
      {
       "output_type": "stream",
       "stream": "stdout",
       "text": [
        "0xf8000297bc70 M    1323  ntoskrnl.exe!RtlAnsiStringToUnicodeString (nt!RtlAnsiStringToUnicodeString)\n"
       ]
      },
      {
       "output_type": "stream",
       "stream": "stdout",
       "text": [
        "0xf800029fef90 M    1324  ntoskrnl.exe!RtlAppendAsciizToString (nt!RtlAppendAsciizToString)\n"
       ]
      },
      {
       "output_type": "stream",
       "stream": "stdout",
       "text": [
        "0xf800029fef30 M    1325  ntoskrnl.exe!RtlAppendStringToString (nt!RtlAppendStringToString)\n"
       ]
      },
      {
       "output_type": "stream",
       "stream": "stdout",
       "text": [
        "0xf8000265b190 M    1326  ntoskrnl.exe!RtlAppendUnicodeStringToString (nt!RtlAppendUnicodeStringToString)\n"
       ]
      },
      {
       "output_type": "stream",
       "stream": "stdout",
       "text": [
        "0xf800026603f0 M    1327  ntoskrnl.exe!RtlAppendUnicodeToString (nt!RtlAppendUnicodeToString)\n"
       ]
      },
      {
       "output_type": "stream",
       "stream": "stdout",
       "text": [
        "0xf8000298066c M    1328  ntoskrnl.exe!RtlAreAllAccessesGranted (nt!RtlAreAllAccessesGranted)\n"
       ]
      },
      {
       "output_type": "stream",
       "stream": "stdout",
       "text": [
        "0xf800029fd740 M    1329  ntoskrnl.exe!RtlAreAnyAccessesGranted (nt!RtlAreAnyAccessesGranted)\n"
       ]
      },
      {
       "output_type": "stream",
       "stream": "stdout",
       "text": [
        "0xf800026b54e0 M    1330  ntoskrnl.exe!RtlAreBitsClear (nt!RtlAreBitsClear) \n"
       ]
      },
      {
       "output_type": "stream",
       "stream": "stdout",
       "text": [
        "0xf8000268639c M    1331  ntoskrnl.exe!RtlAreBitsSet (nt!RtlAreBitsSet)     \n"
       ]
      },
      {
       "output_type": "stream",
       "stream": "stdout",
       "text": [
        "0xf80002788e30 M    1332  ntoskrnl.exe!RtlAssert (nt!RtlAssert)             \n"
       ]
      },
      {
       "output_type": "stream",
       "stream": "stdout",
       "text": [
        "0xf80002691570 M    1333  ntoskrnl.exe!RtlCaptureContext (nt!RtlCaptureContext)\n"
       ]
      },
      {
       "output_type": "stream",
       "stream": "stdout",
       "text": [
        "0xf80002752b80 M    1334  ntoskrnl.exe!RtlCaptureStackBackTrace (nt!RtlCaptureStackBackTrace)\n"
       ]
      },
      {
       "output_type": "stream",
       "stream": "stdout",
       "text": [
        "0xf800029fd590 M    1335  ntoskrnl.exe!RtlCharToInteger (nt!RtlCharToInteger)\n"
       ]
      },
      {
       "output_type": "stream",
       "stream": "stdout",
       "text": [
        "0xf80002a49080 M    1336  ntoskrnl.exe!RtlCheckRegistryKey (nt!RtlCheckRegistryKey)\n"
       ]
      },
      {
       "output_type": "stream",
       "stream": "stdout",
       "text": [
        "0xf80002658fb0 M    1337  ntoskrnl.exe!RtlClearAllBits (nt!RtlClearAllBits) \n"
       ]
      },
      {
       "output_type": "stream",
       "stream": "stdout",
       "text": [
        "0xf80002663980 M    1338  ntoskrnl.exe!RtlClearBit (nt!RtlClearBit)         \n"
       ]
      },
      {
       "output_type": "stream",
       "stream": "stdout",
       "text": [
        "0xf800026a8dc0 M    1339  ntoskrnl.exe!RtlClearBits (nt!RtlClearBits)       \n"
       ]
      },
      {
       "output_type": "stream",
       "stream": "stdout",
       "text": [
        "0xf8000271db10 M    1340  ntoskrnl.exe!RtlCmDecodeMemIoResource (nt!RtlCmDecodeMemIoResource)\n"
       ]
      },
      {
       "output_type": "stream",
       "stream": "stdout",
       "text": [
        "0xf8000271dc20 M    1341  ntoskrnl.exe!RtlCmEncodeMemIoResource (nt!RtlCmEncodeMemIoResource)\n"
       ]
      },
      {
       "output_type": "stream",
       "stream": "stdout",
       "text": [
        "0xf80002639240 M    1342  ntoskrnl.exe!RtlCompareAltitudes (nt!RtlCompareAltitudes)\n"
       ]
      },
      {
       "output_type": "stream",
       "stream": "stdout",
       "text": [
        "0xf80002692e10 M    1343  ntoskrnl.exe!RtlCompareMemory (nt!RtlCompareMemory)\n"
       ]
      },
      {
       "output_type": "stream",
       "stream": "stdout",
       "text": [
        "0xf80002692ec0 M    1344  ntoskrnl.exe!RtlCompareMemoryUlong (nt!RtlCompareMemoryUlong)\n"
       ]
      },
      {
       "output_type": "stream",
       "stream": "stdout",
       "text": [
        "0xf80002a0b870 M    1345  ntoskrnl.exe!RtlCompareString (nt!RtlCompareString)\n"
       ]
      },
      {
       "output_type": "stream",
       "stream": "stdout",
       "text": [
        "0xf8000293020c M    1346  ntoskrnl.exe!RtlCompareUnicodeString (nt!RtlCompareUnicodeString)\n"
       ]
      },
      {
       "output_type": "stream",
       "stream": "stdout",
       "text": [
        "0xf80002971620 M    1347  ntoskrnl.exe!RtlCompareUnicodeStrings (nt!RtlCompareUnicodeStrings)\n"
       ]
      },
      {
       "output_type": "stream",
       "stream": "stdout",
       "text": [
        "0xf800028cbae4 M    1348  ntoskrnl.exe!RtlCompressBuffer (nt!RtlCompressBuffer)\n"
       ]
      },
      {
       "output_type": "stream",
       "stream": "stdout",
       "text": [
        "0xf80002a484c0 M    1349  ntoskrnl.exe!RtlCompressChunks (nt!RtlCompressChunks)\n"
       ]
      },
      {
       "output_type": "stream",
       "stream": "stdout",
       "text": [
        "0xf800026dacb4 M    1350  ntoskrnl.exe!RtlComputeCrc32 (nt!RtlComputeCrc32) \n"
       ]
      },
      {
       "output_type": "stream",
       "stream": "stdout",
       "text": [
        "0xf80002696110 M    1351  ntoskrnl.exe!RtlContractHashTable (nt!RtlContractHashTable)\n"
       ]
      },
      {
       "output_type": "stream",
       "stream": "stdout",
       "text": [
        "0xf8000294b9fc M    1352  ntoskrnl.exe!RtlConvertSidToUnicodeString (nt!RtlConvertSidToUnicodeString)\n"
       ]
      },
      {
       "output_type": "stream",
       "stream": "stdout",
       "text": [
        "0xf800029fd8a0 M    1353  ntoskrnl.exe!RtlCopyLuid (nt!RtlCopyLuid)         \n"
       ]
      },
      {
       "output_type": "stream",
       "stream": "stdout",
       "text": [
        "0xf800029fd860 M    1354  ntoskrnl.exe!RtlCopyLuidAndAttributesArray (nt!RtlCopyLuidAndAttributesArray)\n"
       ]
      },
      {
       "output_type": "stream",
       "stream": "stdout",
       "text": [
        "0xf80002687c40 M    1355  ntoskrnl.exe!RtlCopyMemory (nt!memmove)           \n"
       ]
      },
      {
       "output_type": "stream",
       "stream": "stdout",
       "text": [
        "0xf80002692f00 M    1356  ntoskrnl.exe!RtlCopyMemoryNonTemporal (nt!RtlCopyMemoryNonTemporal)\n"
       ]
      },
      {
       "output_type": "stream",
       "stream": "stdout",
       "text": [
        "0xf80002a99d70 M    1357  ntoskrnl.exe!RtlCopyRangeList (nt!RtlCopyRangeList)\n"
       ]
      },
      {
       "output_type": "stream",
       "stream": "stdout",
       "text": [
        "0xf8000292f81c M    1358  ntoskrnl.exe!RtlCopySid (nt!RtlCopySid)           \n"
       ]
      },
      {
       "output_type": "stream",
       "stream": "stdout",
       "text": [
        "0xf80002963b70 M    1359  ntoskrnl.exe!RtlCopySidAndAttributesArray (nt!RtlCopySidAndAttributesArray)\n"
       ]
      },
      {
       "output_type": "stream",
       "stream": "stdout",
       "text": [
        "0xf8000271e560 M    1360  ntoskrnl.exe!RtlCopyString (nt!RtlCopyString)     \n"
       ]
      },
      {
       "output_type": "stream",
       "stream": "stdout",
       "text": [
        "0xf800026b36e0 M    1361  ntoskrnl.exe!RtlCopyUnicodeString (nt!RtlCopyUnicodeString)\n"
       ]
      },
      {
       "output_type": "stream",
       "stream": "stdout",
       "text": [
        "0xf800029242bc M    1362  ntoskrnl.exe!RtlCreateAcl (nt!RtlCreateAcl)       \n"
       ]
      },
      {
       "output_type": "stream",
       "stream": "stdout",
       "text": [
        "0xf800028f493c M    1363  ntoskrnl.exe!RtlCreateAtomTable (nt!RtlCreateAtomTable)\n"
       ]
      },
      {
       "output_type": "stream",
       "stream": "stdout",
       "text": [
        "0xf8000279e590 M    1364  ntoskrnl.exe!RtlCreateHashTable (nt!RtlCreateHashTable)\n"
       ]
      },
      {
       "output_type": "stream",
       "stream": "stdout",
       "text": [
        "0xf800028f3f88 M    1365  ntoskrnl.exe!RtlCreateHeap (nt!RtlCreateHeap)     \n"
       ]
      },
      {
       "output_type": "stream",
       "stream": "stdout",
       "text": [
        "0xf80002a49040 M    1366  ntoskrnl.exe!RtlCreateRegistryKey (nt!RtlCreateRegistryKey)\n"
       ]
      },
      {
       "output_type": "stream",
       "stream": "stdout",
       "text": [
        "0xf80002902738 M    1367  ntoskrnl.exe!RtlCreateSecurityDescriptor (nt!RtlCreateSecurityDescriptor)\n"
       ]
      },
      {
       "output_type": "stream",
       "stream": "stdout",
       "text": [
        "0xf80002af94a0 M    1368  ntoskrnl.exe!RtlCreateSystemVolumeInformationFolder (nt!RtlCreateSystemVolumeInformationFolder)\n"
       ]
      },
      {
       "output_type": "stream",
       "stream": "stdout",
       "text": [
        "0xf8000294b970 M    1369  ntoskrnl.exe!RtlCreateUnicodeString (nt!RtlCreateUnicodeString)\n"
       ]
      },
      {
       "output_type": "stream",
       "stream": "stdout",
       "text": [
        "0xf800029fec70 M    1370  ntoskrnl.exe!RtlCustomCPToUnicodeN (nt!RtlCustomCPToUnicodeN)\n"
       ]
      },
      {
       "output_type": "stream",
       "stream": "stdout",
       "text": [
        "0xf800029fd4f0 M    1371  ntoskrnl.exe!RtlDecompressBuffer (nt!RtlDecompressBuffer)\n"
       ]
      },
      {
       "output_type": "stream",
       "stream": "stdout",
       "text": [
        "0xf80002a0ac70 M    1372  ntoskrnl.exe!RtlDecompressChunks (nt!RtlDecompressChunks)\n"
       ]
      },
      {
       "output_type": "stream",
       "stream": "stdout",
       "text": [
        "0xf800029fd460 M    1373  ntoskrnl.exe!RtlDecompressFragment (nt!RtlDecompressFragment)\n"
       ]
      },
      {
       "output_type": "stream",
       "stream": "stdout",
       "text": [
        "0xf80002660510 M    1374  ntoskrnl.exe!RtlDelete (nt!RtlDelete)             \n"
       ]
      },
      {
       "output_type": "stream",
       "stream": "stdout",
       "text": [
        "0xf80002a0b250 M    1375  ntoskrnl.exe!RtlDeleteAce (nt!RtlDeleteAce)       \n"
       ]
      },
      {
       "output_type": "stream",
       "stream": "stdout",
       "text": [
        "0xf80002948894 M    1376  ntoskrnl.exe!RtlDeleteAtomFromAtomTable (nt!RtlDeleteAtomFromAtomTable)\n"
       ]
      },
      {
       "output_type": "stream",
       "stream": "stdout",
       "text": [
        "0xf80002731c50 M    1377  ntoskrnl.exe!RtlDeleteElementGenericTable (nt!RtlDeleteElementGenericTable)\n"
       ]
      },
      {
       "output_type": "stream",
       "stream": "stdout",
       "text": [
        "0xf80002662230 M    1378  ntoskrnl.exe!RtlDeleteElementGenericTableAvl (nt!RtlDeleteElementGenericTableAvl)\n"
       ]
      },
      {
       "output_type": "stream",
       "stream": "stdout",
       "text": [
        "0xf8000279e500 M    1379  ntoskrnl.exe!RtlDeleteHashTable (nt!RtlDeleteHashTable)\n"
       ]
      },
      {
       "output_type": "stream",
       "stream": "stdout",
       "text": [
        "0xf80002674484 M    1380  ntoskrnl.exe!RtlDeleteNoSplay (nt!RtlDeleteNoSplay)\n"
       ]
      },
      {
       "output_type": "stream",
       "stream": "stdout",
       "text": [
        "0xf80002a9b4d0 M    1381  ntoskrnl.exe!RtlDeleteOwnersRanges (nt!RtlDeleteOwnersRanges)\n"
       ]
      },
      {
       "output_type": "stream",
       "stream": "stdout",
       "text": [
        "0xf80002a9b5a0 M    1382  ntoskrnl.exe!RtlDeleteRange (nt!RtlDeleteRange)   \n"
       ]
      },
      {
       "output_type": "stream",
       "stream": "stdout",
       "text": [
        "0xf80002a48fd0 M    1383  ntoskrnl.exe!RtlDeleteRegistryValue (nt!RtlDeleteRegistryValue)\n"
       ]
      },
      {
       "output_type": "stream",
       "stream": "stdout",
       "text": [
        "0xf800029fd3f0 M    1384  ntoskrnl.exe!RtlDescribeChunk (nt!RtlDescribeChunk)\n"
       ]
      },
      {
       "output_type": "stream",
       "stream": "stdout",
       "text": [
        "0xf80002ac8e50 M    1385  ntoskrnl.exe!RtlDestroyAtomTable (nt!RtlDestroyAtomTable)\n"
       ]
      },
      {
       "output_type": "stream",
       "stream": "stdout",
       "text": [
        "0xf80002a33ff0 M    1386  ntoskrnl.exe!RtlDestroyHeap (nt!RtlDestroyHeap)   \n"
       ]
      },
      {
       "output_type": "stream",
       "stream": "stdout",
       "text": [
        "0xf800029ff1a0 M    1387  ntoskrnl.exe!RtlDowncaseUnicodeChar (nt!RtlDowncaseUnicodeChar)\n"
       ]
      },
      {
       "output_type": "stream",
       "stream": "stdout",
       "text": [
        "0xf80002940898 M    1388  ntoskrnl.exe!RtlDowncaseUnicodeString (nt!RtlDowncaseUnicodeString)\n"
       ]
      },
      {
       "output_type": "stream",
       "stream": "stdout",
       "text": [
        "0xf800029079d8 M    1389  ntoskrnl.exe!RtlDuplicateUnicodeString (nt!RtlDuplicateUnicodeString)\n"
       ]
      },
      {
       "output_type": "stream",
       "stream": "stdout",
       "text": [
        "0xf80002ac8d70 M    1390  ntoskrnl.exe!RtlEmptyAtomTable (nt!RtlEmptyAtomTable)\n"
       ]
      },
      {
       "output_type": "stream",
       "stream": "stdout",
       "text": [
        "0xf80002687430 M    1391  ntoskrnl.exe!RtlEndEnumerationHashTable (nt!RtlEndEnumerationHashTable)\n"
       ]
      },
      {
       "output_type": "stream",
       "stream": "stdout",
       "text": [
        "0xf80002648110 M    1392  ntoskrnl.exe!RtlEndWeakEnumerationHashTable (nt!RtlEndWeakEnumerationHashTable)\n"
       ]
      },
      {
       "output_type": "stream",
       "stream": "stdout",
       "text": [
        "0xf80002687240 M    1393  ntoskrnl.exe!RtlEnumerateEntryHashTable (nt!RtlEnumerateEntryHashTable)\n"
       ]
      },
      {
       "output_type": "stream",
       "stream": "stdout",
       "text": [
        "0xf80002729eb0 M    1394  ntoskrnl.exe!RtlEnumerateGenericTable (nt!RtlEnumerateGenericTable)\n"
       ]
      },
      {
       "output_type": "stream",
       "stream": "stdout",
       "text": [
        "0xf80002665bb0 M    1395  ntoskrnl.exe!RtlEnumerateGenericTableAvl (nt!RtlEnumerateGenericTableAvl)\n"
       ]
      },
      {
       "output_type": "stream",
       "stream": "stdout",
       "text": [
        "0xf80002642724 M    1396  ntoskrnl.exe!RtlEnumerateGenericTableLikeADirectory (nt!RtlEnumerateGenericTableLikeADirectory)\n"
       ]
      },
      {
       "output_type": "stream",
       "stream": "stdout",
       "text": [
        "0xf80002729e50 M    1397  ntoskrnl.exe!RtlEnumerateGenericTableWithoutSplaying (nt!RtlEnumerateGenericTableWithoutSplaying)\n"
       ]
      },
      {
       "output_type": "stream",
       "stream": "stdout",
       "text": [
        "0xf80002665bc8 M    1398  ntoskrnl.exe!RtlEnumerateGenericTableWithoutSplayingAvl (nt!RtlEnumerateGenericTableWithoutSplayingAvl)\n"
       ]
      },
      {
       "output_type": "stream",
       "stream": "stdout",
       "text": [
        "0xf800029fd8b0 M    1399  ntoskrnl.exe!RtlEqualLuid (nt!RtlEqualLuid)       \n"
       ]
      },
      {
       "output_type": "stream",
       "stream": "stdout",
       "text": [
        "0xf800026b38ec M    1400  ntoskrnl.exe!RtlEqualSid (nt!RtlEqualSid)         \n"
       ]
      },
      {
       "output_type": "stream",
       "stream": "stdout",
       "text": [
        "0xf80002663900 M    1401  ntoskrnl.exe!RtlEqualString (nt!RtlEqualString)   \n"
       ]
      },
      {
       "output_type": "stream",
       "stream": "stdout",
       "text": [
        "0xf800029888a0 M    1402  ntoskrnl.exe!RtlEqualUnicodeString (nt!RtlEqualUnicodeString)\n"
       ]
      },
      {
       "output_type": "stream",
       "stream": "stdout",
       "text": [
        "0xf8000271d8b0 M    1403  ntoskrnl.exe!RtlEthernetAddressToStringA (nt!RtlEthernetAddressToStringA)\n"
       ]
      },
      {
       "output_type": "stream",
       "stream": "stdout",
       "text": [
        "0xf8000271d540 M    1404  ntoskrnl.exe!RtlEthernetAddressToStringW (nt!RtlEthernetAddressToStringW)\n"
       ]
      },
      {
       "output_type": "stream",
       "stream": "stdout",
       "text": [
        "0xf8000271cd10 M    1405  ntoskrnl.exe!RtlEthernetStringToAddressA (nt!RtlEthernetStringToAddressA)\n"
       ]
      },
      {
       "output_type": "stream",
       "stream": "stdout",
       "text": [
        "0xf8000271c7b0 M    1406  ntoskrnl.exe!RtlEthernetStringToAddressW (nt!RtlEthernetStringToAddressW)\n"
       ]
      },
      {
       "output_type": "stream",
       "stream": "stdout",
       "text": [
        "0xf8000263e480 M    1407  ntoskrnl.exe!RtlExpandHashTable (nt!RtlExpandHashTable)\n"
       ]
      },
      {
       "output_type": "stream",
       "stream": "stdout",
       "text": [
        "0xf80002693030 M    1408  ntoskrnl.exe!RtlFillMemory (nt!RtlFillMemory)     \n"
       ]
      },
      {
       "output_type": "stream",
       "stream": "stdout",
       "text": [
        "0xf800026b52a0 M    1409  ntoskrnl.exe!RtlFindAceByType (nt!RtlFindAceByType)\n"
       ]
      },
      {
       "output_type": "stream",
       "stream": "stdout",
       "text": [
        "0xf800026b3920 M    1410  ntoskrnl.exe!RtlFindClearBits (nt!RtlFindClearBits)\n"
       ]
      },
      {
       "output_type": "stream",
       "stream": "stdout",
       "text": [
        "0xf800026745a8 M    1411  ntoskrnl.exe!RtlFindClearBitsAndSet (nt!RtlFindClearBitsAndSet)\n"
       ]
      },
      {
       "output_type": "stream",
       "stream": "stdout",
       "text": [
        "0xf80002648330 M    1412  ntoskrnl.exe!RtlFindClearRuns (nt!RtlFindClearRuns)\n"
       ]
      },
      {
       "output_type": "stream",
       "stream": "stdout",
       "text": [
        "0xf8000271da60 M    1413  ntoskrnl.exe!RtlFindClosestEncodableLength (nt!RtlFindClosestEncodableLength)\n"
       ]
      },
      {
       "output_type": "stream",
       "stream": "stdout",
       "text": [
        "0xf8000272a360 M    1414  ntoskrnl.exe!RtlFindFirstRunClear (nt!RtlFindFirstRunClear)\n"
       ]
      },
      {
       "output_type": "stream",
       "stream": "stdout",
       "text": [
        "0xf8000266ba90 M    1415  ntoskrnl.exe!RtlFindLastBackwardRunClear (nt!RtlFindLastBackwardRunClear)\n"
       ]
      },
      {
       "output_type": "stream",
       "stream": "stdout",
       "text": [
        "0xf8000271e0e0 M    1416  ntoskrnl.exe!RtlFindLeastSignificantBit (nt!RtlFindLeastSignificantBit)\n"
       ]
      },
      {
       "output_type": "stream",
       "stream": "stdout",
       "text": [
        "0xf8000272a370 M    1417  ntoskrnl.exe!RtlFindLongestRunClear (nt!RtlFindLongestRunClear)\n"
       ]
      },
      {
       "output_type": "stream",
       "stream": "stdout",
       "text": [
        "0xf80002a6bc00 M    1418  ntoskrnl.exe!RtlFindMessage (nt!RtlFindMessage)   \n"
       ]
      },
      {
       "output_type": "stream",
       "stream": "stdout",
       "text": [
        "0xf800026688bc M    1419  ntoskrnl.exe!RtlFindMostSignificantBit (nt!RtlFindMostSignificantBit)\n"
       ]
      },
      {
       "output_type": "stream",
       "stream": "stdout",
       "text": [
        "0xf800026409e8 M    1420  ntoskrnl.exe!RtlFindNextForwardRunClear (nt!RtlFindNextForwardRunClear)\n"
       ]
      },
      {
       "output_type": "stream",
       "stream": "stdout",
       "text": [
        "0xf80002a0ba00 M    1421  ntoskrnl.exe!RtlFindRange (nt!RtlFindRange)       \n"
       ]
      },
      {
       "output_type": "stream",
       "stream": "stdout",
       "text": [
        "0xf80002640ae0 M    1422  ntoskrnl.exe!RtlFindSetBits (nt!RtlFindSetBits)   \n"
       ]
      },
      {
       "output_type": "stream",
       "stream": "stdout",
       "text": [
        "0xf80002736680 M    1423  ntoskrnl.exe!RtlFindSetBitsAndClear (nt!RtlFindSetBitsAndClear)\n"
       ]
      },
      {
       "output_type": "stream",
       "stream": "stdout",
       "text": [
        "0xf8000292f70c M    1424  ntoskrnl.exe!RtlFindUnicodePrefix (nt!RtlFindUnicodePrefix)\n"
       ]
      },
      {
       "output_type": "stream",
       "stream": "stdout",
       "text": [
        "0xf80002a48ad0 M    1425  ntoskrnl.exe!RtlFormatCurrentUserKeyPath (nt!RtlFormatCurrentUserKeyPath)\n"
       ]
      },
      {
       "output_type": "stream",
       "stream": "stdout",
       "text": [
        "0xf80002a15da0 M    1426  ntoskrnl.exe!RtlFormatMessage (nt!RtlFormatMessage)\n"
       ]
      },
      {
       "output_type": "stream",
       "stream": "stdout",
       "text": [
        "0xf8000294b940 M    1427  ntoskrnl.exe!RtlFreeAnsiString (nt!RtlFreeUnicodeString)\n"
       ]
      },
      {
       "output_type": "stream",
       "stream": "stdout",
       "text": [
        "0xf8000265be4c M    1428  ntoskrnl.exe!RtlFreeHeap (nt!RtlFreeHeap)         \n"
       ]
      },
      {
       "output_type": "stream",
       "stream": "stdout",
       "text": [
        "0xf800029ff180 M    1429  ntoskrnl.exe!RtlFreeOemString (nt!RtlFreeOemString)\n"
       ]
      },
      {
       "output_type": "stream",
       "stream": "stdout",
       "text": [
        "0xf80002a99d10 M    1430  ntoskrnl.exe!RtlFreeRangeList (nt!RtlFreeRangeList)\n"
       ]
      },
      {
       "output_type": "stream",
       "stream": "stdout",
       "text": [
        "0xf8000294b940 M    1431  ntoskrnl.exe!RtlFreeUnicodeString (nt!RtlFreeUnicodeString)\n"
       ]
      },
      {
       "output_type": "stream",
       "stream": "stdout",
       "text": [
        "0xf800029b5b3c M    1432  ntoskrnl.exe!RtlGUIDFromString (nt!RtlGUIDFromString)\n"
       ]
      },
      {
       "output_type": "stream",
       "stream": "stdout",
       "text": [
        "0xf800029a1c38 M    1433  ntoskrnl.exe!RtlGenerate8dot3Name (nt!RtlGenerate8dot3Name)\n"
       ]
      },
      {
       "output_type": "stream",
       "stream": "stdout",
       "text": [
        "0xf8000264f1a8 M    1434  ntoskrnl.exe!RtlGetAce (nt!RtlGetAce)             \n"
       ]
      },
      {
       "output_type": "stream",
       "stream": "stdout",
       "text": [
        "0xf80002752e50 M    1435  ntoskrnl.exe!RtlGetCallersAddress (nt!RtlGetCallersAddress)\n"
       ]
      },
      {
       "output_type": "stream",
       "stream": "stdout",
       "text": [
        "0xf800028cbb60 M    1436  ntoskrnl.exe!RtlGetCompressionWorkSpaceSize (nt!RtlGetCompressionWorkSpaceSize)\n"
       ]
      },
      {
       "output_type": "stream",
       "stream": "stdout",
       "text": [
        "0xf800026519a0 M    1437  ntoskrnl.exe!RtlGetDaclSecurityDescriptor (nt!RtlGetDaclSecurityDescriptor)\n"
       ]
      },
      {
       "output_type": "stream",
       "stream": "stdout",
       "text": [
        "0xf800029fe030 M    1438  ntoskrnl.exe!RtlGetDefaultCodePage (nt!RtlGetDefaultCodePage)\n"
       ]
      },
      {
       "output_type": "stream",
       "stream": "stdout",
       "text": [
        "0xf8000271d920 M    1439  ntoskrnl.exe!RtlGetElementGenericTable (nt!RtlGetElementGenericTable)\n"
       ]
      },
      {
       "output_type": "stream",
       "stream": "stdout",
       "text": [
        "0xf80002729d30 M    1440  ntoskrnl.exe!RtlGetElementGenericTableAvl (nt!RtlGetElementGenericTableAvl)\n"
       ]
      },
      {
       "output_type": "stream",
       "stream": "stdout",
       "text": [
        "0xf8000271c640 M    1441  ntoskrnl.exe!RtlGetEnabledExtendedFeatures (nt!RtlGetEnabledExtendedFeatures)\n"
       ]
      },
      {
       "output_type": "stream",
       "stream": "stdout",
       "text": [
        "0xf80002a0b9a0 M    1442  ntoskrnl.exe!RtlGetFirstRange (nt!RtlGetFirstRange)\n"
       ]
      },
      {
       "output_type": "stream",
       "stream": "stdout",
       "text": [
        "0xf800029fd750 M    1443  ntoskrnl.exe!RtlGetGroupSecurityDescriptor (nt!RtlGetGroupSecurityDescriptor)\n"
       ]
      },
      {
       "output_type": "stream",
       "stream": "stdout",
       "text": [
        "0xf80002980900 M    1444  ntoskrnl.exe!RtlGetIntegerAtom (nt!RtlGetIntegerAtom)\n"
       ]
      },
      {
       "output_type": "stream",
       "stream": "stdout",
       "text": [
        "0xf80002a0b930 M    1445  ntoskrnl.exe!RtlGetLastRange (nt!RtlGetLastRange) \n"
       ]
      },
      {
       "output_type": "stream",
       "stream": "stdout",
       "text": [
        "0xf8000265261c M    1446  ntoskrnl.exe!RtlGetNextEntryHashTable (nt!RtlGetNextEntryHashTable)\n"
       ]
      },
      {
       "output_type": "stream",
       "stream": "stdout",
       "text": [
        "0xf800029ff500 M    1447  ntoskrnl.exe!RtlGetNextRange (nt!RtlGetNextRange) \n"
       ]
      },
      {
       "output_type": "stream",
       "stream": "stdout",
       "text": [
        "0xf800028f4528 M    1448  ntoskrnl.exe!RtlGetNtGlobalFlags (nt!RtlGetNtGlobalFlags)\n"
       ]
      },
      {
       "output_type": "stream",
       "stream": "stdout",
       "text": [
        "0xf800029fd7a0 M    1449  ntoskrnl.exe!RtlGetOwnerSecurityDescriptor (nt!RtlGetOwnerSecurityDescriptor)\n"
       ]
      },
      {
       "output_type": "stream",
       "stream": "stdout",
       "text": [
        "0xf8000271c550 M    1450  ntoskrnl.exe!RtlGetProductInfo (nt!RtlGetProductInfo)\n"
       ]
      },
      {
       "output_type": "stream",
       "stream": "stdout",
       "text": [
        "0xf8000292aba0 M    1451  ntoskrnl.exe!RtlGetSaclSecurityDescriptor (nt!RtlGetSaclSecurityDescriptor)\n"
       ]
      },
      {
       "output_type": "stream",
       "stream": "stdout",
       "text": [
        "0xf800029fd010 M    1452  ntoskrnl.exe!RtlGetSetBootStatusData (nt!RtlGetSetBootStatusData)\n"
       ]
      },
      {
       "output_type": "stream",
       "stream": "stdout",
       "text": [
        "0xf800026633e0 M    1453  ntoskrnl.exe!RtlGetThreadLangIdByIndex (nt!RtlGetThreadLangIdByIndex)\n"
       ]
      },
      {
       "output_type": "stream",
       "stream": "stdout",
       "text": [
        "0xf80002a2a5e0 M    1454  ntoskrnl.exe!RtlGetVersion (nt!RtlGetVersion)     \n"
       ]
      },
      {
       "output_type": "stream",
       "stream": "stdout",
       "text": [
        "0xf80002931370 M    1455  ntoskrnl.exe!RtlHashUnicodeString (nt!RtlHashUnicodeString)\n"
       ]
      },
      {
       "output_type": "stream",
       "stream": "stdout",
       "text": [
        "0xf80002acd490 M    1456  ntoskrnl.exe!RtlIdnToAscii (nt!RtlIdnToAscii)     \n"
       ]
      },
      {
       "output_type": "stream",
       "stream": "stdout",
       "text": [
        "0xf80002acd460 M    1457  ntoskrnl.exe!RtlIdnToNameprepUnicode (nt!RtlIdnToNameprepUnicode)\n"
       ]
      },
      {
       "output_type": "stream",
       "stream": "stdout",
       "text": [
        "0xf80002acf870 M    1458  ntoskrnl.exe!RtlIdnToUnicode (nt!RtlIdnToUnicode) \n"
       ]
      },
      {
       "output_type": "stream",
       "stream": "stdout",
       "text": [
        "0xf8000265fbf0 M    1459  ntoskrnl.exe!RtlImageDirectoryEntryToData (nt!RtlImageDirectoryEntryToData)\n"
       ]
      },
      {
       "output_type": "stream",
       "stream": "stdout",
       "text": [
        "0xf800026710b4 M    1460  ntoskrnl.exe!RtlImageNtHeader (nt!RtlImageNtHeader)\n"
       ]
      },
      {
       "output_type": "stream",
       "stream": "stdout",
       "text": [
        "0xf800026638a0 M    1461  ntoskrnl.exe!RtlInitAnsiString (nt!RtlInitString) \n"
       ]
      },
      {
       "output_type": "stream",
       "stream": "stdout",
       "text": [
        "0xf8000271e5a0 M    1462  ntoskrnl.exe!RtlInitAnsiStringEx (nt!RtlInitAnsiStringEx)\n"
       ]
      },
      {
       "output_type": "stream",
       "stream": "stdout",
       "text": [
        "0xf800029fe1a0 M    1463  ntoskrnl.exe!RtlInitCodePageTable (nt!RtlInitCodePageTable)\n"
       ]
      },
      {
       "output_type": "stream",
       "stream": "stdout",
       "text": [
        "0xf800026873d0 M    1464  ntoskrnl.exe!RtlInitEnumerationHashTable (nt!RtlInitEnumerationHashTable)\n"
       ]
      },
      {
       "output_type": "stream",
       "stream": "stdout",
       "text": [
        "0xf800026638a0 M    1465  ntoskrnl.exe!RtlInitString (nt!RtlInitString)     \n"
       ]
      },
      {
       "output_type": "stream",
       "stream": "stdout",
       "text": [
        "0xf8000269e300 M    1466  ntoskrnl.exe!RtlInitUnicodeString (nt!RtlInitUnicodeString)\n"
       ]
      },
      {
       "output_type": "stream",
       "stream": "stdout",
       "text": [
        "0xf80002655c5c M    1467  ntoskrnl.exe!RtlInitUnicodeStringEx (nt!RtlInitUnicodeStringEx)\n"
       ]
      },
      {
       "output_type": "stream",
       "stream": "stdout",
       "text": [
        "0xf8000264811c M    1468  ntoskrnl.exe!RtlInitWeakEnumerationHashTable (nt!RtlInitWeakEnumerationHashTable)\n"
       ]
      },
      {
       "output_type": "stream",
       "stream": "stdout",
       "text": [
        "0xf8000299ffb4 M    1469  ntoskrnl.exe!RtlInitializeBitMap (nt!RtlInitializeBitMap)\n"
       ]
      },
      {
       "output_type": "stream",
       "stream": "stdout",
       "text": [
        "0xf8000272a070 M    1470  ntoskrnl.exe!RtlInitializeGenericTable (nt!RtlInitializeGenericTable)\n"
       ]
      },
      {
       "output_type": "stream",
       "stream": "stdout",
       "text": [
        "0xf800026604a8 M    1471  ntoskrnl.exe!RtlInitializeGenericTableAvl (nt!RtlInitializeGenericTableAvl)\n"
       ]
      },
      {
       "output_type": "stream",
       "stream": "stdout",
       "text": [
        "0xf80002a0bd00 M    1472  ntoskrnl.exe!RtlInitializeRangeList (nt!RtlInitializeRangeList)\n"
       ]
      },
      {
       "output_type": "stream",
       "stream": "stdout",
       "text": [
        "0xf800029b3e88 M    1473  ntoskrnl.exe!RtlInitializeSid (nt!RtlInitializeSid)\n"
       ]
      },
      {
       "output_type": "stream",
       "stream": "stdout",
       "text": [
        "0xf800029fd9e0 M    1474  ntoskrnl.exe!RtlInitializeUnicodePrefix (nt!RtlInitializeUnicodePrefix)\n"
       ]
      },
      {
       "output_type": "stream",
       "stream": "stdout",
       "text": [
        "0xf8000272a000 M    1475  ntoskrnl.exe!RtlInsertElementGenericTable (nt!RtlInsertElementGenericTable)\n"
       ]
      },
      {
       "output_type": "stream",
       "stream": "stdout",
       "text": [
        "0xf80002642100 M    1476  ntoskrnl.exe!RtlInsertElementGenericTableAvl (nt!RtlInsertElementGenericTableAvl)\n"
       ]
      },
      {
       "output_type": "stream",
       "stream": "stdout",
       "text": [
        "0xf80002729f10 M    1477  ntoskrnl.exe!RtlInsertElementGenericTableFull (nt!RtlInsertElementGenericTableFull)\n"
       ]
      },
      {
       "output_type": "stream",
       "stream": "stdout",
       "text": [
        "0xf800026b6ef0 M    1478  ntoskrnl.exe!RtlInsertElementGenericTableFullAvl (nt!RtlInsertElementGenericTableFullAvl)\n"
       ]
      },
      {
       "output_type": "stream",
       "stream": "stdout",
       "text": [
        "0xf80002670a60 M    1479  ntoskrnl.exe!RtlInsertEntryHashTable (nt!RtlInsertEntryHashTable)\n"
       ]
      },
      {
       "output_type": "stream",
       "stream": "stdout",
       "text": [
        "0xf80002915e18 M    1480  ntoskrnl.exe!RtlInsertUnicodePrefix (nt!RtlInsertUnicodePrefix)\n"
       ]
      },
      {
       "output_type": "stream",
       "stream": "stdout",
       "text": [
        "0xf8000297c288 M    1481  ntoskrnl.exe!RtlInt64ToUnicodeString (nt!RtlInt64ToUnicodeString)\n"
       ]
      },
      {
       "output_type": "stream",
       "stream": "stdout",
       "text": [
        "0xf800029463b4 M    1482  ntoskrnl.exe!RtlIntegerToChar (nt!RtlIntegerToChar)\n"
       ]
      },
      {
       "output_type": "stream",
       "stream": "stdout",
       "text": [
        "0xf8000294bc80 M    1483  ntoskrnl.exe!RtlIntegerToUnicode (nt!RtlIntegerToUnicode)\n"
       ]
      },
      {
       "output_type": "stream",
       "stream": "stdout",
       "text": [
        "0xf8000293117c M    1484  ntoskrnl.exe!RtlIntegerToUnicodeString (nt!RtlIntegerToUnicodeString)\n"
       ]
      },
      {
       "output_type": "stream",
       "stream": "stdout",
       "text": [
        "0xf80002a9b240 M    1485  ntoskrnl.exe!RtlInvertRangeList (nt!RtlInvertRangeList)\n"
       ]
      },
      {
       "output_type": "stream",
       "stream": "stdout",
       "text": [
        "0xf80002a9b140 M    1486  ntoskrnl.exe!RtlInvertRangeListEx (nt!RtlInvertRangeListEx)\n"
       ]
      },
      {
       "output_type": "stream",
       "stream": "stdout",
       "text": [
        "0xf8000271db80 M    1487  ntoskrnl.exe!RtlIoDecodeMemIoResource (nt!RtlIoDecodeMemIoResource)\n"
       ]
      },
      {
       "output_type": "stream",
       "stream": "stdout",
       "text": [
        "0xf8000271dd10 M    1488  ntoskrnl.exe!RtlIoEncodeMemIoResource (nt!RtlIoEncodeMemIoResource)\n"
       ]
      },
      {
       "output_type": "stream",
       "stream": "stdout",
       "text": [
        "0xf8000262e280 M    1489  ntoskrnl.exe!RtlIpv4AddressToStringA (nt!RtlIpv4AddressToStringA)\n"
       ]
      },
      {
       "output_type": "stream",
       "stream": "stdout",
       "text": [
        "0xf80002729b40 M    1490  ntoskrnl.exe!RtlIpv4AddressToStringExA (nt!RtlIpv4AddressToStringExA)\n"
       ]
      },
      {
       "output_type": "stream",
       "stream": "stdout",
       "text": [
        "0xf80002729920 M    1491  ntoskrnl.exe!RtlIpv4AddressToStringExW (nt!RtlIpv4AddressToStringExW)\n"
       ]
      },
      {
       "output_type": "stream",
       "stream": "stdout",
       "text": [
        "0xf8000271d5b0 M    1492  ntoskrnl.exe!RtlIpv4AddressToStringW (nt!RtlIpv4AddressToStringW)\n"
       ]
      },
      {
       "output_type": "stream",
       "stream": "stdout",
       "text": [
        "0xf8000271ce50 M    1493  ntoskrnl.exe!RtlIpv4StringToAddressA (nt!RtlIpv4StringToAddressA)\n"
       ]
      },
      {
       "output_type": "stream",
       "stream": "stdout",
       "text": [
        "0xf800027294a0 M    1494  ntoskrnl.exe!RtlIpv4StringToAddressExA (nt!RtlIpv4StringToAddressExA)\n"
       ]
      },
      {
       "output_type": "stream",
       "stream": "stdout",
       "text": [
        "0xf80002729050 M    1495  ntoskrnl.exe!RtlIpv4StringToAddressExW (nt!RtlIpv4StringToAddressExW)\n"
       ]
      },
      {
       "output_type": "stream",
       "stream": "stdout",
       "text": [
        "0xf8000262e068 M    1496  ntoskrnl.exe!RtlIpv4StringToAddressW (nt!RtlIpv4StringToAddressW)\n"
       ]
      },
      {
       "output_type": "stream",
       "stream": "stdout",
       "text": [
        "0xf80002620d10 M    1497  ntoskrnl.exe!RtlIpv6AddressToStringA (nt!RtlIpv6AddressToStringA)\n"
       ]
      },
      {
       "output_type": "stream",
       "stream": "stdout",
       "text": [
        "0xf80002729c00 M    1498  ntoskrnl.exe!RtlIpv6AddressToStringExA (nt!RtlIpv6AddressToStringExA)\n"
       ]
      },
      {
       "output_type": "stream",
       "stream": "stdout",
       "text": [
        "0xf800027299f0 M    1499  ntoskrnl.exe!RtlIpv6AddressToStringExW (nt!RtlIpv6AddressToStringExW)\n"
       ]
      },
      {
       "output_type": "stream",
       "stream": "stdout",
       "text": [
        "0xf8000271d600 M    1500  ntoskrnl.exe!RtlIpv6AddressToStringW (nt!RtlIpv6AddressToStringW)\n"
       ]
      },
      {
       "output_type": "stream",
       "stream": "stdout",
       "text": [
        "0xf8000271d0c0 M    1501  ntoskrnl.exe!RtlIpv6StringToAddressA (nt!RtlIpv6StringToAddressA)\n"
       ]
      },
      {
       "output_type": "stream",
       "stream": "stdout",
       "text": [
        "0xf80002729690 M    1502  ntoskrnl.exe!RtlIpv6StringToAddressExA (nt!RtlIpv6StringToAddressExA)\n"
       ]
      },
      {
       "output_type": "stream",
       "stream": "stdout",
       "text": [
        "0xf80002729210 M    1503  ntoskrnl.exe!RtlIpv6StringToAddressExW (nt!RtlIpv6StringToAddressExW)\n"
       ]
      },
      {
       "output_type": "stream",
       "stream": "stdout",
       "text": [
        "0xf8000271c8e0 M    1504  ntoskrnl.exe!RtlIpv6StringToAddressW (nt!RtlIpv6StringToAddressW)\n"
       ]
      },
      {
       "output_type": "stream",
       "stream": "stdout",
       "text": [
        "0xf8000271d9d0 M    1505  ntoskrnl.exe!RtlIsGenericTableEmpty (nt!RtlIsGenericTableEmpty)\n"
       ]
      },
      {
       "output_type": "stream",
       "stream": "stdout",
       "text": [
        "0xf80002642af8 M    1506  ntoskrnl.exe!RtlIsGenericTableEmptyAvl (nt!RtlIsGenericTableEmptyAvl)\n"
       ]
      },
      {
       "output_type": "stream",
       "stream": "stdout",
       "text": [
        "0xf80002940a1c M    1507  ntoskrnl.exe!RtlIsNameLegalDOS8Dot3 (nt!RtlIsNameLegalDOS8Dot3)\n"
       ]
      },
      {
       "output_type": "stream",
       "stream": "stdout",
       "text": [
        "0xf80002acbaa0 M    1508  ntoskrnl.exe!RtlIsNormalizedString (nt!RtlIsNormalizedString)\n"
       ]
      },
      {
       "output_type": "stream",
       "stream": "stdout",
       "text": [
        "0xf8000271c4d0 M    1509  ntoskrnl.exe!RtlIsNtDdiVersionAvailable (nt!RtlIsNtDdiVersionAvailable)\n"
       ]
      },
      {
       "output_type": "stream",
       "stream": "stdout",
       "text": [
        "0xf80002a0bb50 M    1510  ntoskrnl.exe!RtlIsRangeAvailable (nt!RtlIsRangeAvailable)\n"
       ]
      },
      {
       "output_type": "stream",
       "stream": "stdout",
       "text": [
        "0xf8000271c4a0 M    1511  ntoskrnl.exe!RtlIsServicePackVersionInstalled (nt!RtlIsServicePackVersionInstalled)\n"
       ]
      },
      {
       "output_type": "stream",
       "stream": "stdout",
       "text": [
        "0xf800029fd200 M    1512  ntoskrnl.exe!RtlIsValidOemCharacter (nt!RtlIsValidOemCharacter)\n"
       ]
      },
      {
       "output_type": "stream",
       "stream": "stdout",
       "text": [
        "0xf80002924afc M    1513  ntoskrnl.exe!RtlLengthRequiredSid (nt!RtlLengthRequiredSid)\n"
       ]
      },
      {
       "output_type": "stream",
       "stream": "stdout",
       "text": [
        "0xf8000299f770 M    1514  ntoskrnl.exe!RtlLengthSecurityDescriptor (nt!RtlLengthSecurityDescriptor)\n"
       ]
      },
      {
       "output_type": "stream",
       "stream": "stdout",
       "text": [
        "0xf80002662370 M    1515  ntoskrnl.exe!RtlLengthSid (nt!RtlLengthSid)       \n"
       ]
      },
      {
       "output_type": "stream",
       "stream": "stdout",
       "text": [
        "0xf80002a6b990 M    1516  ntoskrnl.exe!RtlLoadString (nt!RtlLoadString)     \n"
       ]
      },
      {
       "output_type": "stream",
       "stream": "stdout",
       "text": [
        "0xf800029fdf70 M    1517  ntoskrnl.exe!RtlLocalTimeToSystemTime (nt!RtlLocalTimeToSystemTime)\n"
       ]
      },
      {
       "output_type": "stream",
       "stream": "stdout",
       "text": [
        "0xf80002a0aae0 M    1518  ntoskrnl.exe!RtlLockBootStatusData (nt!RtlLockBootStatusData)\n"
       ]
      },
      {
       "output_type": "stream",
       "stream": "stdout",
       "text": [
        "0xf80002980938 M    1519  ntoskrnl.exe!RtlLookupAtomInAtomTable (nt!RtlLookupAtomInAtomTable)\n"
       ]
      },
      {
       "output_type": "stream",
       "stream": "stdout",
       "text": [
        "0xf80002662f3c M    1520  ntoskrnl.exe!RtlLookupElementGenericTable (nt!RtlLookupElementGenericTable)\n"
       ]
      },
      {
       "output_type": "stream",
       "stream": "stdout",
       "text": [
        "0xf800026b6aa0 M    1521  ntoskrnl.exe!RtlLookupElementGenericTableAvl (nt!RtlLookupElementGenericTableAvl)\n"
       ]
      },
      {
       "output_type": "stream",
       "stream": "stdout",
       "text": [
        "0xf80002662eb4 M    1522  ntoskrnl.exe!RtlLookupElementGenericTableFull (nt!RtlLookupElementGenericTableFull)\n"
       ]
      },
      {
       "output_type": "stream",
       "stream": "stdout",
       "text": [
        "0xf800026b5c44 M    1523  ntoskrnl.exe!RtlLookupElementGenericTableFullAvl (nt!RtlLookupElementGenericTableFullAvl)\n"
       ]
      },
      {
       "output_type": "stream",
       "stream": "stdout",
       "text": [
        "0xf8000266c320 M    1524  ntoskrnl.exe!RtlLookupEntryHashTable (nt!RtlLookupEntryHashTable)\n"
       ]
      },
      {
       "output_type": "stream",
       "stream": "stdout",
       "text": [
        "0xf80002785870 M    1525  ntoskrnl.exe!RtlLookupFirstMatchingElementGenericTableAvl (nt!RtlLookupFirstMatchingElementGenericTableAvl)\n"
       ]
      },
      {
       "output_type": "stream",
       "stream": "stdout",
       "text": [
        "0xf800026beff0 M    1526  ntoskrnl.exe!RtlLookupFunctionEntry (nt!RtlLookupFunctionEntry)\n"
       ]
      },
      {
       "output_type": "stream",
       "stream": "stdout",
       "text": [
        "0xf800029a2d20 M    1527  ntoskrnl.exe!RtlMapGenericMask (nt!RtlMapGenericMask)\n"
       ]
      },
      {
       "output_type": "stream",
       "stream": "stdout",
       "text": [
        "0xf80002657024 M    1528  ntoskrnl.exe!RtlMapSecurityErrorToNtStatus (nt!RtlMapSecurityErrorToNtStatus)\n"
       ]
      },
      {
       "output_type": "stream",
       "stream": "stdout",
       "text": [
        "0xf80002a9b260 M    1529  ntoskrnl.exe!RtlMergeRangeLists (nt!RtlMergeRangeLists)\n"
       ]
      },
      {
       "output_type": "stream",
       "stream": "stdout",
       "text": [
        "0xf80002687c40 M    1530  ntoskrnl.exe!RtlMoveMemory (nt!memmove)           \n"
       ]
      },
      {
       "output_type": "stream",
       "stream": "stdout",
       "text": [
        "0xf8000296d860 M    1531  ntoskrnl.exe!RtlMultiByteToUnicodeN (nt!RtlMultiByteToUnicodeN)\n"
       ]
      },
      {
       "output_type": "stream",
       "stream": "stdout",
       "text": [
        "0xf800029feed0 M    1532  ntoskrnl.exe!RtlMultiByteToUnicodeSize (nt!RtlMultiByteToUnicodeSize)\n"
       ]
      },
      {
       "output_type": "stream",
       "stream": "stdout",
       "text": [
        "0xf800029fd930 M    1533  ntoskrnl.exe!RtlNextUnicodePrefix (nt!RtlNextUnicodePrefix)\n"
       ]
      },
      {
       "output_type": "stream",
       "stream": "stdout",
       "text": [
        "0xf80002acbb20 M    1534  ntoskrnl.exe!RtlNormalizeString (nt!RtlNormalizeString)\n"
       ]
      },
      {
       "output_type": "stream",
       "stream": "stdout",
       "text": [
        "0xf8000294cd80 M    1535  ntoskrnl.exe!RtlNtStatusToDosError (nt!RtlNtStatusToDosError)\n"
       ]
      },
      {
       "output_type": "stream",
       "stream": "stdout",
       "text": [
        "0xf80002665acc M    1536  ntoskrnl.exe!RtlNtStatusToDosErrorNoTeb (nt!RtlNtStatusToDosErrorNoTeb)\n"
       ]
      },
      {
       "output_type": "stream",
       "stream": "stdout",
       "text": [
        "0xf8000271d910 M    1537  ntoskrnl.exe!RtlNumberGenericTableElements (nt!RtlNumberGenericTableElements)\n"
       ]
      },
      {
       "output_type": "stream",
       "stream": "stdout",
       "text": [
        "0xf800026b7024 M    1538  ntoskrnl.exe!RtlNumberGenericTableElementsAvl (nt!RtlNumberGenericTableElementsAvl)\n"
       ]
      },
      {
       "output_type": "stream",
       "stream": "stdout",
       "text": [
        "0xf8000266bdf0 M    1539  ntoskrnl.exe!RtlNumberOfClearBits (nt!RtlNumberOfClearBits)\n"
       ]
      },
      {
       "output_type": "stream",
       "stream": "stdout",
       "text": [
        "0xf80002666af0 M    1540  ntoskrnl.exe!RtlNumberOfSetBits (nt!RtlNumberOfSetBits)\n"
       ]
      },
      {
       "output_type": "stream",
       "stream": "stdout",
       "text": [
        "0xf8000271be30 M    1541  ntoskrnl.exe!RtlNumberOfSetBitsUlongPtr (nt!RtlNumberOfSetBitsUlongPtr)\n"
       ]
      },
      {
       "output_type": "stream",
       "stream": "stdout",
       "text": [
        "0xf800029ff200 M    1542  ntoskrnl.exe!RtlOemStringToCountedUnicodeString (nt!RtlOemStringToCountedUnicodeString)\n"
       ]
      },
      {
       "output_type": "stream",
       "stream": "stdout",
       "text": [
        "0xf800029ff120 M    1543  ntoskrnl.exe!RtlOemStringToUnicodeSize (nt!RtlxOemStringToUnicodeSize)\n"
       ]
      },
      {
       "output_type": "stream",
       "stream": "stdout",
       "text": [
        "0xf800028f3b74 M    1544  ntoskrnl.exe!RtlOemStringToUnicodeString (nt!RtlOemStringToUnicodeString)\n"
       ]
      },
      {
       "output_type": "stream",
       "stream": "stdout",
       "text": [
        "0xf800028f3c58 M    1545  ntoskrnl.exe!RtlOemToUnicodeN (nt!RtlOemToUnicodeN)\n"
       ]
      },
      {
       "output_type": "stream",
       "stream": "stdout",
       "text": [
        "0xf80002651a00 M    1546  ntoskrnl.exe!RtlOwnerAcesPresent (nt!RtlOwnerAcesPresent)\n"
       ]
      },
      {
       "output_type": "stream",
       "stream": "stdout",
       "text": [
        "0xf800027835f0 M    1547  ntoskrnl.exe!RtlPcToFileHeader (nt!RtlPcToFileHeader)\n"
       ]
      },
      {
       "output_type": "stream",
       "stream": "stdout",
       "text": [
        "0xf800028f4538 M    1548  ntoskrnl.exe!RtlPinAtomInAtomTable (nt!RtlPinAtomInAtomTable)\n"
       ]
      },
      {
       "output_type": "stream",
       "stream": "stdout",
       "text": [
        "0xf80002693040 M    1549  ntoskrnl.exe!RtlPrefetchMemoryNonTemporal (nt!RtlPrefetchMemoryNonTemporal)\n"
       ]
      },
      {
       "output_type": "stream",
       "stream": "stdout",
       "text": [
        "0xf80002a0b7e0 M    1550  ntoskrnl.exe!RtlPrefixString (nt!RtlPrefixString) \n"
       ]
      },
      {
       "output_type": "stream",
       "stream": "stdout",
       "text": [
        "0xf8000290fc84 M    1551  ntoskrnl.exe!RtlPrefixUnicodeString (nt!RtlPrefixUnicodeString)\n"
       ]
      },
      {
       "output_type": "stream",
       "stream": "stdout",
       "text": [
        "0xf80002947974 M    1552  ntoskrnl.exe!RtlQueryAtomInAtomTable (nt!RtlQueryAtomInAtomTable)\n"
       ]
      },
      {
       "output_type": "stream",
       "stream": "stdout",
       "text": [
        "0xf80002a634b0 M    1553  ntoskrnl.exe!RtlQueryDynamicTimeZoneInformation (nt!RtlQueryDynamicTimeZoneInformation)\n"
       ]
      },
      {
       "output_type": "stream",
       "stream": "stdout",
       "text": [
        "0xf800029ff4c0 M    1554  ntoskrnl.exe!RtlQueryElevationFlags (nt!RtlQueryElevationFlags)\n"
       ]
      },
      {
       "output_type": "stream",
       "stream": "stdout",
       "text": [
        "0xf80002aade80 M    1555  ntoskrnl.exe!RtlQueryModuleInformation (nt!RtlQueryModuleInformation)\n"
       ]
      },
      {
       "output_type": "stream",
       "stream": "stdout",
       "text": [
        "0xf80002949e6c M    1556  ntoskrnl.exe!RtlQueryRegistryValues (nt!RtlQueryRegistryValues)\n"
       ]
      },
      {
       "output_type": "stream",
       "stream": "stdout",
       "text": [
        "0xf800028fb1d8 M    1557  ntoskrnl.exe!RtlQueryTimeZoneInformation (nt!RtlQueryTimeZoneInformation)\n"
       ]
      },
      {
       "output_type": "stream",
       "stream": "stdout",
       "text": [
        "0xf80002784fd0 M    1558  ntoskrnl.exe!RtlRaiseException (nt!RtlRaiseException)\n"
       ]
      },
      {
       "output_type": "stream",
       "stream": "stdout",
       "text": [
        "0xf800029fc670 M    1559  ntoskrnl.exe!RtlRandom (nt!RtlRandom)             \n"
       ]
      },
      {
       "output_type": "stream",
       "stream": "stdout",
       "text": [
        "0xf80002940cb8 M    1560  ntoskrnl.exe!RtlRandomEx (nt!RtlRandomEx)         \n"
       ]
      },
      {
       "output_type": "stream",
       "stream": "stdout",
       "text": [
        "0xf8000271d9e0 M    1561  ntoskrnl.exe!RtlRealPredecessor (nt!RtlRealPredecessor)\n"
       ]
      },
      {
       "output_type": "stream",
       "stream": "stdout",
       "text": [
        "0xf800026428ec M    1562  ntoskrnl.exe!RtlRealSuccessor (nt!RtlRealSuccessor)\n"
       ]
      },
      {
       "output_type": "stream",
       "stream": "stdout",
       "text": [
        "0xf800026598a0 M    1563  ntoskrnl.exe!RtlRemoveEntryHashTable (nt!RtlRemoveEntryHashTable)\n"
       ]
      },
      {
       "output_type": "stream",
       "stream": "stdout",
       "text": [
        "0xf8000291c6a0 M    1564  ntoskrnl.exe!RtlRemoveUnicodePrefix (nt!RtlRemoveUnicodePrefix)\n"
       ]
      },
      {
       "output_type": "stream",
       "stream": "stdout",
       "text": [
        "0xf80002a127e0 M    1565  ntoskrnl.exe!RtlReplaceSidInSd (nt!RtlReplaceSidInSd)\n"
       ]
      },
      {
       "output_type": "stream",
       "stream": "stdout",
       "text": [
        "0xf800029fd380 M    1566  ntoskrnl.exe!RtlReserveChunk (nt!RtlReserveChunk) \n"
       ]
      },
      {
       "output_type": "stream",
       "stream": "stdout",
       "text": [
        "0xf800026916a0 M    1567  ntoskrnl.exe!RtlRestoreContext (nt!RtlRestoreContext)\n"
       ]
      },
      {
       "output_type": "stream",
       "stream": "stdout",
       "text": [
        "0xf8000294259c M    1568  ntoskrnl.exe!RtlRunOnceBeginInitialize (nt!RtlRunOnceBeginInitialize)\n"
       ]
      },
      {
       "output_type": "stream",
       "stream": "stdout",
       "text": [
        "0xf80002a1e260 M    1569  ntoskrnl.exe!RtlRunOnceComplete (nt!RtlRunOnceComplete)\n"
       ]
      },
      {
       "output_type": "stream",
       "stream": "stdout",
       "text": [
        "0xf80002942610 M    1570  ntoskrnl.exe!RtlRunOnceExecuteOnce (nt!RtlRunOnceExecuteOnce)\n"
       ]
      },
      {
       "output_type": "stream",
       "stream": "stdout",
       "text": [
        "0xf80002a083d0 M    1571  ntoskrnl.exe!RtlRunOnceInitialize (nt!RtlRunOnceInitialize)\n"
       ]
      },
      {
       "output_type": "stream",
       "stream": "stdout",
       "text": [
        "0xf8000262d5bc M    1572  ntoskrnl.exe!RtlSecondsSince1970ToTime (nt!RtlSecondsSince1970ToTime)\n"
       ]
      },
      {
       "output_type": "stream",
       "stream": "stdout",
       "text": [
        "0xf80002624d30 M    1573  ntoskrnl.exe!RtlSecondsSince1980ToTime (nt!RtlSecondsSince1980ToTime)\n"
       ]
      },
      {
       "output_type": "stream",
       "stream": "stdout",
       "text": [
        "0xf800028e3790 M    1574  ntoskrnl.exe!RtlSelfRelativeToAbsoluteSD (nt!RtlSelfRelativeToAbsoluteSD)\n"
       ]
      },
      {
       "output_type": "stream",
       "stream": "stdout",
       "text": [
        "0xf80002a0b2d0 M    1575  ntoskrnl.exe!RtlSelfRelativeToAbsoluteSD2 (nt!RtlSelfRelativeToAbsoluteSD2)\n"
       ]
      },
      {
       "output_type": "stream",
       "stream": "stdout",
       "text": [
        "0xf8000272a3b0 M    1576  ntoskrnl.exe!RtlSetAllBits (nt!RtlSetAllBits)     \n"
       ]
      },
      {
       "output_type": "stream",
       "stream": "stdout",
       "text": [
        "0xf80002663970 M    1577  ntoskrnl.exe!RtlSetBit (nt!RtlSetBit)             \n"
       ]
      },
      {
       "output_type": "stream",
       "stream": "stdout",
       "text": [
        "0xf800026a8150 M    1578  ntoskrnl.exe!RtlSetBits (nt!RtlSetBits)           \n"
       ]
      },
      {
       "output_type": "stream",
       "stream": "stdout",
       "text": [
        "0xf80002924338 M    1579  ntoskrnl.exe!RtlSetDaclSecurityDescriptor (nt!RtlSetDaclSecurityDescriptor)\n"
       ]
      },
      {
       "output_type": "stream",
       "stream": "stdout",
       "text": [
        "0xf80002a49cf0 M    1580  ntoskrnl.exe!RtlSetDynamicTimeZoneInformation (nt!RtlSetDynamicTimeZoneInformation)\n"
       ]
      },
      {
       "output_type": "stream",
       "stream": "stdout",
       "text": [
        "0xf800028f3e70 M    1581  ntoskrnl.exe!RtlSetGroupSecurityDescriptor (nt!RtlSetGroupSecurityDescriptor)\n"
       ]
      },
      {
       "output_type": "stream",
       "stream": "stdout",
       "text": [
        "0xf800028f3e28 M    1582  ntoskrnl.exe!RtlSetOwnerSecurityDescriptor (nt!RtlSetOwnerSecurityDescriptor)\n"
       ]
      },
      {
       "output_type": "stream",
       "stream": "stdout",
       "text": [
        "0xf800028f3ed0 M    1583  ntoskrnl.exe!RtlSetSaclSecurityDescriptor (nt!RtlSetSaclSecurityDescriptor)\n"
       ]
      },
      {
       "output_type": "stream",
       "stream": "stdout",
       "text": [
        "0xf80002a49d00 M    1584  ntoskrnl.exe!RtlSetTimeZoneInformation (nt!RtlSetTimeZoneInformation)\n"
       ]
      },
      {
       "output_type": "stream",
       "stream": "stdout",
       "text": [
        "0xf8000266c3e0 M    1585  ntoskrnl.exe!RtlSidHashInitialize (nt!RtlSidHashInitialize)\n"
       ]
      },
      {
       "output_type": "stream",
       "stream": "stdout",
       "text": [
        "0xf8000269c810 M    1586  ntoskrnl.exe!RtlSidHashLookup (nt!RtlSidHashLookup)\n"
       ]
      },
      {
       "output_type": "stream",
       "stream": "stdout",
       "text": [
        "0xf80002755fd0 M    1587  ntoskrnl.exe!RtlSizeHeap (nt!RtlSizeHeap)         \n"
       ]
      },
      {
       "output_type": "stream",
       "stream": "stdout",
       "text": [
        "0xf800026b5d20 M    1588  ntoskrnl.exe!RtlSplay (nt!RtlSplay)               \n"
       ]
      },
      {
       "output_type": "stream",
       "stream": "stdout",
       "text": [
        "0xf80002907b18 M    1589  ntoskrnl.exe!RtlStringFromGUID (nt!RtlStringFromGUID)\n"
       ]
      },
      {
       "output_type": "stream",
       "stream": "stdout",
       "text": [
        "0xf8000265b184 M    1590  ntoskrnl.exe!RtlSubAuthorityCountSid (nt!RtlSubAuthorityCountSid)\n"
       ]
      },
      {
       "output_type": "stream",
       "stream": "stdout",
       "text": [
        "0xf800026b6250 M    1591  ntoskrnl.exe!RtlSubAuthoritySid (nt!RtlSubAuthoritySid)\n"
       ]
      },
      {
       "output_type": "stream",
       "stream": "stdout",
       "text": [
        "0xf80002648300 M    1592  ntoskrnl.exe!RtlSubtreePredecessor (nt!RtlSubtreePredecessor)\n"
       ]
      },
      {
       "output_type": "stream",
       "stream": "stdout",
       "text": [
        "0xf8000271da30 M    1593  ntoskrnl.exe!RtlSubtreeSuccessor (nt!RtlSubtreeSuccessor)\n"
       ]
      },
      {
       "output_type": "stream",
       "stream": "stdout",
       "text": [
        "0xf800029fdfc0 M    1594  ntoskrnl.exe!RtlSystemTimeToLocalTime (nt!RtlSystemTimeToLocalTime)\n"
       ]
      },
      {
       "output_type": "stream",
       "stream": "stdout",
       "text": [
        "0xf8000271e100 M    1595  ntoskrnl.exe!RtlTestBit (nt!RtlTestBit)           \n"
       ]
      },
      {
       "output_type": "stream",
       "stream": "stdout",
       "text": [
        "0xf80002624534 M    1596  ntoskrnl.exe!RtlTimeFieldsToTime (nt!RtlTimeFieldsToTime)\n"
       ]
      },
      {
       "output_type": "stream",
       "stream": "stdout",
       "text": [
        "0xf80002a12b90 M    1597  ntoskrnl.exe!RtlTimeToElapsedTimeFields (nt!RtlTimeToElapsedTimeFields)\n"
       ]
      },
      {
       "output_type": "stream",
       "stream": "stdout",
       "text": [
        "0xf8000272a8d0 M    1598  ntoskrnl.exe!RtlTimeToSecondsSince1970 (nt!RtlTimeToSecondsSince1970)\n"
       ]
      },
      {
       "output_type": "stream",
       "stream": "stdout",
       "text": [
        "0xf8000272a920 M    1599  ntoskrnl.exe!RtlTimeToSecondsSince1980 (nt!RtlTimeToSecondsSince1980)\n"
       ]
      },
      {
       "output_type": "stream",
       "stream": "stdout",
       "text": [
        "0xf8000262479c M    1600  ntoskrnl.exe!RtlTimeToTimeFields (nt!RtlTimeToTimeFields)\n"
       ]
      },
      {
       "output_type": "stream",
       "stream": "stdout",
       "text": [
        "0xf800027989a0 M    1601  ntoskrnl.exe!RtlTraceDatabaseAdd (nt!RtlTraceDatabaseAdd)\n"
       ]
      },
      {
       "output_type": "stream",
       "stream": "stdout",
       "text": [
        "0xf8000279af00 M    1602  ntoskrnl.exe!RtlTraceDatabaseCreate (nt!RtlTraceDatabaseCreate)\n"
       ]
      },
      {
       "output_type": "stream",
       "stream": "stdout",
       "text": [
        "0xf8000279ae80 M    1603  ntoskrnl.exe!RtlTraceDatabaseDestroy (nt!RtlTraceDatabaseDestroy)\n"
       ]
      },
      {
       "output_type": "stream",
       "stream": "stdout",
       "text": [
        "0xf80002754d30 M    1604  ntoskrnl.exe!RtlTraceDatabaseEnumerate (nt!RtlTraceDatabaseEnumerate)\n"
       ]
      },
      {
       "output_type": "stream",
       "stream": "stdout",
       "text": [
        "0xf800027546d0 M    1605  ntoskrnl.exe!RtlTraceDatabaseFind (nt!RtlTraceDatabaseFind)\n"
       ]
      },
      {
       "output_type": "stream",
       "stream": "stdout",
       "text": [
        "0xf800027546c0 M    1606  ntoskrnl.exe!RtlTraceDatabaseLock (nt!RtlTraceDatabaseLock)\n"
       ]
      },
      {
       "output_type": "stream",
       "stream": "stdout",
       "text": [
        "0xf8000274c670 M    1607  ntoskrnl.exe!RtlTraceDatabaseUnlock (nt!RtlTraceDatabaseUnlock)\n"
       ]
      },
      {
       "output_type": "stream",
       "stream": "stdout",
       "text": [
        "0xf80002754740 M    1608  ntoskrnl.exe!RtlTraceDatabaseValidate (nt!RtlTraceDatabaseValidate)\n"
       ]
      },
      {
       "output_type": "stream",
       "stream": "stdout",
       "text": [
        "0xf80002a11f50 M    1609  ntoskrnl.exe!RtlUTF8ToUnicodeN (nt!RtlUTF8ToUnicodeN)\n"
       ]
      },
      {
       "output_type": "stream",
       "stream": "stdout",
       "text": [
        "0xf800029ff150 M    1610  ntoskrnl.exe!RtlUnicodeStringToAnsiSize (nt!RtlxUnicodeStringToOemSize)\n"
       ]
      },
      {
       "output_type": "stream",
       "stream": "stdout",
       "text": [
        "0xf800029a9f10 M    1611  ntoskrnl.exe!RtlUnicodeStringToAnsiString (nt!RtlUnicodeStringToAnsiString)\n"
       ]
      },
      {
       "output_type": "stream",
       "stream": "stdout",
       "text": [
        "0xf8000294acec M    1612  ntoskrnl.exe!RtlUnicodeStringToCountedOemString (nt!RtlUnicodeStringToCountedOemString)\n"
       ]
      },
      {
       "output_type": "stream",
       "stream": "stdout",
       "text": [
        "0xf80002922f98 M    1613  ntoskrnl.exe!RtlUnicodeStringToInteger (nt!RtlUnicodeStringToInteger)\n"
       ]
      },
      {
       "output_type": "stream",
       "stream": "stdout",
       "text": [
        "0xf800029ff150 M    1614  ntoskrnl.exe!RtlUnicodeStringToOemSize (nt!RtlxUnicodeStringToOemSize)\n"
       ]
      },
      {
       "output_type": "stream",
       "stream": "stdout",
       "text": [
        "0xf80002903944 M    1615  ntoskrnl.exe!RtlUnicodeStringToOemString (nt!RtlUnicodeStringToOemString)\n"
       ]
      },
      {
       "output_type": "stream",
       "stream": "stdout",
       "text": [
        "0xf800029fea40 M    1616  ntoskrnl.exe!RtlUnicodeToCustomCPN (nt!RtlUnicodeToCustomCPN)\n"
       ]
      },
      {
       "output_type": "stream",
       "stream": "stdout",
       "text": [
        "0xf800029a9ff0 M    1617  ntoskrnl.exe!RtlUnicodeToMultiByteN (nt!RtlUnicodeToMultiByteN)\n"
       ]
      },
      {
       "output_type": "stream",
       "stream": "stdout",
       "text": [
        "0xf8000294aa14 M    1618  ntoskrnl.exe!RtlUnicodeToMultiByteSize (nt!RtlUnicodeToMultiByteSize)\n"
       ]
      },
      {
       "output_type": "stream",
       "stream": "stdout",
       "text": [
        "0xf8000294aa40 M    1619  ntoskrnl.exe!RtlUnicodeToOemN (nt!RtlUnicodeToOemN)\n"
       ]
      },
      {
       "output_type": "stream",
       "stream": "stdout",
       "text": [
        "0xf80002a12440 M    1620  ntoskrnl.exe!RtlUnicodeToUTF8N (nt!RtlUnicodeToUTF8N)\n"
       ]
      },
      {
       "output_type": "stream",
       "stream": "stdout",
       "text": [
        "0xf800029fd190 M    1621  ntoskrnl.exe!RtlUnlockBootStatusData (nt!RtlUnlockBootStatusData)\n"
       ]
      },
      {
       "output_type": "stream",
       "stream": "stdout",
       "text": [
        "0xf80002785120 M    1622  ntoskrnl.exe!RtlUnwind (nt!RtlUnwind)             \n"
       ]
      },
      {
       "output_type": "stream",
       "stream": "stdout",
       "text": [
        "0xf800026be6b0 M    1623  ntoskrnl.exe!RtlUnwindEx (nt!RtlUnwindEx)         \n"
       ]
      },
      {
       "output_type": "stream",
       "stream": "stdout",
       "text": [
        "0xf80002937614 M    1624  ntoskrnl.exe!RtlUpcaseUnicodeChar (nt!RtlUpcaseUnicodeChar)\n"
       ]
      },
      {
       "output_type": "stream",
       "stream": "stdout",
       "text": [
        "0xf80002947d30 M    1625  ntoskrnl.exe!RtlUpcaseUnicodeString (nt!RtlUpcaseUnicodeString)\n"
       ]
      },
      {
       "output_type": "stream",
       "stream": "stdout",
       "text": [
        "0xf800029ff340 M    1626  ntoskrnl.exe!RtlUpcaseUnicodeStringToAnsiString (nt!RtlUpcaseUnicodeStringToAnsiString)\n"
       ]
      },
      {
       "output_type": "stream",
       "stream": "stdout",
       "text": [
        "0xf80002940df0 M    1627  ntoskrnl.exe!RtlUpcaseUnicodeStringToCountedOemString (nt!RtlUpcaseUnicodeStringToCountedOemString)\n"
       ]
      },
      {
       "output_type": "stream",
       "stream": "stdout",
       "text": [
        "0xf800029324e4 M    1628  ntoskrnl.exe!RtlUpcaseUnicodeStringToOemString (nt!RtlUpcaseUnicodeStringToOemString)\n"
       ]
      },
      {
       "output_type": "stream",
       "stream": "stdout",
       "text": [
        "0xf800029fe250 M    1629  ntoskrnl.exe!RtlUpcaseUnicodeToCustomCPN (nt!RtlUpcaseUnicodeToCustomCPN)\n"
       ]
      },
      {
       "output_type": "stream",
       "stream": "stdout",
       "text": [
        "0xf8000294a8e8 M    1630  ntoskrnl.exe!RtlUpcaseUnicodeToMultiByteN (nt!RtlUpcaseUnicodeToMultiByteN)\n"
       ]
      },
      {
       "output_type": "stream",
       "stream": "stdout",
       "text": [
        "0xf80002941954 M    1631  ntoskrnl.exe!RtlUpcaseUnicodeToOemN (nt!RtlUpcaseUnicodeToOemN)\n"
       ]
      },
      {
       "output_type": "stream",
       "stream": "stdout",
       "text": [
        "0xf800029ff000 M    1632  ntoskrnl.exe!RtlUpperChar (nt!RtlUpperChar)       \n"
       ]
      },
      {
       "output_type": "stream",
       "stream": "stdout",
       "text": [
        "0xf80002a0b780 M    1633  ntoskrnl.exe!RtlUpperString (nt!RtlUpperString)   \n"
       ]
      },
      {
       "output_type": "stream",
       "stream": "stdout",
       "text": [
        "0xf8000290c1e0 M    1634  ntoskrnl.exe!RtlValidRelativeSecurityDescriptor (nt!RtlValidRelativeSecurityDescriptor)\n"
       ]
      },
      {
       "output_type": "stream",
       "stream": "stdout",
       "text": [
        "0xf800028e36cc M    1635  ntoskrnl.exe!RtlValidSecurityDescriptor (nt!RtlValidSecurityDescriptor)\n"
       ]
      },
      {
       "output_type": "stream",
       "stream": "stdout",
       "text": [
        "0xf800029779c4 M    1636  ntoskrnl.exe!RtlValidSid (nt!RtlValidSid)         \n"
       ]
      },
      {
       "output_type": "stream",
       "stream": "stdout",
       "text": [
        "0xf80002642090 M    1637  ntoskrnl.exe!RtlValidateUnicodeString (nt!RtlValidateUnicodeString)\n"
       ]
      },
      {
       "output_type": "stream",
       "stream": "stdout",
       "text": [
        "0xf80002769870 M    1638  ntoskrnl.exe!RtlVerifyVersionInfo (nt!RtlVerifyVersionInfo)\n"
       ]
      },
      {
       "output_type": "stream",
       "stream": "stdout",
       "text": [
        "0xf80002645260 M    1639  ntoskrnl.exe!RtlVirtualUnwind (nt!RtlVirtualUnwind)\n"
       ]
      },
      {
       "output_type": "stream",
       "stream": "stdout",
       "text": [
        "0xf800029500e8 M    1640  ntoskrnl.exe!RtlVolumeDeviceToDosName (nt!IoVolumeDeviceToDosName)\n"
       ]
      },
      {
       "output_type": "stream",
       "stream": "stdout",
       "text": [
        "0xf8000262f8d0 M    1641  ntoskrnl.exe!RtlWalkFrameChain (nt!RtlWalkFrameChain)\n"
       ]
      },
      {
       "output_type": "stream",
       "stream": "stdout",
       "text": [
        "0xf80002648128 M    1642  ntoskrnl.exe!RtlWeaklyEnumerateEntryHashTable (nt!RtlWeaklyEnumerateEntryHashTable)\n"
       ]
      },
      {
       "output_type": "stream",
       "stream": "stdout",
       "text": [
        "0xf80002a490c0 M    1643  ntoskrnl.exe!RtlWriteRegistryValue (nt!RtlWriteRegistryValue)\n"
       ]
      },
      {
       "output_type": "stream",
       "stream": "stdout",
       "text": [
        "0xf80002a341f0 M    1644  ntoskrnl.exe!RtlZeroHeap (nt!RtlZeroHeap)         \n"
       ]
      },
      {
       "output_type": "stream",
       "stream": "stdout",
       "text": [
        "0xf80002693060 M    1645  ntoskrnl.exe!RtlZeroMemory (nt!RtlZeroMemory)     \n"
       ]
      },
      {
       "output_type": "stream",
       "stream": "stdout",
       "text": [
        "0xf800029ff120 M    1646  ntoskrnl.exe!RtlxAnsiStringToUnicodeSize (nt!RtlxOemStringToUnicodeSize)\n"
       ]
      },
      {
       "output_type": "stream",
       "stream": "stdout",
       "text": [
        "0xf800029ff120 M    1647  ntoskrnl.exe!RtlxOemStringToUnicodeSize (nt!RtlxOemStringToUnicodeSize)\n"
       ]
      },
      {
       "output_type": "stream",
       "stream": "stdout",
       "text": [
        "0xf800029ff150 M    1648  ntoskrnl.exe!RtlxUnicodeStringToAnsiSize (nt!RtlxUnicodeStringToOemSize)\n"
       ]
      },
      {
       "output_type": "stream",
       "stream": "stdout",
       "text": [
        "0xf800029ff150 M    1649  ntoskrnl.exe!RtlxUnicodeStringToOemSize (nt!RtlxUnicodeStringToOemSize)\n"
       ]
      },
      {
       "output_type": "stream",
       "stream": "stdout",
       "text": [
        "0xf8000269e294 M    1650  ntoskrnl.exe!SeAccessCheck (nt!SeAccessCheck)     \n"
       ]
      },
      {
       "output_type": "stream",
       "stream": "stdout",
       "text": [
        "0xf8000264a624 M    1651  ntoskrnl.exe!SeAccessCheckEx (nt!SeAccessCheckEx) \n"
       ]
      },
      {
       "output_type": "stream",
       "stream": "stdout",
       "text": [
        "0xf80002659740 M    1652  ntoskrnl.exe!SeAccessCheckFromState (nt!SeAccessCheckFromState)\n"
       ]
      },
      {
       "output_type": "stream",
       "stream": "stdout",
       "text": [
        "0xf80002696290 M    1653  ntoskrnl.exe!SeAccessCheckWithHint (nt!SeAccessCheckWithHint)\n"
       ]
      },
      {
       "output_type": "stream",
       "stream": "stdout",
       "text": [
        "0xf8000293d09c M    1654  ntoskrnl.exe!SeAppendPrivileges (nt!SeAppendPrivileges)\n"
       ]
      },
      {
       "output_type": "stream",
       "stream": "stdout",
       "text": [
        "0xf80002945ea0 M    1655  ntoskrnl.exe!SeAssignSecurity (nt!SeAssignSecurity)\n"
       ]
      },
      {
       "output_type": "stream",
       "stream": "stdout",
       "text": [
        "0xf800029a3a3c M    1656  ntoskrnl.exe!SeAssignSecurityEx (nt!SeAssignSecurityEx)\n"
       ]
      },
      {
       "output_type": "stream",
       "stream": "stdout",
       "text": [
        "0xf80002a351d0 M    1657  ntoskrnl.exe!SeAuditHardLinkCreation (nt!SeAuditHardLinkCreation)\n"
       ]
      },
      {
       "output_type": "stream",
       "stream": "stdout",
       "text": [
        "0xf80002a34fd0 M    1658  ntoskrnl.exe!SeAuditHardLinkCreationWithTransaction (nt!SeAuditHardLinkCreationWithTransaction)\n"
       ]
      },
      {
       "output_type": "stream",
       "stream": "stdout",
       "text": [
        "0xf80002aa9c20 M    1659  ntoskrnl.exe!SeAuditTransactionStateChange (nt!SeAuditTransactionStateChange)\n"
       ]
      },
      {
       "output_type": "stream",
       "stream": "stdout",
       "text": [
        "0xf80002993c50 M    1660  ntoskrnl.exe!SeAuditingAnyFileEventsWithContext (nt!SeAuditingAnyFileEventsWithContext)\n"
       ]
      },
      {
       "output_type": "stream",
       "stream": "stdout",
       "text": [
        "0xf800029fc0c0 M    1661  ntoskrnl.exe!SeAuditingFileEvents (nt!SeAuditingFileEvents)\n"
       ]
      },
      {
       "output_type": "stream",
       "stream": "stdout",
       "text": [
        "0xf80002a38fe0 M    1662  ntoskrnl.exe!SeAuditingFileEventsWithContext (nt!SeAuditingFileEventsWithContext)\n"
       ]
      },
      {
       "output_type": "stream",
       "stream": "stdout",
       "text": [
        "0xf80002a39050 M    1663  ntoskrnl.exe!SeAuditingFileOrGlobalEvents (nt!SeAuditingFileOrGlobalEvents)\n"
       ]
      },
      {
       "output_type": "stream",
       "stream": "stdout",
       "text": [
        "0xf800029fc060 M    1664  ntoskrnl.exe!SeAuditingHardLinkEvents (nt!SeAuditingHardLinkEvents)\n"
       ]
      },
      {
       "output_type": "stream",
       "stream": "stdout",
       "text": [
        "0xf80002a38f70 M    1665  ntoskrnl.exe!SeAuditingHardLinkEventsWithContext (nt!SeAuditingHardLinkEventsWithContext)\n"
       ]
      },
      {
       "output_type": "stream",
       "stream": "stdout",
       "text": [
        "0xf80002936f10 M    1666  ntoskrnl.exe!SeAuditingWithTokenForSubcategory (nt!SeAuditingWithTokenForSubcategory)\n"
       ]
      },
      {
       "output_type": "stream",
       "stream": "stdout",
       "text": [
        "0xf80002961840 M    1667  ntoskrnl.exe!SeCaptureSecurityDescriptor (nt!SeCaptureSecurityDescriptor)\n"
       ]
      },
      {
       "output_type": "stream",
       "stream": "stdout",
       "text": [
        "0xf80002936f50 M    1668  ntoskrnl.exe!SeCaptureSubjectContext (nt!SeCaptureSubjectContext)\n"
       ]
      },
      {
       "output_type": "stream",
       "stream": "stdout",
       "text": [
        "0xf8000295ddcc M    1669  ntoskrnl.exe!SeCaptureSubjectContextEx (nt!SeCaptureSubjectContextEx)\n"
       ]
      },
      {
       "output_type": "stream",
       "stream": "stdout",
       "text": [
        "0xf80002a621e0 M    1670  ntoskrnl.exe!SeCloseObjectAuditAlarm (nt!SeCloseObjectAuditAlarm)\n"
       ]
      },
      {
       "output_type": "stream",
       "stream": "stdout",
       "text": [
        "0xf80002a62240 M    1671  ntoskrnl.exe!SeCloseObjectAuditAlarmForNonObObject (nt!SeCloseObjectAuditAlarmForNonObObject)\n"
       ]
      },
      {
       "output_type": "stream",
       "stream": "stdout",
       "text": [
        "0xf800026b3760 M    1672  ntoskrnl.exe!SeComputeAutoInheritByObjectType (nt!SeComputeAutoInheritByObjectType)\n"
       ]
      },
      {
       "output_type": "stream",
       "stream": "stdout",
       "text": [
        "0xf80002942ca4 M    1673  ntoskrnl.exe!SeCreateAccessState (nt!SeCreateAccessState)\n"
       ]
      },
      {
       "output_type": "stream",
       "stream": "stdout",
       "text": [
        "0xf8000297f020 M    1674  ntoskrnl.exe!SeCreateAccessStateEx (nt!SeCreateAccessStateEx)\n"
       ]
      },
      {
       "output_type": "stream",
       "stream": "stdout",
       "text": [
        "0xf8000295dffc M    1675  ntoskrnl.exe!SeCreateClientSecurity (nt!SeCreateClientSecurity)\n"
       ]
      },
      {
       "output_type": "stream",
       "stream": "stdout",
       "text": [
        "0xf80002917d6c M    1676  ntoskrnl.exe!SeCreateClientSecurityFromSubjectContext (nt!SeCreateClientSecurityFromSubjectContext)\n"
       ]
      },
      {
       "output_type": "stream",
       "stream": "stdout",
       "text": [
        "0xf800028f7db4 M    1677  ntoskrnl.exe!SeDeassignSecurity (nt!SeDeassignSecurity)\n"
       ]
      },
      {
       "output_type": "stream",
       "stream": "stdout",
       "text": [
        "0xf8000297f324 M    1678  ntoskrnl.exe!SeDeleteAccessState (nt!SeDeleteAccessState)\n"
       ]
      },
      {
       "output_type": "stream",
       "stream": "stdout",
       "text": [
        "0xf80002aade70 M    1679  ntoskrnl.exe!SeDeleteObjectAuditAlarm (nt!SeDeleteObjectAuditAlarm)\n"
       ]
      },
      {
       "output_type": "stream",
       "stream": "stdout",
       "text": [
        "0xf80002aade00 M    1680  ntoskrnl.exe!SeDeleteObjectAuditAlarmWithTransaction (nt!SeDeleteObjectAuditAlarmWithTransaction)\n"
       ]
      },
      {
       "output_type": "stream",
       "stream": "stdout",
       "text": [
        "0xf80002a11bd0 M    1681  ntoskrnl.exe!SeExamineSacl (nt!SeExamineSacl)     \n"
       ]
      },
      {
       "output_type": "stream",
       "stream": "stdout",
       "text": [
        "0xf80002b59130 M    1682  ntoskrnl.exe!SeExports (nt!SeExports)             \n"
       ]
      },
      {
       "output_type": "stream",
       "stream": "stdout",
       "text": [
        "0xf80002ac3870 M    1683  ntoskrnl.exe!SeFilterToken (nt!SeFilterToken)     \n"
       ]
      },
      {
       "output_type": "stream",
       "stream": "stdout",
       "text": [
        "0xf8000262be70 M    1684  ntoskrnl.exe!SeFreePrivileges (nt!SmFree)         \n"
       ]
      },
      {
       "output_type": "stream",
       "stream": "stdout",
       "text": [
        "0xf80002a630e0 M    1685  ntoskrnl.exe!SeGetLinkedToken (nt!SeGetLinkedToken)\n"
       ]
      },
      {
       "output_type": "stream",
       "stream": "stdout",
       "text": [
        "0xf80002acd450 M    1686  ntoskrnl.exe!SeImpersonateClient (nt!SeImpersonateClient)\n"
       ]
      },
      {
       "output_type": "stream",
       "stream": "stdout",
       "text": [
        "0xf80002938440 M    1687  ntoskrnl.exe!SeImpersonateClientEx (nt!SeImpersonateClientEx)\n"
       ]
      },
      {
       "output_type": "stream",
       "stream": "stdout",
       "text": [
        "0xf80002938310 M    1688  ntoskrnl.exe!SeLocateProcessImageName (nt!SeLocateProcessImageName)\n"
       ]
      },
      {
       "output_type": "stream",
       "stream": "stdout",
       "text": [
        "0xf80002994690 M    1689  ntoskrnl.exe!SeLockSubjectContext (nt!SeLockSubjectContext)\n"
       ]
      },
      {
       "output_type": "stream",
       "stream": "stdout",
       "text": [
        "0xf800029344d4 M    1690  ntoskrnl.exe!SeMarkLogonSessionForTerminationNotification (nt!SeMarkLogonSessionForTerminationNotification)\n"
       ]
      },
      {
       "output_type": "stream",
       "stream": "stdout",
       "text": [
        "0xf80002945f38 M    1691  ntoskrnl.exe!SeOpenObjectAuditAlarm (nt!SeOpenObjectAuditAlarm)\n"
       ]
      },
      {
       "output_type": "stream",
       "stream": "stdout",
       "text": [
        "0xf800028e177c M    1692  ntoskrnl.exe!SeOpenObjectAuditAlarmForNonObObject (nt!SeOpenObjectAuditAlarmForNonObObject)\n"
       ]
      },
      {
       "output_type": "stream",
       "stream": "stdout",
       "text": [
        "0xf800029854e0 M    1693  ntoskrnl.exe!SeOpenObjectAuditAlarmWithTransaction (nt!SeOpenObjectAuditAlarmWithTransaction)\n"
       ]
      },
      {
       "output_type": "stream",
       "stream": "stdout",
       "text": [
        "0xf80002aa9530 M    1694  ntoskrnl.exe!SeOpenObjectForDeleteAuditAlarm (nt!SeOpenObjectForDeleteAuditAlarm)\n"
       ]
      },
      {
       "output_type": "stream",
       "stream": "stdout",
       "text": [
        "0xf80002aa9050 M    1695  ntoskrnl.exe!SeOpenObjectForDeleteAuditAlarmWithTransaction (nt!SeOpenObjectForDeleteAuditAlarmWithTransaction)\n"
       ]
      },
      {
       "output_type": "stream",
       "stream": "stdout",
       "text": [
        "0xf80002993c10 M    1696  ntoskrnl.exe!SePrivilegeCheck (nt!SePrivilegeCheck)\n"
       ]
      },
      {
       "output_type": "stream",
       "stream": "stdout",
       "text": [
        "0xf80002a62270 M    1697  ntoskrnl.exe!SePrivilegeObjectAuditAlarm (nt!SePrivilegeObjectAuditAlarm)\n"
       ]
      },
      {
       "output_type": "stream",
       "stream": "stdout",
       "text": [
        "0xf80002b592c0 M    1698  ntoskrnl.exe!SePublicDefaultDacl (nt!SePublicDefaultDacl)\n"
       ]
      },
      {
       "output_type": "stream",
       "stream": "stdout",
       "text": [
        "0xf800029375d8 M    1699  ntoskrnl.exe!SeQueryAuthenticationIdToken (nt!SeQueryAuthenticationIdToken)\n"
       ]
      },
      {
       "output_type": "stream",
       "stream": "stdout",
       "text": [
        "0xf800029856b0 M    1700  ntoskrnl.exe!SeQueryInformationToken (nt!SeQueryInformationToken)\n"
       ]
      },
      {
       "output_type": "stream",
       "stream": "stdout",
       "text": [
        "0xf80002ac2760 M    1701  ntoskrnl.exe!SeQuerySecurityAttributesToken (nt!SeQuerySecurityAttributesToken)\n"
       ]
      },
      {
       "output_type": "stream",
       "stream": "stdout",
       "text": [
        "0xf8000296de40 M    1702  ntoskrnl.exe!SeQuerySecurityDescriptorInfo (nt!SeQuerySecurityDescriptorInfo)\n"
       ]
      },
      {
       "output_type": "stream",
       "stream": "stdout",
       "text": [
        "0xf800029360a0 M    1703  ntoskrnl.exe!SeQuerySessionIdToken (nt!SeQuerySessionIdToken)\n"
       ]
      },
      {
       "output_type": "stream",
       "stream": "stdout",
       "text": [
        "0xf80002ac2f20 M    1704  ntoskrnl.exe!SeRegisterLogonSessionTerminatedRoutine (nt!SeRegisterLogonSessionTerminatedRoutine)\n"
       ]
      },
      {
       "output_type": "stream",
       "stream": "stdout",
       "text": [
        "0xf800029fc030 M    1705  ntoskrnl.exe!SeReleaseSecurityDescriptor (nt!SeReleaseSecurityDescriptor)\n"
       ]
      },
      {
       "output_type": "stream",
       "stream": "stdout",
       "text": [
        "0xf80002935dec M    1706  ntoskrnl.exe!SeReleaseSubjectContext (nt!SeReleaseSubjectContext)\n"
       ]
      },
      {
       "output_type": "stream",
       "stream": "stdout",
       "text": [
        "0xf800027763b0 M    1707  ntoskrnl.exe!SeReportSecurityEvent (nt!SeReportSecurityEvent)\n"
       ]
      },
      {
       "output_type": "stream",
       "stream": "stdout",
       "text": [
        "0xf8000262ec70 M    1708  ntoskrnl.exe!SeReportSecurityEventWithSubCategory (nt!SeReportSecurityEventWithSubCategory)\n"
       ]
      },
      {
       "output_type": "stream",
       "stream": "stdout",
       "text": [
        "0xf800029fc210 M    1709  ntoskrnl.exe!SeSetAccessStateGenericMapping (nt!SeSetAccessStateGenericMapping)\n"
       ]
      },
      {
       "output_type": "stream",
       "stream": "stdout",
       "text": [
        "0xf8000262ef8c M    1710  ntoskrnl.exe!SeSetAuditParameter (nt!SeSetAuditParameter)\n"
       ]
      },
      {
       "output_type": "stream",
       "stream": "stdout",
       "text": [
        "0xf80002ac2620 M    1711  ntoskrnl.exe!SeSetSecurityAttributesToken (nt!SeSetSecurityAttributesToken)\n"
       ]
      },
      {
       "output_type": "stream",
       "stream": "stdout",
       "text": [
        "0xf800028f7de0 M    1712  ntoskrnl.exe!SeSetSecurityDescriptorInfo (nt!SeSetSecurityDescriptorInfo)\n"
       ]
      },
      {
       "output_type": "stream",
       "stream": "stdout",
       "text": [
        "0xf80002a69330 M    1713  ntoskrnl.exe!SeSetSecurityDescriptorInfoEx (nt!SeSetSecurityDescriptorInfoEx)\n"
       ]
      },
      {
       "output_type": "stream",
       "stream": "stdout",
       "text": [
        "0xf80002956a58 M    1714  ntoskrnl.exe!SeSinglePrivilegeCheck (nt!SeSinglePrivilegeCheck)\n"
       ]
      },
      {
       "output_type": "stream",
       "stream": "stdout",
       "text": [
        "0xf800027b5e90 M    1715  ntoskrnl.exe!SeSrpAccessCheck (nt!SeSrpAccessCheck)\n"
       ]
      },
      {
       "output_type": "stream",
       "stream": "stdout",
       "text": [
        "0xf80002b592b0 M    1716  ntoskrnl.exe!SeSystemDefaultDacl (nt!SeSystemDefaultDacl)\n"
       ]
      },
      {
       "output_type": "stream",
       "stream": "stdout",
       "text": [
        "0xf8000292c070 M    1717  ntoskrnl.exe!SeTokenImpersonationLevel (nt!SeTokenImpersonationLevel)\n"
       ]
      },
      {
       "output_type": "stream",
       "stream": "stdout",
       "text": [
        "0xf80002a11690 M    1718  ntoskrnl.exe!SeTokenIsAdmin (nt!SeTokenIsAdmin)   \n"
       ]
      },
      {
       "output_type": "stream",
       "stream": "stdout",
       "text": [
        "0xf80002661b14 M    1719  ntoskrnl.exe!SeTokenIsRestricted (nt!SeTokenIsRestricted)\n"
       ]
      },
      {
       "output_type": "stream",
       "stream": "stdout",
       "text": [
        "0xf80002653f24 M    1720  ntoskrnl.exe!SeTokenIsWriteRestricted (nt!SeTokenIsWriteRestricted)\n"
       ]
      },
      {
       "output_type": "stream",
       "stream": "stdout",
       "text": [
        "0xf80002b59070 M    1721  ntoskrnl.exe!SeTokenObjectType (nt!SeTokenObjectType)\n"
       ]
      },
      {
       "output_type": "stream",
       "stream": "stdout",
       "text": [
        "0xf80002945f28 M    1722  ntoskrnl.exe!SeTokenType (nt!SeTokenType)         \n"
       ]
      },
      {
       "output_type": "stream",
       "stream": "stdout",
       "text": [
        "0xf80002990e30 M    1723  ntoskrnl.exe!SeUnlockSubjectContext (nt!SeUnlockSubjectContext)\n"
       ]
      },
      {
       "output_type": "stream",
       "stream": "stdout",
       "text": [
        "0xf80002ac3330 M    1724  ntoskrnl.exe!SeUnregisterLogonSessionTerminatedRoutine (nt!SeUnregisterLogonSessionTerminatedRoutine)\n"
       ]
      },
      {
       "output_type": "stream",
       "stream": "stdout",
       "text": [
        "0xf800029a367c M    1725  ntoskrnl.exe!SeValidSecurityDescriptor (nt!SeValidSecurityDescriptor)\n"
       ]
      },
      {
       "output_type": "stream",
       "stream": "stdout",
       "text": [
        "0xf80002a3d940 M    1726  ntoskrnl.exe!TmCancelPropagationRequest (nt!TmCancelPropagationRequest)\n"
       ]
      },
      {
       "output_type": "stream",
       "stream": "stdout",
       "text": [
        "0xf80002910430 M    1727  ntoskrnl.exe!TmCommitComplete (nt!TmCommitComplete)\n"
       ]
      },
      {
       "output_type": "stream",
       "stream": "stdout",
       "text": [
        "0xf8000290a4bc M    1728  ntoskrnl.exe!TmCommitEnlistment (nt!TmCommitEnlistment)\n"
       ]
      },
      {
       "output_type": "stream",
       "stream": "stdout",
       "text": [
        "0xf80002915990 M    1729  ntoskrnl.exe!TmCommitTransaction (nt!TmCommitTransaction)\n"
       ]
      },
      {
       "output_type": "stream",
       "stream": "stdout",
       "text": [
        "0xf80002909678 M    1730  ntoskrnl.exe!TmCreateEnlistment (nt!TmCreateEnlistment)\n"
       ]
      },
      {
       "output_type": "stream",
       "stream": "stdout",
       "text": [
        "0xf8000299ced0 M    1731  ntoskrnl.exe!TmCurrentTransaction (nt!TmCurrentTransaction)\n"
       ]
      },
      {
       "output_type": "stream",
       "stream": "stdout",
       "text": [
        "0xf8000290a6b0 M    1732  ntoskrnl.exe!TmDereferenceEnlistmentKey (nt!TmDereferenceEnlistmentKey)\n"
       ]
      },
      {
       "output_type": "stream",
       "stream": "stdout",
       "text": [
        "0xf8000290e28c M    1733  ntoskrnl.exe!TmEnableCallbacks (nt!TmEnableCallbacks)\n"
       ]
      },
      {
       "output_type": "stream",
       "stream": "stdout",
       "text": [
        "0xf80002a3d960 M    1734  ntoskrnl.exe!TmEndPropagationRequest (nt!TmEndPropagationRequest)\n"
       ]
      },
      {
       "output_type": "stream",
       "stream": "stdout",
       "text": [
        "0xf8000283d748 M    1735  ntoskrnl.exe!TmEnlistmentObjectType (nt!TmEnlistmentObjectType)\n"
       ]
      },
      {
       "output_type": "stream",
       "stream": "stdout",
       "text": [
        "0xf80002aa34b0 M    1736  ntoskrnl.exe!TmFreezeTransactions (nt!TmFreezeTransactions)\n"
       ]
      },
      {
       "output_type": "stream",
       "stream": "stdout",
       "text": [
        "0xf800026de428 M    1737  ntoskrnl.exe!TmGetTransactionId (nt!TmGetTransactionId)\n"
       ]
      },
      {
       "output_type": "stream",
       "stream": "stdout",
       "text": [
        "0xf80002bb9cf0 -    1738  ntoskrnl.exe!TmInitSystem (nt!TmInitSystem)       \n"
       ]
      },
      {
       "output_type": "stream",
       "stream": "stdout",
       "text": [
        "0xf80002abbe90 M    1739  ntoskrnl.exe!TmInitSystemPhase2 (nt!TmInitSystemPhase2)\n"
       ]
      },
      {
       "output_type": "stream",
       "stream": "stdout",
       "text": [
        "0xf8000290bd2c M    1740  ntoskrnl.exe!TmInitializeResourceManager (nt!TmInitializeResourceManager)\n"
       ]
      },
      {
       "output_type": "stream",
       "stream": "stdout",
       "text": [
        "0xf80002916dd0 M    1741  ntoskrnl.exe!TmInitializeTransaction (nt!TmInitializeTransaction)\n"
       ]
      },
      {
       "output_type": "stream",
       "stream": "stdout",
       "text": [
        "0xf80002642430 M    1742  ntoskrnl.exe!TmIsTransactionActive (nt!TmIsTransactionActive)\n"
       ]
      },
      {
       "output_type": "stream",
       "stream": "stdout",
       "text": [
        "0xf800029167a8 M    1743  ntoskrnl.exe!TmPrePrepareComplete (nt!TmPrePrepareComplete)\n"
       ]
      },
      {
       "output_type": "stream",
       "stream": "stdout",
       "text": [
        "0xf80002912bc0 M    1744  ntoskrnl.exe!TmPrePrepareEnlistment (nt!TmPrePrepareEnlistment)\n"
       ]
      },
      {
       "output_type": "stream",
       "stream": "stdout",
       "text": [
        "0xf800029103bc M    1745  ntoskrnl.exe!TmPrepareComplete (nt!TmPrepareComplete)\n"
       ]
      },
      {
       "output_type": "stream",
       "stream": "stdout",
       "text": [
        "0xf80002912ac8 M    1746  ntoskrnl.exe!TmPrepareEnlistment (nt!TmPrepareEnlistment)\n"
       ]
      },
      {
       "output_type": "stream",
       "stream": "stdout",
       "text": [
        "0xf80002a3d8e0 M    1747  ntoskrnl.exe!TmPropagationComplete (nt!TmPropagationComplete)\n"
       ]
      },
      {
       "output_type": "stream",
       "stream": "stdout",
       "text": [
        "0xf80002a3dd10 M    1748  ntoskrnl.exe!TmPropagationFailed (nt!TmPropagationFailed)\n"
       ]
      },
      {
       "output_type": "stream",
       "stream": "stdout",
       "text": [
        "0xf800029166d8 M    1749  ntoskrnl.exe!TmReadOnlyEnlistment (nt!TmReadOnlyEnlistment)\n"
       ]
      },
      {
       "output_type": "stream",
       "stream": "stdout",
       "text": [
        "0xf80002a5a310 M    1750  ntoskrnl.exe!TmRecoverEnlistment (nt!TmRecoverEnlistment)\n"
       ]
      },
      {
       "output_type": "stream",
       "stream": "stdout",
       "text": [
        "0xf800029106c8 M    1751  ntoskrnl.exe!TmRecoverResourceManager (nt!TmRecoverResourceManager)\n"
       ]
      },
      {
       "output_type": "stream",
       "stream": "stdout",
       "text": [
        "0xf80002918bd0 M    1752  ntoskrnl.exe!TmRecoverTransactionManager (nt!TmRecoverTransactionManager)\n"
       ]
      },
      {
       "output_type": "stream",
       "stream": "stdout",
       "text": [
        "0xf8000290c154 M    1753  ntoskrnl.exe!TmReferenceEnlistmentKey (nt!TmReferenceEnlistmentKey)\n"
       ]
      },
      {
       "output_type": "stream",
       "stream": "stdout",
       "text": [
        "0xf80002a59be0 M    1754  ntoskrnl.exe!TmRequestOutcomeEnlistment (nt!TmRequestOutcomeEnlistment)\n"
       ]
      },
      {
       "output_type": "stream",
       "stream": "stdout",
       "text": [
        "0xf8000283d720 M    1755  ntoskrnl.exe!TmResourceManagerObjectType (nt!TmResourceManagerObjectType)\n"
       ]
      },
      {
       "output_type": "stream",
       "stream": "stdout",
       "text": [
        "0xf80002a810b0 M    1756  ntoskrnl.exe!TmRollbackComplete (nt!TmRollbackComplete)\n"
       ]
      },
      {
       "output_type": "stream",
       "stream": "stdout",
       "text": [
        "0xf8000290b308 M    1757  ntoskrnl.exe!TmRollbackEnlistment (nt!TmRollbackEnlistment)\n"
       ]
      },
      {
       "output_type": "stream",
       "stream": "stdout",
       "text": [
        "0xf80002914214 M    1758  ntoskrnl.exe!TmRollbackTransaction (nt!TmRollbackTransaction)\n"
       ]
      },
      {
       "output_type": "stream",
       "stream": "stdout",
       "text": [
        "0xf80002a113e0 M    1759  ntoskrnl.exe!TmSetCurrentTransaction (nt!TmSetCurrentTransaction)\n"
       ]
      },
      {
       "output_type": "stream",
       "stream": "stdout",
       "text": [
        "0xf80002a246f0 M    1760  ntoskrnl.exe!TmThawTransactions (nt!TmThawTransactions)\n"
       ]
      },
      {
       "output_type": "stream",
       "stream": "stdout",
       "text": [
        "0xf8000283d718 M    1761  ntoskrnl.exe!TmTransactionManagerObjectType (nt!TmTransactionManagerObjectType)\n"
       ]
      },
      {
       "output_type": "stream",
       "stream": "stdout",
       "text": [
        "0xf8000283d740 M    1762  ntoskrnl.exe!TmTransactionObjectType (nt!TmTransactionObjectType)\n"
       ]
      },
      {
       "output_type": "stream",
       "stream": "stdout",
       "text": [
        "0xf800026de3b4 M    1763  ntoskrnl.exe!TmpIsKTMCommitCoordinator (nt!TmpIsKTMCommitCoordinator)\n"
       ]
      },
      {
       "output_type": "stream",
       "stream": "stdout",
       "text": [
        "0xf8000271c4f0 M    1764  ntoskrnl.exe!VerSetConditionMask (nt!VerSetConditionMask)\n"
       ]
      },
      {
       "output_type": "stream",
       "stream": "stdout",
       "text": [
        "0xf800027303b0 M    1765  ntoskrnl.exe!VfFailDeviceNode (nt!VfFailDeviceNode)\n"
       ]
      },
      {
       "output_type": "stream",
       "stream": "stdout",
       "text": [
        "0xf80002719cf0 M    1766  ntoskrnl.exe!VfFailDriver (nt!VfFailDriver)       \n"
       ]
      },
      {
       "output_type": "stream",
       "stream": "stdout",
       "text": [
        "0xf80002730370 M    1767  ntoskrnl.exe!VfFailSystemBIOS (nt!VfFailSystemBIOS)\n"
       ]
      },
      {
       "output_type": "stream",
       "stream": "stdout",
       "text": [
        "0xf80002730310 M    1768  ntoskrnl.exe!VfIsVerificationEnabled (nt!VfIsVerificationEnabled)\n"
       ]
      },
      {
       "output_type": "stream",
       "stream": "stdout",
       "text": [
        "0xf80002aa32c0 M    1769  ntoskrnl.exe!WheaAddErrorSource (nt!WheaAddErrorSource)\n"
       ]
      },
      {
       "output_type": "stream",
       "stream": "stdout",
       "text": [
        "0xf80002b120c0 M    1770  ntoskrnl.exe!WheaAttemptPhysicalPageOffline (nt!WheaAttemptPhysicalPageOffline)\n"
       ]
      },
      {
       "output_type": "stream",
       "stream": "stdout",
       "text": [
        "0xf800028d54d0 M    1771  ntoskrnl.exe!WheaConfigureErrorSource (nt!WheaConfigureErrorSource)\n"
       ]
      },
      {
       "output_type": "stream",
       "stream": "stdout",
       "text": [
        "0xf80002740c80 M    1772  ntoskrnl.exe!WheaDeferredRecoveryService (nt!WheaDeferredRecoveryService)\n"
       ]
      },
      {
       "output_type": "stream",
       "stream": "stdout",
       "text": [
        "0xf800027242a0 M    1773  ntoskrnl.exe!WheaGetErrorSource (nt!WheaGetErrorSource)\n"
       ]
      },
      {
       "output_type": "stream",
       "stream": "stdout",
       "text": [
        "0xf80002723e90 M    1774  ntoskrnl.exe!WheaInitializeDeferredRecoveryObject (nt!WheaInitializeDeferredRecoveryObject)\n"
       ]
      },
      {
       "output_type": "stream",
       "stream": "stdout",
       "text": [
        "0xf80002735fe0 M    1775  ntoskrnl.exe!WheaInitializeRecordHeader (nt!WheaInitializeRecordHeader)\n"
       ]
      },
      {
       "output_type": "stream",
       "stream": "stdout",
       "text": [
        "0xf800027a52b0 M    1776  ntoskrnl.exe!WheaReportHwError (nt!WheaReportHwError)\n"
       ]
      },
      {
       "output_type": "stream",
       "stream": "stdout",
       "text": [
        "0xf80002723e10 M    1777  ntoskrnl.exe!WheaRequestDeferredRecovery (nt!WheaRequestDeferredRecovery)\n"
       ]
      },
      {
       "output_type": "stream",
       "stream": "stdout",
       "text": [
        "0xf80002719950 M    1778  ntoskrnl.exe!WmiGetClock (nt!WmiGetClock)         \n"
       ]
      },
      {
       "output_type": "stream",
       "stream": "stdout",
       "text": [
        "0xf80002a44bb0 M    1779  ntoskrnl.exe!WmiQueryTraceInformation (nt!WmiQueryTraceInformation)\n"
       ]
      },
      {
       "output_type": "stream",
       "stream": "stdout",
       "text": [
        "0xf80002642b10 M    1780  ntoskrnl.exe!WmiTraceMessage (nt!WmiTraceMessage) \n"
       ]
      },
      {
       "output_type": "stream",
       "stream": "stdout",
       "text": [
        "0xf800027818f0 M    1781  ntoskrnl.exe!WmiTraceMessageVa (nt!WmiTraceMessageVa)\n"
       ]
      },
      {
       "output_type": "stream",
       "stream": "stdout",
       "text": [
        "0xf800027196b0 M    1782  ntoskrnl.exe!XIPDispatch (nt!XIPDispatch)         \n"
       ]
      },
      {
       "output_type": "stream",
       "stream": "stdout",
       "text": [
        "0xf80002689980 M    1783  ntoskrnl.exe!ZwAccessCheckAndAuditAlarm (nt!ZwAccessCheckAndAuditAlarm)\n"
       ]
      },
      {
       "output_type": "stream",
       "stream": "stdout",
       "text": [
        "0xf8000268a180 M    1784  ntoskrnl.exe!ZwAddBootEntry (nt!ZwAddBootEntry)   \n"
       ]
      },
      {
       "output_type": "stream",
       "stream": "stdout",
       "text": [
        "0xf8000268a1a0 M    1785  ntoskrnl.exe!ZwAddDriverEntry (nt!ZwAddDriverEntry)\n"
       ]
      },
      {
       "output_type": "stream",
       "stream": "stdout",
       "text": [
        "0xf80002689c80 M    1786  ntoskrnl.exe!ZwAdjustPrivilegesToken (nt!ZwAdjustPrivilegesToken)\n"
       ]
      },
      {
       "output_type": "stream",
       "stream": "stdout",
       "text": [
        "0xf8000268a200 M    1787  ntoskrnl.exe!ZwAlertThread (nt!ZwAlertThread)     \n"
       ]
      },
      {
       "output_type": "stream",
       "stream": "stdout",
       "text": [
        "0xf8000268a220 M    1788  ntoskrnl.exe!ZwAllocateLocallyUniqueId (nt!ZwAllocateLocallyUniqueId)\n"
       ]
      },
      {
       "output_type": "stream",
       "stream": "stdout",
       "text": [
        "0xf80002689760 M    1789  ntoskrnl.exe!ZwAllocateVirtualMemory (nt!ZwAllocateVirtualMemory)\n"
       ]
      },
      {
       "output_type": "stream",
       "stream": "stdout",
       "text": [
        "0xf8000268a2a0 M    1790  ntoskrnl.exe!ZwAlpcAcceptConnectPort (nt!ZwAlpcAcceptConnectPort)\n"
       ]
      },
      {
       "output_type": "stream",
       "stream": "stdout",
       "text": [
        "0xf8000268a2c0 M    1791  ntoskrnl.exe!ZwAlpcCancelMessage (nt!ZwAlpcCancelMessage)\n"
       ]
      },
      {
       "output_type": "stream",
       "stream": "stdout",
       "text": [
        "0xf8000268a2e0 M    1792  ntoskrnl.exe!ZwAlpcConnectPort (nt!ZwAlpcConnectPort)\n"
       ]
      },
      {
       "output_type": "stream",
       "stream": "stdout",
       "text": [
        "0xf8000268a300 M    1793  ntoskrnl.exe!ZwAlpcCreatePort (nt!ZwAlpcCreatePort)\n"
       ]
      },
      {
       "output_type": "stream",
       "stream": "stdout",
       "text": [
        "0xf8000268a320 M    1794  ntoskrnl.exe!ZwAlpcCreatePortSection (nt!ZwAlpcCreatePortSection)\n"
       ]
      },
      {
       "output_type": "stream",
       "stream": "stdout",
       "text": [
        "0xf8000268a340 M    1795  ntoskrnl.exe!ZwAlpcCreateResourceReserve (nt!ZwAlpcCreateResourceReserve)\n"
       ]
      },
      {
       "output_type": "stream",
       "stream": "stdout",
       "text": [
        "0xf8000268a360 M    1796  ntoskrnl.exe!ZwAlpcCreateSectionView (nt!ZwAlpcCreateSectionView)\n"
       ]
      },
      {
       "output_type": "stream",
       "stream": "stdout",
       "text": [
        "0xf8000268a380 M    1797  ntoskrnl.exe!ZwAlpcCreateSecurityContext (nt!ZwAlpcCreateSecurityContext)\n"
       ]
      },
      {
       "output_type": "stream",
       "stream": "stdout",
       "text": [
        "0xf8000268a3a0 M    1798  ntoskrnl.exe!ZwAlpcDeletePortSection (nt!ZwAlpcDeletePortSection)\n"
       ]
      },
      {
       "output_type": "stream",
       "stream": "stdout",
       "text": [
        "0xf8000268a3c0 M    1799  ntoskrnl.exe!ZwAlpcDeleteResourceReserve (nt!ZwAlpcDeleteResourceReserve)\n"
       ]
      },
      {
       "output_type": "stream",
       "stream": "stdout",
       "text": [
        "0xf8000268a3e0 M    1800  ntoskrnl.exe!ZwAlpcDeleteSectionView (nt!ZwAlpcDeleteSectionView)\n"
       ]
      },
      {
       "output_type": "stream",
       "stream": "stdout",
       "text": [
        "0xf8000268a400 M    1801  ntoskrnl.exe!ZwAlpcDeleteSecurityContext (nt!ZwAlpcDeleteSecurityContext)\n"
       ]
      },
      {
       "output_type": "stream",
       "stream": "stdout",
       "text": [
        "0xf8000268a420 M    1802  ntoskrnl.exe!ZwAlpcDisconnectPort (nt!ZwAlpcDisconnectPort)\n"
       ]
      },
      {
       "output_type": "stream",
       "stream": "stdout",
       "text": [
        "0xf8000268a4a0 M    1803  ntoskrnl.exe!ZwAlpcQueryInformation (nt!ZwAlpcQueryInformation)\n"
       ]
      },
      {
       "output_type": "stream",
       "stream": "stdout",
       "text": [
        "0xf8000268a500 M    1804  ntoskrnl.exe!ZwAlpcSendWaitReceivePort (nt!ZwAlpcSendWaitReceivePort)\n"
       ]
      },
      {
       "output_type": "stream",
       "stream": "stdout",
       "text": [
        "0xf8000268a520 M    1805  ntoskrnl.exe!ZwAlpcSetInformation (nt!ZwAlpcSetInformation)\n"
       ]
      },
      {
       "output_type": "stream",
       "stream": "stdout",
       "text": [
        "0xf8000268a560 M    1806  ntoskrnl.exe!ZwAssignProcessToJobObject (nt!ZwAssignProcessToJobObject)\n"
       ]
      },
      {
       "output_type": "stream",
       "stream": "stdout",
       "text": [
        "0xf8000268a000 M    1807  ntoskrnl.exe!ZwCancelIoFile (nt!ZwCancelIoFile)   \n"
       ]
      },
      {
       "output_type": "stream",
       "stream": "stdout",
       "text": [
        "0xf8000268a080 M    1808  ntoskrnl.exe!ZwCancelTimer (nt!ZwCancelTimer)     \n"
       ]
      },
      {
       "output_type": "stream",
       "stream": "stdout",
       "text": [
        "0xf80002689c20 M    1809  ntoskrnl.exe!ZwClearEvent (nt!ZwClearEvent)       \n"
       ]
      },
      {
       "output_type": "stream",
       "stream": "stdout",
       "text": [
        "0xf80002689640 M    1810  ntoskrnl.exe!ZwClose (nt!ZwClose)                 \n"
       ]
      },
      {
       "output_type": "stream",
       "stream": "stdout",
       "text": [
        "0xf80002689bc0 M    1811  ntoskrnl.exe!ZwCloseObjectAuditAlarm (nt!ZwCloseObjectAuditAlarm)\n"
       ]
      },
      {
       "output_type": "stream",
       "stream": "stdout",
       "text": [
        "0xf8000268a5c0 M    1812  ntoskrnl.exe!ZwCommitComplete (nt!ZwCommitComplete)\n"
       ]
      },
      {
       "output_type": "stream",
       "stream": "stdout",
       "text": [
        "0xf8000268a5e0 M    1813  ntoskrnl.exe!ZwCommitEnlistment (nt!ZwCommitEnlistment)\n"
       ]
      },
      {
       "output_type": "stream",
       "stream": "stdout",
       "text": [
        "0xf8000268a600 M    1814  ntoskrnl.exe!ZwCommitTransaction (nt!ZwCommitTransaction)\n"
       ]
      },
      {
       "output_type": "stream",
       "stream": "stdout",
       "text": [
        "0xf8000268a6a0 M    1815  ntoskrnl.exe!ZwConnectPort (nt!ZwConnectPort)     \n"
       ]
      },
      {
       "output_type": "stream",
       "stream": "stdout",
       "text": [
        "0xf8000268a6e0 M    1816  ntoskrnl.exe!ZwCreateDirectoryObject (nt!ZwCreateDirectoryObject)\n"
       ]
      },
      {
       "output_type": "stream",
       "stream": "stdout",
       "text": [
        "0xf8000268a700 M    1817  ntoskrnl.exe!ZwCreateEnlistment (nt!ZwCreateEnlistment)\n"
       ]
      },
      {
       "output_type": "stream",
       "stream": "stdout",
       "text": [
        "0xf80002689d60 M    1818  ntoskrnl.exe!ZwCreateEvent (nt!ZwCreateEvent)     \n"
       ]
      },
      {
       "output_type": "stream",
       "stream": "stdout",
       "text": [
        "0xf80002689f00 M    1819  ntoskrnl.exe!ZwCreateFile (nt!ZwCreateFile)       \n"
       ]
      },
      {
       "output_type": "stream",
       "stream": "stdout",
       "text": [
        "0xf8000268a740 M    1820  ntoskrnl.exe!ZwCreateIoCompletion (nt!ZwCreateIoCompletion)\n"
       ]
      },
      {
       "output_type": "stream",
       "stream": "stdout",
       "text": [
        "0xf8000268a760 M    1821  ntoskrnl.exe!ZwCreateJobObject (nt!ZwCreateJobObject)\n"
       ]
      },
      {
       "output_type": "stream",
       "stream": "stdout",
       "text": [
        "0xf80002689800 M    1822  ntoskrnl.exe!ZwCreateKey (nt!ZwCreateKey)         \n"
       ]
      },
      {
       "output_type": "stream",
       "stream": "stdout",
       "text": [
        "0xf8000268a7a0 M    1823  ntoskrnl.exe!ZwCreateKeyTransacted (nt!ZwCreateKeyTransacted)\n"
       ]
      },
      {
       "output_type": "stream",
       "stream": "stdout",
       "text": [
        "0xf8000268a900 M    1824  ntoskrnl.exe!ZwCreateResourceManager (nt!ZwCreateResourceManager)\n"
       ]
      },
      {
       "output_type": "stream",
       "stream": "stdout",
       "text": [
        "0xf80002689da0 M    1825  ntoskrnl.exe!ZwCreateSection (nt!ZwCreateSection) \n"
       ]
      },
      {
       "output_type": "stream",
       "stream": "stdout",
       "text": [
        "0xf8000268a940 M    1826  ntoskrnl.exe!ZwCreateSymbolicLinkObject (nt!ZwCreateSymbolicLinkObject)\n"
       ]
      },
      {
       "output_type": "stream",
       "stream": "stdout",
       "text": [
        "0xf8000268a980 M    1827  ntoskrnl.exe!ZwCreateTimer (nt!ZwCreateTimer)     \n"
       ]
      },
      {
       "output_type": "stream",
       "stream": "stdout",
       "text": [
        "0xf8000268a9c0 M    1828  ntoskrnl.exe!ZwCreateTransaction (nt!ZwCreateTransaction)\n"
       ]
      },
      {
       "output_type": "stream",
       "stream": "stdout",
       "text": [
        "0xf8000268a9e0 M    1829  ntoskrnl.exe!ZwCreateTransactionManager (nt!ZwCreateTransactionManager)\n"
       ]
      },
      {
       "output_type": "stream",
       "stream": "stdout",
       "text": [
        "0xf8000268aac0 M    1830  ntoskrnl.exe!ZwDeleteBootEntry (nt!ZwDeleteBootEntry)\n"
       ]
      },
      {
       "output_type": "stream",
       "stream": "stdout",
       "text": [
        "0xf8000268aae0 M    1831  ntoskrnl.exe!ZwDeleteDriverEntry (nt!ZwDeleteDriverEntry)\n"
       ]
      },
      {
       "output_type": "stream",
       "stream": "stdout",
       "text": [
        "0xf8000268ab00 M    1832  ntoskrnl.exe!ZwDeleteFile (nt!ZwDeleteFile)       \n"
       ]
      },
      {
       "output_type": "stream",
       "stream": "stdout",
       "text": [
        "0xf8000268ab20 M    1833  ntoskrnl.exe!ZwDeleteKey (nt!ZwDeleteKey)         \n"
       ]
      },
      {
       "output_type": "stream",
       "stream": "stdout",
       "text": [
        "0xf8000268ab80 M    1834  ntoskrnl.exe!ZwDeleteValueKey (nt!ZwDeleteValueKey)\n"
       ]
      },
      {
       "output_type": "stream",
       "stream": "stdout",
       "text": [
        "0xf80002689540 M    1835  ntoskrnl.exe!ZwDeviceIoControlFile (nt!ZwDeviceIoControlFile)\n"
       ]
      },
      {
       "output_type": "stream",
       "stream": "stdout",
       "text": [
        "0xf8000268abc0 M    1836  ntoskrnl.exe!ZwDisplayString (nt!ZwDisplayString) \n"
       ]
      },
      {
       "output_type": "stream",
       "stream": "stdout",
       "text": [
        "0xf80002689be0 M    1837  ntoskrnl.exe!ZwDuplicateObject (nt!ZwDuplicateObject)\n"
       ]
      },
      {
       "output_type": "stream",
       "stream": "stdout",
       "text": [
        "0xf80002689ca0 M    1838  ntoskrnl.exe!ZwDuplicateToken (nt!ZwDuplicateToken)\n"
       ]
      },
      {
       "output_type": "stream",
       "stream": "stdout",
       "text": [
        "0xf8000268ac20 M    1839  ntoskrnl.exe!ZwEnumerateBootEntries (nt!ZwEnumerateBootEntries)\n"
       ]
      },
      {
       "output_type": "stream",
       "stream": "stdout",
       "text": [
        "0xf8000268ac40 M    1840  ntoskrnl.exe!ZwEnumerateDriverEntries (nt!ZwEnumerateDriverEntries)\n"
       ]
      },
      {
       "output_type": "stream",
       "stream": "stdout",
       "text": [
        "0xf80002689aa0 M    1841  ntoskrnl.exe!ZwEnumerateKey (nt!ZwEnumerateKey)   \n"
       ]
      },
      {
       "output_type": "stream",
       "stream": "stdout",
       "text": [
        "0xf8000268ac80 M    1842  ntoskrnl.exe!ZwEnumerateTransactionObject (nt!ZwEnumerateTransactionObject)\n"
       ]
      },
      {
       "output_type": "stream",
       "stream": "stdout",
       "text": [
        "0xf800026896c0 M    1843  ntoskrnl.exe!ZwEnumerateValueKey (nt!ZwEnumerateValueKey)\n"
       ]
      },
      {
       "output_type": "stream",
       "stream": "stdout",
       "text": [
        "0xf80002689dc0 M    1844  ntoskrnl.exe!ZwFlushBuffersFile (nt!ZwFlushBuffersFile)\n"
       ]
      },
      {
       "output_type": "stream",
       "stream": "stdout",
       "text": [
        "0xf8000268ad00 M    1845  ntoskrnl.exe!ZwFlushInstructionCache (nt!ZwFlushInstructionCache)\n"
       ]
      },
      {
       "output_type": "stream",
       "stream": "stdout",
       "text": [
        "0xf8000268ad20 M    1846  ntoskrnl.exe!ZwFlushKey (nt!ZwFlushKey)           \n"
       ]
      },
      {
       "output_type": "stream",
       "stream": "stdout",
       "text": [
        "0xf8000268ad60 M    1847  ntoskrnl.exe!ZwFlushVirtualMemory (nt!ZwFlushVirtualMemory)\n"
       ]
      },
      {
       "output_type": "stream",
       "stream": "stdout",
       "text": [
        "0xf80002689820 M    1848  ntoskrnl.exe!ZwFreeVirtualMemory (nt!ZwFreeVirtualMemory)\n"
       ]
      },
      {
       "output_type": "stream",
       "stream": "stdout",
       "text": [
        "0xf80002689b80 M    1849  ntoskrnl.exe!ZwFsControlFile (nt!ZwFsControlFile) \n"
       ]
      },
      {
       "output_type": "stream",
       "stream": "stdout",
       "text": [
        "0xf8000268aee0 M    1850  ntoskrnl.exe!ZwGetNotificationResourceManager (nt!ZwGetNotificationResourceManager)\n"
       ]
      },
      {
       "output_type": "stream",
       "stream": "stdout",
       "text": [
        "0xf8000268af40 M    1851  ntoskrnl.exe!ZwImpersonateAnonymousToken (nt!ZwImpersonateAnonymousToken)\n"
       ]
      },
      {
       "output_type": "stream",
       "stream": "stdout",
       "text": [
        "0xf8000268afc0 M    1852  ntoskrnl.exe!ZwInitiatePowerAction (nt!ZwInitiatePowerAction)\n"
       ]
      },
      {
       "output_type": "stream",
       "stream": "stdout",
       "text": [
        "0xf80002689e40 M    1853  ntoskrnl.exe!ZwIsProcessInJob (nt!ZwIsProcessInJob)\n"
       ]
      },
      {
       "output_type": "stream",
       "stream": "stdout",
       "text": [
        "0xf8000268b040 M    1854  ntoskrnl.exe!ZwLoadDriver (nt!ZwLoadDriver)       \n"
       ]
      },
      {
       "output_type": "stream",
       "stream": "stdout",
       "text": [
        "0xf8000268b060 M    1855  ntoskrnl.exe!ZwLoadKey (nt!ZwLoadKey)             \n"
       ]
      },
      {
       "output_type": "stream",
       "stream": "stdout",
       "text": [
        "0xf8000268b0a0 M    1856  ntoskrnl.exe!ZwLoadKeyEx (nt!ZwLoadKeyEx)         \n"
       ]
      },
      {
       "output_type": "stream",
       "stream": "stdout",
       "text": [
        "0xf8000268b0c0 M    1857  ntoskrnl.exe!ZwLockFile (nt!ZwLockFile)           \n"
       ]
      },
      {
       "output_type": "stream",
       "stream": "stdout",
       "text": [
        "0xf8000268b0e0 M    1858  ntoskrnl.exe!ZwLockProductActivationKeys (nt!ZwLockProductActivationKeys)\n"
       ]
      },
      {
       "output_type": "stream",
       "stream": "stdout",
       "text": [
        "0xf8000268b160 M    1859  ntoskrnl.exe!ZwMakeTemporaryObject (nt!ZwMakeTemporaryObject)\n"
       ]
      },
      {
       "output_type": "stream",
       "stream": "stdout",
       "text": [
        "0xf80002689960 M    1860  ntoskrnl.exe!ZwMapViewOfSection (nt!ZwMapViewOfSection)\n"
       ]
      },
      {
       "output_type": "stream",
       "stream": "stdout",
       "text": [
        "0xf8000268b1c0 M    1861  ntoskrnl.exe!ZwModifyBootEntry (nt!ZwModifyBootEntry)\n"
       ]
      },
      {
       "output_type": "stream",
       "stream": "stdout",
       "text": [
        "0xf8000268b1e0 M    1862  ntoskrnl.exe!ZwModifyDriverEntry (nt!ZwModifyDriverEntry)\n"
       ]
      },
      {
       "output_type": "stream",
       "stream": "stdout",
       "text": [
        "0xf8000268b220 M    1863  ntoskrnl.exe!ZwNotifyChangeKey (nt!ZwNotifyChangeKey)\n"
       ]
      },
      {
       "output_type": "stream",
       "stream": "stdout",
       "text": [
        "0xf8000268b260 M    1864  ntoskrnl.exe!ZwNotifyChangeSession (nt!ZwNotifyChangeSession)\n"
       ]
      },
      {
       "output_type": "stream",
       "stream": "stdout",
       "text": [
        "0xf80002689f60 M    1865  ntoskrnl.exe!ZwOpenDirectoryObject (nt!ZwOpenDirectoryObject)\n"
       ]
      },
      {
       "output_type": "stream",
       "stream": "stdout",
       "text": [
        "0xf8000268b280 M    1866  ntoskrnl.exe!ZwOpenEnlistment (nt!ZwOpenEnlistment)\n"
       ]
      },
      {
       "output_type": "stream",
       "stream": "stdout",
       "text": [
        "0xf80002689c60 M    1867  ntoskrnl.exe!ZwOpenEvent (nt!ZwOpenEvent)         \n"
       ]
      },
      {
       "output_type": "stream",
       "stream": "stdout",
       "text": [
        "0xf80002689ac0 M    1868  ntoskrnl.exe!ZwOpenFile (nt!ZwOpenFile)           \n"
       ]
      },
      {
       "output_type": "stream",
       "stream": "stdout",
       "text": [
        "0xf8000268b2e0 M    1869  ntoskrnl.exe!ZwOpenJobObject (nt!ZwOpenJobObject) \n"
       ]
      },
      {
       "output_type": "stream",
       "stream": "stdout",
       "text": [
        "0xf800026896a0 M    1870  ntoskrnl.exe!ZwOpenKey (nt!ZwOpenKey)             \n"
       ]
      },
      {
       "output_type": "stream",
       "stream": "stdout",
       "text": [
        "0xf8000268b300 M    1871  ntoskrnl.exe!ZwOpenKeyEx (nt!ZwOpenKeyEx)         \n"
       ]
      },
      {
       "output_type": "stream",
       "stream": "stdout",
       "text": [
        "0xf8000268b320 M    1872  ntoskrnl.exe!ZwOpenKeyTransacted (nt!ZwOpenKeyTransacted)\n"
       ]
      },
      {
       "output_type": "stream",
       "stream": "stdout",
       "text": [
        "0xf8000268b340 M    1873  ntoskrnl.exe!ZwOpenKeyTransactedEx (nt!ZwOpenKeyTransactedEx)\n"
       ]
      },
      {
       "output_type": "stream",
       "stream": "stdout",
       "text": [
        "0xf80002689920 M    1874  ntoskrnl.exe!ZwOpenProcess (nt!ZwOpenProcess)     \n"
       ]
      },
      {
       "output_type": "stream",
       "stream": "stdout",
       "text": [
        "0xf8000268b3e0 M    1875  ntoskrnl.exe!ZwOpenProcessToken (nt!ZwOpenProcessToken)\n"
       ]
      },
      {
       "output_type": "stream",
       "stream": "stdout",
       "text": [
        "0xf80002689a60 M    1876  ntoskrnl.exe!ZwOpenProcessTokenEx (nt!ZwOpenProcessTokenEx)\n"
       ]
      },
      {
       "output_type": "stream",
       "stream": "stdout",
       "text": [
        "0xf8000268b400 M    1877  ntoskrnl.exe!ZwOpenResourceManager (nt!ZwOpenResourceManager)\n"
       ]
      },
      {
       "output_type": "stream",
       "stream": "stdout",
       "text": [
        "0xf80002689b40 M    1878  ntoskrnl.exe!ZwOpenSection (nt!ZwOpenSection)     \n"
       ]
      },
      {
       "output_type": "stream",
       "stream": "stdout",
       "text": [
        "0xf8000268b440 M    1879  ntoskrnl.exe!ZwOpenSession (nt!ZwOpenSession)     \n"
       ]
      },
      {
       "output_type": "stream",
       "stream": "stdout",
       "text": [
        "0xf8000268b460 M    1880  ntoskrnl.exe!ZwOpenSymbolicLinkObject (nt!ZwOpenSymbolicLinkObject)\n"
       ]
      },
      {
       "output_type": "stream",
       "stream": "stdout",
       "text": [
        "0xf8000268b480 M    1881  ntoskrnl.exe!ZwOpenThread (nt!ZwOpenThread)       \n"
       ]
      },
      {
       "output_type": "stream",
       "stream": "stdout",
       "text": [
        "0xf800026898e0 M    1882  ntoskrnl.exe!ZwOpenThreadToken (nt!ZwOpenThreadToken)\n"
       ]
      },
      {
       "output_type": "stream",
       "stream": "stdout",
       "text": [
        "0xf80002689a40 M    1883  ntoskrnl.exe!ZwOpenThreadTokenEx (nt!ZwOpenThreadTokenEx)\n"
       ]
      },
      {
       "output_type": "stream",
       "stream": "stdout",
       "text": [
        "0xf8000268b4a0 M    1884  ntoskrnl.exe!ZwOpenTimer (nt!ZwOpenTimer)         \n"
       ]
      },
      {
       "output_type": "stream",
       "stream": "stdout",
       "text": [
        "0xf8000268b4c0 M    1885  ntoskrnl.exe!ZwOpenTransaction (nt!ZwOpenTransaction)\n"
       ]
      },
      {
       "output_type": "stream",
       "stream": "stdout",
       "text": [
        "0xf8000268b4e0 M    1886  ntoskrnl.exe!ZwOpenTransactionManager (nt!ZwOpenTransactionManager)\n"
       ]
      },
      {
       "output_type": "stream",
       "stream": "stdout",
       "text": [
        "0xf8000268a040 M    1887  ntoskrnl.exe!ZwPowerInformation (nt!ZwPowerInformation)\n"
       ]
      },
      {
       "output_type": "stream",
       "stream": "stdout",
       "text": [
        "0xf8000268b520 M    1888  ntoskrnl.exe!ZwPrePrepareComplete (nt!ZwPrePrepareComplete)\n"
       ]
      },
      {
       "output_type": "stream",
       "stream": "stdout",
       "text": [
        "0xf8000268b540 M    1889  ntoskrnl.exe!ZwPrePrepareEnlistment (nt!ZwPrePrepareEnlistment)\n"
       ]
      },
      {
       "output_type": "stream",
       "stream": "stdout",
       "text": [
        "0xf8000268b560 M    1890  ntoskrnl.exe!ZwPrepareComplete (nt!ZwPrepareComplete)\n"
       ]
      },
      {
       "output_type": "stream",
       "stream": "stdout",
       "text": [
        "0xf8000268b580 M    1891  ntoskrnl.exe!ZwPrepareEnlistment (nt!ZwPrepareEnlistment)\n"
       ]
      },
      {
       "output_type": "stream",
       "stream": "stdout",
       "text": [
        "0xf8000268b600 M    1892  ntoskrnl.exe!ZwPropagationComplete (nt!ZwPropagationComplete)\n"
       ]
      },
      {
       "output_type": "stream",
       "stream": "stdout",
       "text": [
        "0xf8000268b620 M    1893  ntoskrnl.exe!ZwPropagationFailed (nt!ZwPropagationFailed)\n"
       ]
      },
      {
       "output_type": "stream",
       "stream": "stdout",
       "text": [
        "0xf8000268b640 M    1894  ntoskrnl.exe!ZwPulseEvent (nt!ZwPulseEvent)       \n"
       ]
      },
      {
       "output_type": "stream",
       "stream": "stdout",
       "text": [
        "0xf8000268b660 M    1895  ntoskrnl.exe!ZwQueryBootEntryOrder (nt!ZwQueryBootEntryOrder)\n"
       ]
      },
      {
       "output_type": "stream",
       "stream": "stdout",
       "text": [
        "0xf8000268b680 M    1896  ntoskrnl.exe!ZwQueryBootOptions (nt!ZwQueryBootOptions)\n"
       ]
      },
      {
       "output_type": "stream",
       "stream": "stdout",
       "text": [
        "0xf80002689700 M    1897  ntoskrnl.exe!ZwQueryDefaultLocale (nt!ZwQueryDefaultLocale)\n"
       ]
      },
      {
       "output_type": "stream",
       "stream": "stdout",
       "text": [
        "0xf80002689ce0 M    1898  ntoskrnl.exe!ZwQueryDefaultUILanguage (nt!ZwQueryDefaultUILanguage)\n"
       ]
      },
      {
       "output_type": "stream",
       "stream": "stdout",
       "text": [
        "0xf80002689b00 M    1899  ntoskrnl.exe!ZwQueryDirectoryFile (nt!ZwQueryDirectoryFile)\n"
       ]
      },
      {
       "output_type": "stream",
       "stream": "stdout",
       "text": [
        "0xf8000268b6c0 M    1900  ntoskrnl.exe!ZwQueryDirectoryObject (nt!ZwQueryDirectoryObject)\n"
       ]
      },
      {
       "output_type": "stream",
       "stream": "stdout",
       "text": [
        "0xf8000268b6e0 M    1901  ntoskrnl.exe!ZwQueryDriverEntryOrder (nt!ZwQueryDriverEntryOrder)\n"
       ]
      },
      {
       "output_type": "stream",
       "stream": "stdout",
       "text": [
        "0xf8000268b700 M    1902  ntoskrnl.exe!ZwQueryEaFile (nt!ZwQueryEaFile)     \n"
       ]
      },
      {
       "output_type": "stream",
       "stream": "stdout",
       "text": [
        "0xf8000268b720 M    1903  ntoskrnl.exe!ZwQueryFullAttributesFile (nt!ZwQueryFullAttributesFile)\n"
       ]
      },
      {
       "output_type": "stream",
       "stream": "stdout",
       "text": [
        "0xf8000268b760 M    1904  ntoskrnl.exe!ZwQueryInformationEnlistment (nt!ZwQueryInformationEnlistment)\n"
       ]
      },
      {
       "output_type": "stream",
       "stream": "stdout",
       "text": [
        "0xf80002689680 M    1905  ntoskrnl.exe!ZwQueryInformationFile (nt!ZwQueryInformationFile)\n"
       ]
      },
      {
       "output_type": "stream",
       "stream": "stdout",
       "text": [
        "0xf8000268b780 M    1906  ntoskrnl.exe!ZwQueryInformationJobObject (nt!ZwQueryInformationJobObject)\n"
       ]
      },
      {
       "output_type": "stream",
       "stream": "stdout",
       "text": [
        "0xf80002689780 M    1907  ntoskrnl.exe!ZwQueryInformationProcess (nt!ZwQueryInformationProcess)\n"
       ]
      },
      {
       "output_type": "stream",
       "stream": "stdout",
       "text": [
        "0xf8000268b7c0 M    1908  ntoskrnl.exe!ZwQueryInformationResourceManager (nt!ZwQueryInformationResourceManager)\n"
       ]
      },
      {
       "output_type": "stream",
       "stream": "stdout",
       "text": [
        "0xf80002689900 M    1909  ntoskrnl.exe!ZwQueryInformationThread (nt!ZwQueryInformationThread)\n"
       ]
      },
      {
       "output_type": "stream",
       "stream": "stdout",
       "text": [
        "0xf80002689880 M    1910  ntoskrnl.exe!ZwQueryInformationToken (nt!ZwQueryInformationToken)\n"
       ]
      },
      {
       "output_type": "stream",
       "stream": "stdout",
       "text": [
        "0xf8000268b7e0 M    1911  ntoskrnl.exe!ZwQueryInformationTransaction (nt!ZwQueryInformationTransaction)\n"
       ]
      },
      {
       "output_type": "stream",
       "stream": "stdout",
       "text": [
        "0xf8000268b800 M    1912  ntoskrnl.exe!ZwQueryInformationTransactionManager (nt!ZwQueryInformationTransactionManager)\n"
       ]
      },
      {
       "output_type": "stream",
       "stream": "stdout",
       "text": [
        "0xf8000268b840 M    1913  ntoskrnl.exe!ZwQueryInstallUILanguage (nt!ZwQueryInstallUILanguage)\n"
       ]
      },
      {
       "output_type": "stream",
       "stream": "stdout",
       "text": [
        "0xf80002689720 M    1914  ntoskrnl.exe!ZwQueryKey (nt!ZwQueryKey)           \n"
       ]
      },
      {
       "output_type": "stream",
       "stream": "stdout",
       "text": [
        "0xf8000268b8a0 M    1915  ntoskrnl.exe!ZwQueryLicenseValue (nt!ZwQueryLicenseValue)\n"
       ]
      },
      {
       "output_type": "stream",
       "stream": "stdout",
       "text": [
        "0xf80002689660 M    1916  ntoskrnl.exe!ZwQueryObject (nt!ZwQueryObject)     \n"
       ]
      },
      {
       "output_type": "stream",
       "stream": "stdout",
       "text": [
        "0xf8000268b960 M    1917  ntoskrnl.exe!ZwQueryQuotaInformationFile (nt!ZwQueryQuotaInformationFile)\n"
       ]
      },
      {
       "output_type": "stream",
       "stream": "stdout",
       "text": [
        "0xf80002689e80 M    1918  ntoskrnl.exe!ZwQuerySection (nt!ZwQuerySection)   \n"
       ]
      },
      {
       "output_type": "stream",
       "stream": "stdout",
       "text": [
        "0xf8000268b980 M    1919  ntoskrnl.exe!ZwQuerySecurityAttributesToken (nt!ZwQuerySecurityAttributesToken)\n"
       ]
      },
      {
       "output_type": "stream",
       "stream": "stdout",
       "text": [
        "0xf8000268b9a0 M    1920  ntoskrnl.exe!ZwQuerySecurityObject (nt!ZwQuerySecurityObject)\n"
       ]
      },
      {
       "output_type": "stream",
       "stream": "stdout",
       "text": [
        "0xf8000268b9e0 M    1921  ntoskrnl.exe!ZwQuerySymbolicLinkObject (nt!ZwQuerySymbolicLinkObject)\n"
       ]
      },
      {
       "output_type": "stream",
       "stream": "stdout",
       "text": [
        "0xf80002689b20 M    1922  ntoskrnl.exe!ZwQuerySystemInformation (nt!ZwQuerySystemInformation)\n"
       ]
      },
      {
       "output_type": "stream",
       "stream": "stdout",
       "text": [
        "0xf80002689740 M    1923  ntoskrnl.exe!ZwQueryValueKey (nt!ZwQueryValueKey) \n"
       ]
      },
      {
       "output_type": "stream",
       "stream": "stdout",
       "text": [
        "0xf800026898c0 M    1924  ntoskrnl.exe!ZwQueryVirtualMemory (nt!ZwQueryVirtualMemory)\n"
       ]
      },
      {
       "output_type": "stream",
       "stream": "stdout",
       "text": [
        "0xf80002689d80 M    1925  ntoskrnl.exe!ZwQueryVolumeInformationFile (nt!ZwQueryVolumeInformationFile)\n"
       ]
      },
      {
       "output_type": "stream",
       "stream": "stdout",
       "text": [
        "0xf80002689520 M    1926  ntoskrnl.exe!ZwReadFile (nt!ZwReadFile)           \n"
       ]
      },
      {
       "output_type": "stream",
       "stream": "stdout",
       "text": [
        "0xf8000268bae0 M    1927  ntoskrnl.exe!ZwReadOnlyEnlistment (nt!ZwReadOnlyEnlistment)\n"
       ]
      },
      {
       "output_type": "stream",
       "stream": "stdout",
       "text": [
        "0xf8000268bb00 M    1928  ntoskrnl.exe!ZwRecoverEnlistment (nt!ZwRecoverEnlistment)\n"
       ]
      },
      {
       "output_type": "stream",
       "stream": "stdout",
       "text": [
        "0xf8000268bb20 M    1929  ntoskrnl.exe!ZwRecoverResourceManager (nt!ZwRecoverResourceManager)\n"
       ]
      },
      {
       "output_type": "stream",
       "stream": "stdout",
       "text": [
        "0xf8000268bb40 M    1930  ntoskrnl.exe!ZwRecoverTransactionManager (nt!ZwRecoverTransactionManager)\n"
       ]
      },
      {
       "output_type": "stream",
       "stream": "stdout",
       "text": [
        "0xf80002689580 M    1931  ntoskrnl.exe!ZwRemoveIoCompletion (nt!ZwRemoveIoCompletion)\n"
       ]
      },
      {
       "output_type": "stream",
       "stream": "stdout",
       "text": [
        "0xf8000268bbe0 M    1932  ntoskrnl.exe!ZwRemoveIoCompletionEx (nt!ZwRemoveIoCompletionEx)\n"
       ]
      },
      {
       "output_type": "stream",
       "stream": "stdout",
       "text": [
        "0xf8000268bc60 M    1933  ntoskrnl.exe!ZwReplaceKey (nt!ZwReplaceKey)       \n"
       ]
      },
      {
       "output_type": "stream",
       "stream": "stdout",
       "text": [
        "0xf8000268bcc0 M    1934  ntoskrnl.exe!ZwRequestPort (nt!ZwRequestPort)     \n"
       ]
      },
      {
       "output_type": "stream",
       "stream": "stdout",
       "text": [
        "0xf800026898a0 M    1935  ntoskrnl.exe!ZwRequestWaitReplyPort (nt!ZwRequestWaitReplyPort)\n"
       ]
      },
      {
       "output_type": "stream",
       "stream": "stdout",
       "text": [
        "0xf8000268bce0 M    1936  ntoskrnl.exe!ZwResetEvent (nt!ZwResetEvent)       \n"
       ]
      },
      {
       "output_type": "stream",
       "stream": "stdout",
       "text": [
        "0xf8000268bd20 M    1937  ntoskrnl.exe!ZwRestoreKey (nt!ZwRestoreKey)       \n"
       ]
      },
      {
       "output_type": "stream",
       "stream": "stdout",
       "text": [
        "0xf8000268bd60 M    1938  ntoskrnl.exe!ZwRollbackComplete (nt!ZwRollbackComplete)\n"
       ]
      },
      {
       "output_type": "stream",
       "stream": "stdout",
       "text": [
        "0xf8000268bd80 M    1939  ntoskrnl.exe!ZwRollbackEnlistment (nt!ZwRollbackEnlistment)\n"
       ]
      },
      {
       "output_type": "stream",
       "stream": "stdout",
       "text": [
        "0xf8000268bda0 M    1940  ntoskrnl.exe!ZwRollbackTransaction (nt!ZwRollbackTransaction)\n"
       ]
      },
      {
       "output_type": "stream",
       "stream": "stdout",
       "text": [
        "0xf8000268bde0 M    1941  ntoskrnl.exe!ZwSaveKey (nt!ZwSaveKey)             \n"
       ]
      },
      {
       "output_type": "stream",
       "stream": "stdout",
       "text": [
        "0xf8000268be00 M    1942  ntoskrnl.exe!ZwSaveKeyEx (nt!ZwSaveKeyEx)         \n"
       ]
      },
      {
       "output_type": "stream",
       "stream": "stdout",
       "text": [
        "0xf8000268be40 M    1943  ntoskrnl.exe!ZwSecureConnectPort (nt!ZwSecureConnectPort)\n"
       ]
      },
      {
       "output_type": "stream",
       "stream": "stdout",
       "text": [
        "0xf8000268be80 M    1944  ntoskrnl.exe!ZwSetBootEntryOrder (nt!ZwSetBootEntryOrder)\n"
       ]
      },
      {
       "output_type": "stream",
       "stream": "stdout",
       "text": [
        "0xf8000268bea0 M    1945  ntoskrnl.exe!ZwSetBootOptions (nt!ZwSetBootOptions)\n"
       ]
      },
      {
       "output_type": "stream",
       "stream": "stdout",
       "text": [
        "0xf8000268bf20 M    1946  ntoskrnl.exe!ZwSetDefaultLocale (nt!ZwSetDefaultLocale)\n"
       ]
      },
      {
       "output_type": "stream",
       "stream": "stdout",
       "text": [
        "0xf8000268bf40 M    1947  ntoskrnl.exe!ZwSetDefaultUILanguage (nt!ZwSetDefaultUILanguage)\n"
       ]
      },
      {
       "output_type": "stream",
       "stream": "stdout",
       "text": [
        "0xf8000268bf60 M    1948  ntoskrnl.exe!ZwSetDriverEntryOrder (nt!ZwSetDriverEntryOrder)\n"
       ]
      },
      {
       "output_type": "stream",
       "stream": "stdout",
       "text": [
        "0xf8000268bf80 M    1949  ntoskrnl.exe!ZwSetEaFile (nt!ZwSetEaFile)         \n"
       ]
      },
      {
       "output_type": "stream",
       "stream": "stdout",
       "text": [
        "0xf80002689620 M    1950  ntoskrnl.exe!ZwSetEvent (nt!ZwSetEvent)           \n"
       ]
      },
      {
       "output_type": "stream",
       "stream": "stdout",
       "text": [
        "0xf8000268c000 M    1951  ntoskrnl.exe!ZwSetInformationEnlistment (nt!ZwSetInformationEnlistment)\n"
       ]
      },
      {
       "output_type": "stream",
       "stream": "stdout",
       "text": [
        "0xf80002689940 M    1952  ntoskrnl.exe!ZwSetInformationFile (nt!ZwSetInformationFile)\n"
       ]
      },
      {
       "output_type": "stream",
       "stream": "stdout",
       "text": [
        "0xf8000268c020 M    1953  ntoskrnl.exe!ZwSetInformationJobObject (nt!ZwSetInformationJobObject)\n"
       ]
      },
      {
       "output_type": "stream",
       "stream": "stdout",
       "text": [
        "0xf80002689fe0 M    1954  ntoskrnl.exe!ZwSetInformationObject (nt!ZwSetInformationObject)\n"
       ]
      },
      {
       "output_type": "stream",
       "stream": "stdout",
       "text": [
        "0xf800026897e0 M    1955  ntoskrnl.exe!ZwSetInformationProcess (nt!ZwSetInformationProcess)\n"
       ]
      },
      {
       "output_type": "stream",
       "stream": "stdout",
       "text": [
        "0xf8000268c060 M    1956  ntoskrnl.exe!ZwSetInformationResourceManager (nt!ZwSetInformationResourceManager)\n"
       ]
      },
      {
       "output_type": "stream",
       "stream": "stdout",
       "text": [
        "0xf80002689600 M    1957  ntoskrnl.exe!ZwSetInformationThread (nt!ZwSetInformationThread)\n"
       ]
      },
      {
       "output_type": "stream",
       "stream": "stdout",
       "text": [
        "0xf8000268c080 M    1958  ntoskrnl.exe!ZwSetInformationToken (nt!ZwSetInformationToken)\n"
       ]
      },
      {
       "output_type": "stream",
       "stream": "stdout",
       "text": [
        "0xf8000268c0a0 M    1959  ntoskrnl.exe!ZwSetInformationTransaction (nt!ZwSetInformationTransaction)\n"
       ]
      },
      {
       "output_type": "stream",
       "stream": "stdout",
       "text": [
        "0xf8000268c1c0 M    1960  ntoskrnl.exe!ZwSetQuotaInformationFile (nt!ZwSetQuotaInformationFile)\n"
       ]
      },
      {
       "output_type": "stream",
       "stream": "stdout",
       "text": [
        "0xf8000268c1e0 M    1961  ntoskrnl.exe!ZwSetSecurityObject (nt!ZwSetSecurityObject)\n"
       ]
      },
      {
       "output_type": "stream",
       "stream": "stdout",
       "text": [
        "0xf8000268c240 M    1962  ntoskrnl.exe!ZwSetSystemInformation (nt!ZwSetSystemInformation)\n"
       ]
      },
      {
       "output_type": "stream",
       "stream": "stdout",
       "text": [
        "0xf8000268c280 M    1963  ntoskrnl.exe!ZwSetSystemTime (nt!ZwSetSystemTime) \n"
       ]
      },
      {
       "output_type": "stream",
       "stream": "stdout",
       "text": [
        "0xf8000268a0a0 M    1964  ntoskrnl.exe!ZwSetTimer (nt!ZwSetTimer)           \n"
       ]
      },
      {
       "output_type": "stream",
       "stream": "stdout",
       "text": [
        "0xf8000268c2c0 M    1965  ntoskrnl.exe!ZwSetTimerEx (nt!ZwSetTimerEx)       \n"
       ]
      },
      {
       "output_type": "stream",
       "stream": "stdout",
       "text": [
        "0xf8000268a060 M    1966  ntoskrnl.exe!ZwSetValueKey (nt!ZwSetValueKey)     \n"
       ]
      },
      {
       "output_type": "stream",
       "stream": "stdout",
       "text": [
        "0xf8000268c320 M    1967  ntoskrnl.exe!ZwSetVolumeInformationFile (nt!ZwSetVolumeInformationFile)\n"
       ]
      },
      {
       "output_type": "stream",
       "stream": "stdout",
       "text": [
        "0xf8000268c460 M    1968  ntoskrnl.exe!ZwTerminateJobObject (nt!ZwTerminateJobObject)\n"
       ]
      },
      {
       "output_type": "stream",
       "stream": "stdout",
       "text": [
        "0xf800026899e0 M    1969  ntoskrnl.exe!ZwTerminateProcess (nt!ZwTerminateProcess)\n"
       ]
      },
      {
       "output_type": "stream",
       "stream": "stdout",
       "text": [
        "0xf8000268a020 M    1970  ntoskrnl.exe!ZwTraceEvent (nt!ZwTraceEvent)       \n"
       ]
      },
      {
       "output_type": "stream",
       "stream": "stdout",
       "text": [
        "0xf8000268c500 M    1971  ntoskrnl.exe!ZwTranslateFilePath (nt!ZwTranslateFilePath)\n"
       ]
      },
      {
       "output_type": "stream",
       "stream": "stdout",
       "text": [
        "0xf8000268c540 M    1972  ntoskrnl.exe!ZwUnloadDriver (nt!ZwUnloadDriver)   \n"
       ]
      },
      {
       "output_type": "stream",
       "stream": "stdout",
       "text": [
        "0xf8000268c560 M    1973  ntoskrnl.exe!ZwUnloadKey (nt!ZwUnloadKey)         \n"
       ]
      },
      {
       "output_type": "stream",
       "stream": "stdout",
       "text": [
        "0xf8000268c5a0 M    1974  ntoskrnl.exe!ZwUnloadKeyEx (nt!ZwUnloadKeyEx)     \n"
       ]
      },
      {
       "output_type": "stream",
       "stream": "stdout",
       "text": [
        "0xf8000268c5c0 M    1975  ntoskrnl.exe!ZwUnlockFile (nt!ZwUnlockFile)       \n"
       ]
      },
      {
       "output_type": "stream",
       "stream": "stdout",
       "text": [
        "0xf800026899a0 M    1976  ntoskrnl.exe!ZwUnmapViewOfSection (nt!ZwUnmapViewOfSection)\n"
       ]
      },
      {
       "output_type": "stream",
       "stream": "stdout",
       "text": [
        "0xf80002689fc0 M    1977  ntoskrnl.exe!ZwWaitForMultipleObjects (nt!ZwWaitForMultipleObjects)\n"
       ]
      },
      {
       "output_type": "stream",
       "stream": "stdout",
       "text": [
        "0xf800026894e0 M    1978  ntoskrnl.exe!ZwWaitForSingleObject (nt!ZwWaitForSingleObject)\n"
       ]
      },
      {
       "output_type": "stream",
       "stream": "stdout",
       "text": [
        "0xf80002689560 M    1979  ntoskrnl.exe!ZwWriteFile (nt!ZwWriteFile)         \n"
       ]
      },
      {
       "output_type": "stream",
       "stream": "stdout",
       "text": [
        "0xf80002689d20 M    1980  ntoskrnl.exe!ZwYieldExecution (nt!ZwYieldExecution)\n"
       ]
      },
      {
       "output_type": "stream",
       "stream": "stdout",
       "text": [
        "0xf800026bf450 M    1981  ntoskrnl.exe!__C_specific_handler (nt!_C_specific_handler)\n"
       ]
      },
      {
       "output_type": "stream",
       "stream": "stdout",
       "text": [
        "0xf80002688fd0 M    1982  ntoskrnl.exe!__chkstk (nt!_chkstk)                \n"
       ]
      },
      {
       "output_type": "stream",
       "stream": "stdout",
       "text": [
        "0xf8000266eaf0 M    1983  ntoskrnl.exe!__misaligned_access (nt!xKdUnmapVirtualAddress)\n"
       ]
      },
      {
       "output_type": "stream",
       "stream": "stdout",
       "text": [
        "0xf800026e0394 M    1984  ntoskrnl.exe!_i64toa_s (nt!i64toa_s)              \n"
       ]
      },
      {
       "output_type": "stream",
       "stream": "stdout",
       "text": [
        "0xf800026e06a0 M    1985  ntoskrnl.exe!_i64tow_s (nt!i64tow_s)              \n"
       ]
      },
      {
       "output_type": "stream",
       "stream": "stdout",
       "text": [
        "0xf800026de64c M    1986  ntoskrnl.exe!_itoa (nt!itoa)                      \n"
       ]
      },
      {
       "output_type": "stream",
       "stream": "stdout",
       "text": [
        "0xf800026e020c M    1987  ntoskrnl.exe!_itoa_s (nt!itoa_s)                  \n"
       ]
      },
      {
       "output_type": "stream",
       "stream": "stdout",
       "text": [
        "0xf800026de6f0 M    1988  ntoskrnl.exe!_itow (nt!itow)                      \n"
       ]
      },
      {
       "output_type": "stream",
       "stream": "stdout",
       "text": [
        "0xf800026e0500 M    1989  ntoskrnl.exe!_itow_s (nt!itow_s)                  \n"
       ]
      },
      {
       "output_type": "stream",
       "stream": "stdout",
       "text": [
        "0xf80002687f90 M    1990  ntoskrnl.exe!_local_unwind (nt!local_unwind)      \n"
       ]
      },
      {
       "output_type": "stream",
       "stream": "stdout",
       "text": [
        "0xf800026e023c M    1991  ntoskrnl.exe!_ltoa_s (nt!ltoa_s)                  \n"
       ]
      },
      {
       "output_type": "stream",
       "stream": "stdout",
       "text": [
        "0xf800026e0530 M    1992  ntoskrnl.exe!_ltow_s (nt!ltow_s)                  \n"
       ]
      },
      {
       "output_type": "stream",
       "stream": "stdout",
       "text": [
        "0xf800026e06e8 M    1993  ntoskrnl.exe!_makepath_s (nt!makepath_s)          \n"
       ]
      },
      {
       "output_type": "stream",
       "stream": "stdout",
       "text": [
        "0xf80002785100 M    1994  ntoskrnl.exe!_purecall (nt!purecall)              \n"
       ]
      },
      {
       "output_type": "stream",
       "stream": "stdout",
       "text": [
        "0xf80002689260 M    1995  ntoskrnl.exe!_setjmp (nt!setjmp)                  \n"
       ]
      },
      {
       "output_type": "stream",
       "stream": "stdout",
       "text": [
        "0xf80002689310 M    1996  ntoskrnl.exe!_setjmpex (nt!setjmpex)              \n"
       ]
      },
      {
       "output_type": "stream",
       "stream": "stdout",
       "text": [
        "0xf800026de740 M    1997  ntoskrnl.exe!_snprintf (nt!snprintf)              \n"
       ]
      },
      {
       "output_type": "stream",
       "stream": "stdout",
       "text": [
        "0xf800026e08b8 M    1998  ntoskrnl.exe!_snprintf_s (nt!snprintf_s)          \n"
       ]
      },
      {
       "output_type": "stream",
       "stream": "stdout",
       "text": [
        "0xf800026e08dc M    1999  ntoskrnl.exe!_snscanf_s (nt!snscanf_s)            \n"
       ]
      },
      {
       "output_type": "stream",
       "stream": "stdout",
       "text": [
        "0xf800026de7ec M    2000  ntoskrnl.exe!_snwprintf (nt!snwprintf)            \n"
       ]
      },
      {
       "output_type": "stream",
       "stream": "stdout",
       "text": [
        "0xf8000262f124 M    2001  ntoskrnl.exe!_snwprintf_s (nt!snwprintf_s)        \n"
       ]
      },
      {
       "output_type": "stream",
       "stream": "stdout",
       "text": [
        "0xf800026e091c M    2002  ntoskrnl.exe!_snwscanf_s (nt!snwscanf_s)          \n"
       ]
      },
      {
       "output_type": "stream",
       "stream": "stdout",
       "text": [
        "0xf800026e095c M    2003  ntoskrnl.exe!_splitpath_s (nt!splitpath_s)        \n"
       ]
      },
      {
       "output_type": "stream",
       "stream": "stdout",
       "text": [
        "0xf8000263fc90 M    2004  ntoskrnl.exe!_stricmp (nt!stricmp)                \n"
       ]
      },
      {
       "output_type": "stream",
       "stream": "stdout",
       "text": [
        "0xf800026de8c8 M    2005  ntoskrnl.exe!_strlwr (nt!strlwr)                  \n"
       ]
      },
      {
       "output_type": "stream",
       "stream": "stdout",
       "text": [
        "0xf800026211ec M    2006  ntoskrnl.exe!_strnicmp (nt!strnicmp)              \n"
       ]
      },
      {
       "output_type": "stream",
       "stream": "stdout",
       "text": [
        "0xf800026de8f4 M    2007  ntoskrnl.exe!_strnset (nt!strnset)                \n"
       ]
      },
      {
       "output_type": "stream",
       "stream": "stdout",
       "text": [
        "0xf800026e0c0c M    2008  ntoskrnl.exe!_strnset_s (nt!strnset_s)            \n"
       ]
      },
      {
       "output_type": "stream",
       "stream": "stdout",
       "text": [
        "0xf800026de914 M    2009  ntoskrnl.exe!_strrev (nt!strrev)                  \n"
       ]
      },
      {
       "output_type": "stream",
       "stream": "stdout",
       "text": [
        "0xf800026de954 M    2010  ntoskrnl.exe!_strset (nt!strset)                  \n"
       ]
      },
      {
       "output_type": "stream",
       "stream": "stdout",
       "text": [
        "0xf800026e0ca0 M    2011  ntoskrnl.exe!_strset_s (nt!strset_s)              \n"
       ]
      },
      {
       "output_type": "stream",
       "stream": "stdout",
       "text": [
        "0xf800026debc8 M    2012  ntoskrnl.exe!_strtoui64 (nt!strtoui64)            \n"
       ]
      },
      {
       "output_type": "stream",
       "stream": "stdout",
       "text": [
        "0xf800026de570 M    2013  ntoskrnl.exe!_strupr (nt!strupr)                  \n"
       ]
      },
      {
       "output_type": "stream",
       "stream": "stdout",
       "text": [
        "0xf800026df2d0 M    2014  ntoskrnl.exe!_swprintf (nt!swprintf)              \n"
       ]
      },
      {
       "output_type": "stream",
       "stream": "stdout",
       "text": [
        "0xf800026e03c0 M    2015  ntoskrnl.exe!_ui64toa_s (nt!ui64toa_s)            \n"
       ]
      },
      {
       "output_type": "stream",
       "stream": "stdout",
       "text": [
        "0xf800026e06cc M    2016  ntoskrnl.exe!_ui64tow_s (nt!ui64tow_s)            \n"
       ]
      },
      {
       "output_type": "stream",
       "stream": "stdout",
       "text": [
        "0xf800026e0264 M    2017  ntoskrnl.exe!_ultoa_s (nt!ultoa_s)                \n"
       ]
      },
      {
       "output_type": "stream",
       "stream": "stdout",
       "text": [
        "0xf800026e0558 M    2018  ntoskrnl.exe!_ultow_s (nt!ultow_s)                \n"
       ]
      },
      {
       "output_type": "stream",
       "stream": "stdout",
       "text": [
        "0xf800026cfc88 M    2019  ntoskrnl.exe!_vsnprintf (nt!vsnprintf)            \n"
       ]
      },
      {
       "output_type": "stream",
       "stream": "stdout",
       "text": [
        "0xf800026e081c M    2020  ntoskrnl.exe!_vsnprintf_s (nt!vsnprintf_s)        \n"
       ]
      },
      {
       "output_type": "stream",
       "stream": "stdout",
       "text": [
        "0xf80002675294 M    2021  ntoskrnl.exe!_vsnwprintf (nt!vsnwprintf)          \n"
       ]
      },
      {
       "output_type": "stream",
       "stream": "stdout",
       "text": [
        "0xf8000262f148 M    2022  ntoskrnl.exe!_vsnwprintf_s (nt!vsnwprintf_s)      \n"
       ]
      },
      {
       "output_type": "stream",
       "stream": "stdout",
       "text": [
        "0xf800026dec9c M    2023  ntoskrnl.exe!_vswprintf (nt!vswprintf)            \n"
       ]
      },
      {
       "output_type": "stream",
       "stream": "stdout",
       "text": [
        "0xf800026619e0 M    2024  ntoskrnl.exe!_wcsicmp (nt!wcsicmp)                \n"
       ]
      },
      {
       "output_type": "stream",
       "stream": "stdout",
       "text": [
        "0xf800026decb0 M    2025  ntoskrnl.exe!_wcslwr (nt!wcslwr)                  \n"
       ]
      },
      {
       "output_type": "stream",
       "stream": "stdout",
       "text": [
        "0xf8000264f040 M    2026  ntoskrnl.exe!_wcsnicmp (nt!wcsnicmp)              \n"
       ]
      },
      {
       "output_type": "stream",
       "stream": "stdout",
       "text": [
        "0xf800026ded10 M    2027  ntoskrnl.exe!_wcsnset (nt!wcsnset)                \n"
       ]
      },
      {
       "output_type": "stream",
       "stream": "stdout",
       "text": [
        "0xf800026ded38 M    2028  ntoskrnl.exe!_wcsnset_s (nt!wcsnset_s)            \n"
       ]
      },
      {
       "output_type": "stream",
       "stream": "stdout",
       "text": [
        "0xf800026dedc8 M    2029  ntoskrnl.exe!_wcsrev (nt!wcsrev)                  \n"
       ]
      },
      {
       "output_type": "stream",
       "stream": "stdout",
       "text": [
        "0xf800026dee10 M    2030  ntoskrnl.exe!_wcsset_s (nt!wcsset_s)              \n"
       ]
      },
      {
       "output_type": "stream",
       "stream": "stdout",
       "text": [
        "0xf800026dee6c M    2031  ntoskrnl.exe!_wcsupr (nt!wcsupr)                  \n"
       ]
      },
      {
       "output_type": "stream",
       "stream": "stdout",
       "text": [
        "0xf800026e0cf8 M    2032  ntoskrnl.exe!_wmakepath_s (nt!wmakepath_s)        \n"
       ]
      },
      {
       "output_type": "stream",
       "stream": "stdout",
       "text": [
        "0xf800026e0e58 M    2033  ntoskrnl.exe!_wsplitpath_s (nt!wsplitpath_s)      \n"
       ]
      },
      {
       "output_type": "stream",
       "stream": "stdout",
       "text": [
        "0xf800026deed0 M    2034  ntoskrnl.exe!_wtoi (nt!wtoi)                      \n"
       ]
      },
      {
       "output_type": "stream",
       "stream": "stdout",
       "text": [
        "0xf800026deea8 M    2035  ntoskrnl.exe!_wtol (nt!wtol)                      \n"
       ]
      },
      {
       "output_type": "stream",
       "stream": "stdout",
       "text": [
        "0xf800026de5c0 M    2036  ntoskrnl.exe!atoi (nt!atoi)                       \n"
       ]
      },
      {
       "output_type": "stream",
       "stream": "stdout",
       "text": [
        "0xf8000263740c M    2037  ntoskrnl.exe!atol (nt!atol)                       \n"
       ]
      },
      {
       "output_type": "stream",
       "stream": "stdout",
       "text": [
        "0xf80002677918 M    2038  ntoskrnl.exe!bsearch (nt!bsearch)                 \n"
       ]
      },
      {
       "output_type": "stream",
       "stream": "stdout",
       "text": [
        "0xf800026def20 M    2039  ntoskrnl.exe!isdigit (nt!isdigit)                 \n"
       ]
      },
      {
       "output_type": "stream",
       "stream": "stdout",
       "text": [
        "0xf800026deefc M    2040  ntoskrnl.exe!islower (nt!islower)                 \n"
       ]
      },
      {
       "output_type": "stream",
       "stream": "stdout",
       "text": [
        "0xf800026def9c M    2041  ntoskrnl.exe!isprint (nt!isprint)                 \n"
       ]
      },
      {
       "output_type": "stream",
       "stream": "stdout",
       "text": [
        "0xf800026def78 M    2042  ntoskrnl.exe!isspace (nt!isspace)                 \n"
       ]
      },
      {
       "output_type": "stream",
       "stream": "stdout",
       "text": [
        "0xf800026deed8 M    2043  ntoskrnl.exe!isupper (nt!isupper)                 \n"
       ]
      },
      {
       "output_type": "stream",
       "stream": "stdout",
       "text": [
        "0xf800026def50 M    2044  ntoskrnl.exe!isxdigit (nt!isxdigit)               \n"
       ]
      },
      {
       "output_type": "stream",
       "stream": "stdout",
       "text": [
        "0xf800026893b0 M    2045  ntoskrnl.exe!longjmp (nt!longjmp)                 \n"
       ]
      },
      {
       "output_type": "stream",
       "stream": "stdout",
       "text": [
        "0xf800026defd8 M    2046  ntoskrnl.exe!mbstowcs (nt!mbstowcs)               \n"
       ]
      },
      {
       "output_type": "stream",
       "stream": "stdout",
       "text": [
        "0xf80002674550 M    2047  ntoskrnl.exe!mbtowc (nt!safecrt_mbtowc)           \n"
       ]
      },
      {
       "output_type": "stream",
       "stream": "stdout",
       "text": [
        "0xf800026df0a0 M    2048  ntoskrnl.exe!memchr (nt!memchr)                   \n"
       ]
      },
      {
       "output_type": "stream",
       "stream": "stdout",
       "text": [
        "0xf80002687fd0 M    2049  ntoskrnl.exe!memcmp (nt!memcmp)                   \n"
       ]
      },
      {
       "output_type": "stream",
       "stream": "stdout",
       "text": [
        "0xf80002687c40 M    2050  ntoskrnl.exe!memcpy (nt!memmove)                  \n"
       ]
      },
      {
       "output_type": "stream",
       "stream": "stdout",
       "text": [
        "0xf800026e1134 M    2051  ntoskrnl.exe!memcpy_s (nt!memcpy_s)               \n"
       ]
      },
      {
       "output_type": "stream",
       "stream": "stdout",
       "text": [
        "0xf80002687c40 M    2052  ntoskrnl.exe!memmove (nt!memmove)                 \n"
       ]
      },
      {
       "output_type": "stream",
       "stream": "stdout",
       "text": [
        "0xf800026e11d8 M    2053  ntoskrnl.exe!memmove_s (nt!memmove_s)             \n"
       ]
      },
      {
       "output_type": "stream",
       "stream": "stdout",
       "text": [
        "0xf80002693080 M    2054  ntoskrnl.exe!memset (nt!memset)                   \n"
       ]
      },
      {
       "output_type": "stream",
       "stream": "stdout",
       "text": [
        "0xf80002b59650 M    2055  ntoskrnl.exe!psMUITest (nt!psMUITest)             \n"
       ]
      },
      {
       "output_type": "stream",
       "stream": "stdout",
       "text": [
        "0xf80002628e40 M    2056  ntoskrnl.exe!qsort (nt!qsort)                     \n"
       ]
      },
      {
       "output_type": "stream",
       "stream": "stdout",
       "text": [
        "0xf800026df0d4 M    2057  ntoskrnl.exe!rand (nt!rand)                       \n"
       ]
      },
      {
       "output_type": "stream",
       "stream": "stdout",
       "text": [
        "0xf800026df100 M    2058  ntoskrnl.exe!sprintf (nt!sprintf)                 \n"
       ]
      },
      {
       "output_type": "stream",
       "stream": "stdout",
       "text": [
        "0xf8000262f100 M    2059  ntoskrnl.exe!sprintf_s (nt!sprintf_s)             \n"
       ]
      },
      {
       "output_type": "stream",
       "stream": "stdout",
       "text": [
        "0xf800026df0c4 M    2060  ntoskrnl.exe!srand (nt!srand)                     \n"
       ]
      },
      {
       "output_type": "stream",
       "stream": "stdout",
       "text": [
        "0xf800026e1250 M    2061  ntoskrnl.exe!sscanf_s (nt!sscanf_s)               \n"
       ]
      },
      {
       "output_type": "stream",
       "stream": "stdout",
       "text": [
        "0xf800026880b0 M    2062  ntoskrnl.exe!strcat (nt!strcat)                   \n"
       ]
      },
      {
       "output_type": "stream",
       "stream": "stdout",
       "text": [
        "0xf800026e12b0 M    2063  ntoskrnl.exe!strcat_s (nt!strcat_s)               \n"
       ]
      },
      {
       "output_type": "stream",
       "stream": "stdout",
       "text": [
        "0xf800026df1a0 M    2064  ntoskrnl.exe!strchr (nt!strchr)                   \n"
       ]
      },
      {
       "output_type": "stream",
       "stream": "stdout",
       "text": [
        "0xf80002688230 M    2065  ntoskrnl.exe!strcmp (nt!strcmp)                   \n"
       ]
      },
      {
       "output_type": "stream",
       "stream": "stdout",
       "text": [
        "0xf80002688150 M    2066  ntoskrnl.exe!strcpy (nt!strcpy)                   \n"
       ]
      },
      {
       "output_type": "stream",
       "stream": "stdout",
       "text": [
        "0xf800026e134c M    2067  ntoskrnl.exe!strcpy_s (nt!strcpy_s)               \n"
       ]
      },
      {
       "output_type": "stream",
       "stream": "stdout",
       "text": [
        "0xf800026882f0 M    2068  ntoskrnl.exe!strlen (nt!strlen)                   \n"
       ]
      },
      {
       "output_type": "stream",
       "stream": "stdout",
       "text": [
        "0xf800026883b0 M    2069  ntoskrnl.exe!strncat (nt!strncat)                 \n"
       ]
      },
      {
       "output_type": "stream",
       "stream": "stdout",
       "text": [
        "0xf800026e13d4 M    2070  ntoskrnl.exe!strncat_s (nt!strncat_s)             \n"
       ]
      },
      {
       "output_type": "stream",
       "stream": "stdout",
       "text": [
        "0xf80002687b70 M    2071  ntoskrnl.exe!strncmp (nt!strncmp)                 \n"
       ]
      },
      {
       "output_type": "stream",
       "stream": "stdout",
       "text": [
        "0xf80002688560 M    2072  ntoskrnl.exe!strncpy (nt!strncpy)                 \n"
       ]
      },
      {
       "output_type": "stream",
       "stream": "stdout",
       "text": [
        "0xf800026e14d4 M    2073  ntoskrnl.exe!strncpy_s (nt!strncpy_s)             \n"
       ]
      },
      {
       "output_type": "stream",
       "stream": "stdout",
       "text": [
        "0xf800026df1c0 M    2074  ntoskrnl.exe!strnlen (nt!strnlen)                 \n"
       ]
      },
      {
       "output_type": "stream",
       "stream": "stdout",
       "text": [
        "0xf800026df1e0 M    2075  ntoskrnl.exe!strrchr (nt!strrchr)                 \n"
       ]
      },
      {
       "output_type": "stream",
       "stream": "stdout",
       "text": [
        "0xf800026df20c M    2076  ntoskrnl.exe!strspn (nt!strspn)                   \n"
       ]
      },
      {
       "output_type": "stream",
       "stream": "stdout",
       "text": [
        "0xf800026de508 M    2077  ntoskrnl.exe!strstr (nt!strstr)                   \n"
       ]
      },
      {
       "output_type": "stream",
       "stream": "stdout",
       "text": [
        "0xf800026e15c4 M    2078  ntoskrnl.exe!strtok_s (nt!strtok_s)               \n"
       ]
      },
      {
       "output_type": "stream",
       "stream": "stdout",
       "text": [
        "0xf800026df2d0 M    2079  ntoskrnl.exe!swprintf (nt!swprintf)               \n"
       ]
      },
      {
       "output_type": "stream",
       "stream": "stdout",
       "text": [
        "0xf8000264fdbc M    2080  ntoskrnl.exe!swprintf_s (nt!swprintf_s)           \n"
       ]
      },
      {
       "output_type": "stream",
       "stream": "stdout",
       "text": [
        "0xf800026e16e0 M    2081  ntoskrnl.exe!swscanf_s (nt!swscanf_s)             \n"
       ]
      },
      {
       "output_type": "stream",
       "stream": "stdout",
       "text": [
        "0xf800026df39c M    2082  ntoskrnl.exe!tolower (nt!tolower)                 \n"
       ]
      },
      {
       "output_type": "stream",
       "stream": "stdout",
       "text": [
        "0xf80002663540 M    2083  ntoskrnl.exe!toupper (nt!toupper)                 \n"
       ]
      },
      {
       "output_type": "stream",
       "stream": "stdout",
       "text": [
        "0xf800026df3d0 M    2084  ntoskrnl.exe!towlower (nt!towlower)               \n"
       ]
      },
      {
       "output_type": "stream",
       "stream": "stdout",
       "text": [
        "0xf800026df3fc M    2085  ntoskrnl.exe!towupper (nt!towupper)               \n"
       ]
      },
      {
       "output_type": "stream",
       "stream": "stdout",
       "text": [
        "0xf80002749400 M    2086  ntoskrnl.exe!vDbgPrintEx (nt!vDbgPrintEx)         \n"
       ]
      },
      {
       "output_type": "stream",
       "stream": "stdout",
       "text": [
        "0xf800027493d0 M    2087  ntoskrnl.exe!vDbgPrintExWithPrefix (nt!vDbgPrintExWithPrefix)\n"
       ]
      },
      {
       "output_type": "stream",
       "stream": "stdout",
       "text": [
        "0xf800026df490 M    2088  ntoskrnl.exe!vsprintf (nt!vsprintf)               \n"
       ]
      },
      {
       "output_type": "stream",
       "stream": "stdout",
       "text": [
        "0xf8000262ef3c M    2089  ntoskrnl.exe!vsprintf_s (nt!vsprintf_s)           \n"
       ]
      },
      {
       "output_type": "stream",
       "stream": "stdout",
       "text": [
        "0xf8000264fd64 M    2090  ntoskrnl.exe!vswprintf_s (nt!vswprintf_s)         \n"
       ]
      },
      {
       "output_type": "stream",
       "stream": "stdout",
       "text": [
        "0xf800026df4a4 M    2091  ntoskrnl.exe!wcscat (nt!wcscat)                   \n"
       ]
      },
      {
       "output_type": "stream",
       "stream": "stdout",
       "text": [
        "0xf800026e1740 M    2092  ntoskrnl.exe!wcscat_s (nt!wcscat_s)               \n"
       ]
      },
      {
       "output_type": "stream",
       "stream": "stdout",
       "text": [
        "0xf80002636a58 M    2093  ntoskrnl.exe!wcschr (nt!wcschr)                   \n"
       ]
      },
      {
       "output_type": "stream",
       "stream": "stdout",
       "text": [
        "0xf800026df4fc M    2094  ntoskrnl.exe!wcscmp (nt!wcscmp)                   \n"
       ]
      },
      {
       "output_type": "stream",
       "stream": "stdout",
       "text": [
        "0xf800026df4d8 M    2095  ntoskrnl.exe!wcscpy (nt!wcscpy)                   \n"
       ]
      },
      {
       "output_type": "stream",
       "stream": "stdout",
       "text": [
        "0xf80002663d14 M    2096  ntoskrnl.exe!wcscpy_s (nt!wcscpy_s)               \n"
       ]
      },
      {
       "output_type": "stream",
       "stream": "stdout",
       "text": [
        "0xf800026df540 M    2097  ntoskrnl.exe!wcscspn (nt!wcscspn)                 \n"
       ]
      },
      {
       "output_type": "stream",
       "stream": "stdout",
       "text": [
        "0xf800026df584 M    2098  ntoskrnl.exe!wcslen (nt!wcslen)                   \n"
       ]
      },
      {
       "output_type": "stream",
       "stream": "stdout",
       "text": [
        "0xf800026df5a4 M    2099  ntoskrnl.exe!wcsncat (nt!wcsncat)                 \n"
       ]
      },
      {
       "output_type": "stream",
       "stream": "stdout",
       "text": [
        "0xf800026e17e8 M    2100  ntoskrnl.exe!wcsncat_s (nt!wcsncat_s)             \n"
       ]
      },
      {
       "output_type": "stream",
       "stream": "stdout",
       "text": [
        "0xf800026df5e8 M    2101  ntoskrnl.exe!wcsncmp (nt!wcsncmp)                 \n"
       ]
      },
      {
       "output_type": "stream",
       "stream": "stdout",
       "text": [
        "0xf800026df620 M    2102  ntoskrnl.exe!wcsncpy (nt!wcsncpy)                 \n"
       ]
      },
      {
       "output_type": "stream",
       "stream": "stdout",
       "text": [
        "0xf800026632d4 M    2103  ntoskrnl.exe!wcsncpy_s (nt!wcsncpy_s)             \n"
       ]
      },
      {
       "output_type": "stream",
       "stream": "stdout",
       "text": [
        "0xf800026df670 M    2104  ntoskrnl.exe!wcsnlen (nt!wcsnlen)                 \n"
       ]
      },
      {
       "output_type": "stream",
       "stream": "stdout",
       "text": [
        "0xf800026df698 M    2105  ntoskrnl.exe!wcsrchr (nt!wcsrchr)                 \n"
       ]
      },
      {
       "output_type": "stream",
       "stream": "stdout",
       "text": [
        "0xf800026df6cc M    2106  ntoskrnl.exe!wcsspn (nt!wcsspn)                   \n"
       ]
      },
      {
       "output_type": "stream",
       "stream": "stdout",
       "text": [
        "0xf800026df714 M    2107  ntoskrnl.exe!wcsstr (nt!wcsstr)                   \n"
       ]
      },
      {
       "output_type": "stream",
       "stream": "stdout",
       "text": [
        "0xf800026df784 M    2108  ntoskrnl.exe!wcstombs (nt!wcstombs)               \n"
       ]
      },
      {
       "output_type": "stream",
       "stream": "stdout",
       "text": [
        "0xf800026dfa7c M    2109  ntoskrnl.exe!wcstoul (nt!wcstoul)                 \n"
       ]
      },
      {
       "output_type": "stream",
       "stream": "stdout",
       "text": [
        "0xf800026dfb7c M    2110  ntoskrnl.exe!wctomb (nt!wctomb)                   \n"
       ]
      },
      {
       "output_type": "stream",
       "stream": "stdout",
       "text": [
        "0xf80002b4d2ab M    2111  ntoskrnl.exe! (None)                              \n"
       ]
      },
      {
       "output_type": "stream",
       "stream": "stdout",
       "text": [
        "Version Information:\n"
       ]
      },
      {
       "output_type": "stream",
       "stream": "stdout",
       "text": [
        "key                  value\n"
       ]
      },
      {
       "output_type": "stream",
       "stream": "stdout",
       "text": [
        "-------------------- -----\n"
       ]
      }
     ],
     "prompt_number": 2
    },
    {
     "cell_type": "markdown",
     "metadata": {},
     "source": [
      "Now instead of disassembling to the screen we store it in a file.  This does take a while but will produce a large text file containing the complete disassembly of the windows kernel."
     ]
    },
    {
     "cell_type": "code",
     "collapsed": false,
     "input": [
      "dis offset=0xF8000261F000+0x1000, end=0xF8000261F000+0x525000, output=\"ntkrnl_amd64.dis\""
     ],
     "language": "python",
     "metadata": {},
     "outputs": [],
     "prompt_number": 3
    },
    {
     "cell_type": "markdown",
     "metadata": {},
     "source": [
      "Now we can use our favourite editor (Emacs) to check all references to **MmGetPhysicalMemoryRanges**. We can see references from:\n",
      "\n",
      "* nt!PfpMemoryRangesQuery - Part of ExpQuerySystemInformation.\n",
      "* nt!IoFillDumpHeader - Called from crashdump facility.\n",
      "* nt!IopGetPhysicalMemoryBlock - Called from crashdump facility.\n",
      "\n",
      "We can also check references to **MmPhysicalMemoryBlock**. Many of these functions appear related to the [Hot-Add memory functionality](http://msdn.microsoft.com/en-us/library/windows/hardware/gg487553.aspx):\n",
      "\n",
      "* nt!IoSetDumpRange\n",
      "* nt!MiFindContiguousPages\n",
      "* nt!MmIdentifyPhysicalMemory\n",
      "* nt!MmReadProcessPageTables\n",
      "* nt!MiAllocateMostlyContiguous\n",
      "* nt!IoFillDumpHeader\n",
      "* nt!MiReleaseAllMemory \n",
      "* nt!MmDuplicateMemory \n",
      "* nt!MiRemovePhysicalMemory\n",
      "* nt!MmAddPhysicalMemory \n",
      "* nt!MmGetNumberOfPhysicalPages - This seems to be called from Hibernation code.\n",
      "* nt!MiScanPagefileSpace\n",
      "* nt!MmPerfSnapShotValidPhysicalMemory\n",
      "* nt!MmGetPhysicalMemoryRanges\n",
      "\n",
      "Some testing remains to see how stable this modification is in practice. It appears that probably Hot Add memory will no longer work, and possibly hibernation will fail (Hibernation is an alternate way to capture memory images, as Rekall can also operate on hibernation files). Although the above suggests that crash dumps are affected, I have tried to produce a crashdump after this modification, but it still worked as expected (This is actually kind of interesting in itself)."
     ]
    },
    {
     "cell_type": "code",
     "collapsed": false,
     "input": [],
     "language": "python",
     "metadata": {},
     "outputs": []
    },
    {
     "cell_type": "markdown",
     "metadata": {},
     "source": [
      "### PS\n",
      "This note was written inside Rekall itself by using the IPython notebook interface."
     ]
    },
    {
     "cell_type": "code",
     "collapsed": false,
     "input": [],
     "language": "python",
     "metadata": {},
     "outputs": []
    }
   ],
   "metadata": {}
  }
 ]
}