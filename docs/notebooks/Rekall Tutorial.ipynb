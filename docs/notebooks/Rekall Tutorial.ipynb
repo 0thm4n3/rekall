{
 "metadata": {
  "name": ""
 },
 "nbformat": 3,
 "nbformat_minor": 0,
 "worksheets": [
  {
   "cells": [
    {
     "cell_type": "heading",
     "level": 1,
     "metadata": {},
     "source": [
      "Rekall Memory Forensics Tutorial."
     ]
    },
    {
     "cell_type": "markdown",
     "metadata": {},
     "source": [
      "The Rekall memory forensic framework is a powerfull analysis system for volatile memory. This walkthrough demonstrates how to use the notebook interface - which is provided by the IPython runtime.\n",
      "\n",
      "For this demonstration we assume we are running on Windows 7 64 bit. Rather than analyse a static image, we shall analyse the live system memory. We shall first install the memory driver, to allow Rekall to directly access the live memory. Once the driver is installer, we can attach to the raw memory device and analyse the live system.\n",
      "\n",
      "After installtion, there should be two options at the start menu. The \"Rekall Memory Forensics (Console)\" option, launches Rekall within a console IPython application. The \"Rekall Memory Forensics (Notebook)\" option launches an IPython notebook for interaction with rekall.\n",
      "\n",
      "In order to be able to insert the kernel driver, we need to be running as an administrative user. Right click over the \"Rekall Memory Forensics (Notebook)\" option, and select \"Run as administrator\"."
     ]
    },
    {
     "cell_type": "heading",
     "level": 3,
     "metadata": {},
     "source": [
      "Loading the memory driver"
     ]
    },
    {
     "cell_type": "markdown",
     "metadata": {},
     "source": [
      "Rekall is shipped with the WinPmem memory acquisition tool. We use this tool to insert the kernel driver and provide us with access to the raw memory. Any shell command can be run inside an IPython code cell, by simply preceeding it with the ! character. Note that in python the backslash character is used as a string escape, so if you want to use it for path separators, you need to double it.\n",
      "\n",
      "The WinPmem -l option causes the tool to insert the kernel driver, and report the memory geometry. The driver remains loaded - allowing Rekall to connect to it."
     ]
    },
    {
     "cell_type": "code",
     "collapsed": false,
     "input": [
      "!\"C:\\\\Program Files\\\\Rekall\\\\winpmem_1.5.2.exe\" -l"
     ],
     "language": "python",
     "metadata": {},
     "outputs": [
      {
       "output_type": "stream",
       "stream": "stdout",
       "text": [
        "Driver Unloaded.\n",
        "Loaded Driver C:\\Users\\mic\\AppData\\Local\\Temp\\pme17F2.tmp.\n",
        "CR3: 0x0000187000\n",
        " 2 memory ranges:\n",
        "Start 0x00001000 - Length 0x0009E000\n",
        "Start 0x00100000 - Length 0x5E1F0000\n",
        "Acquitision mode 1\n",
        "\n"
       ]
      }
     ],
     "prompt_number": 13
    },
    {
     "cell_type": "heading",
     "level": 3,
     "metadata": {},
     "source": [
      "Initializing Rekall"
     ]
    },
    {
     "cell_type": "markdown",
     "metadata": {},
     "source": [
      "The next step is to initialize the rekall environment. The following code creates an interactive environment populated with shortcuts to the Rekall plugins, help strings etc."
     ]
    },
    {
     "cell_type": "code",
     "collapsed": false,
     "input": [
      "from rekall import interactive\n",
      "interactive.ImportEnvironment()"
     ],
     "language": "python",
     "metadata": {},
     "outputs": [],
     "prompt_number": 14
    },
    {
     "cell_type": "markdown",
     "metadata": {},
     "source": [
      "Once the environment is configured, we find a number of useful things:\n",
      "\n",
      "* The help command is reconfigured to provide Rekall specific help.\n",
      "* All plugins which are valid to run with this image and profile are stored in the global \"plugins\" parameter. To find out which plugins can be run, simply type \"plugins.[tab][tab]\" to see the full completion list.\n",
      "* Command line completion is used extensively, and is encouraged. When the line starts with the name of the plugin, typing [tab] twice will offer to complete all the plugin parameters. For this reason Rekall prefers long, descriptive parameter names for plugins, since usually users only need to type one or two characters to fully complete them.\n",
      " \n",
      " Running the help command by itself shows a quick start overview."
     ]
    },
    {
     "cell_type": "code",
     "collapsed": false,
     "input": [
      "help"
     ],
     "language": "python",
     "metadata": {},
     "outputs": [
      {
       "output_type": "stream",
       "stream": "stdout",
       "text": [
        "Welocome to Rekall Memory Forensics.\n",
        "\n",
        "To get started:\n",
        "\n",
        "- Initialize the Rekall session using the rekall plugin. e.g.:\n",
        "\n",
        "Win7SP1x64:pmem 13:36:23> rekall filename=r\"\\\\.\\pmem\", profile=\"Win7SP1x64\", pager=\"notepad\"\n",
        "\n",
        "- Select a plugin to run by tying it in. e.g.:\n",
        "\n",
        "Win7SP1x64:pmem 13:39:26> plugins.pslist\n",
        "\n",
        "- You can complete any command by tapping Tab twice. Useful completions include:\n",
        "  - File names on disk.\n",
        "  - Plugin names.\n",
        "  - Plugin parameters.\n",
        "\n",
        "- Adding a ? after any plugin will print help about this plugin.\n",
        "\n",
        "- You can get help on any module or object by typing:\n",
        "\n",
        "help object\n",
        "\n",
        "Some interesting topics to get you started, explaining some rekall specific\n",
        "concepts:\n",
        "\n",
        "help addrspace - The address space.\n",
        "help obj       - The rekall objects.\n",
        "help profile   - What are Profiles?\n",
        "\n"
       ]
      }
     ],
     "prompt_number": 17
    },
    {
     "cell_type": "markdown",
     "metadata": {},
     "source": [
      "Next we need to tell Rekall to load the raw memory device as an image, using the Windows 7 profile. Type \"re[tab][space]\" below, then follow it with [tab][tab]. A list of possible parameters for rekal is displayed.\n",
      "\n",
      "The most important parameters are *filename* and *profile*."
     ]
    },
    {
     "cell_type": "code",
     "collapsed": false,
     "input": [
      "rekal filename=r\"\\\\.\\pmem\", profile=\"Win7SP1x64\""
     ],
     "language": "python",
     "metadata": {},
     "outputs": [
      {
       "output_type": "stream",
       "stream": "stdout",
       "text": [
        "Initializing Rekall session.\n",
        "Done!\n"
       ]
      }
     ],
     "prompt_number": 18
    },
    {
     "cell_type": "markdown",
     "metadata": {},
     "source": [
      "The Rekall session has been initialized and we now can begin analysis of the live system's memory. To run any command just type it in a code cell (command line completion works as well).  We use pslist to find the Rekall process itself:"
     ]
    },
    {
     "cell_type": "code",
     "collapsed": false,
     "input": [
      "pslist proc_regex=\"rekal\""
     ],
     "language": "python",
     "metadata": {},
     "outputs": [
      {
       "output_type": "stream",
       "stream": "stdout",
       "text": [
        "  Offset (V)   Name                    PID   PPID   Thds     Hnds   Sess  Wow64 Start                    Exit                    \n",
        "-------------- -------------------- ------ ------ ------ -------- ------ ------ ------------------------ ------------------------\n",
        "0xfa8002e2c520 rekal.exe              3312    896      5      252      1  False 2013-12-29 21:16:30+0000 -                       \n"
       ]
      },
      {
       "output_type": "stream",
       "stream": "stdout",
       "text": [
        "0xfa80032b8390 rekal.exe              4092   3312      9      290      1  False 2013-12-29 21:16:53+0000 -                       \n"
       ]
      }
     ],
     "prompt_number": 22
    },
    {
     "cell_type": "markdown",
     "metadata": {},
     "source": [
      "The process listing above shows the Virtual offset of the kernel's _EPROCESS structs for the Rekall program. We can examine this struct in more detail by instantiating it directly at the correct offset and printing it to show all its fields."
     ]
    },
    {
     "cell_type": "code",
     "collapsed": false,
     "input": [
      "r = session.profile._EPROCESS(0xfa8002e2c520)\n",
      "print r"
     ],
     "language": "python",
     "metadata": {},
     "outputs": [
      {
       "output_type": "stream",
       "stream": "stdout",
       "text": [
        "[_EPROCESS _EPROCESS] @ 0xFA8002E2C520\n",
        "  0x00 Pcb                          [_KPROCESS Pcb] @ 0xFA8002E2C520\n",
        "  0x160 ProcessLock                  [_EX_PUSH_LOCK ProcessLock] @ 0xFA8002E2C680\n",
        "  0x168 CreateTime                    [WinTimeStamp:CreateTime]: 0x52C0912E (2013-12-29 21:16:30+0000) (2013-12-29 21:16:30+0000)\n",
        "  0x170 ExitTime                      [WinTimeStamp:ExitTime]: 0x00000000 (-) (-)\n",
        "  0x178 RundownProtect               [_EX_RUNDOWN_REF RundownProtect] @ 0xFA8002E2C698\n",
        "  0x180 UniqueProcessId               [unsigned int:UniqueProcessId]: 0x00000CF0\n",
        "  0x188 ActiveProcessLinks           [_LIST_ENTRY ActiveProcessLinks] @ 0xFA8002E2C6A8\n",
        "  0x198 ProcessQuotaUsage            <Array 2 x unsigned long long @ 0xFA8002E2C6B8>\n",
        "  0x1A8 ProcessQuotaPeak             <Array 2 x unsigned long long @ 0xFA8002E2C6C8>\n",
        "  0x1B8 CommitCharge                  [unsigned long long:CommitCharge]: 0x00002AD9\n",
        "  0x1C0 QuotaBlock                   <_EPROCESS_QUOTA_BLOCK Pointer to [0xFA8002E8B840] (QuotaBlock)>\n",
        "  0x1C8 CpuQuotaBlock                <_PS_CPU_QUOTA_BLOCK Pointer to [0x00000000] (CpuQuotaBlock)>\n",
        "  0x1D0 PeakVirtualSize               [unsigned long long:PeakVirtualSize]: 0x096A3000\n",
        "  0x1D8 VirtualSize                   [unsigned long long:VirtualSize]: 0x08C14000\n",
        "  0x1E0 SessionProcessLinks          [_LIST_ENTRY SessionProcessLinks] @ 0xFA8002E2C700\n",
        "  0x1F0 DebugPort                    <void Pointer to [0x00000000] (DebugPort)>\n",
        "  0x1F8 ExceptionPortData            <void Pointer to [0xFA8002D67E60] (ExceptionPortData)>\n",
        "  0x1F8 ExceptionPortState            [BitField:ExceptionPortState]: 0x00000000\n",
        "  0x1F8 ExceptionPortValue            [unsigned long long:ExceptionPortValue]: 0xFFFFFA8002D67E60\n",
        "  0x200 ObjectTable                  <_HANDLE_TABLE Pointer to [0xF8A00D3ED510] (ObjectTable)>\n",
        "  0x208 Token                        [_EX_FAST_REF Token] @ 0xFA8002E2C728\n",
        "  0x210 WorkingSetPage                [unsigned long long:WorkingSetPage]: 0x0005B3E1\n",
        "  0x218 AddressCreationLock          [_EX_PUSH_LOCK AddressCreationLock] @ 0xFA8002E2C738\n",
        "  0x220 RotateInProgress             <_ETHREAD Pointer to [0x00000000] (RotateInProgress)>\n",
        "  0x228 ForkInProgress               <_ETHREAD Pointer to [0x00000000] (ForkInProgress)>\n",
        "  0x230 HardwareTrigger               [unsigned long long:HardwareTrigger]: 0x00000000\n",
        "  0x238 PhysicalVadRoot              <_MM_AVL_TABLE Pointer to [0x00000000] (PhysicalVadRoot)>\n",
        "  0x240 CloneRoot                    <void Pointer to [0x00000000] (CloneRoot)>\n",
        "  0x248 NumberOfPrivatePages          [unsigned long long:NumberOfPrivatePages]: 0x00002842\n",
        "  0x250 NumberOfLockedPages           [unsigned long long:NumberOfLockedPages]: 0x00000000\n",
        "  0x258 Win32Process                 <void Pointer to [0xF900C1DF2300] (Win32Process)>\n",
        "  0x260 Job                          <_EJOB Pointer to [0x00000000] (Job)>\n",
        "  0x268 SectionObject                <void Pointer to [0xF8A008CEE1F0] (SectionObject)>\n",
        "  0x270 SectionBaseAddress           <void Pointer to [0x13F760000] (SectionBaseAddress)>\n",
        "  0x278 Cookie                        [unsigned long:Cookie]: 0xEB9A2CDD\n",
        "  0x27C UmsScheduledThreads           [unsigned long:UmsScheduledThreads]: 0x00000000\n",
        "  0x280 WorkingSetWatch              <_PAGEFAULT_HISTORY Pointer to [0x00000000] (WorkingSetWatch)>\n",
        "  0x288 Win32WindowStation           <void Pointer to [0x00000038] (Win32WindowStation)>\n",
        "  0x290 InheritedFromUniqueProcessId  [unsigned int:InheritedFromUniqueProcessId]: 0x00000380\n",
        "  0x298 LdtInformation               <void Pointer to [0x00000000] (LdtInformation)>\n",
        "  0x2A0 Spare                        <void Pointer to [0x00000000] (Spare)>\n",
        "  0x2A8 ConsoleHostProcess            [unsigned long long:ConsoleHostProcess]: 0x00000B58\n",
        "  0x2B0 DeviceMap                    <void Pointer to [0xF8A0024A8EB0] (DeviceMap)>\n",
        "  0x2B8 EtwDataSource                <void Pointer to [0x00000000] (EtwDataSource)>\n",
        "  0x2C0 FreeTebHint                  <void Pointer to [0x7FFFFFD9000] (FreeTebHint)>\n",
        "  0x2C8 FreeUmsTebHint               <void Pointer to [0x100000000] (FreeUmsTebHint)>\n",
        "  0x2D0 Filler                        [unsigned long long:Filler]: 0x00000000\n",
        "  0x2D0 PageDirectoryPte             [_HARDWARE_PTE PageDirectoryPte] @ 0xFA8002E2C7F0\n",
        "  0x2D8 Session                      <void Pointer to [0xF8800426F000] (Session)>\n",
        "  0x2E0 ImageFileName                 [String:ImageFileName]: 'rekal.exe\\x00'\n",
        "  0x2EF PriorityClass                 [unsigned char:PriorityClass]: 0x00000002\n",
        "  0x2F0 JobLinks                     [_LIST_ENTRY JobLinks] @ 0xFA8002E2C810\n",
        "  0x300 LockedPagesList              <void Pointer to [0x00000000] (LockedPagesList)>\n",
        "  0x308 ThreadListHead               [_LIST_ENTRY ThreadListHead] @ 0xFA8002E2C828\n",
        "  0x318 SecurityPort                 <void Pointer to [0x00000000] (SecurityPort)>\n",
        "  0x320 Wow64Process                 <void Pointer to [0x00000000] (Wow64Process)>\n",
        "  0x328 ActiveThreads                 [unsigned long:ActiveThreads]: 0x00000005\n",
        "  0x32C ImagePathHash                 [unsigned long:ImagePathHash]: 0xA8ABAB30\n",
        "  0x330 DefaultHardErrorProcessing    [unsigned long:DefaultHardErrorProcessing]: 0x00000001\n",
        "  0x334 LastThreadExitStatus          [long:LastThreadExitStatus]: 0x00000000\n",
        "  0x338 Peb                          <_PEB Pointer to [0x7FFFFFDF000] (Peb)>\n",
        "  0x340 PrefetchTrace                [_EX_FAST_REF PrefetchTrace] @ 0xFA8002E2C860\n",
        "  0x348 ReadOperationCount           [_LARGE_INTEGER ReadOperationCount] @ 0xFA8002E2C868\n",
        "  0x350 WriteOperationCount          [_LARGE_INTEGER WriteOperationCount] @ 0xFA8002E2C870\n",
        "  0x358 OtherOperationCount          [_LARGE_INTEGER OtherOperationCount] @ 0xFA8002E2C878\n",
        "  0x360 ReadTransferCount            [_LARGE_INTEGER ReadTransferCount] @ 0xFA8002E2C880\n",
        "  0x368 WriteTransferCount           [_LARGE_INTEGER WriteTransferCount] @ 0xFA8002E2C888\n",
        "  0x370 OtherTransferCount           [_LARGE_INTEGER OtherTransferCount] @ 0xFA8002E2C890\n",
        "  0x378 CommitChargeLimit             [unsigned long long:CommitChargeLimit]: 0x00000000\n",
        "  0x380 CommitChargePeak              [unsigned long long:CommitChargePeak]: 0x00002AD9\n",
        "  0x388 AweInfo                      <void Pointer to [0x00000000] (AweInfo)>\n",
        "  0x390 SeAuditProcessCreationInfo   [_SE_AUDIT_PROCESS_CREATION_INFO SeAuditProcessCreationInfo] @ 0xFA8002E2C8B0\n",
        "  0x398 Vm                           [_MMSUPPORT Vm] @ 0xFA8002E2C8B8\n",
        "  0x420 MmProcessLinks               [_LIST_ENTRY MmProcessLinks] @ 0xFA8002E2C940\n",
        "  0x430 HighestUserAddress           <void Pointer to [0x7FFFFFF0000] (HighestUserAddress)>\n",
        "  0x438 ModifiedPageCount             [unsigned long:ModifiedPageCount]: 0x00001F7A\n",
        "  0x43C AccountingFolded              [BitField:AccountingFolded]: 0x00000000\n",
        "  0x43C AffinityPermanent             [BitField:AffinityPermanent]: 0x00000000\n",
        "  0x43C AffinityUpdateEnable          [BitField:AffinityUpdateEnable]: 0x00000000\n",
        "  0x43C DefaultPagePriority           [BitField:DefaultPagePriority]: 0x00000005\n",
        "  0x43C ExitProcessReported           [BitField:ExitProcessReported]: 0x00000000\n",
        "  0x43C ExplicitAffinity              [BitField:ExplicitAffinity]: 0x00000000\n",
        "  0x43C Flags2                        [unsigned long:Flags2]: 0x0000D000\n",
        "  0x43C HandleTableRundown            [BitField:HandleTableRundown]: 0x00000000\n",
        "  0x43C JobNotReallyActive            [BitField:JobNotReallyActive]: 0x00000000\n",
        "  0x43C LastReportMemory              [BitField:LastReportMemory]: 0x00000000\n",
        "  0x43C NeedsHandleRundown            [BitField:NeedsHandleRundown]: 0x00000000\n",
        "  0x43C NewProcessReported            [BitField:NewProcessReported]: 0x00000000\n",
        "  0x43C NumaAware                     [BitField:NumaAware]: 0x00000000\n",
        "  0x43C PrimaryTokenFrozen            [BitField:PrimaryTokenFrozen]: 0x00000001\n",
        "  0x43C ProcessVerifierTarget         [BitField:ProcessVerifierTarget]: 0x00000000\n",
        "  0x43C PropagateNode                 [BitField:PropagateNode]: 0x00000000\n",
        "  0x43C ProtectedProcess              [BitField:ProtectedProcess]: 0x00000000\n",
        "  0x43C RefTraceEnabled               [BitField:RefTraceEnabled]: 0x00000000\n",
        "  0x43C ReportCommitChanges           [BitField:ReportCommitChanges]: 0x00000000\n",
        "  0x43C ReportPhysicalPageChanges     [BitField:ReportPhysicalPageChanges]: 0x00000000\n",
        "  0x43C StackRandomizationDisabled    [BitField:StackRandomizationDisabled]: 0x00000000\n",
        "  0x440 AddressSpaceInitialized       [BitField:AddressSpaceInitialized]: 0x00000002\n",
        "  0x440 BreakOnTermination            [BitField:BreakOnTermination]: 0x00000000\n",
        "  0x440 CreateReported                [BitField:CreateReported]: 0x00000001\n",
        "  0x440 CrossSessionCreate            [BitField:CrossSessionCreate]: 0x00000001\n",
        "  0x440 DefaultIoPriority             [BitField:DefaultIoPriority]: 0x00000002\n",
        "  0x440 DeprioritizeViews             [BitField:DeprioritizeViews]: 0x00000000\n",
        "  0x440 Flags                         [unsigned long:Flags]: 0x164D0801\n",
        "  0x440 ForkFailed                    [BitField:ForkFailed]: 0x00000000\n",
        "  0x440 HasAddressSpace               [BitField:HasAddressSpace]: 0x00000001\n",
        "  0x440 ImageNotifyDone               [BitField:ImageNotifyDone]: 0x00000001\n",
        "  0x440 InjectInpageErrors            [BitField:InjectInpageErrors]: 0x00000000\n",
        "  0x440 LaunchPrefetched              [BitField:LaunchPrefetched]: 0x00000001\n",
        "  0x440 NoDebugInherit                [BitField:NoDebugInherit]: 0x00000000\n",
        "  0x440 OutswapEnabled                [BitField:OutswapEnabled]: 0x00000000\n",
        "  0x440 Outswapped                    [BitField:Outswapped]: 0x00000000\n",
        "  0x440 OverrideAddressSpace          [BitField:OverrideAddressSpace]: 0x00000000\n",
        "  0x440 PdeUpdateNeeded               [BitField:PdeUpdateNeeded]: 0x00000000\n",
        "  0x440 ProcessDelete                 [BitField:ProcessDelete]: 0x00000000\n",
        "  0x440 ProcessExiting                [BitField:ProcessExiting]: 0x00000000\n",
        "  0x440 ProcessInSession              [BitField:ProcessInSession]: 0x00000001\n",
        "  0x440 ProcessInserted               [BitField:ProcessInserted]: 0x00000001\n",
        "  0x440 ProcessSelfDelete             [BitField:ProcessSelfDelete]: 0x00000000\n",
        "  0x440 SetTimerResolution            [BitField:SetTimerResolution]: 0x00000000\n",
        "  0x440 SetTimerResolutionLink        [BitField:SetTimerResolutionLink]: 0x00000000\n",
        "  0x440 VdmAllowed                    [BitField:VdmAllowed]: 0x00000000\n",
        "  0x440 VmDeleted                     [BitField:VmDeleted]: 0x00000000\n",
        "  0x440 VmTopDown                     [BitField:VmTopDown]: 0x00000000\n",
        "  0x440 Wow64SplitPages               [BitField:Wow64SplitPages]: 0x00000000\n",
        "  0x440 Wow64VaSpace4Gb               [BitField:Wow64VaSpace4Gb]: 0x00000000\n",
        "  0x440 WriteWatch                    [BitField:WriteWatch]: 0x00000000\n",
        "  0x444 ExitStatus                    [long:ExitStatus]: 0x00000103\n",
        "  0x448 RealVadRoot                  [_MMADDRESS_NODE BalancedRoot] @ 0xFA8002E2C968\n",
        "  0x448 VadRoot                      [_MM_AVL_TABLE VadRoot] @ 0xFA8002E2C968\n",
        "  0x488 AlpcContext                  [_ALPC_PROCESS_CONTEXT AlpcContext] @ 0xFA8002E2C9A8\n",
        "  0x4A8 TimerResolutionLink          [_LIST_ENTRY TimerResolutionLink] @ 0xFA8002E2C9C8\n",
        "  0x4B8 RequestedTimerResolution      [unsigned long:RequestedTimerResolution]: 0x00000000\n",
        "  0x4BC ActiveThreadsHighWatermark    [unsigned long:ActiveThreadsHighWatermark]: 0x0000000A\n",
        "  0x4C0 SmallestTimerResolution       [unsigned long:SmallestTimerResolution]: 0x00000000\n",
        "  0x4C8 TimerResolutionStackRecord   <_PO_DIAG_STACK_RECORD Pointer to [0x00000000] (TimerResolutionStackRecord)>\n",
        "\n"
       ]
      }
     ],
     "prompt_number": 27
    },
    {
     "cell_type": "code",
     "collapsed": false,
     "input": [
      "print r.ImageFileName"
     ],
     "language": "python",
     "metadata": {},
     "outputs": [
      {
       "output_type": "stream",
       "stream": "stdout",
       "text": [
        "rekal.exe\n"
       ]
      }
     ],
     "prompt_number": 28
    },
    {
     "cell_type": "markdown",
     "metadata": {},
     "source": [
      "The IPython interface exposes a full python environment, suitable for writing complex analysis scripts, without resorting to writing a full rekall plugin. Many existing plugins provide additional utility functions which might be useful as part of larger scripts.\n",
      "\n",
      "For exmple, the *module* plugin provides a find_module() service which locates a kernel virtual address inside a known kernel driver. (This is useful for finding hooks for example)."
     ]
    },
    {
     "cell_type": "code",
     "collapsed": false,
     "input": [
      "a = session.plugins.modules()\n",
      "m = a.find_module(0xf88002bb0000)\n",
      "print m"
     ],
     "language": "python",
     "metadata": {},
     "outputs": [
      {
       "output_type": "stream",
       "stream": "stdout",
       "text": [
        "[_LDR_DATA_TABLE_ENTRY _LDR_DATA_TABLE_ENTRY] @ 0xFA80044EB410\n",
        "  0x00 InLoadOrderLinks            [_LIST_ENTRY InLoadOrderLinks] @ 0xFA80044EB410\n",
        "  0x10 InMemoryOrderLinks          [_LIST_ENTRY InMemoryOrderLinks] @ 0xFA80044EB420\n",
        "  0x20 InInitializationOrderLinks  [_LIST_ENTRY InInitializationOrderLinks] @ 0xFA80044EB430\n",
        "  0x30 DllBase                     <void Pointer to [0xF88002BB0000] (DllBase)>\n",
        "  0x38 EntryPoint                  <void Pointer to [0xF88002BBE064] (EntryPoint)>\n",
        "  0x40 SizeOfImage                  [unsigned long:SizeOfImage]: 0x00010000\n",
        "  0x48 FullDllName                 [_UNICODE_STRING FullDllName] @ 0xFA80044EB458\n",
        "  0x58 BaseDllName                 [_UNICODE_STRING BaseDllName] @ 0xFA80044EB468\n",
        "  0x68 Flags                        [unsigned long:Flags]: 0x49104000\n",
        "  0x6C LoadCount                    [unsigned short:LoadCount]: 0x00000001\n",
        "  0x6E TlsIndex                     [unsigned short:TlsIndex]: 0x00000024\n",
        "  0x70 HashLinks                   [_LIST_ENTRY HashLinks] @ 0xFA80044EB480\n",
        "  0x70 SectionPointer              <void Pointer to [0x00000000] (SectionPointer)>\n",
        "  0x78 CheckSum                     [unsigned long:CheckSum]: 0x00012DAE\n",
        "  0x80 LoadedImports               <void Pointer to [0x00000000] (LoadedImports)>\n",
        "  0x80 TimeDateStamp                [unsigned long:TimeDateStamp]: 0x00000000\n",
        "  0x88 EntryPointActivationContext <_ACTIVATION_CONTEXT Pointer to [0xFA80011DF891] (EntryPointActivationContext)>\n",
        "  0x90 PatchInformation            <void Pointer to [0x00000000] (PatchInformation)>\n",
        "  0x98 ForwarderLinks              [_LIST_ENTRY ForwarderLinks] @ 0xFA80044EB4A8\n",
        "  0xA8 ServiceTagLinks             [_LIST_ENTRY ServiceTagLinks] @ 0xFA80044EB4B8\n",
        "  0xB8 StaticLinks                 [_LIST_ENTRY StaticLinks] @ 0xFA80044EB4C8\n",
        "  0xC8 ContextInformation          <void Pointer to [0x70006D0074] (ContextInformation)>\n",
        "  0xD0 OriginalBase                 [unsigned long long:OriginalBase]: 0xE57268540250000E\n",
        "  0xD8 LoadTime                    [_LARGE_INTEGER LoadTime] @ 0xFA80044EB4E8\n",
        "\n"
       ]
      }
     ],
     "prompt_number": 45
    },
    {
     "cell_type": "code",
     "collapsed": false,
     "input": [
      "print m.FullDllName"
     ],
     "language": "python",
     "metadata": {},
     "outputs": [
      {
       "output_type": "stream",
       "stream": "stdout",
       "text": [
        "\\??\\C:\\Users\\mic\\AppData\\Local\\Temp\\pme17F2.tmp\n"
       ]
      }
     ],
     "prompt_number": 88
    },
    {
     "cell_type": "code",
     "collapsed": false,
     "input": [
      "modules"
     ],
     "language": "python",
     "metadata": {},
     "outputs": [
      {
       "output_type": "stream",
       "stream": "stdout",
       "text": [
        "  Offset (V)   Name                      Base           Size      File\n",
        "-------------- -------------------- -------------- -------------- ----\n",
        "0xfa80011df890 ntoskrnl.exe         0xf80002813000       0x5da000 \\SystemRoot\\system32\\ntoskrnl.exe\n"
       ]
      },
      {
       "output_type": "stream",
       "stream": "stdout",
       "text": [
        "0xfa80011df7a0 hal.dll              0xf80002ded000        0x49000 \\SystemRoot\\system32\\hal.dll\n",
        "0xfa80045fb230 Dbgv.sys             0xf88002bd5000         0x9000 \\??\\C:\\Windows\\system32\\Drivers\\Dbgv.sys\n",
        "0xfa8002bbe1e0 portcls.sys          0xf8800453a000        0x3d000 \\SystemRoot\\system32\\drivers\\portcls.sys\n",
        "0xfa8002c14010 ksthunk.sys          0xf88004599000         0x6000 \\SystemRoot\\system32\\drivers\\ksthunk.sys\n",
        "0xfa800246dc60 csc.sys              0xf88003e9e000        0x83000 \\SystemRoot\\system32\\drivers\\csc.sys\n",
        "0xfa8002c27cb0 vga.sys              0xf8800195d000         0xe000 \\SystemRoot\\System32\\drivers\\vga.sys\n"
       ]
      },
      {
       "output_type": "stream",
       "stream": "stdout",
       "text": [
        "0xfa80011e0f30 WDFLDR.SYS           0xf88000f90000        0x10000 \\SystemRoot\\system32\\drivers\\WDFLDR.SYS\n",
        "0xfa80011e29b0 CLASSPNP.SYS         0xf880018bb000        0x30000 \\SystemRoot\\system32\\DRIVERS\\CLASSPNP.SYS\n",
        "0xfa800294e9c0 crashdmp.sys         0xf8800459f000         0xe000 \\SystemRoot\\System32\\Drivers\\crashdmp.sys\n",
        "0xfa80011e12c0 tcpip.sys            0xf88001600000       0x1fd000 \\SystemRoot\\System32\\drivers\\tcpip.sys\n",
        "0xfa80024332b0 E1G6032E.sys         0xf88003fa3000        0x24000 \\SystemRoot\\system32\\DRIVERS\\E1G6032E.sys\n",
        "0xfa80011e2d50 mup.sys              0xf88001850000        0x12000 \\SystemRoot\\System32\\Drivers\\mup.sys\n",
        "0xfa80011e1d40 fileinfo.sys         0xf880010e5000        0x14000 \\SystemRoot\\system32\\drivers\\fileinfo.sys\n",
        "0xfa8002cec590 Npfs.SYS             0xf880019c6000        0x11000 \\SystemRoot\\System32\\Drivers\\Npfs.SYS\n",
        "0xfa80011e15c0 ndis.sys             0xf88001427000        0xf2000 \\SystemRoot\\system32\\drivers\\ndis.sys\n"
       ]
      },
      {
       "output_type": "stream",
       "stream": "stdout",
       "text": [
        "0xfa80022972d0 Msfs.SYS             0xf880019bb000         0xb000 \\SystemRoot\\System32\\Drivers\\Msfs.SYS\n",
        "0xfa80018d2cc0 ATMFD.DLL            0xf96000b40000        0x61000 \\SystemRoot\\System32\\ATMFD.DLL\n",
        "0xfa80037b26a0 intelppm.sys         0xf880040bd000        0x16000 \\SystemRoot\\system32\\DRIVERS\\intelppm.sys\n",
        "0xfa8003c658d0 dxg.sys              0xf96000430000        0x1e000 \\SystemRoot\\System32\\drivers\\dxg.sys\n",
        "0xfa800317a0b0 asyncmac.sys         0xf88002ae9000         0xb000 \\SystemRoot\\system32\\DRIVERS\\asyncmac.sys\n",
        "0xfa80023bbd70 ndiswan.sys          0xf88004129000        0x2f000 \\SystemRoot\\system32\\DRIVERS\\ndiswan.sys\n",
        "0xfa80041f9cb0 cdrom.sys            0xf88001923000        0x2a000 \\SystemRoot\\system32\\DRIVERS\\cdrom.sys\n",
        "0xfa80013643b0 hidusb.sys           0xf88002b4a000         0xe000 \\SystemRoot\\system32\\DRIVERS\\hidusb.sys\n",
        "0xfa80011e2010 vmstorfl.sys         0xf880015ed000        0x10000 \\SystemRoot\\system32\\DRIVERS\\vmstorfl.sys\n"
       ]
      },
      {
       "output_type": "stream",
       "stream": "stdout",
       "text": [
        "0xfa80011e0010 Wdf01000.sys         0xf88000ece000        0xc2000 \\SystemRoot\\system32\\drivers\\Wdf01000.sys\n",
        "0xfa80011e1c30 Ntfs.sys             0xf88001209000       0x1a1000 \\SystemRoot\\System32\\Drivers\\Ntfs.sys\n",
        "0xfa80025fc010 watchdog.sys         0xf88001990000        0x10000 \\SystemRoot\\System32\\drivers\\watchdog.sys\n",
        "0xfa8002c38230 drmk.sys             0xf88004577000        0x22000 \\SystemRoot\\system32\\drivers\\drmk.sys\n",
        "0xfa8001d72010 USBD.SYS             0xf88002b71000         0x2000 \\SystemRoot\\system32\\DRIVERS\\USBD.SYS\n",
        "0xfa80011e0610 volmgrx.sys          0xf88000c00000        0x5c000 \\SystemRoot\\System32\\drivers\\volmgrx.sys\n",
        "0xfa8002e62010 mpsdrv.sys           0xf880025a4000        0x18000 \\SystemRoot\\System32\\drivers\\mpsdrv.sys\n",
        "0xfa8002cf3cb0 tdx.sys              0xf880019d7000        0x1e000 \\SystemRoot\\system32\\DRIVERS\\tdx.sys\n",
        "0xfa800241c010 VBoxMouse.sys        0xf88003e2d000        0x22000 \\SystemRoot\\system32\\DRIVERS\\VBoxMouse.sys\n",
        "0xfa8002485930 rassstp.sys          0xf88004194000        0x1a000 \\SystemRoot\\system32\\DRIVERS\\rassstp.sys\n"
       ]
      },
      {
       "output_type": "stream",
       "stream": "stdout",
       "text": [
        "0xfa8002c58df0 Beep.SYS             0xf88001956000         0x7000 \\SystemRoot\\System32\\Drivers\\Beep.SYS\n",
        "0xfa8002efe740 srvnet.sys           0xf88002737000        0x2d000 \\SystemRoot\\System32\\DRIVERS\\srvnet.sys\n",
        "0xfa800128f010 TSDDD.dll            0xf96000640000         0xa000 \\SystemRoot\\System32\\TSDDD.dll\n",
        "0xfa80011e13e0 ksecpkg.sys          0xf88001579000        0x2b000 \\SystemRoot\\System32\\Drivers\\ksecpkg.sys\n",
        "0xfa8002e474a0 mrxsmb20.sys         0xf8800244e000        0x23000 \\SystemRoot\\system32\\DRIVERS\\mrxsmb20.sys\n",
        "0xfa80011e0260 atapi.sys            0xf88000ebb000         0x9000 \\SystemRoot\\system32\\DRIVERS\\atapi.sys\n",
        "0xfa8002433d00 afd.sys              0xf88003c1c000        0x89000 \\SystemRoot\\system32\\drivers\\afd.sys\n",
        "0xfa8002c0bbb0 dump_msahci.sys      0xf880045b9000         0xb000 \\SystemRoot\\System32\\Drivers\\dump_msahci.sys\n",
        "0xfa800241c100 parport.sys          0xf88003e5e000        0x1d000 \\SystemRoot\\system32\\DRIVERS\\parport.sys\n",
        "0xfa80043ffcb0 RDPCDD.sys           0xf880019a0000         0x9000 \\SystemRoot\\System32\\DRIVERS\\RDPCDD.sys\n"
       ]
      },
      {
       "output_type": "stream",
       "stream": "stdout",
       "text": [
        "0xfa8002473010 blbdrive.sys         0xf88003f3f000        0x11000 \\SystemRoot\\system32\\DRIVERS\\blbdrive.sys\n",
        "0xfa80011e0e40 ACPI.sys             0xf88000fa0000        0x57000 \\SystemRoot\\system32\\DRIVERS\\ACPI.sys\n",
        "0xfa80011e0c70 msisadrv.sys         0xf88000e00000         0xa000 \\SystemRoot\\system32\\DRIVERS\\msisadrv.sys\n",
        "0xfa80011e2c60 hwpolicy.sys         0xf88001862000         0x9000 \\SystemRoot\\System32\\drivers\\hwpolicy.sys\n",
        "0xfa80011e17a0 pcw.sys              0xf880013ea000        0x11000 \\SystemRoot\\System32\\drivers\\pcw.sys\n",
        "0xfa80011e11d0 fwpkclnt.sys         0xf880015a4000        0x49000 \\SystemRoot\\System32\\drivers\\fwpkclnt.sys\n",
        "0xfa800244e4b0 mssmbios.sys         0xf88003c00000         0xb000 \\SystemRoot\\system32\\DRIVERS\\mssmbios.sys\n",
        "0xfa80024255b0 HDAudBus.sys         0xf88003fc7000        0x24000 \\SystemRoot\\system32\\DRIVERS\\HDAudBus.sys\n",
        "0xfa8002435c90 VBoxSF.sys           0xf88003d28000        0x4c000 \\SystemRoot\\system32\\drivers\\VBoxSF.sys\n"
       ]
      },
      {
       "output_type": "stream",
       "stream": "stdout",
       "text": [
        "0xfa80030be2c0 srv.sys              0xf88002a54000        0x95000 \\SystemRoot\\System32\\DRIVERS\\srv.sys\n",
        "0xfa8002c0dc90 VBoxDisp.dll         0xf960009d0000        0x1d000 \\SystemRoot\\System32\\VBoxDisp.dll\n",
        "0xfa80011e0520 intelide.sys         0xf88000e89000         0x8000 \\SystemRoot\\system32\\DRIVERS\\intelide.sys\n",
        "0xfa800243bf30 wfplwf.sys           0xf88003cea000         0x9000 \\SystemRoot\\system32\\DRIVERS\\wfplwf.sys\n",
        "0xfa80011d92b0 PSHED.dll            0xf88000ccb000        0x14000 \\SystemRoot\\system32\\PSHED.dll\n",
        "0xfa8002f0d440 secdrv.SYS           0xf8800272c000         0xb000 \\SystemRoot\\System32\\Drivers\\secdrv.SYS\n",
        "0xfa800188eca0 mouhid.sys           0xf88002b73000         0xd000 \\SystemRoot\\system32\\DRIVERS\\mouhid.sys\n"
       ]
      },
      {
       "output_type": "stream",
       "stream": "stdout",
       "text": [
        "0xfa800244d320 rdbss.sys            0xf88003da3000        0x51000 \\SystemRoot\\system32\\DRIVERS\\rdbss.sys\n",
        "0xfa80011d7ad0 mouclass.sys         0xf88003e4f000         0xf000 \\SystemRoot\\system32\\DRIVERS\\mouclass.sys\n",
        "0xfa8001250010 monitor.sys          0xf880045e3000         0xe000 \\SystemRoot\\system32\\DRIVERS\\monitor.sys\n",
        "0xfa80044eb410 pme17F2.tmp          0xf88002bb0000        0x10000 \\??\\C:\\Users\\mic\\AppData\\Local\\Temp\\pme17F2.tmp\n",
        "0xfa80011e0430 PCIIDEX.SYS          0xf88000e91000        0x10000 \\SystemRoot\\system32\\DRIVERS\\PCIIDEX.SYS\n",
        "0xfa80011e2f20 volsnap.sys          0xf88001000000        0x4c000 \\SystemRoot\\system32\\DRIVERS\\volsnap.sys\n",
        "0xfa800239ac30 CompositeBus.sys     0xf880040d3000        0x10000 \\SystemRoot\\system32\\DRIVERS\\CompositeBus.sys\n",
        "0xfa8002c1d8b0 dump_dumpfve.sys     0xf880045c4000        0x13000 \\SystemRoot\\System32\\Drivers\\dump_dumpfve.sys\n",
        "0xfa8002440e50 termdd.sys           0xf88003d8f000        0x14000 \\SystemRoot\\system32\\DRIVERS\\termdd.sys\n"
       ]
      },
      {
       "output_type": "stream",
       "stream": "stdout",
       "text": [
        "0xfa800243a410 VBoxVideo.sys        0xf88003f76000        0x2d000 \\SystemRoot\\system32\\DRIVERS\\VBoxVideo.sys\n",
        "0xfa80023c8580 rasl2tp.sys          0xf880040f9000        0x24000 \\SystemRoot\\system32\\DRIVERS\\rasl2tp.sys\n",
        "0xfa80011e1970 cng.sys              0xf88001157000        0x72000 \\SystemRoot\\System32\\Drivers\\cng.sys\n",
        "0xfa800243b130 netbios.sys          0xf88003d19000         0xf000 \\SystemRoot\\system32\\DRIVERS\\netbios.sys\n",
        "0xfa80032c64f0 CmBatt.sys           0xf880040b8000         0x5000 \\SystemRoot\\system32\\DRIVERS\\CmBatt.sys\n",
        "0xfa80024e0950 umbus.sys            0xf88004000000        0x12000 \\SystemRoot\\system32\\DRIVERS\\umbus.sys\n",
        "0xfa80011e14d0 NETIO.SYS            0xf88001519000        0x60000 \\SystemRoot\\system32\\drivers\\NETIO.SYS\n"
       ]
      },
      {
       "output_type": "stream",
       "stream": "stdout",
       "text": [
        "0xfa8002e4f160 mrxsmb.sys           0xf880025bc000        0x2d000 \\SystemRoot\\system32\\DRIVERS\\mrxsmb.sys\n",
        "0xfa80023b8c30 ndistapi.sys         0xf8800411d000         0xc000 \\SystemRoot\\system32\\DRIVERS\\ndistapi.sys\n",
        "0xfa80011d91c0 CLFS.SYS             0xf88000cdf000        0x5e000 \\SystemRoot\\system32\\CLFS.SYS\n",
        "0xfa80011e0340 mountmgr.sys         0xf88000ea1000        0x1a000 \\SystemRoot\\System32\\drivers\\mountmgr.sys\n",
        "0xfa80022d5010 AgileVpn.sys         0xf880040e3000        0x16000 \\SystemRoot\\system32\\DRIVERS\\AgileVpn.sys\n",
        "0xfa8002f11150 peauth.sys           0xf88002686000        0xa6000 \\SystemRoot\\system32\\drivers\\peauth.sys\n",
        "0xfa80011e1880 VBoxGuest.sys        0xf880013c4000        0x26000 \\SystemRoot\\system32\\DRIVERS\\VBoxGuest.sys\n",
        "0xfa8001c1cf20 HIDCLASS.SYS         0xf88002b58000        0x19000 \\SystemRoot\\system32\\DRIVERS\\HIDCLASS.SYS\n"
       ]
      },
      {
       "output_type": "stream",
       "stream": "stdout",
       "text": [
        "0xfa8002436580 netbt.sys            0xf88003ca5000        0x45000 \\SystemRoot\\System32\\DRIVERS\\netbt.sys\n",
        "0xfa8002cac340 bowser.sys           0xf88002586000        0x1e000 \\SystemRoot\\system32\\DRIVERS\\bowser.sys\n",
        "0xfa80011e1b40 msrpc.sys            0xf880010f9000        0x5e000 \\SystemRoot\\System32\\Drivers\\msrpc.sys\n",
        "0xfa80024b7a70 ks.sys               0xf880041bb000        0x43000 \\SystemRoot\\system32\\DRIVERS\\ks.sys\n",
        "0xfa8002630010 rdpencdd.sys         0xf880019a9000         0x9000 \\SystemRoot\\system32\\drivers\\rdpencdd.sys\n",
        "0xfa80011e0b90 pci.sys              0xf88000e0a000        0x33000 \\SystemRoot\\system32\\DRIVERS\\pci.sys\n",
        "0xfa8002772de0 VIDEOPRT.SYS         0xf8800196b000        0x25000 \\SystemRoot\\System32\\drivers\\VIDEOPRT.SYS\n"
       ]
      },
      {
       "output_type": "stream",
       "stream": "stdout",
       "text": [
        "0xfa80021b3550 win32k.sys           0xf960000b0000       0x316000 \\SystemRoot\\System32\\win32k.sys\n",
        "0xfa8002be6e60 dump_pciidex.sys     0xf880045ad000         0xc000 \\SystemRoot\\System32\\Drivers\\dump_dumpata.sys\n",
        "0xfa8003044a10 HTTP.sys             0xf880024be000        0xc8000 \\SystemRoot\\system32\\drivers\\HTTP.sys\n",
        "0xfa80011e1f20 amdxata.sys          0xf8800108e000         0xb000 \\SystemRoot\\system32\\drivers\\amdxata.sys\n",
        "0xfa8002384530 usbhub.sys           0xf8800446f000        0x5a000 \\SystemRoot\\system32\\DRIVERS\\usbhub.sys\n",
        "0xfa80011e2aa0 disk.sys             0xf880018a5000        0x16000 \\SystemRoot\\system32\\DRIVERS\\disk.sys\n",
        "0xfa8002430d00 tunnel.sys           0xf88003f50000        0x26000 \\SystemRoot\\system32\\DRIVERS\\tunnel.sys\n",
        "0xfa8002b34010 luafv.sys            0xf88004431000        0x23000 \\SystemRoot\\system32\\drivers\\luafv.sys\n"
       ]
      },
      {
       "output_type": "stream",
       "stream": "stdout",
       "text": [
        "0xfa80011e10f0 spldr.sys            0xf88001400000         0x8000 \\SystemRoot\\System32\\Drivers\\spldr.sys\n",
        "0xfa8002e49010 mrxsmb10.sys         0xf88002400000        0x4e000 \\SystemRoot\\system32\\DRIVERS\\mrxsmb10.sys\n",
        "0xfa8002b6a010 rspndr.sys           0xf88004012000        0x18000 \\SystemRoot\\system32\\DRIVERS\\rspndr.sys\n",
        "0xfa800243c540 pacer.sys            0xf88003cf3000        0x26000 \\SystemRoot\\system32\\DRIVERS\\pacer.sys\n",
        "0xfa80011e1e30 fltmgr.sys           0xf88001099000        0x4c000 \\SystemRoot\\system32\\drivers\\fltmgr.sys\n",
        "0xfa8002b470e0 lltdio.sys           0xf88004454000        0x15000 \\SystemRoot\\system32\\DRIVERS\\lltdio.sys\n",
        "0xfa80011e2e30 rdyboost.sys         0xf88001816000        0x3a000 \\SystemRoot\\System32\\drivers\\rdyboost.sys\n",
        "0xfa80011e0d60 WMILIB.SYS           0xf88000ff7000         0x9000 \\SystemRoot\\system32\\DRIVERS\\WMILIB.SYS\n",
        "0xfa80023dd010 raspppoe.sys         0xf88004158000        0x1b000 \\SystemRoot\\system32\\DRIVERS\\raspppoe.sys\n"
       ]
      },
      {
       "output_type": "stream",
       "stream": "stdout",
       "text": [
        "0xfa80024dee30 swenum.sys           0xf880041b9000         0x2000 \\SystemRoot\\system32\\DRIVERS\\swenum.sys\n",
        "0xfa80011df6c0 kdcom.dll            0xf80000ba0000         0xa000 \\SystemRoot\\system32\\kdcom.dll\n",
        "0xfa80011e0170 ataport.SYS          0xf88000c5c000        0x2a000 \\SystemRoot\\system32\\DRIVERS\\ataport.SYS\n",
        "0xfa80023dd110 raspptp.sys          0xf88004173000        0x21000 \\SystemRoot\\system32\\DRIVERS\\raspptp.sys\n",
        "0xfa80011e0aa0 vdrvroot.sys         0xf88000e3d000         0xd000 \\SystemRoot\\system32\\DRIVERS\\vdrvroot.sys\n",
        "0xfa800242c5a0 kbdclass.sys         0xf88003e1e000         0xf000 \\SystemRoot\\system32\\DRIVERS\\kbdclass.sys\n",
        "0xfa80024222b0 USBPORT.SYS          0xf88004062000        0x56000 \\SystemRoot\\system32\\DRIVERS\\USBPORT.SYS\n",
        "0xfa8002ac7600 usbohci.sys          0xf88003e7b000         0xb000 \\SystemRoot\\system32\\DRIVERS\\usbohci.sys\n",
        "0xfa80011e08c0 compbatt.sys         0xf88000e5f000         0x9000 \\SystemRoot\\system32\\DRIVERS\\compbatt.sys\n"
       ]
      },
      {
       "output_type": "stream",
       "stream": "stdout",
       "text": [
        "0xfa800244c140 wanarp.sys           0xf88003d74000        0x1b000 \\SystemRoot\\system32\\DRIVERS\\wanarp.sys\n",
        "0xfa80030be760 srv2.sys             0xf88002600000        0x67000 \\SystemRoot\\System32\\DRIVERS\\srv2.sys\n",
        "0xfa80011e1010 msahci.sys           0xf88001083000         0xb000 \\SystemRoot\\system32\\DRIVERS\\msahci.sys\n",
        "0xfa8002f2d520 tcpipreg.sys         0xf88002764000        0x12000 \\SystemRoot\\System32\\drivers\\tcpipreg.sys\n",
        "0xfa8002bdb2e0 NDProxy.SYS          0xf880044c9000        0x15000 \\SystemRoot\\System32\\Drivers\\NDProxy.SYS\n",
        "0xfa80024548d0 nsiproxy.sys         0xf88003df4000         0xc000 \\SystemRoot\\system32\\drivers\\nsiproxy.sys\n",
        "0xfa80011e09b0 partmgr.sys          0xf88000e4a000        0x15000 \\SystemRoot\\System32\\drivers\\partmgr.sys\n",
        "0xfa80011d9390 mcupdate.dll         0xf88000c87000        0x44000 \\SystemRoot\\system32\\mcupdate_GenuineIntel.dll\n",
        "0xfa80011e07e0 BATTC.SYS            0xf88000e68000         0xc000 \\SystemRoot\\system32\\DRIVERS\\BATTC.SYS\n"
       ]
      },
      {
       "output_type": "stream",
       "stream": "stdout",
       "text": [
        "0xfa8002425010 i8042prt.sys         0xf88003e00000        0x1e000 \\SystemRoot\\system32\\DRIVERS\\i8042prt.sys\n",
        "0xfa80011e16c0 Fs_Rec.sys           0xf880011c9000         0xa000 \\SystemRoot\\System32\\Drivers\\Fs_Rec.sys\n",
        "0xfa80011e0700 volmgr.sys           0xf88000e74000        0x15000 \\SystemRoot\\system32\\DRIVERS\\volmgr.sys\n",
        "0xfa80011e1a60 ksecdd.sys           0xf880013aa000        0x1a000 \\SystemRoot\\System32\\Drivers\\ksecdd.sys\n",
        "0xfa8002451c00 discache.sys         0xf88003c0b000         0xf000 \\SystemRoot\\System32\\drivers\\discache.sys\n",
        "0xfa80011e2b80 fvevol.sys           0xf8800186b000        0x3a000 \\SystemRoot\\System32\\DRIVERS\\fvevol.sys\n",
        "0xfa80011d90d0 CI.dll               0xf88000d3d000        0xc0000 \\SystemRoot\\system32\\CI.dll\n",
        "0xfa800284e3b0 Null.SYS             0xf8800194d000         0x9000 \\SystemRoot\\System32\\Drivers\\Null.SYS\n"
       ]
      },
      {
       "output_type": "stream",
       "stream": "stdout",
       "text": [
        "0xfa80024d5a60 rdpbus.sys           0xf880041ae000         0xb000 \\SystemRoot\\system32\\DRIVERS\\rdpbus.sys\n",
        "0xfa8002c37220 HdAudio.sys          0xf880044de000        0x5c000 \\SystemRoot\\system32\\drivers\\HdAudio.sys\n",
        "0xfa80024b84d0 HIDPARSE.SYS         0xf88004419000         0x9000 \\SystemRoot\\system32\\DRIVERS\\HIDPARSE.SYS\n",
        "0xfa8002473e70 dfsc.sys             0xf88003f21000        0x1e000 \\SystemRoot\\System32\\Drivers\\dfsc.sys\n",
        "0xfa8002c27260 TDI.SYS              0xf88001800000         0xd000 \\SystemRoot\\system32\\DRIVERS\\TDI.SYS\n",
        "0xfa80021dade0 rdprefmp.sys         0xf880019b2000         0x9000 \\SystemRoot\\system32\\drivers\\rdprefmp.sys\n",
        "0xfa80021b14d0 Dxapi.sys            0xf880045d7000         0xc000 \\SystemRoot\\System32\\drivers\\Dxapi.sys\n"
       ]
      }
     ],
     "prompt_number": 35
    },
    {
     "cell_type": "code",
     "collapsed": false,
     "input": [
      "vad proc_regex=\"rekal\""
     ],
     "language": "python",
     "metadata": {},
     "outputs": [
      {
       "output_type": "stream",
       "stream": "stdout",
       "text": [
        "**************************************************\n",
        "Pid: 3312 rekal.exe\n",
        "     VAD       lev     start           end        com -       -      Protect              Filename\n",
        "-------------- --- -------------- -------------- ---- ------- ------ -------------------- --------\n",
        "0xfa8003a86eb0 1         0x7ffe0        0x7ffef   -1 Private        READONLY             \n",
        "0xfa8001379170 2          0x1d00         0x1eff  512 Private        READWRITE            \n",
        "0xfa8003932160 3           0x1f0          0x2ef   26 Private        READWRITE            \n"
       ]
      },
      {
       "output_type": "stream",
       "stream": "stdout",
       "text": [
        "0xfa80036ff0e0 4            0x50           0x50    1 Private        READWRITE            \n",
        "0xfa8001826b00 5            0x30           0x33    0 Mapped         READONLY             Pagefile-backed section\n",
        "0xfa800259b010 6            0x10           0x1f    0 Mapped         READWRITE            Pagefile-backed section\n"
       ]
      },
      {
       "output_type": "stream",
       "stream": "stdout",
       "text": [
        "0xfa8001f3f1c0 7            0x20           0x2f    0 Mapped         READWRITE            Pagefile-backed section\n",
        "0xfa8003e2ecc0 6            0x40           0x42    0 Mapped         READONLY             Pagefile-backed section\n",
        "0xfa8002d172e0 5           0x170          0x1d6    0 Mapped         READONLY             \\Windows\\System32\\locale.nls\n"
       ]
      },
      {
       "output_type": "stream",
       "stream": "stdout",
       "text": [
        "0xfa80031ae0d0 6            0x70          0x16f  116 Private        READWRITE            \n",
        "0xfa80041fad20 7            0x60           0x60    0 Mapped         READONLY             Pagefile-backed section\n",
        "0xfa8003b0c300 6           0x1e0          0x1e2    0 Mapped         READONLY             Pagefile-backed section\n",
        "0xfa80036b4110 4           0x350          0x44f   14 Private        READWRITE            \n"
       ]
      },
      {
       "output_type": "stream",
       "stream": "stdout",
       "text": [
        "0xfa8003d10160 5           0x320          0x320    1 Private Exe    EXECUTE_READWRITE    \n",
        "0xfa80089fc2d0 6           0x300          0x300    1 Private        READWRITE            \n",
        "0xfa8002ff8f70 7           0x2f0          0x2f0    1 Private        READWRITE            \n",
        "0xfa80016d08f0 7           0x310          0x31d    4 Mapped  Exe    EXECUTE_WRITECOPY    \\Program Files\\Rekall\\_socket.pyd\n"
       ]
      },
      {
       "output_type": "stream",
       "stream": "stdout",
       "text": [
        "0xfa8002e75840 6           0x340          0x34f   11 Private        READWRITE            \n",
        "0xfa80016a6180 7           0x330          0x330    0 Mapped         READONLY             Pagefile-backed section\n",
        "0xfa80019dc0e0 5           0x4b0          0x4bf    2 Private        READWRITE            \n",
        "0xfa8003caa0d0 6           0x490          0x49f   16 Private        READWRITE            \n"
       ]
      },
      {
       "output_type": "stream",
       "stream": "stdout",
       "text": [
        "0xfa80033c0a70 7           0x450          0x46b   11 Mapped  Exe    EXECUTE_WRITECOPY    \\Program Files\\Rekall\\dlls\\distorm3.dll\n",
        "0xfa800231fc20 8           0x470          0x481    3 Mapped  Exe    EXECUTE_WRITECOPY    \\Program Files\\Rekall\\_sqlite3.pyd\n",
        "0xfa8001add430 7           0x4a0          0x4a0    0 Mapped         READONLY             Pagefile-backed section\n"
       ]
      },
      {
       "output_type": "stream",
       "stream": "stdout",
       "text": [
        "0xfa80030c1850 6           0x4e0          0x667    0 Mapped         READONLY             Pagefile-backed section\n",
        "0xfa800138c390 7           0x4d0          0x4df   16 Private        READWRITE            \n"
       ]
      },
      {
       "output_type": "stream",
       "stream": "stdout",
       "text": [
        "0xfa8003648b60 8           0x4c0          0x4c6    2 Mapped  Exe    EXECUTE_WRITECOPY    \\Program Files\\Rekall\\zmq.utils.initthreads.pyd\n",
        "0xfa8001ca6a00 7           0x800         0x1bff    0 Mapped         READONLY             Pagefile-backed section\n",
        "0xfa800360cc00 8           0x670          0x7f0    0 Mapped         READONLY             Pagefile-backed section\n",
        "0xfa800149f760 8          0x1c00         0x1cff  256 Private        READWRITE            \n",
        "0xfa80043811d0 3          0x44e0         0x44ef    2 Private        READWRITE            \n"
       ]
      },
      {
       "output_type": "stream",
       "stream": "stdout",
       "text": [
        "0xfa8001be9ec0 4          0x3180         0x318f    7 Private        READWRITE            \n",
        "0xfa8004432170 5          0x2690         0x2e8f 2048 Private        READWRITE            \n",
        "0xfa8004206b90 6          0x2300         0x23bf  192 Mapped         WRITECOPY            \\Windows\\System32\\en-US\\KernelBase.dll.mui\n"
       ]
      },
      {
       "output_type": "stream",
       "stream": "stdout",
       "text": [
        "0xfa8002212490 7          0x1f00         0x22ff 1024 Private        READWRITE            \n",
        "0xfa80035aa5e0 7          0x23c0         0x268e    0 Mapped         READONLY             \\Windows\\Globalization\\Sorting\\SortDefault.nls\n",
        "0xfa8001e16ca0 6          0x3150         0x315c    4 Mapped  Exe    EXECUTE_WRITECOPY    \\Program Files\\Rekall\\zmq.backend.cython.constants.pyd\n"
       ]
      },
      {
       "output_type": "stream",
       "stream": "stdout",
       "text": [
        "0xfa8003909070 7          0x2fc0         0x30bf   14 Private        READWRITE            \n",
        "0xfa8003dc7340 8          0x2e90         0x2fb2   51 Mapped  Exe    EXECUTE_WRITECOPY    \\Program Files\\Rekall\\_ssl.pyd\n",
        "0xfa8001a99e20 8          0x30c0         0x3146   11 Mapped  Exe    EXECUTE_WRITECOPY    \\Program Files\\Rekall\\sqlite3.dll\n",
        "0xfa8003d39e10 7          0x3160         0x3166    2 Mapped  Exe    EXECUTE_WRITECOPY    \\Program Files\\Rekall\\zmq.backend.cython.error.pyd\n"
       ]
      },
      {
       "output_type": "stream",
       "stream": "stdout",
       "text": [
        "0xfa80034adbf0 8          0x3170         0x317e    4 Mapped  Exe    EXECUTE_WRITECOPY    \\Program Files\\Rekall\\zmq.backend.cython.message.pyd\n",
        "0xfa80032b8120 5          0x41b0         0x41bb    3 Mapped  Exe    EXECUTE_WRITECOPY    \\Program Files\\Rekall\\zmq.backend.cython._poll.pyd\n"
       ]
      },
      {
       "output_type": "stream",
       "stream": "stdout",
       "text": [
        "0xfa8003883540 6          0x4190         0x419f    8 Private        READWRITE            \n",
        "0xfa8001e75360 7          0x4160         0x416c    4 Mapped  Exe    EXECUTE_WRITECOPY    \\Program Files\\Rekall\\zmq.backend.cython.context.pyd\n",
        "0xfa8002b322c0 8          0x3190         0x415f 4048 Private        READWRITE            \n",
        "0xfa8003690190 8          0x4170         0x4185    6 Mapped  Exe    EXECUTE_WRITECOPY    \\Program Files\\Rekall\\zmq.backend.cython.socket.pyd\n"
       ]
      },
      {
       "output_type": "stream",
       "stream": "stdout",
       "text": [
        "0xfa80015d5e10 7          0x41a0         0x41a8    3 Mapped  Exe    EXECUTE_WRITECOPY    \\Program Files\\Rekall\\zmq.backend.cython.utils.pyd\n",
        "0xfa8003d4f8d0 6          0x4300         0x430b    3 Mapped  Exe    EXECUTE_WRITECOPY    \\Program Files\\Rekall\\zmq.devices.monitoredqueue.pyd\n",
        "0xfa8003983290 7          0x41f0         0x42ef   55 Private        READWRITE            \n"
       ]
      },
      {
       "output_type": "stream",
       "stream": "stdout",
       "text": [
        "0xfa800180c8f0 8          0x41d0         0x41da    3 Mapped  Exe    EXECUTE_WRITECOPY    \\Program Files\\Rekall\\zmq.backend.cython._device.pyd\n",
        "0xfa8003161dc0 9          0x41c0         0x41c6    2 Mapped  Exe    EXECUTE_WRITECOPY    \\Program Files\\Rekall\\zmq.backend.cython._version.pyd\n",
        "0xfa80043590d0 9          0x41e0         0x41ef   16 Private        READWRITE            \n"
       ]
      },
      {
       "output_type": "stream",
       "stream": "stdout",
       "text": [
        "0xfa8003041d80 8          0x42f0         0x42fa    2 Mapped  Exe    EXECUTE_WRITECOPY    \\Program Files\\Rekall\\_multiprocessing.pyd\n",
        "0xfa8001463430 7          0x4340         0x43bf    2 Private        READWRITE            \n",
        "0xfa800471a7b0 8          0x4320         0x4321    0 Mapped         READONLY             Pagefile-backed section\n"
       ]
      },
      {
       "output_type": "stream",
       "stream": "stdout",
       "text": [
        "0xfa8003365450 9          0x4310         0x4310    0 Mapped         READWRITE            Pagefile-backed section\n",
        "0xfa8001ca6580 9          0x4330         0x433c   13 Mapped         WRITECOPY            \\Windows\\System32\\en-US\\setupapi.dll.mui\n",
        "0xfa8003c9f960 8          0x4420         0x44ca  165 Mapped  Exe    EXECUTE_WRITECOPY    \\Program Files\\Rekall\\unicodedata.pyd\n"
       ]
      },
      {
       "output_type": "stream",
       "stream": "stdout",
       "text": [
        "0xfa80020dfab0 9          0x43c0         0x4416   15 Mapped  Exe    EXECUTE_WRITECOPY    \\Program Files\\Rekall\\zmq\\libzmq.pyd\n",
        "0xfa8004501170 9          0x44d0         0x44d1    0 Mapped         READONLY             Pagefile-backed section\n"
       ]
      },
      {
       "output_type": "stream",
       "stream": "stdout",
       "text": [
        "0xfa80035e5bb0 4         0x1e000        0x1e2ea  122 Mapped  Exe    EXECUTE_WRITECOPY    \\Program Files\\Rekall\\python27.dll\n",
        "0xfa8003d6ce00 5          0x4c90         0x5c5f  894 Private        READWRITE            \n",
        "0xfa80040140d0 6          0x4640         0x4940  769 Private        READWRITE            \n",
        "0xfa800151ce60 7          0x4540         0x463f    4 Private        READWRITE            \n"
       ]
      },
      {
       "output_type": "stream",
       "stream": "stdout",
       "text": [
        "0xfa800364f5d0 8          0x44f0         0x44f0    0 Mapped         READONLY             Pagefile-backed section\n",
        "0xfa80023d4e70 7          0x4ad0         0x4adf    6 Private        READWRITE            \n"
       ]
      },
      {
       "output_type": "stream",
       "stream": "stdout",
       "text": [
        "0xfa80015430d0 8          0x4a30         0x4aaf    2 Private        READWRITE            \n",
        "0xfa80039730d0 9          0x4950         0x4a2e    0 Mapped         READONLY             Pagefile-backed section\n",
        "0xfa8002b491a0 8          0x4b90         0x4c8f    6 Private        READWRITE            \n",
        "0xfa80014949f0 6          0x6210         0x628f   20 Private        READWRITE            \n"
       ]
      },
      {
       "output_type": "stream",
       "stream": "stdout",
       "text": [
        "0xfa8002342930 7          0x5f40         0x603f    4 Private        READWRITE            \n",
        "0xfa8003aad160 8          0x60a0         0x619f    5 Private        READWRITE            \n"
       ]
      },
      {
       "output_type": "stream",
       "stream": "stdout",
       "text": [
        "0xfa8003e29820 7         0x1d110        0x1d115    2 Mapped  Exe    EXECUTE_WRITECOPY    \\Program Files\\Rekall\\select.pyd\n",
        "0xfa8001a2ea70 8         0x1d1a0        0x1d1be    5 Mapped  Exe    EXECUTE_WRITECOPY    \\Program Files\\Rekall\\_ctypes.pyd\n",
        "0xfa8003c9a160 5         0x72800        0x7289c    8 Mapped  Exe    EXECUTE_WRITECOPY    \\Windows\\winsxs\\amd64_microsoft.vc90.crt_1fc8b3b9a1e18e3b_9.0.30729.4926_none_08e1a05ba83fe554\\msvcr90.dll\n"
       ]
      },
      {
       "output_type": "stream",
       "stream": "stdout",
       "text": [
        "0xfa80013b0240 6         0x1ec80        0x1eca4    3 Mapped  Exe    EXECUTE_WRITECOPY    \\Program Files\\Rekall\\win32security.pyd\n",
        "0xfa8001eb66c0 7         0x1e8c0        0x1e8e3    4 Mapped  Exe    EXECUTE_WRITECOPY    \\Program Files\\Rekall\\win32api.pyd\n"
       ]
      },
      {
       "output_type": "stream",
       "stream": "stdout",
       "text": [
        "0xfa8003968390 8         0x1e7a0        0x1e7c5    5 Mapped  Exe    EXECUTE_WRITECOPY    \\Program Files\\Rekall\\pywintypes27.dll\n",
        "0xfa800193a170 8         0x1ea10        0x1ea38    4 Mapped  Exe    EXECUTE_WRITECOPY    \\Program Files\\Rekall\\win32file.pyd\n"
       ]
      },
      {
       "output_type": "stream",
       "stream": "stdout",
       "text": [
        "0xfa80016f5180 7         0x72710        0x727e0   10 Mapped  Exe    EXECUTE_WRITECOPY    \\Windows\\System32\\msvcr100.dll\n",
        "0xfa8001f6fc00 8         0x72390        0x72462    5 Mapped  Exe    EXECUTE_WRITECOPY    \\Windows\\winsxs\\amd64_microsoft.vc90.crt_1fc8b3b9a1e18e3b_9.0.30729.4926_none_08e1a05ba83fe554\\msvcp90.dll\n",
        "0xfa8001647e20 8         0x727f0        0x727f2    0 Mapped  Exe    EXECUTE_WRITECOPY    \\Windows\\System32\\security.dll\n"
       ]
      },
      {
       "output_type": "stream",
       "stream": "stdout",
       "text": [
        "0xfa8004016e80 6         0x77540        0x776eb   12 Mapped  Exe    EXECUTE_WRITECOPY    \\Windows\\System32\\ntdll.dll\n",
        "0xfa80017e41e0 7         0x76fc0        0x771cf    5 Mapped  Exe    EXECUTE_WRITECOPY    \\Windows\\System32\\iertutil.dll\n",
        "0xfa8001f69b20 8         0x73a60        0x73a62    0 Mapped  Exe    EXECUTE_WRITECOPY    \\Windows\\System32\\sfc.dll\n",
        "0xfa800168d010 9         0x76e60        0x76fba    9 Mapped  Exe    EXECUTE_WRITECOPY    \\Windows\\System32\\wininet.dll\n",
        "0xfa8002b34840 8         0x77320        0x7743e    4 Mapped  Exe    EXECUTE_WRITECOPY    \\Windows\\System32\\kernel32.dll\n"
       ]
      },
      {
       "output_type": "stream",
       "stream": "stdout",
       "text": [
        "0xfa800132a1f0 9         0x771d0        0x7731c   14 Mapped  Exe    EXECUTE_WRITECOPY    \\Windows\\System32\\urlmon.dll\n",
        "0xfa80048ee110 9         0x77440        0x77539    3 Mapped  Exe    EXECUTE_WRITECOPY    \\Windows\\System32\\user32.dll\n",
        "0xfa8001f30e30 7         0x7efe0        0x7f0df    0 Mapped         READONLY             Pagefile-backed section\n",
        "0xfa800185b160 8         0x77700        0x77702    0 Mapped  Exe    EXECUTE_WRITECOPY    \\Windows\\System32\\normaliz.dll\n"
       ]
      },
      {
       "output_type": "stream",
       "stream": "stdout",
       "text": [
        "0xfa800368c150 8         0x7f0e0        0x7ffdf    0 Private        READONLY             \n",
        "0xfa800395e2a0 2      0x7fefdc30     0x7fefdc9b    3 Mapped  Exe    EXECUTE_WRITECOPY    \\Windows\\System32\\KernelBase.dll\n",
        "0xfa8004267b10 3      0x7fefcf80     0x7fefcfc6    5 Mapped  Exe    EXECUTE_WRITECOPY    \\Windows\\System32\\rsaenh.dll\n"
       ]
      },
      {
       "output_type": "stream",
       "stream": "stdout",
       "text": [
        "0xfa800142ce20 4      0x7fefa730     0x7fefa73f    2 Mapped  Exe    EXECUTE_WRITECOPY    \\Windows\\System32\\sfc_os.dll\n",
        "0xfa8001b15480 5      0x7fef9320     0x7fef9338    2 Mapped  Exe    EXECUTE_WRITECOPY    \\Windows\\System32\\pnrpnsp.dll\n",
        "0xfa80021c4890 6        0x180000       0x180076   18 Mapped  Exe    EXECUTE_WRITECOPY    \\Program Files\\Rekall\\_hashlib.pyd\n"
       ]
      },
      {
       "output_type": "stream",
       "stream": "stdout",
       "text": [
        "0xfa80038d4a30 7        0x13f760       0x13f7a0   13 Mapped  Exe    EXECUTE_WRITECOPY    \\Program Files\\Rekall\\rekal.exe\n",
        "0xfa80037a9e20 7      0x7fef3750     0x7fef3774    4 Mapped  Exe    EXECUTE_WRITECOPY    \\Program Files\\Rekall\\dlls\\libyara.dll\n",
        "0xfa8003aba1d0 6      0x7fefa5d0     0x7fefa5f6    2 Mapped  Exe    EXECUTE_WRITECOPY    \\Windows\\System32\\ntdsapi.dll\n",
        "0xfa80015f3c20 7      0x7fefa590     0x7fefa597    2 Mapped  Exe    EXECUTE_WRITECOPY    \\Windows\\System32\\rasadhlp.dll\n"
       ]
      },
      {
       "output_type": "stream",
       "stream": "stdout",
       "text": [
        "0xfa800169de20 7      0x7fefa600     0x7fefa614    2 Mapped  Exe    EXECUTE_WRITECOPY    \\Windows\\System32\\NapiNSP.dll\n",
        "0xfa8001eb8e20 8      0x7fefa620     0x7fefa62a    2 Mapped  Exe    EXECUTE_WRITECOPY    \\Windows\\System32\\winrnr.dll\n",
        "0xfa80031d80d0 5      0x7fefc220     0x7fefc275    4 Mapped  Exe    EXECUTE_WRITECOPY    \\Windows\\System32\\uxtheme.dll\n"
       ]
      },
      {
       "output_type": "stream",
       "stream": "stdout",
       "text": [
        "0xfa8001579e20 6      0x7fefbb30     0x7fefbb3b    2 Mapped  Exe    EXECUTE_WRITECOPY    \\Windows\\System32\\netutils.dll\n",
        "0xfa80023ba320 7      0x7fefb500     0x7fefb514    2 Mapped  Exe    EXECUTE_WRITECOPY    \\Windows\\System32\\nlaapi.dll\n"
       ]
      },
      {
       "output_type": "stream",
       "stream": "stdout",
       "text": [
        "0xfa8001934c00 8      0x7fefb190     0x7fefb1e2    2 Mapped  Exe    EXECUTE_WRITECOPY    \\Windows\\System32\\FWPUCLNT.DLL\n",
        "0xfa8003d5b390 8      0x7fefbb10     0x7fefbb24    2 Mapped  Exe    EXECUTE_WRITECOPY    \\Windows\\System32\\wkscli.dll\n",
        "0xfa800439c130 7      0x7fefbb40     0x7fefbb55    2 Mapped  Exe    EXECUTE_WRITECOPY    \\Windows\\System32\\netapi32.dll\n"
       ]
      },
      {
       "output_type": "stream",
       "stream": "stdout",
       "text": [
        "0xfa8003372930 6      0x7fefcc30     0x7fefcc3a    2 Mapped  Exe    EXECUTE_WRITECOPY    \\Windows\\System32\\winnsi.dll\n",
        "0xfa8003554230 7      0x7fefc400     0x7fefc5f3    6 Mapped  Exe    EXECUTE_WRITECOPY    \\Windows\\winsxs\\amd64_microsoft.windows.common-controls_6595b64144ccf1df_6.0.7600.16661_none_fa62ad231704eab7\\comctl32.dll\n"
       ]
      },
      {
       "output_type": "stream",
       "stream": "stdout",
       "text": [
        "0xfa80035dcb10 8      0x7fefc280     0x7fefc3ab    4 Mapped  Exe    EXECUTE_WRITECOPY    \\Windows\\System32\\propsys.dll\n",
        "0xfa8004663b10 8      0x7fefcb50     0x7fefcb56    2 Mapped  Exe    EXECUTE_WRITECOPY    \\Windows\\System32\\WSHTCPIP.DLL\n"
       ]
      },
      {
       "output_type": "stream",
       "stream": "stdout",
       "text": [
        "0xfa80047b0d80 7      0x7fefcc40     0x7fefcc66    2 Mapped  Exe    EXECUTE_WRITECOPY    \\Windows\\System32\\IPHLPAPI.DLL\n",
        "0xfa80019bf960 8      0x7fefcc70     0x7fefcc7b    2 Mapped  Exe    EXECUTE_WRITECOPY    \\Windows\\System32\\version.dll\n"
       ]
      },
      {
       "output_type": "stream",
       "stream": "stdout",
       "text": [
        "0xfa8001a47490 4      0x7fefd820     0x7fefd82a    2 Mapped  Exe    EXECUTE_WRITECOPY    \\Windows\\System32\\secur32.dll\n",
        "0xfa8003624170 5      0x7fefd220     0x7fefd273    4 Mapped  Exe    EXECUTE_WRITECOPY    \\Windows\\System32\\mswsock.dll\n"
       ]
      },
      {
       "output_type": "stream",
       "stream": "stdout",
       "text": [
        "0xfa8001a8c9a0 6      0x7fefd0a0     0x7fefd0fa    6 Mapped  Exe    EXECUTE_WRITECOPY    \\Windows\\System32\\dnsapi.dll\n",
        "0xfa800338ea30 7      0x7fefd070     0x7fefd09f    3 Mapped  Exe    EXECUTE_WRITECOPY    \\Windows\\System32\\logoncli.dll\n",
        "0xfa8003dd77d0 7      0x7fefd210     0x7fefd216    2 Mapped  Exe    EXECUTE_WRITECOPY    \\Windows\\System32\\wship6.dll\n"
       ]
      },
      {
       "output_type": "stream",
       "stream": "stdout",
       "text": [
        "0xfa80016fcb70 6      0x7fefd280     0x7fefd296    2 Mapped  Exe    EXECUTE_WRITECOPY    \\Windows\\System32\\cryptsp.dll\n",
        "0xfa800168f8f0 7      0x7fefd780     0x7fefd7a2   10 Mapped  Exe    EXECUTE_WRITECOPY    \\Windows\\System32\\srvcli.dll\n"
       ]
      },
      {
       "output_type": "stream",
       "stream": "stdout",
       "text": [
        "0xfa8003f412c0 5      0x7fefd880     0x7fefd8d6    5 Mapped  Exe    EXECUTE_WRITECOPY    \\Windows\\System32\\apphelp.dll\n",
        "0xfa800359c180 6      0x7fefd850     0x7fefd874    3 Mapped  Exe    EXECUTE_WRITECOPY    \\Windows\\System32\\sspicli.dll\n"
       ]
      },
      {
       "output_type": "stream",
       "stream": "stdout",
       "text": [
        "0xfa8004548900 6      0x7fefd8e0     0x7fefd8ee    2 Mapped  Exe    EXECUTE_WRITECOPY    \\Windows\\System32\\cryptbase.dll\n",
        "0xfa800216f950 7      0x7fefdbd0     0x7fefdbe9    2 Mapped  Exe    EXECUTE_WRITECOPY    \\Windows\\System32\\devobj.dll\n"
       ]
      },
      {
       "output_type": "stream",
       "stream": "stdout",
       "text": [
        "0xfa80035c1b60 3      0x7feff3d0     0x7feff46e    7 Mapped  Exe    EXECUTE_WRITECOPY    \\Windows\\System32\\msvcrt.dll\n",
        "0xfa80038cdd60 4      0x7fefee40     0x7fefee47    2 Mapped  Exe    EXECUTE_WRITECOPY    \\Windows\\System32\\nsi.dll\n",
        "0xfa8003d2c170 5      0x7fefde70     0x7fefdf4a    7 Mapped  Exe    EXECUTE_WRITECOPY    \\Windows\\System32\\advapi32.dll\n"
       ]
      },
      {
       "output_type": "stream",
       "stream": "stdout",
       "text": [
        "0xfa8003c67b10 6      0x7fefddf0     0x7fefde3c    2 Mapped  Exe    EXECUTE_WRITECOPY    \\Windows\\System32\\ws2_32.dll\n",
        "0xfa8003176190 7      0x7fefdd80     0x7fefdde6    3 Mapped  Exe    EXECUTE_WRITECOPY    \\Windows\\System32\\gdi32.dll\n",
        "0xfa80022a7360 8      0x7fefdca0     0x7fefdcd5    2 Mapped  Exe    EXECUTE_WRITECOPY    \\Windows\\System32\\cfgmgr32.dll\n"
       ]
      },
      {
       "output_type": "stream",
       "stream": "stdout",
       "text": [
        "0xfa8002d6e740 7      0x7fefde60     0x7fefde6d    2 Mapped  Exe    EXECUTE_WRITECOPY    \\Windows\\System32\\lpk.dll\n",
        "0xfa8001491160 6      0x7fefdfa0     0x7fefed26   13 Mapped  Exe    EXECUTE_WRITECOPY    \\Windows\\System32\\shell32.dll\n"
       ]
      },
      {
       "output_type": "stream",
       "stream": "stdout",
       "text": [
        "0xfa8001f595c0 7      0x7fefed30     0x7fefee38    4 Mapped  Exe    EXECUTE_WRITECOPY    \\Windows\\System32\\msctf.dll\n",
        "0xfa80014d4a10 5      0x7feff060     0x7feff07e    4 Mapped  Exe    EXECUTE_WRITECOPY    \\Windows\\System32\\sechost.dll\n",
        "0xfa8001c15b40 6      0x7fefee50     0x7feff051    9 Mapped  Exe    EXECUTE_WRITECOPY    \\Windows\\System32\\ole32.dll\n"
       ]
      },
      {
       "output_type": "stream",
       "stream": "stdout",
       "text": [
        "0xfa80023ba660 6      0x7feff120     0x7feff1e9    4 Mapped  Exe    EXECUTE_WRITECOPY    \\Windows\\System32\\usp10.dll\n",
        "0xfa800225d550 7      0x7feff080     0x7feff118    7 Mapped  Exe    EXECUTE_WRITECOPY    \\Windows\\System32\\clbcatq.dll\n",
        "0xfa8003e12330 7      0x7feff1f0     0x7feff3c6    7 Mapped  Exe    EXECUTE_WRITECOPY    \\Windows\\System32\\setupapi.dll\n"
       ]
      },
      {
       "output_type": "stream",
       "stream": "stdout",
       "text": [
        "0xfa8002d0a490 4      0x7fffffb0     0x7fffffd2    0 Mapped         READONLY             Pagefile-backed section\n",
        "0xfa80039e6a20 5      0x7feff7a0     0x7feff7cd    3 Mapped  Exe    EXECUTE_WRITECOPY    \\Windows\\System32\\imm32.dll\n",
        "0xfa80037c0af0 6      0x7feff590     0x7feff6bd    3 Mapped  Exe    EXECUTE_WRITECOPY    \\Windows\\System32\\rpcrt4.dll\n"
       ]
      },
      {
       "output_type": "stream",
       "stream": "stdout",
       "text": [
        "0xfa8002d8ef80 7      0x7feff510     0x7feff580    3 Mapped  Exe    EXECUTE_WRITECOPY    \\Windows\\System32\\shlwapi.dll\n",
        "0xfa800158c9d0 7      0x7feff6c0     0x7feff796    4 Mapped  Exe    EXECUTE_WRITECOPY    \\Windows\\System32\\oleaut32.dll\n",
        "0xfa8001d3fd60 6      0x7fffffae     0x7fffffaf    2 Private        READWRITE            \n"
       ]
      },
      {
       "output_type": "stream",
       "stream": "stdout",
       "text": [
        "0xfa8003eaeeb0 7      0x7feff860     0x7feff860    0 Mapped  Exe    EXECUTE_WRITECOPY    \\Windows\\System32\\apisetschema.dll\n",
        "0xfa8001ee7eb0 5      0x7fffffd9     0x7fffffda    2 Private        READWRITE            \n",
        "0xfa800187c390 6      0x7fffffd5     0x7fffffd6    2 Private        READWRITE            \n"
       ]
      },
      {
       "output_type": "stream",
       "stream": "stdout",
       "text": [
        "0xfa8003e2e940 6      0x7fffffdd     0x7fffffde    2 Private        READWRITE            \n",
        "0xfa8003db3d60 7      0x7fffffdb     0x7fffffdc    2 Private        READWRITE            \n",
        "0xfa80022188f0 7      0x7fffffdf     0x7fffffdf    1 Private        READWRITE            \n",
        "**************************************************\n"
       ]
      },
      {
       "output_type": "stream",
       "stream": "stdout",
       "text": [
        "Pid: 4092 rekal.exe\n",
        "     VAD       lev     start           end        com -       -      Protect              Filename\n",
        "-------------- --- -------------- -------------- ---- ------- ------ -------------------- --------\n",
        "0xfa8003b67510 1         0x7ffe0        0x7ffef   -1 Private        READONLY             \n",
        "0xfa8004735170 2          0x4380         0x438f   16 Private        READWRITE            \n",
        "0xfa8003b8ad40 3          0x1db0         0x1dbf   16 Private        READWRITE            \n",
        "0xfa80012094e0 4           0x420          0x42f   11 Private        READWRITE            \n"
       ]
      },
      {
       "output_type": "stream",
       "stream": "stdout",
       "text": [
        "0xfa800437b2d0 5            0xe0          0x1df   28 Private        READWRITE            \n",
        "0xfa8001743a00 6            0x40           0x42    0 Mapped         READONLY             Pagefile-backed section\n",
        "0xfa8003e0bd90 7            0x20           0x2f    0 Mapped         READWRITE            Pagefile-backed section\n"
       ]
      },
      {
       "output_type": "stream",
       "stream": "stdout",
       "text": [
        "0xfa8003238e80 8            0x10           0x1f    0 Mapped         READWRITE            Pagefile-backed section\n",
        "0xfa8001aba8b0 8            0x30           0x33    0 Mapped         READONLY             Pagefile-backed section\n",
        "0xfa8003893bc0 7            0x60           0xc6    0 Mapped         READONLY             \\Windows\\System32\\locale.nls\n"
       ]
      },
      {
       "output_type": "stream",
       "stream": "stdout",
       "text": [
        "0xfa8003932e70 8            0x50           0x50    1 Private        READWRITE            \n",
        "0xfa8001350010 8            0xd0           0xd0    0 Mapped         READONLY             Pagefile-backed section\n",
        "0xfa8003303280 6           0x3f0          0x3f0    1 Private        READWRITE            \n"
       ]
      },
      {
       "output_type": "stream",
       "stream": "stdout",
       "text": [
        "0xfa80031c4d40 7           0x1f0          0x2ef  101 Private        READWRITE            \n",
        "0xfa80036e10c0 8           0x1e0          0x1e2    0 Mapped         READONLY             Pagefile-backed section\n",
        "0xfa80020d6110 8           0x2f0          0x3ef   14 Private        READWRITE            \n",
        "0xfa800177e800 7           0x400          0x400    1 Private        READWRITE            \n"
       ]
      },
      {
       "output_type": "stream",
       "stream": "stdout",
       "text": [
        "0xfa8001f73290 8           0x410          0x41d    4 Mapped  Exe    EXECUTE_WRITECOPY    \\Program Files\\Rekall\\_socket.pyd\n",
        "0xfa8002192380 5           0x620          0x62f   16 Private        READWRITE            \n",
        "0xfa800398f8a0 6           0x5d0          0x5eb   11 Mapped  Exe    EXECUTE_WRITECOPY    \\Program Files\\Rekall\\dlls\\distorm3.dll\n",
        "0xfa8001bf6070 7           0x5c0          0x5c0    1 Private Exe    EXECUTE_READWRITE    \n"
       ]
      },
      {
       "output_type": "stream",
       "stream": "stdout",
       "text": [
        "0xfa8003dcce20 8           0x430          0x5b7    0 Mapped         READONLY             Pagefile-backed section\n",
        "0xfa800456d850 7           0x5f0          0x601    3 Mapped  Exe    EXECUTE_WRITECOPY    \\Program Files\\Rekall\\_sqlite3.pyd\n"
       ]
      },
      {
       "output_type": "stream",
       "stream": "stdout",
       "text": [
        "0xfa80017d9ba0 8           0x610          0x610    0 Mapped         READONLY             Pagefile-backed section\n",
        "0xfa800160d010 6          0x1cc0         0x1d7f  192 Mapped         WRITECOPY            \\Windows\\System32\\en-US\\KernelBase.dll.mui\n",
        "0xfa80014665d0 7           0x7c0         0x1bbf    0 Mapped         READONLY             Pagefile-backed section\n",
        "0xfa80031be610 8           0x630          0x7b0    0 Mapped         READONLY             Pagefile-backed section\n"
       ]
      },
      {
       "output_type": "stream",
       "stream": "stdout",
       "text": [
        "0xfa80015c4640 8          0x1bc0         0x1cbf  256 Private        READWRITE            \n",
        "0xfa8002e77590 7          0x1d90         0x1d96    2 Mapped  Exe    EXECUTE_WRITECOPY    \\Program Files\\Rekall\\zmq.utils.initthreads.pyd\n",
        "0xfa80011d7010 8          0x1d80         0x1d80    0 Mapped         READONLY             Pagefile-backed section\n",
        "0xfa8003a78940 8          0x1da0         0x1dac    4 Mapped  Exe    EXECUTE_WRITECOPY    \\Program Files\\Rekall\\zmq.backend.cython.constants.pyd\n"
       ]
      },
      {
       "output_type": "stream",
       "stream": "stdout",
       "text": [
        "0xfa8002e80350 4          0x3140         0x314f    7 Private        READWRITE            \n",
        "0xfa80033521b0 5          0x2bc0         0x2e8e    0 Mapped         READONLY             \\Windows\\Globalization\\Sorting\\SortDefault.nls\n",
        "0xfa80033c7260 6          0x1fc0         0x23bf 1024 Private        READWRITE            \n"
       ]
      },
      {
       "output_type": "stream",
       "stream": "stdout",
       "text": [
        "0xfa800195bab0 7          0x1dc0         0x1fbf  512 Private        READWRITE            \n",
        "0xfa8003852170 7          0x23c0         0x2bbf 2048 Private        READWRITE            \n",
        "0xfa8003b825c0 6          0x2fc0         0x30bf   14 Private        READWRITE            \n",
        "0xfa8001343120 7          0x2e90         0x2fb2   51 Mapped  Exe    EXECUTE_WRITECOPY    \\Program Files\\Rekall\\_ssl.pyd\n"
       ]
      },
      {
       "output_type": "stream",
       "stream": "stdout",
       "text": [
        "0xfa8003bf4c90 7          0x3120         0x312f    6 Private        READWRITE            \n",
        "0xfa8002ffa090 8          0x30c0         0x3116   15 Mapped  Exe    EXECUTE_WRITECOPY    \\Program Files\\Rekall\\zmq\\libzmq.pyd\n",
        "0xfa800322b780 8          0x3130         0x3136    2 Mapped  Exe    EXECUTE_WRITECOPY    \\Program Files\\Rekall\\zmq.backend.cython.error.pyd\n"
       ]
      },
      {
       "output_type": "stream",
       "stream": "stdout",
       "text": [
        "0xfa8004231f80 5          0x4300         0x430b    3 Mapped  Exe    EXECUTE_WRITECOPY    \\Program Files\\Rekall\\zmq.backend.cython._poll.pyd\n",
        "0xfa8001efdf80 6          0x42b0         0x42be    4 Mapped  Exe    EXECUTE_WRITECOPY    \\Program Files\\Rekall\\zmq.backend.cython.message.pyd\n",
        "0xfa800312f660 7          0x4120         0x41a6   11 Mapped  Exe    EXECUTE_WRITECOPY    \\Program Files\\Rekall\\sqlite3.dll\n"
       ]
      },
      {
       "output_type": "stream",
       "stream": "stdout",
       "text": [
        "0xfa800324b0d0 8          0x3150         0x411f 4048 Private        READWRITE            \n",
        "0xfa8003016d40 8          0x41b0         0x42af   57 Private        READWRITE            \n",
        "0xfa80032ba390 7          0x42d0         0x42e5    6 Mapped  Exe    EXECUTE_WRITECOPY    \\Program Files\\Rekall\\zmq.backend.cython.socket.pyd\n"
       ]
      },
      {
       "output_type": "stream",
       "stream": "stdout",
       "text": [
        "0xfa80028b8950 8          0x42c0         0x42cc    4 Mapped  Exe    EXECUTE_WRITECOPY    \\Program Files\\Rekall\\zmq.backend.cython.context.pyd\n",
        "0xfa800231d8b0 8          0x42f0         0x42f8    3 Mapped  Exe    EXECUTE_WRITECOPY    \\Program Files\\Rekall\\zmq.backend.cython.utils.pyd\n",
        "0xfa8002267690 6          0x4340         0x434a    2 Mapped  Exe    EXECUTE_WRITECOPY    \\Program Files\\Rekall\\_multiprocessing.pyd\n"
       ]
      },
      {
       "output_type": "stream",
       "stream": "stdout",
       "text": [
        "0xfa80021165a0 7          0x4320         0x4326    2 Mapped  Exe    EXECUTE_WRITECOPY    \\Program Files\\Rekall\\zmq.backend.cython._version.pyd\n",
        "0xfa8002cb6c90 8          0x4310         0x431f    8 Private        READWRITE            \n",
        "0xfa80030e07a0 8          0x4330         0x433a    3 Mapped  Exe    EXECUTE_WRITECOPY    \\Program Files\\Rekall\\zmq.backend.cython._device.pyd\n",
        "0xfa800326dab0 7          0x4350         0x435b    3 Mapped  Exe    EXECUTE_WRITECOPY    \\Program Files\\Rekall\\zmq.devices.monitoredqueue.pyd\n"
       ]
      },
      {
       "output_type": "stream",
       "stream": "stdout",
       "text": [
        "0xfa8002292480 8          0x4362         0x4362    0 Mapped         READONLY             Pagefile-backed section\n",
        "0xfa800223cbd0 3         0x1e000        0x1e2ea  122 Mapped  Exe    EXECUTE_WRITECOPY    \\Program Files\\Rekall\\python27.dll\n",
        "0xfa800142c210 4          0x4c60         0x4d5f    4 Private        READWRITE            \n"
       ]
      },
      {
       "output_type": "stream",
       "stream": "stdout",
       "text": [
        "0xfa80032de0d0 5          0x4760         0x476f    2 Private        READWRITE            \n",
        "0xfa800242f230 6          0x4560         0x456f    2 Private        READWRITE            \n",
        "0xfa800151f310 7          0x4440         0x44bf    2 Private        READWRITE            \n",
        "0xfa80039082c0 8          0x4390         0x443a  165 Mapped  Exe    EXECUTE_WRITECOPY    \\Program Files\\Rekall\\unicodedata.pyd\n"
       ]
      },
      {
       "output_type": "stream",
       "stream": "stdout",
       "text": [
        "0xfa8002badb20 7          0x45b0         0x46af    4 Private        READWRITE            \n",
        "0xfa8002bbab00 6          0x4ac0         0x4bbf   18 Private        READWRITE            \n",
        "0xfa8003c021a0 7          0x4770         0x4a70  769 Private        READWRITE            \n",
        "0xfa8002ef7c00 7          0x4be0         0x4c5f    2 Private        READWRITE            \n"
       ]
      },
      {
       "output_type": "stream",
       "stream": "stdout",
       "text": [
        "0xfa8001c751f0 5          0x5590         0x568f    5 Private        READWRITE            \n",
        "0xfa800478e9c0 6          0x5190         0x528f    5 Private        READWRITE            \n",
        "0xfa8003326d60 7          0x4ff0         0x50ef    4 Private        READWRITE            \n"
       ]
      },
      {
       "output_type": "stream",
       "stream": "stdout",
       "text": [
        "0xfa8003b720d0 8          0x4d80         0x4e7f    5 Private        READWRITE            \n",
        "0xfa8003f666b0 7          0x5370         0x546f    6 Private        READWRITE            \n",
        "0xfa8003041a90 6         0x1d110        0x1d115    2 Mapped  Exe    EXECUTE_WRITECOPY    \\Program Files\\Rekall\\select.pyd\n",
        "0xfa800449f0d0 7          0x5690         0x665f 3050 Private        READWRITE            \n"
       ]
      },
      {
       "output_type": "stream",
       "stream": "stdout",
       "text": [
        "0xfa8001b1d2e0 7         0x1d1a0        0x1d1be    5 Mapped  Exe    EXECUTE_WRITECOPY    \\Program Files\\Rekall\\_ctypes.pyd\n",
        "0xfa8001e21b30 4         0x72800        0x7289c    8 Mapped  Exe    EXECUTE_WRITECOPY    \\Windows\\winsxs\\amd64_microsoft.vc90.crt_1fc8b3b9a1e18e3b_9.0.30729.4926_none_08e1a05ba83fe554\\msvcr90.dll\n"
       ]
      },
      {
       "output_type": "stream",
       "stream": "stdout",
       "text": [
        "0xfa800160aa70 5         0x1ec80        0x1eca4    3 Mapped  Exe    EXECUTE_WRITECOPY    \\Program Files\\Rekall\\win32security.pyd\n",
        "0xfa80033aac10 6         0x1e8c0        0x1e8e3    4 Mapped  Exe    EXECUTE_WRITECOPY    \\Program Files\\Rekall\\win32api.pyd\n"
       ]
      },
      {
       "output_type": "stream",
       "stream": "stdout",
       "text": [
        "0xfa800238c7e0 7         0x1e7a0        0x1e7c5    5 Mapped  Exe    EXECUTE_WRITECOPY    \\Program Files\\Rekall\\pywintypes27.dll\n",
        "0xfa80017926e0 7         0x1ea10        0x1ea38    4 Mapped  Exe    EXECUTE_WRITECOPY    \\Program Files\\Rekall\\win32file.pyd\n",
        "0xfa8001273640 6         0x72710        0x727e0   10 Mapped  Exe    EXECUTE_WRITECOPY    \\Windows\\System32\\msvcr100.dll\n"
       ]
      },
      {
       "output_type": "stream",
       "stream": "stdout",
       "text": [
        "0xfa80031cbad0 7         0x72390        0x72462    5 Mapped  Exe    EXECUTE_WRITECOPY    \\Windows\\winsxs\\amd64_microsoft.vc90.crt_1fc8b3b9a1e18e3b_9.0.30729.4926_none_08e1a05ba83fe554\\msvcp90.dll\n",
        "0xfa8003af8910 7         0x727f0        0x727f2    0 Mapped  Exe    EXECUTE_WRITECOPY    \\Windows\\System32\\security.dll\n",
        "0xfa80016fb160 5         0x77540        0x776eb   12 Mapped  Exe    EXECUTE_WRITECOPY    \\Windows\\System32\\ntdll.dll\n"
       ]
      },
      {
       "output_type": "stream",
       "stream": "stdout",
       "text": [
        "0xfa80022a7190 6         0x77320        0x7743e    4 Mapped  Exe    EXECUTE_WRITECOPY    \\Windows\\System32\\kernel32.dll\n",
        "0xfa8002428310 7         0x73a60        0x73a62    0 Mapped  Exe    EXECUTE_WRITECOPY    \\Windows\\System32\\sfc.dll\n",
        "0xfa800364f1b0 7         0x77440        0x77539    3 Mapped  Exe    EXECUTE_WRITECOPY    \\Windows\\System32\\user32.dll\n"
       ]
      },
      {
       "output_type": "stream",
       "stream": "stdout",
       "text": [
        "0xfa80014e8160 6         0x7f0e0        0x7ffdf    0 Private        READONLY             \n",
        "0xfa80041582f0 7         0x7efe0        0x7f0df    0 Mapped         READONLY             Pagefile-backed section\n",
        "0xfa8001c9c6f0 2      0x7fefdc30     0x7fefdc9b    3 Mapped  Exe    EXECUTE_WRITECOPY    \\Windows\\System32\\KernelBase.dll\n"
       ]
      },
      {
       "output_type": "stream",
       "stream": "stdout",
       "text": [
        "0xfa80022d1c10 3      0x7fefcf80     0x7fefcfc6    5 Mapped  Exe    EXECUTE_WRITECOPY    \\Windows\\System32\\rsaenh.dll\n",
        "0xfa8003c31d30 4      0x7fefa730     0x7fefa73f    2 Mapped  Exe    EXECUTE_WRITECOPY    \\Windows\\System32\\sfc_os.dll\n"
       ]
      },
      {
       "output_type": "stream",
       "stream": "stdout",
       "text": [
        "0xfa8003b558a0 5      0x7fefa5d0     0x7fefa5f6    2 Mapped  Exe    EXECUTE_WRITECOPY    \\Windows\\System32\\ntdsapi.dll\n",
        "0xfa8001d7c6d0 6        0x180000       0x180076   18 Mapped  Exe    EXECUTE_WRITECOPY    \\Program Files\\Rekall\\_hashlib.pyd\n",
        "0xfa8004707bb0 7        0x13f760       0x13f7a0   13 Mapped  Exe    EXECUTE_WRITECOPY    \\Program Files\\Rekall\\rekal.exe\n"
       ]
      },
      {
       "output_type": "stream",
       "stream": "stdout",
       "text": [
        "0xfa800404b400 7      0x7fef9320     0x7fef9338    2 Mapped  Exe    EXECUTE_WRITECOPY    \\Windows\\System32\\pnrpnsp.dll\n",
        "0xfa8003470260 8      0x7fef3750     0x7fef3774    4 Mapped  Exe    EXECUTE_WRITECOPY    \\Program Files\\Rekall\\dlls\\libyara.dll\n"
       ]
      },
      {
       "output_type": "stream",
       "stream": "stdout",
       "text": [
        "0xfa80044ac3f0 8      0x7fefa590     0x7fefa597    2 Mapped  Exe    EXECUTE_WRITECOPY    \\Windows\\System32\\rasadhlp.dll\n",
        "0xfa80020c5490 6      0x7fefa600     0x7fefa614    2 Mapped  Exe    EXECUTE_WRITECOPY    \\Windows\\System32\\NapiNSP.dll\n",
        "0xfa8003e2ec30 7      0x7fefa620     0x7fefa62a    2 Mapped  Exe    EXECUTE_WRITECOPY    \\Windows\\System32\\winrnr.dll\n"
       ]
      },
      {
       "output_type": "stream",
       "stream": "stdout",
       "text": [
        "0xfa80036dd260 5      0x7fefbb30     0x7fefbb3b    2 Mapped  Exe    EXECUTE_WRITECOPY    \\Windows\\System32\\netutils.dll\n",
        "0xfa8004012d30 6      0x7fefb500     0x7fefb514    2 Mapped  Exe    EXECUTE_WRITECOPY    \\Windows\\System32\\nlaapi.dll\n"
       ]
      },
      {
       "output_type": "stream",
       "stream": "stdout",
       "text": [
        "0xfa80014ee010 7      0x7fefb190     0x7fefb1e2    2 Mapped  Exe    EXECUTE_WRITECOPY    \\Windows\\System32\\FWPUCLNT.DLL\n",
        "0xfa8003d69380 7      0x7fefbb10     0x7fefbb24    2 Mapped  Exe    EXECUTE_WRITECOPY    \\Windows\\System32\\wkscli.dll\n",
        "0xfa80035c93c0 6      0x7fefcc30     0x7fefcc3a    2 Mapped  Exe    EXECUTE_WRITECOPY    \\Windows\\System32\\winnsi.dll\n"
       ]
      },
      {
       "output_type": "stream",
       "stream": "stdout",
       "text": [
        "0xfa8003863620 7      0x7fefbb40     0x7fefbb55    2 Mapped  Exe    EXECUTE_WRITECOPY    \\Windows\\System32\\netapi32.dll\n",
        "0xfa800145d580 8      0x7fefcb50     0x7fefcb56    2 Mapped  Exe    EXECUTE_WRITECOPY    \\Windows\\System32\\WSHTCPIP.DLL\n",
        "0xfa80035a07d0 7      0x7fefcc40     0x7fefcc66    2 Mapped  Exe    EXECUTE_WRITECOPY    \\Windows\\System32\\IPHLPAPI.DLL\n"
       ]
      },
      {
       "output_type": "stream",
       "stream": "stdout",
       "text": [
        "0xfa800409fad0 8      0x7fefcc70     0x7fefcc7b    2 Mapped  Exe    EXECUTE_WRITECOPY    \\Windows\\System32\\version.dll\n",
        "0xfa8003532010 4      0x7fefd820     0x7fefd82a    2 Mapped  Exe    EXECUTE_WRITECOPY    \\Windows\\System32\\secur32.dll\n",
        "0xfa80015189f0 5      0x7fefd220     0x7fefd273    4 Mapped  Exe    EXECUTE_WRITECOPY    \\Windows\\System32\\mswsock.dll\n"
       ]
      },
      {
       "output_type": "stream",
       "stream": "stdout",
       "text": [
        "0xfa8002218610 6      0x7fefd0a0     0x7fefd0fa    6 Mapped  Exe    EXECUTE_WRITECOPY    \\Windows\\System32\\dnsapi.dll\n",
        "0xfa8003b4a690 7      0x7fefd070     0x7fefd09f    3 Mapped  Exe    EXECUTE_WRITECOPY    \\Windows\\System32\\logoncli.dll\n",
        "0xfa80037d8260 7      0x7fefd210     0x7fefd216    2 Mapped  Exe    EXECUTE_WRITECOPY    \\Windows\\System32\\wship6.dll\n"
       ]
      },
      {
       "output_type": "stream",
       "stream": "stdout",
       "text": [
        "0xfa8003983560 6      0x7fefd280     0x7fefd296    2 Mapped  Exe    EXECUTE_WRITECOPY    \\Windows\\System32\\cryptsp.dll\n",
        "0xfa8004545460 7      0x7fefd780     0x7fefd7a2   10 Mapped  Exe    EXECUTE_WRITECOPY    \\Windows\\System32\\srvcli.dll\n"
       ]
      },
      {
       "output_type": "stream",
       "stream": "stdout",
       "text": [
        "0xfa800195b780 5      0x7fefd880     0x7fefd8d6    5 Mapped  Exe    EXECUTE_WRITECOPY    \\Windows\\System32\\apphelp.dll\n",
        "0xfa80023a7220 6      0x7fefd850     0x7fefd874    3 Mapped  Exe    EXECUTE_WRITECOPY    \\Windows\\System32\\sspicli.dll\n"
       ]
      },
      {
       "output_type": "stream",
       "stream": "stdout",
       "text": [
        "0xfa8001d28760 6      0x7fefd8e0     0x7fefd8ee    2 Mapped  Exe    EXECUTE_WRITECOPY    \\Windows\\System32\\cryptbase.dll\n",
        "0xfa8001662770 3      0x7feff3d0     0x7feff46e    7 Mapped  Exe    EXECUTE_WRITECOPY    \\Windows\\System32\\msvcrt.dll\n",
        "0xfa800315d310 4      0x7fefde70     0x7fefdf4a    7 Mapped  Exe    EXECUTE_WRITECOPY    \\Windows\\System32\\advapi32.dll\n"
       ]
      },
      {
       "output_type": "stream",
       "stream": "stdout",
       "text": [
        "0xfa8002185720 5      0x7fefddf0     0x7fefde3c    2 Mapped  Exe    EXECUTE_WRITECOPY    \\Windows\\System32\\ws2_32.dll\n",
        "0xfa80032e71b0 6      0x7fefdd80     0x7fefdde6    3 Mapped  Exe    EXECUTE_WRITECOPY    \\Windows\\System32\\gdi32.dll\n",
        "0xfa80019e4490 6      0x7fefde60     0x7fefde6d    2 Mapped  Exe    EXECUTE_WRITECOPY    \\Windows\\System32\\lpk.dll\n"
       ]
      },
      {
       "output_type": "stream",
       "stream": "stdout",
       "text": [
        "0xfa8001d90b80 5      0x7fefee40     0x7fefee47    2 Mapped  Exe    EXECUTE_WRITECOPY    \\Windows\\System32\\nsi.dll\n",
        "0xfa80033c06a0 6      0x7fefdfa0     0x7fefed26   13 Mapped  Exe    EXECUTE_WRITECOPY    \\Windows\\System32\\shell32.dll\n",
        "0xfa80034d2960 7      0x7fefed30     0x7fefee38    4 Mapped  Exe    EXECUTE_WRITECOPY    \\Windows\\System32\\msctf.dll\n"
       ]
      },
      {
       "output_type": "stream",
       "stream": "stdout",
       "text": [
        "0xfa8003eff9d0 6      0x7feff060     0x7feff07e    4 Mapped  Exe    EXECUTE_WRITECOPY    \\Windows\\System32\\sechost.dll\n",
        "0xfa8001a47130 7      0x7fefee50     0x7feff051    9 Mapped  Exe    EXECUTE_WRITECOPY    \\Windows\\System32\\ole32.dll\n",
        "0xfa8003e90a10 7      0x7feff120     0x7feff1e9    4 Mapped  Exe    EXECUTE_WRITECOPY    \\Windows\\System32\\usp10.dll\n"
       ]
      },
      {
       "output_type": "stream",
       "stream": "stdout",
       "text": [
        "0xfa8002f27280 4      0x7fffffb0     0x7fffffd2    0 Mapped         READONLY             Pagefile-backed section\n",
        "0xfa80019a7160 5      0x7feff860     0x7feff860    0 Mapped  Exe    EXECUTE_WRITECOPY    \\Windows\\System32\\apisetschema.dll\n",
        "0xfa8003d4d1d0 6      0x7feff590     0x7feff6bd    3 Mapped  Exe    EXECUTE_WRITECOPY    \\Windows\\System32\\rpcrt4.dll\n"
       ]
      },
      {
       "output_type": "stream",
       "stream": "stdout",
       "text": [
        "0xfa80024257a0 7      0x7feff510     0x7feff580    3 Mapped  Exe    EXECUTE_WRITECOPY    \\Windows\\System32\\shlwapi.dll\n",
        "0xfa800143e260 7      0x7feff7a0     0x7feff7cd    3 Mapped  Exe    EXECUTE_WRITECOPY    \\Windows\\System32\\imm32.dll\n"
       ]
      },
      {
       "output_type": "stream",
       "stream": "stdout",
       "text": [
        "0xfa800184d6f0 8      0x7feff6c0     0x7feff796    4 Mapped  Exe    EXECUTE_WRITECOPY    \\Windows\\System32\\oleaut32.dll\n",
        "0xfa8001754010 6      0x7fffffac     0x7fffffad    2 Private        READWRITE            \n",
        "0xfa80023a6b50 7      0x7fffffaa     0x7fffffab    2 Private        READWRITE            \n",
        "0xfa80017628f0 7      0x7fffffae     0x7fffffaf    2 Private        READWRITE            \n",
        "0xfa800327a7b0 5      0x7fffffd9     0x7fffffd9    1 Private        READWRITE            \n"
       ]
      },
      {
       "output_type": "stream",
       "stream": "stdout",
       "text": [
        "0xfa80040104d0 6      0x7fffffd5     0x7fffffd6    2 Private        READWRITE            \n",
        "0xfa8002485aa0 7      0x7fffffd3     0x7fffffd4    2 Private        READWRITE            \n",
        "0xfa8002ee4140 7      0x7fffffd7     0x7fffffd8    2 Private        READWRITE            \n"
       ]
      },
      {
       "output_type": "stream",
       "stream": "stdout",
       "text": [
        "0xfa8001e73300 6      0x7fffffdc     0x7fffffdd    2 Private        READWRITE            \n",
        "0xfa800451f320 7      0x7fffffda     0x7fffffdb    2 Private        READWRITE            \n",
        "0xfa800240f490 7      0x7fffffde     0x7fffffdf    2 Private        READWRITE            \n"
       ]
      }
     ],
     "prompt_number": 29
    },
    {
     "cell_type": "code",
     "collapsed": false,
     "input": [
      "netscan"
     ],
     "language": "python",
     "metadata": {},
     "outputs": [
      {
       "output_type": "stream",
       "stream": "stdout",
       "text": [
        "  Offset(P)    Proto    Local Address        Remote Address       State              Pid Owner          Created\n",
        "-------------- -------- -------------------- -------------------- ---------------- ----- -------------- -------\n",
        "0x000043ea38a0 TCPv4    127.0.0.1:49741      0.0.0.0:0            LISTENING         4092 rekal.exe      -      \n"
       ]
      },
      {
       "output_type": "stream",
       "stream": "stdout",
       "text": [
        "0x00005baf0970 TCPv4    10.0.2.15:139        0.0.0.0:0            LISTENING            4 System         -      \n",
        "0x00005c095010 TCPv4    0.0.0.0:49156        0.0.0.0:0            LISTENING          408 lsass.exe      -      \n"
       ]
      },
      {
       "output_type": "stream",
       "stream": "stdout",
       "text": [
        "0x00005c240820 TCPv4    0.0.0.0:49154        0.0.0.0:0            LISTENING          900 svchost.exe    -      \n",
        "0x00005c242c90 TCPv4    0.0.0.0:49154        0.0.0.0:0            LISTENING          900 svchost.exe    -      \n",
        "0x00005c242c90 TCPv6    :::49154             :::0                 LISTENING          900 svchost.exe    -      \n",
        "0x00005c2e2870 TCPv4    0.0.0.0:49155        0.0.0.0:0            LISTENING          400 services.exe   -      \n",
        "0x00005c4aa8b0 TCPv4    0.0.0.0:135          0.0.0.0:0            LISTENING          680 svchost.exe    -      \n",
        "0x00005c4ab8c0 TCPv4    0.0.0.0:135          0.0.0.0:0            LISTENING          680 svchost.exe    -      \n"
       ]
      },
      {
       "output_type": "stream",
       "stream": "stdout",
       "text": [
        "0x00005c4ab8c0 TCPv6    :::135               :::0                 LISTENING          680 svchost.exe    -      \n",
        "0x00005c4c2870 TCPv4    0.0.0.0:49152        0.0.0.0:0            LISTENING          348 wininit.exe    -      \n",
        "0x00005c4c3c90 TCPv4    0.0.0.0:49152        0.0.0.0:0            LISTENING          348 wininit.exe    -      \n",
        "0x00005c4c3c90 TCPv6    :::49152             :::0                 LISTENING          348 wininit.exe    -      \n",
        "0x00005c53aa50 TCPv4    0.0.0.0:49153        0.0.0.0:0            LISTENING          732 svchost.exe    -      \n"
       ]
      },
      {
       "output_type": "stream",
       "stream": "stdout",
       "text": [
        "0x00005c53b830 TCPv4    0.0.0.0:49153        0.0.0.0:0            LISTENING          732 svchost.exe    -      \n",
        "0x00005c53b830 TCPv6    :::49153             :::0                 LISTENING          732 svchost.exe    -      \n",
        "0x00005c71f1a0 TCPv4    0.0.0.0:49155        0.0.0.0:0            LISTENING          400 services.exe   -      \n",
        "0x00005c71f1a0 TCPv6    :::49155             :::0                 LISTENING          400 services.exe   -      \n",
        "0x00005c73a670 TCPv4    0.0.0.0:445          0.0.0.0:0            LISTENING            4 System         -      \n",
        "0x00005c73a670 TCPv6    :::445               :::0                 LISTENING            4 System         -      \n",
        "0x00005d028d20 TCPv4    127.0.0.1:57054      0.0.0.0:0            LISTENING         4092 rekal.exe      -      \n"
       ]
      },
      {
       "output_type": "stream",
       "stream": "stdout",
       "text": [
        "0x00005d397160 TCPv4    127.0.0.1:56039      0.0.0.0:0            LISTENING         4092 rekal.exe      -      \n",
        "0x00005d3da3a0 TCPv4    0.0.0.0:49156        0.0.0.0:0            LISTENING          408 lsass.exe      -      \n"
       ]
      },
      {
       "output_type": "stream",
       "stream": "stdout",
       "text": [
        "0x00005d3da3a0 TCPv6    :::49156             :::0                 LISTENING          408 lsass.exe      -      \n",
        "0x00005d6453a0 TCPv4    127.0.0.1:8888       0.0.0.0:0            LISTENING         3312 rekal.exe      -      \n",
        "0x00005d814140 TCPv4    127.0.0.1:57050      0.0.0.0:0            LISTENING         4092 rekal.exe      -      \n",
        "0x00005d9fbca0 TCPv4    127.0.0.1:57053      0.0.0.0:0            LISTENING         4092 rekal.exe      -      \n",
        "0x00005db304c0 TCPv4    127.0.0.1:57051      0.0.0.0:0            LISTENING         4092 rekal.exe      -      \n"
       ]
      },
      {
       "output_type": "stream",
       "stream": "stdout",
       "text": [
        "0x00005dd803c0 TCPv4    127.0.0.1:57052      0.0.0.0:0            LISTENING         4092 rekal.exe      -      \n",
        "0x000000ddb1f0 TCPv4    127.0.0.1:5905       127.0.0.1:57057      ESTABLISHED       3312 rekal.exe      -      \n"
       ]
      },
      {
       "output_type": "stream",
       "stream": "stdout",
       "text": [
        "0x000003a1c170 TCPv4    127.0.0.1:57022      127.0.0.1:57023      ESTABLISHED       3312 rekal.exe      -      \n",
        "0x000007e0b4f0 TCPv4    127.0.0.1:5905       127.0.0.1:57077      ESTABLISHED       4092 rekal.exe      -      \n"
       ]
      },
      {
       "output_type": "stream",
       "stream": "stdout",
       "text": [
        "0x00000ce08cf0 TCPv4    127.0.0.1:8888       127.0.0.1:57060      ESTABLISHED       3312 rekal.exe      -      \n",
        "0x000021a57220 TCPv4    127.0.0.1:57031      127.0.0.1:8888       FIN_WAIT2         3960 chrome.exe     -      \n"
       ]
      },
      {
       "output_type": "stream",
       "stream": "stdout",
       "text": [
        "0x000027421600 TCPv4    :57042               173.194.113.72:443   CLOSED            3960 chrome.exe     -      \n",
        "0x00002f170300 TCPv4    127.0.0.1:57053      127.0.0.1:57073      ESTABLISHED       4092 rekal.exe      -      \n"
       ]
      },
      {
       "output_type": "stream",
       "stream": "stdout",
       "text": [
        "0x000035d0e0e0 TCPv4    127.0.0.1:57033      127.0.0.1:8888       FIN_WAIT2         3960 chrome.exe     -      \n",
        "0x00004821a4f0 TCPv4    127.0.0.1:57072      127.0.0.1:57052      ESTABLISHED       3312 rekal.exe      -      \n"
       ]
      },
      {
       "output_type": "stream",
       "stream": "stdout",
       "text": [
        "0x00004ee074a0 TCPv4    127.0.0.1:5905       127.0.0.1:57075      ESTABLISHED       4092 rekal.exe      -      \n",
        "0x00005b6758a0 TCPv4    127.0.0.1:8888       127.0.0.1:57163      CLOSED            3312 rekal.exe      -      \n"
       ]
      },
      {
       "output_type": "stream",
       "stream": "stdout",
       "text": [
        "0x00005b68d980 TCPv4    127.0.0.1:57117      127.0.0.1:8888       ESTABLISHED       3960 chrome.exe     -      \n",
        "0x00005b6c9a40 TCPv4    127.0.0.1:57083      127.0.0.1:5905       ESTABLISHED       4092 rekal.exe      -      \n",
        "0x00005b708010 TCPv4    127.0.0.1:5905       127.0.0.1:57058      ESTABLISHED       3312 rekal.exe      -      \n"
       ]
      },
      {
       "output_type": "stream",
       "stream": "stdout",
       "text": [
        "0x00005b72ccf0 TCPv4    :57100               172.16.255.1:443     CLOSED            3960 chrome.exe     -      \n",
        "0x00005b76c330 TCPv4    127.0.0.1:5905       127.0.0.1:57062      ESTABLISHED       3312 rekal.exe      -      \n"
       ]
      },
      {
       "output_type": "stream",
       "stream": "stdout",
       "text": [
        "0x00005b7af610 TCPv4    127.0.0.1:5905       127.0.0.1:57084      ESTABLISHED       4092 rekal.exe      -      \n",
        "0x00005b7f9cf0 TCPv4    127.0.0.1:57023      127.0.0.1:57022      ESTABLISHED       3312 rekal.exe      -      \n",
        "0x00005b852870 TCPv4    127.0.0.1:57078      127.0.0.1:5905       ESTABLISHED       4092 rekal.exe      -      \n"
       ]
      },
      {
       "output_type": "stream",
       "stream": "stdout",
       "text": [
        "0x00005b9bccf0 TCPv4    127.0.0.1:57057      127.0.0.1:5905       ESTABLISHED       3312 rekal.exe      -      \n",
        "0x00005b9d59e0 TCPv4    127.0.0.1:57077      127.0.0.1:5905       ESTABLISHED       4092 rekal.exe      -      \n",
        "0x00005b9fa3e0 TCPv4    127.0.0.1:8888       127.0.0.1:57167      CLOSED            3312 rekal.exe      -      \n",
        "0x00005bb3a3c0 TCPv4    127.0.0.1:8888       127.0.0.1:57164      CLOSED            3312 rekal.exe      -      \n"
       ]
      },
      {
       "output_type": "stream",
       "stream": "stdout",
       "text": [
        "0x00005bbd1ba0 TCPv4    127.0.0.1:57076      127.0.0.1:5905       ESTABLISHED       4092 rekal.exe      -      \n",
        "0x00005bc0c2d0 TCPv4    127.0.0.1:57067      127.0.0.1:5905       ESTABLISHED       3312 rekal.exe      -      \n",
        "0x00005bc45940 TCPv4    127.0.0.1:57079      127.0.0.1:5905       ESTABLISHED       4092 rekal.exe      -      \n",
        "0x00005bc5dcf0 TCPv4    127.0.0.1:57080      127.0.0.1:5905       ESTABLISHED       4092 rekal.exe      -      \n"
       ]
      },
      {
       "output_type": "stream",
       "stream": "stdout",
       "text": [
        "0x00005bdb9bf0 TCPv4    127.0.0.1:57089      127.0.0.1:57088      ESTABLISHED       4092 rekal.exe      -      \n",
        "0x00005bdd9560 TCPv4    127.0.0.1:57165      127.0.0.1:8888       CLOSED            3960 chrome.exe     -      \n"
       ]
      },
      {
       "output_type": "stream",
       "stream": "stdout",
       "text": [
        "0x00005be471f0 TCPv4    127.0.0.1:57091      127.0.0.1:5905       ESTABLISHED       4092 rekal.exe      -      \n",
        "0x00005be6c8b0 TCPv4    127.0.0.1:57064      127.0.0.1:8888       ESTABLISHED       3960 chrome.exe     -      \n",
        "0x00005beabcf0 TCPv4    127.0.0.1:56429      127.0.0.1:56428      CLOSED               0                -      \n"
       ]
      },
      {
       "output_type": "stream",
       "stream": "stdout",
       "text": [
        "0x00005bef23b0 TCPv4    127.0.0.1:57163      127.0.0.1:8888       CLOSED            3960 chrome.exe     -      \n",
        "0x00005bfd6560 TCPv4    127.0.0.1:57085      127.0.0.1:5905       ESTABLISHED       4092 rekal.exe      -      \n"
       ]
      },
      {
       "output_type": "stream",
       "stream": "stdout",
       "text": [
        "0x00005bfee980 TCPv4    127.0.0.1:57065      127.0.0.1:5905       ESTABLISHED       3312 rekal.exe      -      \n",
        "0x00005c00ab90 TCPv4    127.0.0.1:8888       127.0.0.1:57165      CLOSED            3312 rekal.exe      -      \n",
        "0x00005c02c4a0 TCPv4    127.0.0.1:57081      127.0.0.1:5905       ESTABLISHED       4092 rekal.exe      -      \n",
        "0x00005c04ccf0 TCPv4    127.0.0.1:57090      127.0.0.1:57050      ESTABLISHED       3312 rekal.exe      -      \n"
       ]
      },
      {
       "output_type": "stream",
       "stream": "stdout",
       "text": [
        "0x00005c056790 TCPv4    127.0.0.1:57035      127.0.0.1:8888       FIN_WAIT2         3960 chrome.exe     -      \n",
        "0x00005c080cf0 TCPv4    127.0.0.1:5905       127.0.0.1:57082      ESTABLISHED       4092 rekal.exe      -      \n"
       ]
      },
      {
       "output_type": "stream",
       "stream": "stdout",
       "text": [
        "0x00005c0fda20 TCPv4    127.0.0.1:5905       127.0.0.1:57055      ESTABLISHED       3312 rekal.exe      -      \n",
        "0x00005c14f640 TCPv4    127.0.0.1:57060      127.0.0.1:8888       ESTABLISHED       3960 chrome.exe     -      \n",
        "0x00005c2505c0 TCPv4    127.0.0.1:8888       127.0.0.1:57034      CLOSE_WAIT        3312 rekal.exe      -      \n"
       ]
      },
      {
       "output_type": "stream",
       "stream": "stdout",
       "text": [
        "0x00005c321670 TCPv4    127.0.0.1:5905       127.0.0.1:57079      ESTABLISHED       4092 rekal.exe      -      \n",
        "0x00005c3cf6b0 TCPv4    127.0.0.1:8888       127.0.0.1:57064      ESTABLISHED       3312 rekal.exe      -      \n"
       ]
      },
      {
       "output_type": "stream",
       "stream": "stdout",
       "text": [
        "0x00005c409180 TCPv4    127.0.0.1:8888       127.0.0.1:57035      CLOSE_WAIT        3312 rekal.exe      -      \n",
        "0x00005c40c010 TCPv4    127.0.0.1:57062      127.0.0.1:5905       ESTABLISHED       3312 rekal.exe      -      \n",
        "0x00005c43bae0 TCPv4    127.0.0.1:57166      127.0.0.1:8888       CLOSED            3960 chrome.exe     -      \n"
       ]
      },
      {
       "output_type": "stream",
       "stream": "stdout",
       "text": [
        "0x00005c50c520 TCPv4    :0                   56.219.194.2:0       CLOSED               2 \u007f\b             -      \n",
        "0x00005c6e7250 TCPv4    127.0.0.1:57050      127.0.0.1:57090      ESTABLISHED       4092 rekal.exe      -      \n"
       ]
      },
      {
       "output_type": "stream",
       "stream": "stdout",
       "text": [
        "0x00005c740010 TCPv4    127.0.0.1:57052      127.0.0.1:57072      ESTABLISHED       4092 rekal.exe      -      \n",
        "0x00005c7ab620 TCPv4    127.0.0.1:57087      127.0.0.1:5905       ESTABLISHED       4092 rekal.exe      -      \n",
        "0x00005c9887b0 TCPv4    127.0.0.1:5905       127.0.0.1:57087      ESTABLISHED       4092 rekal.exe      -      \n"
       ]
      },
      {
       "output_type": "stream",
       "stream": "stdout",
       "text": [
        "0x00005c9ab5f0 TCPv4    127.0.0.1:57167      127.0.0.1:8888       CLOSED            3960 chrome.exe     -      \n",
        "0x00005ce10770 TCPv4    127.0.0.1:57088      127.0.0.1:57089      ESTABLISHED       4092 rekal.exe      -      \n",
        "0x00005ce46640 TCPv4    127.0.0.1:5905       127.0.0.1:57085      ESTABLISHED       4092 rekal.exe      -      \n"
       ]
      },
      {
       "output_type": "stream",
       "stream": "stdout",
       "text": [
        "0x00005cf03cf0 TCPv4    :0                   56.123.33.1:0        CLOSED             676 svchost.exe    -      \n",
        "0x00005cfac380 TCPv4    127.0.0.1:57058      127.0.0.1:5905       ESTABLISHED       3312 rekal.exe      -      \n",
        "0x00005d048660 TCPv4    127.0.0.1:57055      127.0.0.1:5905       ESTABLISHED       3312 rekal.exe      -      \n",
        "0x00005d10b310 TCPv4    127.0.0.1:5905       127.0.0.1:57083      ESTABLISHED       4092 rekal.exe      -      \n"
       ]
      },
      {
       "output_type": "stream",
       "stream": "stdout",
       "text": [
        "0x00005d1235e0 TCPv4    127.0.0.1:8888       127.0.0.1:57032      CLOSE_WAIT        3312 rekal.exe      -      \n",
        "0x00005d1b14e0 TCPv4    127.0.0.1:5905       127.0.0.1:57091      ESTABLISHED       4092 rekal.exe      -      \n",
        "0x00005d2bc830 TCPv4    127.0.0.1:57074      127.0.0.1:57051      ESTABLISHED       3312 rekal.exe      -      \n"
       ]
      },
      {
       "output_type": "stream",
       "stream": "stdout",
       "text": [
        "0x00005d2d2cf0 TCPv4    24.242.87.1:0        :0                   CLOSED           ----- -------------- -      \n",
        "0x00005d3477e0 TCPv4    127.0.0.1:57030      127.0.0.1:8888       FIN_WAIT2         3960 chrome.exe     -      \n"
       ]
      },
      {
       "output_type": "stream",
       "stream": "stdout",
       "text": [
        "0x00005d355610 TCPv4    :57092               173.194.70.120:443   CLOSED            3960 chrome.exe     -      \n",
        "0x00005d45f8f0 TCPv4    127.0.0.1:8888       127.0.0.1:57061      ESTABLISHED       3312 rekal.exe      -      \n"
       ]
      },
      {
       "output_type": "stream",
       "stream": "stdout",
       "text": [
        "0x00005d49b380 TCPv4    127.0.0.1:57075      127.0.0.1:5905       ESTABLISHED       4092 rekal.exe      -      \n",
        "0x00005d507920 TCPv4    127.0.0.1:57034      127.0.0.1:8888       FIN_WAIT2         3960 chrome.exe     -      \n",
        "0x00005d5181d0 TCPv4    :57125               172.16.255.1:443     CLOSED            3960 chrome.exe     -      \n",
        "0x00005d5496d0 TCPv4    127.0.0.1:57086      127.0.0.1:5905       ESTABLISHED       4092 rekal.exe      -      \n"
       ]
      },
      {
       "output_type": "stream",
       "stream": "stdout",
       "text": [
        "0x00005d581900 TCPv4    127.0.0.1:5905       127.0.0.1:57065      ESTABLISHED       3312 rekal.exe      -      \n",
        "0x00005d6001a0 TCPv4    127.0.0.1:5905       127.0.0.1:57080      ESTABLISHED       4092 rekal.exe      -      \n"
       ]
      },
      {
       "output_type": "stream",
       "stream": "stdout",
       "text": [
        "0x00005d60a820 TCPv4    127.0.0.1:5905       127.0.0.1:57067      ESTABLISHED       3312 rekal.exe      -      \n",
        "0x00005d64c280 TCPv4    127.0.0.1:8888       127.0.0.1:57166      CLOSED            3312 rekal.exe      -      \n"
       ]
      },
      {
       "output_type": "stream",
       "stream": "stdout",
       "text": [
        "0x00005d66a390 TCPv4    :0                   40.197.226.2:0       CLOSED            3960 chrome.exe     -      \n",
        "0x00005d6e63f0 TCPv4    127.0.0.1:5905       127.0.0.1:57056      ESTABLISHED       3312 rekal.exe      -      \n"
       ]
      },
      {
       "output_type": "stream",
       "stream": "stdout",
       "text": [
        "0x00005d6fbae0 TCPv4    127.0.0.1:8888       127.0.0.1:57117      ESTABLISHED       3312 rekal.exe      -      \n",
        "0x00005d875ad0 TCPv4    127.0.0.1:8888       127.0.0.1:57030      CLOSE_WAIT        3312 rekal.exe      -      \n",
        "0x00005d8ffae0 TCPv4    127.0.0.1:8888       127.0.0.1:57031      CLOSE_WAIT        3312 rekal.exe      -      \n"
       ]
      },
      {
       "output_type": "stream",
       "stream": "stdout",
       "text": [
        "0x00005da56980 TCPv4    127.0.0.1:5905       127.0.0.1:57086      ESTABLISHED       4092 rekal.exe      -      \n",
        "0x00005da6d010 TCPv4    127.0.0.1:8888       127.0.0.1:57033      CLOSE_WAIT        3312 rekal.exe      -      \n"
       ]
      },
      {
       "output_type": "stream",
       "stream": "stdout",
       "text": [
        "0x00005dc294f0 TCPv4    127.0.0.1:57032      127.0.0.1:8888       FIN_WAIT2         3960 chrome.exe     -      \n",
        "0x00005dc4bcf0 TCPv4    :57070               173.194.70.120:443   CLOSED            3960 chrome.exe     -      \n",
        "0x00005dca5b60 TCPv4    127.0.0.1:57051      127.0.0.1:57074      ESTABLISHED       4092 rekal.exe      -      \n",
        "0x00005dce5260 TCPv4    127.0.0.1:5905       127.0.0.1:57081      ESTABLISHED       4092 rekal.exe      -      \n"
       ]
      },
      {
       "output_type": "stream",
       "stream": "stdout",
       "text": [
        "0x00005dcfc750 TCPv4    127.0.0.1:57082      127.0.0.1:5905       ESTABLISHED       4092 rekal.exe      -      \n",
        "0x00005de0ecf0 TCPv4    127.0.0.1:5905       127.0.0.1:57078      ESTABLISHED       4092 rekal.exe      -      \n"
       ]
      },
      {
       "output_type": "stream",
       "stream": "stdout",
       "text": [
        "0x00005de60aa0 TCPv4    127.0.0.1:5905       127.0.0.1:57076      ESTABLISHED       4092 rekal.exe      -      \n",
        "0x00005dea0930 TCPv4    127.0.0.1:57084      127.0.0.1:5905       ESTABLISHED       4092 rekal.exe      -      \n",
        "0x00005df49450 TCPv4    127.0.0.1:57061      127.0.0.1:8888       ESTABLISHED       3960 chrome.exe     -      \n"
       ]
      },
      {
       "output_type": "stream",
       "stream": "stdout",
       "text": [
        "0x00005df5ccf0 TCPv4    127.0.0.1:57056      127.0.0.1:5905       ESTABLISHED       3312 rekal.exe      -      \n",
        "0x00005e1a9010 TCPv4    127.0.0.1:57073      127.0.0.1:57053      ESTABLISHED       3312 rekal.exe      -      \n"
       ]
      },
      {
       "output_type": "stream",
       "stream": "stdout",
       "text": [
        "0x00005e1c4820 TCPv4    :57046               173.194.32.143:443   CLOSED            3960 chrome.exe     -      \n",
        "0x000000ddb1f0 TCPv4    127.0.0.1:5905       127.0.0.1:57057      ESTABLISHED       3312 rekal.exe      -      \n"
       ]
      },
      {
       "output_type": "stream",
       "stream": "stdout",
       "text": [
        "0x000003a1c170 TCPv4    127.0.0.1:57022      127.0.0.1:57023      ESTABLISHED       3312 rekal.exe      -      \n",
        "0x000007e0b4f0 TCPv4    127.0.0.1:5905       127.0.0.1:57077      ESTABLISHED       4092 rekal.exe      -      \n"
       ]
      },
      {
       "output_type": "stream",
       "stream": "stdout",
       "text": [
        "0x00000ce08cf0 TCPv4    127.0.0.1:8888       127.0.0.1:57060      ESTABLISHED       3312 rekal.exe      -      \n",
        "0x000021a57220 TCPv4    127.0.0.1:57031      127.0.0.1:8888       FIN_WAIT2         3960 chrome.exe     -      \n"
       ]
      },
      {
       "output_type": "stream",
       "stream": "stdout",
       "text": [
        "0x000027421600 TCPv4    :57042               173.194.113.72:443   CLOSED            3960 chrome.exe     -      \n",
        "0x00002f170300 TCPv4    127.0.0.1:57053      127.0.0.1:57073      ESTABLISHED       4092 rekal.exe      -      \n"
       ]
      },
      {
       "output_type": "stream",
       "stream": "stdout",
       "text": [
        "0x000035d0e0e0 TCPv4    127.0.0.1:57033      127.0.0.1:8888       FIN_WAIT2         3960 chrome.exe     -      \n"
       ]
      }
     ],
     "prompt_number": 31
    },
    {
     "cell_type": "code",
     "collapsed": false,
     "input": [],
     "language": "python",
     "metadata": {},
     "outputs": []
    }
   ],
   "metadata": {}
  }
 ]
}